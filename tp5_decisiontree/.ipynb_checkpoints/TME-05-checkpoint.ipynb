{
 "cells": [
  {
   "cell_type": "markdown",
   "metadata": {},
   "source": [
    "IA & Data science (3i026) -- 2018-2019\n",
    "--------\n",
    "*&copy; Equipe pédagogique: Manon Ansart, Vincent Guigue, Marie-Jeanne Lesot, Christophe Marsala, Olivier Schwander.*"
   ]
  },
  {
   "cell_type": "markdown",
   "metadata": {},
   "source": [
    "# TD-TME05: les arbres de décision\n",
    "\n",
    "L'objectif de ce TP est d'implémenter un algorithme d'apprentissage supervisé, l'algorithme de construction d'arbres de décision vu en cours.\n",
    "\n",
    "Dans un premier temps, nous allons nous restreindre à un cas binaire où les classes sont étiquetées $+1$ ou $-1$. De plus, nous allons ne considérer que le cas où les attributs sont tous numériques et on ne construit que des arbres avec des noeuds binaires (ie. qui ne contiennent que 2 branches sortantes)."
   ]
  },
  {
   "cell_type": "markdown",
   "metadata": {},
   "source": [
    "<font size=\"+1\" color=\"RED\">**[Q]**</font> **Indiquer dans la boîte ci-dessous vos noms et prénoms :**"
   ]
  },
  {
   "cell_type": "markdown",
   "metadata": {},
   "source": [
    "*Double-cliquer ici et insérer les noms et prénoms de votre binôme*"
   ]
  },
  {
   "cell_type": "markdown",
   "metadata": {},
   "source": [
    "<font color=\"RED\" size=\"+1\">**[Q]**</font> **Renommer ce fichier ipython**\n",
    "\n",
    "Tout en haut de cette page, cliquer sur <tt>tme-05</tt> et rajouter à la suite de <tt>tme-05</tt> les noms des membres du binômes séparés par un tiret."
   ]
  },
  {
   "cell_type": "markdown",
   "metadata": {},
   "source": [
    "<font color=\"RED\" size=\"+1\">IMPORTANT: soumission de votre fichier final</font>\n",
    "\n",
    "**Nom à donner au fichier à poster** : *tme-05-Nom1_Nom2.ipynb* \n",
    "- *Nom1* et *Nom2* : noms des membres du binôme\n",
    "- ne pas compresser ou faire une archive: il faut rendre le notebook tel quel, éventuellement, si vous avez d'autres fichiers vous les rendez séparément.\n",
    "\n",
    "**Echancier pour la soumission de votre compte-rendu:**\n",
    "- le compte-rendu d'une séance doit être remis obligatoirement <font color=\"RED\">** à la fin de la séance**</font>. C'est ce compte-rendu qui donne la note de base de la séance.\n",
    "- vous pouvez éventuellement compléter votre compte-rendu  pour obtenir des points bonus, dans ce cas, vous devez soumettre votre complément avant le début de la semaine suivante.\n",
    "\n",
    "** Sur la page Moodle de remise du travail <font color=\"RED\">ne pas oublier d'envoyer le compte rendu</font>** à la fin de la séance, la soumission de la version complémentaire post-séance se fera sur une page différente."
   ]
  },
  {
   "cell_type": "markdown",
   "metadata": {},
   "source": [
    "## Mise à jour de votre librairie IADS\n",
    "\n",
    "Comme lors des séances précédentes, vous devez utiliser les fonctions de la librairie IADS.\n",
    "\n",
    "<font color=\"RED\" size=\"+1\">**[Q]**</font> **Ouvrir et compléter les fichiers Classifiers.py et utils.py**\n",
    "\n",
    "Rajouter dans la librairie les fonctions et classes et que vous avez écrites lors de la séance précédente. \n",
    "\n",
    "**Rappel**: dans un premier temps, vous devez écrire les classes et fonctions demandées dans le notebook de la séance de TDTME en cours. Lors de la séance suivante, vous rajouterez tout cela, une fois que vous l'aurez bien testé, dans vos fichiers de la librairie IADS.\n",
    "\n"
   ]
  },
  {
   "cell_type": "code",
   "execution_count": 79,
   "metadata": {},
   "outputs": [],
   "source": [
    "import numpy as np\n",
    "import pandas as pd\n",
    "import matplotlib.pyplot as plt\n",
    "%matplotlib inline  \n",
    "\n",
    "# La ligne suivante permet de préciser le chemin d'accès à la librairie iads\n",
    "import sys\n",
    "sys.path.append('../')\n",
    "\n",
    "# Importation de la librairie iads\n",
    "import iads as iads\n",
    "\n",
    "# importation de LabeledSet\n",
    "from iads import LabeledSet as ls\n",
    "\n",
    "# importation de Classifiers\n",
    "from iads import Classifiers as cl\n",
    "\n",
    "# importation de utils\n",
    "from iads import utils as ut\n",
    "import math"
   ]
  },
  {
   "cell_type": "markdown",
   "metadata": {},
   "source": [
    "### Génération de données Jouet\n",
    "\n",
    "<font color=\"RED\" size=\"+1\">**[Q]**</font>  Dans un premier temps, pour mettre au point les fonctions, générer une base jouet assez petite (par exemple, 10 exemples de chaque classe)."
   ]
  },
  {
   "cell_type": "code",
   "execution_count": 3,
   "metadata": {},
   "outputs": [
    {
     "name": "stdout",
     "output_type": "stream",
     "text": [
      "Taille de la base jouet générée : 20 exemples\n"
     ]
    }
   ],
   "source": []
  },
  {
   "cell_type": "code",
   "execution_count": 18,
   "metadata": {},
   "outputs": [
    {
     "data": {
      "text/plain": [
       "array([[ 1.16122075,  1.39153349],\n",
       "       [ 1.76152731,  0.86056019],\n",
       "       [ 2.2226983 ,  1.51764503],\n",
       "       [ 2.10455168,  3.8762741 ],\n",
       "       [ 0.93597829,  1.09169998],\n",
       "       [ 2.62056392,  1.83333395],\n",
       "       [ 4.55698229,  1.54815768],\n",
       "       [-0.09837185,  3.52245422],\n",
       "       [-0.34143402,  2.97697663],\n",
       "       [ 1.99632614,  2.39732191]])"
      ]
     },
     "execution_count": 18,
     "metadata": {},
     "output_type": "execute_result"
    }
   ],
   "source": [
    "# the_set = ... # définition d'un LabeledSet avec la fonction précédente\n",
    "the_set = ut.createGaussianDataset(np.array([2,2]),np.array([[1.5,0],[0,1.5]]),np.array([-1,-1]),np.array([[1.5,0],[0,1.5]]),10)\n",
    "S= the_set.x[np.where(the_set.y == 1),:]\n",
    "S[0]"
   ]
  },
  {
   "cell_type": "code",
   "execution_count": 19,
   "metadata": {},
   "outputs": [
    {
     "data": {
      "image/png": "[encoded data removed]",
      "text/plain": [
       "<Figure size 432x288 with 1 Axes>"
      ]
     },
     "metadata": {
      "needs_background": "light"
     },
     "output_type": "display_data"
    }
   ],
   "source": [
    "# Affichage du dataset généré\n",
    "ut.plot2DSet(the_set)"
   ]
  },
  {
   "cell_type": "markdown",
   "metadata": {},
   "source": [
    "<font color=\"RED\" size=\"+1\">**[Q]**</font> Ecrire la fonction <code>classe_majoritaire()</code> qui, étant donné un LabeledSet rend la classe majoritaire dans l'ensemble (celle qui est possédée par le plus grand nombre d'exemples donc...). En cas d'égalité, cette fonction rend la classe +1."
   ]
  },
  {
   "cell_type": "code",
   "execution_count": 20,
   "metadata": {},
   "outputs": [],
   "source": [
    "def classe_majoritaire(set):\n",
    "    nb= len(set.x[np.where(set.y == 1),:][0])\n",
    "    if nb >= (set.size()/2):\n",
    "        return 1\n",
    "    return -1"
   ]
  },
  {
   "cell_type": "code",
   "execution_count": 21,
   "metadata": {},
   "outputs": [
    {
     "data": {
      "text/plain": [
       "1"
      ]
     },
     "execution_count": 21,
     "metadata": {},
     "output_type": "execute_result"
    }
   ],
   "source": [
    "classe_majoritaire(the_set)"
   ]
  },
  {
   "cell_type": "markdown",
   "metadata": {},
   "source": [
    "## Arbres de décision\n",
    "\n",
    "Dans cette étape, on réalise l'implémentation de l'algorithme de construction d'un arbre de décision."
   ]
  },
  {
   "cell_type": "markdown",
   "metadata": {},
   "source": [
    "### Entropie et gain d'information\n",
    "\n",
    "On note $\\{c_1, c_2,..., c_k\\}$, l'ensemble des classes possibles.\n",
    "\n",
    "Dans le cours, la mesure de désordre présentée utilise, pour toute valeur $c$ de la classe le ratio $\\frac{|Y(c)|}{|Y|}$ qui correspond à la probabilité de la classe $c$ parmi $Y$.\n",
    "On note dans ce qui suit $p_1$ la probabilité de la classe $c_1$ parmi $Y$, etc. \n",
    "\n",
    "Ainsi, on a $P=(p_1, p_2,..., p_k)$ la distribution de probabilités sur les classes ainsi définies.\n",
    "\n",
    "L'**entropie de Shannon** de la distribution $P$ est donnée par:\n",
    "\n",
    "$ H_S(P) = -\\sum_{i=1}^{k} p_i \\log_k(p_i)$\n",
    "\n",
    "Le logarithme utilisé est le logarithme en base $k$ afin d'obtenir une valeur normalisée de l'entropie. \n",
    "\n",
    "*Remarque:* avec les notations vues en cours, on a $D(Y) = H_S(P)$.\n",
    "\n",
    "Pour ce qui suit, une *distribution de probabilités* est représentée par une **liste** Python $P=[p_1,...,p_k]$ de valeurs réelles telle que\n",
    "* pour tout $i=1,..., k$ : $0 \\leq p_i \\leq 1$\n",
    "* $\\sum_{i=1}^{k}p_i = 1$\n"
   ]
  },
  {
   "cell_type": "markdown",
   "metadata": {},
   "source": [
    "<font color=\"RED\" size=\"+1\">**[Q]**</font> Ecrire la fonction <code>shannon()</code> qui, étant donné une distribution de probabilités $P$, rend la valeur de $H_S(P)$, l'entropie de Shannon de $P$."
   ]
  },
  {
   "cell_type": "code",
   "execution_count": 22,
   "metadata": {},
   "outputs": [],
   "source": [
    "def shannon(l):\n",
    "    t= len(l)\n",
    "    s= 0\n",
    "    for i in l:\n",
    "        if i == 0:\n",
    "            continue\n",
    "        s -= i*math.log(i,t)\n",
    "    return s"
   ]
  },
  {
   "cell_type": "code",
   "execution_count": 23,
   "metadata": {},
   "outputs": [
    {
     "name": "stdout",
     "output_type": "stream",
     "text": [
      "P=[1,0] :  0.0\n",
      "P=[0.25, 0.25, 0.25, 0.25] :  1.0\n",
      "P=[0.7, 0.1, 0.2, 0.0] :  0.5783898247235197\n",
      "P=[1.0/3, 2.0/3] :  0.9182958340544896\n"
     ]
    }
   ],
   "source": [
    "# Exemples d'utilisation:\n",
    "print(\"P=[1,0] : \", shannon([1, 0]))\n",
    "print(\"P=[0.25, 0.25, 0.25, 0.25] : \", shannon([0.25, 0.25, 0.25, 0.25]))\n",
    "print(\"P=[0.7, 0.1, 0.2, 0.0] : \", shannon([0.7, 0.1, 0.2, 0.0]))\n",
    "print(\"P=[1.0/3, 2.0/3] : \", shannon([1.0/3, 2.0/3]))"
   ]
  },
  {
   "cell_type": "markdown",
   "metadata": {},
   "source": [
    "<font color=\"RED\" size=\"+1\">**[Q]**</font> Tracer, à l'aide de la fonction plot, la courbe donnant la valeur de <code>shannon([p, 1-p])</code> en fonction de <code>p</code>."
   ]
  },
  {
   "cell_type": "code",
   "execution_count": 24,
   "metadata": {},
   "outputs": [
    {
     "data": {
      "image/png": "[encoded data removed]",
      "text/plain": [
       "<Figure size 432x288 with 1 Axes>"
      ]
     },
     "metadata": {
      "needs_background": "light"
     },
     "output_type": "display_data"
    }
   ],
   "source": [
    "y=[]\n",
    "k= np.linspace(0,1,100)\n",
    "for i in k:\n",
    "    y.append(shannon([i,1-i]))\n",
    "plt.plot(k,y)\n",
    "plt.show()"
   ]
  },
  {
   "cell_type": "markdown",
   "metadata": {},
   "source": [
    "<font color=\"RED\" size=\"+1\">**[Q]**</font> A l'aide de la fonction <code>shannon()</code>, écrire la fonction <code>entropie()</code> qui prend un LabeledSet en argument et renvoie l'entropie de la distribution des classes dans cet ensemble."
   ]
  },
  {
   "cell_type": "code",
   "execution_count": 25,
   "metadata": {},
   "outputs": [],
   "source": [
    "def entropie(l):\n",
    "    if l.size == 0:\n",
    "        return 0\n",
    "    nbp= len(l.x[np.where(l.y == 1),:][0]) / l.size()\n",
    "    nbn= 1 - nbp\n",
    "    return shannon([nbp,nbn])"
   ]
  },
  {
   "cell_type": "code",
   "execution_count": 26,
   "metadata": {},
   "outputs": [
    {
     "data": {
      "text/plain": [
       "1.0"
      ]
     },
     "execution_count": 26,
     "metadata": {},
     "output_type": "execute_result"
    }
   ],
   "source": [
    "entropie(the_set)"
   ]
  },
  {
   "cell_type": "markdown",
   "metadata": {},
   "source": [
    "Cette fonction <code>entropie</code> permet dont de calculer le désordre des classes dans le LabeledSet considéré."
   ]
  },
  {
   "cell_type": "markdown",
   "metadata": {},
   "source": [
    "### Discrétisation des attributs numériques"
   ]
  },
  {
   "cell_type": "markdown",
   "metadata": {
    "collapsed": true
   },
   "source": [
    "Comme on l'a vu en cours, discrétiser un attribut numérique consiste en trouver un seuil de coupure dans son ensemble de valeurs. \n",
    "\n",
    "Par exemple, soit l'attribut Age contenant les valeurs 17, 18, 20, 27, 35, 37, 40. On discrétise cet attribut en 2 valeurs en prenant, par exemple, le seuil 30: cela permet de séparer d'un côté les valeurs inférieures ou égales à 30, et de l'autre les valeurs strictement supérieures à 30.\n",
    "\n",
    "Le seuil est choisi afin d'optimiser la distribution des classes des exemples qui se trouvent de chaque côté du seuil. Une fois un seuil choisi, on calcule le désordre des classes associées aux exemples de chaque côté du seuil et on agrège les 2 valeurs de désordre obtenues pour déterminer la qualité de la coupure à l'aide de la mesure $Q$ vue en cours.\n",
    "\n",
    "\n",
    "Soit $X$ un ensemble d'exemples, et soit $A$ un attribut que l'on souhaite discrétiser. Pour cela, on constitue l'ensemble des valeurs prises par les exemples de $X$ pour l'attribut $A$. Soit $A_X$ cet ensemble de valeurs.\n",
    "\n",
    "La discrétisation de $A_X$ s'effectue par les étapes suivantes:\n",
    "- Etape 1: ordonner de façon croissante les valeurs de $A_X$;\n",
    "- Etape 2: regarder tous les seuils possibles de coupure entre 2 valeurs consécutives de $A_X$ (on prend comme seuil de coupure la valeur médiane entre ces 2 valeurs). Chaque seuil trouvé créé 2 intervalles qui générent 2 sous-ensembles de $X$: l'ensemble $X_1$ des exemples dont la valeur pour $A$ et inférieure ou égale au seuil, et l'ensemble $X_2$ des exemples dont la valeur pour $A$ et supérieure au seuil. On détermine la qualité du seuil par la mesure de qualité d'un test vue en cours. On note $Q(seuil)$ cette valeur.\n",
    "\n",
    "\n",
    "La meilleure coupure pour discrétiser $A_X$ est celle qui minimise la valeur $Q(seuil)$.\n",
    "\n",
    "\n",
    "Par exemple, soit $X=\\{17, 18, 20, 27, 35, 37, 40\\}$, chaque valeur étant associées aux classes +1, +1, -1, -1, +1, +1, -1 respectivement. Un seuil de coupure possible est $31$ ($31 = \\frac{27+35}{2}$). Ce seuil coupe $X$ en $X_1=\\{17, 18, 20, 27\\}$ et $X_2=\\{35, 37, 40\\}$.\n",
    "\n",
    "- pour $X_1$, la probabilité de chaque classe est: $p(+1)= 0.5$ et $p(-1)=0.5$ donc, $H_S(X_1)=1$;\n",
    "- pour $X_2$, la probabilité de chaque classe est: $p(+1)= \\frac{1}{3}$ et $p(-1)=\\frac{2}{3}$ donc, $H_S(X_2)=0.9182958340544896$;\n",
    "- on a donc: $$Q(seuil=31) = \\frac{4}{7} H_S(X_1) + \\frac{3}{7} H_S(X_2);$$\n",
    "soit $Q(seuil=31) = 0.9182958340544896$"
   ]
  },
  {
   "cell_type": "markdown",
   "metadata": {},
   "source": [
    "On considère que <code>the_set</code> est un LabeledSet construit précédement. Il contient deux variables de type array: $x$ et $y$.\n",
    "\n",
    "Regarder et tester les instructions suivantes, il faut bien comprendre comment elles fonctionnent car on va utiliser les mêmes principes dans les fonctions à écrire."
   ]
  },
  {
   "cell_type": "code",
   "execution_count": 27,
   "metadata": {},
   "outputs": [
    {
     "data": {
      "text/plain": [
       "array([[11, 15],\n",
       "       [10, 18],\n",
       "       [15, 12],\n",
       "       [12, 13],\n",
       "       [13, 11],\n",
       "       [19, 14],\n",
       "       [14, 10],\n",
       "       [17, 19],\n",
       "       [ 8,  1],\n",
       "       [16, 16],\n",
       "       [ 7,  4],\n",
       "       [ 4,  0],\n",
       "       [ 0, 17],\n",
       "       [18,  2],\n",
       "       [ 1,  6],\n",
       "       [ 9,  5],\n",
       "       [ 3,  9],\n",
       "       [ 2,  8],\n",
       "       [ 5,  7],\n",
       "       [ 6,  3]], dtype=int64)"
      ]
     },
     "execution_count": 27,
     "metadata": {},
     "output_type": "execute_result"
    }
   ],
   "source": [
    "ind= np.argsort(the_set.x,axis=0)   # Tri des valeurs de the_set.x selon les colonnes. \n",
    "                                    # La fonction rend un numpy.ndarray contenant autant de \n",
    "                                    # colonnes que the_set.x et dans chaque colonne, on a \n",
    "                                    # la position de l'exemple dans l'ordonnancement croissant.\n",
    "ind # pour afficher"
   ]
  },
  {
   "cell_type": "code",
   "execution_count": 28,
   "metadata": {},
   "outputs": [
    {
     "data": {
      "text/plain": [
       "array([[-3.05958402, -2.10988006],\n",
       "       [-2.72489633,  0.25099272],\n",
       "       [-2.55714416, -3.07977668],\n",
       "       [-2.27348583, -2.5574232 ],\n",
       "       [-2.09617108, -2.22528635],\n",
       "       [-1.95827746,  0.31704857],\n",
       "       [-1.17130614, -0.72655041],\n",
       "       [-0.89314839,  1.46088866],\n",
       "       [-0.34143402,  2.97697663],\n",
       "       [-0.3197623 ,  0.90023852],\n",
       "       [-0.09837185,  3.52245422],\n",
       "       [ 0.93597829,  1.09169998],\n",
       "       [ 1.16122075,  1.39153349],\n",
       "       [ 1.60775685, -2.82248528],\n",
       "       [ 1.76152731,  0.86056019],\n",
       "       [ 1.99632614,  2.39732191],\n",
       "       [ 2.10455168,  3.8762741 ],\n",
       "       [ 2.2226983 ,  1.51764503],\n",
       "       [ 2.62056392,  1.83333395],\n",
       "       [ 4.55698229,  1.54815768]])"
      ]
     },
     "execution_count": 28,
     "metadata": {},
     "output_type": "execute_result"
    }
   ],
   "source": [
    "the_set.x[ind[0:len(the_set.x),0]]  # Rend le numpy.array des exemples de the_set.x ordonnés\n",
    "                                    # selon les indices donnés dans ind (colonne 0)\n"
   ]
  },
  {
   "cell_type": "code",
   "execution_count": 29,
   "metadata": {},
   "outputs": [
    {
     "data": {
      "text/plain": [
       "array([[-1],\n",
       "       [-1],\n",
       "       [-1],\n",
       "       [-1],\n",
       "       [-1],\n",
       "       [-1],\n",
       "       [-1],\n",
       "       [-1],\n",
       "       [ 1],\n",
       "       [-1],\n",
       "       [ 1],\n",
       "       [ 1],\n",
       "       [ 1],\n",
       "       [-1],\n",
       "       [ 1],\n",
       "       [ 1],\n",
       "       [ 1],\n",
       "       [ 1],\n",
       "       [ 1],\n",
       "       [ 1]])"
      ]
     },
     "execution_count": 29,
     "metadata": {},
     "output_type": "execute_result"
    }
   ],
   "source": [
    "the_set.y[ind[0:len(the_set.y),0]]  # Rend le numpy.array des exemples de the_set.y ordonnés\n",
    "                                    # selon les indices donnés dans ind (colonne 0)"
   ]
  },
  {
   "cell_type": "code",
   "execution_count": 30,
   "metadata": {},
   "outputs": [
    {
     "name": "stdout",
     "output_type": "stream",
     "text": [
      "valeur= -3.0797766766921995 classe=  -1\n",
      "valeur= -2.8224852797026445 classe=  -1\n",
      "valeur= -2.557423200081696 classe=  -1\n",
      "valeur= -2.2252863483577565 classe=  -1\n",
      "valeur= -2.10988005677818 classe=  -1\n",
      "valeur= -0.7265504113388586 classe=  -1\n",
      "valeur= 0.2509927204800584 classe=  -1\n",
      "valeur= 0.31704856677426085 classe=  -1\n",
      "valeur= 0.86056018542559 classe=  1\n",
      "valeur= 0.9002385169714364 classe=  -1\n",
      "valeur= 1.0916999841338746 classe=  1\n",
      "valeur= 1.3915334881725943 classe=  1\n",
      "valeur= 1.4608886568308082 classe=  -1\n",
      "valeur= 1.5176450265167714 classe=  1\n",
      "valeur= 1.5481576843449687 classe=  1\n",
      "valeur= 1.8333339462115514 classe=  1\n",
      "valeur= 2.3973219063175244 classe=  1\n",
      "valeur= 2.976976630205187 classe=  1\n",
      "valeur= 3.522454220417453 classe=  1\n",
      "valeur= 3.8762740971858767 classe=  1\n"
     ]
    }
   ],
   "source": [
    "colonne = 1    # numéro de la colonne de the_set.x à considérer\n",
    "for v_i in ind[0:len(the_set.x)]:\n",
    "    i = v_i[colonne]\n",
    "    exem = the_set.getX(i)\n",
    "    clas = the_set.getY(i)\n",
    "    print(\"valeur=\",exem[colonne], \"classe= \", clas[0])"
   ]
  },
  {
   "cell_type": "markdown",
   "metadata": {},
   "source": [
    "Etant donné un LabeledSet, ainsi qu'un numéro de colonne à considérer (qui correspond à un des attributs de description), la fonction <code>discrétise()</code> rend un tuple constitué de la valeur de coupure qui optimise la mesure de qualité, et de la valeur trouvée pour cette mesure."
   ]
  },
  {
   "cell_type": "code",
   "execution_count": 31,
   "metadata": {},
   "outputs": [],
   "source": [
    "def discretise(LSet, col):\n",
    "    \"\"\" LabelledSet * int -> tuple[float, float]\n",
    "        Hypothèse: LSet.size() >= 2\n",
    "        col est le numéro de colonne sur X à discrétiser\n",
    "        rend la valeur de coupure qui minimise l'entropie ainsi que son entropie.\n",
    "    \"\"\"\n",
    "    # initialisation:\n",
    "    min_entropie = 1.1  # on met à une valeur max car on veut minimiser\n",
    "    min_seuil = 0.0     \n",
    "    # trie des valeurs:\n",
    "    ind= np.argsort(LSet.x,axis=0)\n",
    "    \n",
    "    # calcul des distributions des classes pour E1 et E2:\n",
    "    inf_plus  = 0               # nombre de +1 dans E1\n",
    "    inf_moins = 0               # nombre de -1 dans E1\n",
    "    sup_plus  = 0               # nombre de +1 dans E2\n",
    "    sup_moins = 0               # nombre de -1 dans E2       \n",
    "    # remarque: au départ on considère que E1 est vide et donc E2 correspond à E. \n",
    "    # Ainsi inf_plus et inf_moins valent 0. Il reste à calculer sup_plus et sup_moins \n",
    "    # dans E.\n",
    "    for j in range(0,LSet.size()):\n",
    "        if (LSet.getY(j) == -1):\n",
    "            sup_moins += 1\n",
    "        else:\n",
    "            sup_plus += 1\n",
    "    nb_total = (sup_plus + sup_moins) # nombre d'exemples total dans E\n",
    "    \n",
    "    # parcours pour trouver le meilleur seuil:\n",
    "    for i in range(len(LSet.x)-1):\n",
    "        v_ind_i = ind[i]   # vecteur d'indices\n",
    "        courant = LSet.getX(v_ind_i[col])[col]\n",
    "        lookahead = LSet.getX(ind[i+1][col])[col]\n",
    "        val_seuil = (courant + lookahead) / 2.0;\n",
    "        # M-A-J de la distrib. des classes:\n",
    "        # pour réduire les traitements: on retire un exemple de E2 et on le place\n",
    "        # dans E1, c'est ainsi que l'on déplace donc le seuil de coupure.\n",
    "        if LSet.getY(ind[i][col])[0] == -1:\n",
    "            inf_moins += 1\n",
    "            sup_moins -= 1\n",
    "        else:\n",
    "            inf_plus += 1\n",
    "            sup_plus -= 1\n",
    "        # calcul de la distribution des classes de chaque côté du seuil:\n",
    "        nb_inf = (inf_moins + inf_plus)*1.0     # rem: on en fait un float pour éviter\n",
    "        nb_sup = (sup_moins + sup_plus)*1.0     # que ce soit une division entière.\n",
    "        # calcul de l'entropie de la coupure\n",
    "        val_entropie_inf = shannon([inf_moins / nb_inf, inf_plus  / nb_inf])\n",
    "        val_entropie_sup = shannon([sup_moins / nb_sup, sup_plus  / nb_sup])\n",
    "        val_entropie = (nb_inf / nb_total) * val_entropie_inf \\\n",
    "                       + (nb_sup / nb_total) * val_entropie_sup\n",
    "        # si cette coupure minimise l'entropie, on mémorise ce seuil et son entropie:\n",
    "        if (min_entropie > val_entropie):\n",
    "            min_entropie = val_entropie\n",
    "            min_seuil = val_seuil\n",
    "    return (min_seuil, min_entropie)"
   ]
  },
  {
   "cell_type": "code",
   "execution_count": 35,
   "metadata": {},
   "outputs": [
    {
     "data": {
      "text/plain": [
       "(-0.6172912017820036, 0.39001345298901247)"
      ]
     },
     "execution_count": 35,
     "metadata": {},
     "output_type": "execute_result"
    }
   ],
   "source": [
    "discretise(the_set,0) # le résultat dépend, bien sûr, de la base jouet"
   ]
  },
  {
   "cell_type": "code",
   "execution_count": 40,
   "metadata": {},
   "outputs": [
    {
     "data": {
      "text/plain": [
       "(0.5888043760999254, 0.39001345298901247)"
      ]
     },
     "execution_count": 40,
     "metadata": {},
     "output_type": "execute_result"
    }
   ],
   "source": [
    "discretise(the_set,1) # le résultat dépend, bien sûr, de la base jouet"
   ]
  },
  {
   "cell_type": "markdown",
   "metadata": {},
   "source": [
    "Une dernière fonction utile permet de diviser une base d'exemples en 2 sous-bases en utilisant un seuil sur la valeur d'un attribut donné.\n",
    "\n",
    "<font color=\"RED\" size=\"+1\">**[Q]**</font> Ecrire la fonction divise() dont la spécification est:\n",
    "\n",
    "    def divise(LSet,att,seuil):\n",
    "        \"\"\" LSet: LabeledSet\n",
    "            att : numéro d'attribut\n",
    "            seuil : valeur de seuil\n",
    "            rend le tuple contenant les 2 sous-LabeledSet obtenus par la\n",
    "            division de LSet selon le seuil sur l'attribut att\n",
    "        \"\"\"\n",
    "\n"
   ]
  },
  {
   "cell_type": "code",
   "execution_count": 82,
   "metadata": {},
   "outputs": [],
   "source": [
    "def divise(LSet,att,seuil):\n",
    "    \"\"\" LSet: LabeledSet\n",
    "        att : numéro d'attribut\n",
    "        seuil : valeur de seuil\n",
    "        rend le tuple contenant les 2 sous-LabeledSet obtenus par la\n",
    "        division de LSet selon le seuil sur l'attribut att\n",
    "    \"\"\"\n",
    "    indexS= 0\n",
    "    mins, mine = discretise(LSet,att)\n",
    "    ind= np.argsort(LSet.x,axis=0)\n",
    "    for i in range(len(LSet.x)-1):\n",
    "        v_ind_i = ind[i]   # vecteur d'indices\n",
    "        courant = LSet.getX(v_ind_i[att])[att]\n",
    "        lookahead = LSet.getX(ind[i+1][att])[att]\n",
    "        if (courant + lookahead) / 2.0 == mins:\n",
    "            l1= ls.LabeledSet(2)\n",
    "            l2= ls.LabeledSet(2)\n",
    "            for j in ind[:i]:\n",
    "                #print(j)\n",
    "                l1.addExample(LSet.getX(j),LSet.getY(j))\n",
    "            for j in ind[i:]:\n",
    "                l1.addExample(LSet.getX(j),LSet.getY(j))\n",
    "            return l1,l2\n",
    "    return [],[]"
   ]
  },
  {
   "cell_type": "code",
   "execution_count": 93,
   "metadata": {},
   "outputs": [
    {
     "ename": "ValueError",
     "evalue": "all the input arrays must have same number of dimensions",
     "output_type": "error",
     "traceback": [
      "\u001b[1;31m---------------------------------------------------------------------------\u001b[0m",
      "\u001b[1;31mValueError\u001b[0m                                Traceback (most recent call last)",
      "\u001b[1;32m<ipython-input-93-20acdfd96861>\u001b[0m in \u001b[0;36m<module>\u001b[1;34m\u001b[0m\n\u001b[1;32m----> 1\u001b[1;33m \u001b[0mLinf\u001b[0m\u001b[1;33m,\u001b[0m \u001b[0mLsup\u001b[0m \u001b[1;33m=\u001b[0m \u001b[0mdivise\u001b[0m\u001b[1;33m(\u001b[0m\u001b[0mthe_set\u001b[0m\u001b[1;33m,\u001b[0m\u001b[1;36m0\u001b[0m\u001b[1;33m,\u001b[0m\u001b[1;33m-\u001b[0m\u001b[1;36m0.5\u001b[0m\u001b[1;33m)\u001b[0m\u001b[1;33m\u001b[0m\u001b[1;33m\u001b[0m\u001b[0m\n\u001b[0m\u001b[0;32m      2\u001b[0m \u001b[0mprint\u001b[0m\u001b[1;33m(\u001b[0m\u001b[1;34m\"entropie inférieur:\"\u001b[0m\u001b[1;33m,\u001b[0m\u001b[0mentropie\u001b[0m\u001b[1;33m(\u001b[0m\u001b[0mLinf\u001b[0m\u001b[1;33m)\u001b[0m\u001b[1;33m,\u001b[0m\u001b[1;34m\" / entropie supérieur:\"\u001b[0m\u001b[1;33m,\u001b[0m \u001b[0mentropie\u001b[0m\u001b[1;33m(\u001b[0m\u001b[0mLsup\u001b[0m\u001b[1;33m)\u001b[0m\u001b[1;33m)\u001b[0m\u001b[1;33m\u001b[0m\u001b[1;33m\u001b[0m\u001b[0m\n\u001b[0;32m      3\u001b[0m \u001b[1;31m# remarque: les résultats dépendent de votre base jouet...\u001b[0m\u001b[1;33m\u001b[0m\u001b[1;33m\u001b[0m\u001b[1;33m\u001b[0m\u001b[0m\n",
      "\u001b[1;32m<ipython-input-82-37d395cdccb3>\u001b[0m in \u001b[0;36mdivise\u001b[1;34m(LSet, att, seuil)\u001b[0m\n\u001b[0;32m     18\u001b[0m             \u001b[1;32mfor\u001b[0m \u001b[0mj\u001b[0m \u001b[1;32min\u001b[0m \u001b[0mind\u001b[0m\u001b[1;33m[\u001b[0m\u001b[1;33m:\u001b[0m\u001b[0mi\u001b[0m\u001b[1;33m]\u001b[0m\u001b[1;33m:\u001b[0m\u001b[1;33m\u001b[0m\u001b[1;33m\u001b[0m\u001b[0m\n\u001b[0;32m     19\u001b[0m                 \u001b[1;31m#print(j)\u001b[0m\u001b[1;33m\u001b[0m\u001b[1;33m\u001b[0m\u001b[1;33m\u001b[0m\u001b[0m\n\u001b[1;32m---> 20\u001b[1;33m                 \u001b[0ml1\u001b[0m\u001b[1;33m.\u001b[0m\u001b[0maddExample\u001b[0m\u001b[1;33m(\u001b[0m\u001b[0mLSet\u001b[0m\u001b[1;33m.\u001b[0m\u001b[0mgetX\u001b[0m\u001b[1;33m(\u001b[0m\u001b[0mj\u001b[0m\u001b[1;33m)\u001b[0m\u001b[1;33m,\u001b[0m\u001b[0mLSet\u001b[0m\u001b[1;33m.\u001b[0m\u001b[0mgetY\u001b[0m\u001b[1;33m(\u001b[0m\u001b[0mj\u001b[0m\u001b[1;33m)\u001b[0m\u001b[1;33m)\u001b[0m\u001b[1;33m\u001b[0m\u001b[1;33m\u001b[0m\u001b[0m\n\u001b[0m\u001b[0;32m     21\u001b[0m             \u001b[1;32mfor\u001b[0m \u001b[0mj\u001b[0m \u001b[1;32min\u001b[0m \u001b[0mind\u001b[0m\u001b[1;33m[\u001b[0m\u001b[0mi\u001b[0m\u001b[1;33m:\u001b[0m\u001b[1;33m]\u001b[0m\u001b[1;33m:\u001b[0m\u001b[1;33m\u001b[0m\u001b[1;33m\u001b[0m\u001b[0m\n\u001b[0;32m     22\u001b[0m                 \u001b[0ml1\u001b[0m\u001b[1;33m.\u001b[0m\u001b[0maddExample\u001b[0m\u001b[1;33m(\u001b[0m\u001b[0mLSet\u001b[0m\u001b[1;33m.\u001b[0m\u001b[0mgetX\u001b[0m\u001b[1;33m(\u001b[0m\u001b[0mj\u001b[0m\u001b[1;33m)\u001b[0m\u001b[1;33m,\u001b[0m\u001b[0mLSet\u001b[0m\u001b[1;33m.\u001b[0m\u001b[0mgetY\u001b[0m\u001b[1;33m(\u001b[0m\u001b[0mj\u001b[0m\u001b[1;33m)\u001b[0m\u001b[1;33m)\u001b[0m\u001b[1;33m\u001b[0m\u001b[1;33m\u001b[0m\u001b[0m\n",
      "\u001b[1;32m~\\Desktop\\3i026\\iads\\LabeledSet.py\u001b[0m in \u001b[0;36maddExample\u001b[1;34m(self, vector, label)\u001b[0m\n\u001b[0;32m     38\u001b[0m         \u001b[1;32melse\u001b[0m\u001b[1;33m:\u001b[0m\u001b[1;33m\u001b[0m\u001b[1;33m\u001b[0m\u001b[0m\n\u001b[0;32m     39\u001b[0m             \u001b[0mself\u001b[0m\u001b[1;33m.\u001b[0m\u001b[0mx\u001b[0m \u001b[1;33m=\u001b[0m \u001b[0mnp\u001b[0m\u001b[1;33m.\u001b[0m\u001b[0mvstack\u001b[0m\u001b[1;33m(\u001b[0m\u001b[1;33m(\u001b[0m\u001b[0mself\u001b[0m\u001b[1;33m.\u001b[0m\u001b[0mx\u001b[0m\u001b[1;33m,\u001b[0m \u001b[0mvector\u001b[0m\u001b[1;33m)\u001b[0m\u001b[1;33m)\u001b[0m\u001b[1;33m\u001b[0m\u001b[1;33m\u001b[0m\u001b[0m\n\u001b[1;32m---> 40\u001b[1;33m             \u001b[0mself\u001b[0m\u001b[1;33m.\u001b[0m\u001b[0my\u001b[0m \u001b[1;33m=\u001b[0m \u001b[0mnp\u001b[0m\u001b[1;33m.\u001b[0m\u001b[0mvstack\u001b[0m\u001b[1;33m(\u001b[0m\u001b[1;33m(\u001b[0m\u001b[0mself\u001b[0m\u001b[1;33m.\u001b[0m\u001b[0my\u001b[0m\u001b[1;33m,\u001b[0m \u001b[0mlabel\u001b[0m\u001b[1;33m)\u001b[0m\u001b[1;33m)\u001b[0m\u001b[1;33m\u001b[0m\u001b[1;33m\u001b[0m\u001b[0m\n\u001b[0m\u001b[0;32m     41\u001b[0m \u001b[1;33m\u001b[0m\u001b[0m\n\u001b[0;32m     42\u001b[0m         \u001b[0mself\u001b[0m\u001b[1;33m.\u001b[0m\u001b[0mnb_examples\u001b[0m \u001b[1;33m=\u001b[0m \u001b[0mself\u001b[0m\u001b[1;33m.\u001b[0m\u001b[0mnb_examples\u001b[0m \u001b[1;33m+\u001b[0m \u001b[1;36m1\u001b[0m\u001b[1;33m\u001b[0m\u001b[1;33m\u001b[0m\u001b[0m\n",
      "\u001b[1;32mc:\\users\\home_evrbdy\\appdata\\local\\programs\\python\\python37\\lib\\site-packages\\numpy\\core\\shape_base.py\u001b[0m in \u001b[0;36mvstack\u001b[1;34m(tup)\u001b[0m\n\u001b[0;32m    281\u001b[0m     \"\"\"\n\u001b[0;32m    282\u001b[0m     \u001b[0m_warn_for_nonsequence\u001b[0m\u001b[1;33m(\u001b[0m\u001b[0mtup\u001b[0m\u001b[1;33m)\u001b[0m\u001b[1;33m\u001b[0m\u001b[1;33m\u001b[0m\u001b[0m\n\u001b[1;32m--> 283\u001b[1;33m     \u001b[1;32mreturn\u001b[0m \u001b[0m_nx\u001b[0m\u001b[1;33m.\u001b[0m\u001b[0mconcatenate\u001b[0m\u001b[1;33m(\u001b[0m\u001b[1;33m[\u001b[0m\u001b[0matleast_2d\u001b[0m\u001b[1;33m(\u001b[0m\u001b[0m_m\u001b[0m\u001b[1;33m)\u001b[0m \u001b[1;32mfor\u001b[0m \u001b[0m_m\u001b[0m \u001b[1;32min\u001b[0m \u001b[0mtup\u001b[0m\u001b[1;33m]\u001b[0m\u001b[1;33m,\u001b[0m \u001b[1;36m0\u001b[0m\u001b[1;33m)\u001b[0m\u001b[1;33m\u001b[0m\u001b[1;33m\u001b[0m\u001b[0m\n\u001b[0m\u001b[0;32m    284\u001b[0m \u001b[1;33m\u001b[0m\u001b[0m\n\u001b[0;32m    285\u001b[0m \u001b[1;33m\u001b[0m\u001b[0m\n",
      "\u001b[1;31mValueError\u001b[0m: all the input arrays must have same number of dimensions"
     ]
    }
   ],
   "source": [
    "Linf, Lsup = divise(the_set,0,-0.5)\n",
    "print(\"entropie inférieur:\",entropie(Linf),\" / entropie supérieur:\", entropie(Lsup))\n",
    "# remarque: les résultats dépendent de votre base jouet..."
   ]
  },
  {
   "cell_type": "code",
   "execution_count": 23,
   "metadata": {},
   "outputs": [
    {
     "name": "stdout",
     "output_type": "stream",
     "text": [
      "entropie inférieur: 0.0  / entropie supérieur: 0.863120568566631\n"
     ]
    }
   ],
   "source": [
    "Linf, Lsup = divise(the_set,0,-0.5)\n",
    "print(\"entropie inférieur:\",entropie(Linf),\" / entropie supérieur:\", entropie(Lsup))\n",
    "# remarque: les résultats dépendent de votre base jouet..."
   ]
  },
  {
   "cell_type": "markdown",
   "metadata": {},
   "source": [
    "### Représentation d'un arbre en Python"
   ]
  },
  {
   "cell_type": "markdown",
   "metadata": {},
   "source": [
    "Un arbre de décision doit être représenté en Python, pour cela, on utilise la classe <code>ArbreBinaire</code> suivante:"
   ]
  },
  {
   "cell_type": "code",
   "execution_count": 24,
   "metadata": {},
   "outputs": [],
   "source": [
    "import graphviz as gv\n",
    "# Eventuellement, il peut être nécessaire d'installer graphviz sur votre compte:\n",
    "# pip install --user --install-option=\"--prefix=\" -U graphviz\n",
    "\n",
    "\n",
    "class ArbreBinaire:\n",
    "    def __init__(self):\n",
    "        self.attribut = None   # numéro de l'attribut\n",
    "        self.seuil = None\n",
    "        self.inferieur = None # ArbreBinaire Gauche (valeurs <= au seuil)\n",
    "        self.superieur = None # ArbreBinaire Gauche (valeurs > au seuil)\n",
    "        self.classe = None # Classe si c'est une feuille: -1 ou +1\n",
    "        \n",
    "    def est_feuille(self):\n",
    "        \"\"\" rend True si l'arbre est une feuille \"\"\"\n",
    "        return self.seuil == None\n",
    "    \n",
    "    def ajoute_fils(self,ABinf,ABsup,att,seuil):\n",
    "        \"\"\" ABinf, ABsup: 2 arbres binaires\n",
    "            att: numéro d'attribut\n",
    "            seuil: valeur de seuil\n",
    "        \"\"\"\n",
    "        self.attribut = att\n",
    "        self.seuil = seuil\n",
    "        self.inferieur = ABinf\n",
    "        self.superieur = ABsup\n",
    "    \n",
    "    def ajoute_feuille(self,classe):\n",
    "        \"\"\" classe: -1 ou + 1\n",
    "        \"\"\"\n",
    "        self.classe = classe\n",
    "        \n",
    "    def classifie(self,exemple):\n",
    "        \"\"\" exemple : numpy.array\n",
    "            rend la classe de l'exemple: +1 ou -1\n",
    "        \"\"\"\n",
    "        if self.est_feuille():\n",
    "            return self.classe\n",
    "        if exemple[self.attribut] <= self.seuil:\n",
    "            return self.inferieur.classifie(exemple)\n",
    "        return self.superieur.classifie(exemple)\n",
    "    \n",
    "    def to_graph(self, g, prefixe='A'):\n",
    "        \"\"\" construit une représentation de l'arbre pour pouvoir\n",
    "            l'afficher\n",
    "        \"\"\"\n",
    "        if self.est_feuille():\n",
    "            g.node(prefixe,str(self.classe),shape='box')\n",
    "        else:\n",
    "            g.node(prefixe, str(self.attribut))\n",
    "            self.inferieur.to_graph(g,prefixe+\"g\")\n",
    "            self.superieur.to_graph(g,prefixe+\"d\")\n",
    "            g.edge(prefixe,prefixe+\"g\", '<='+ str(self.seuil))\n",
    "            g.edge(prefixe,prefixe+\"d\", '>'+ str(self.seuil))\n",
    "        \n",
    "        return g"
   ]
  },
  {
   "cell_type": "code",
   "execution_count": 25,
   "metadata": {},
   "outputs": [
    {
     "data": {
      "image/svg+xml": [
       "<?xml version=\"1.0\" encoding=\"UTF-8\" standalone=\"no\"?>\n",
       "<!DOCTYPE svg PUBLIC \"-//W3C//DTD SVG 1.1//EN\"\n",
       " \"http://www.w3.org/Graphics/SVG/1.1/DTD/svg11.dtd\">\n",
       "<!-- Generated by graphviz version 2.41.20171026.1811 (20171026.1811)\n",
       " -->\n",
       "<!-- Title: %3 Pages: 1 -->\n",
       "<svg width=\"134pt\" height=\"131pt\"\n",
       " viewBox=\"0.00 0.00 134.00 131.00\" xmlns=\"http://www.w3.org/2000/svg\" xmlns:xlink=\"http://www.w3.org/1999/xlink\">\n",
       "<g id=\"graph0\" class=\"graph\" transform=\"scale(1 1) rotate(0) translate(4 127)\">\n",
       "<title>%3</title>\n",
       "<polygon fill=\"white\" stroke=\"transparent\" points=\"-4,4 -4,-127 130,-127 130,4 -4,4\"/>\n",
       "<!-- A -->\n",
       "<g id=\"node1\" class=\"node\">\n",
       "<title>A</title>\n",
       "<ellipse fill=\"none\" stroke=\"black\" cx=\"63\" cy=\"-105\" rx=\"27\" ry=\"18\"/>\n",
       "<text text-anchor=\"middle\" x=\"63\" y=\"-101.3\" font-family=\"Times,serif\" font-size=\"14.00\">nom</text>\n",
       "</g>\n",
       "<!-- Ag -->\n",
       "<g id=\"node2\" class=\"node\">\n",
       "<title>Ag</title>\n",
       "<polygon fill=\"none\" stroke=\"black\" points=\"54,-36 0,-36 0,0 54,0 54,-36\"/>\n",
       "<text text-anchor=\"middle\" x=\"27\" y=\"-14.3\" font-family=\"Times,serif\" font-size=\"14.00\">1</text>\n",
       "</g>\n",
       "<!-- A&#45;&gt;Ag -->\n",
       "<g id=\"edge1\" class=\"edge\">\n",
       "<title>A&#45;&gt;Ag</title>\n",
       "<path fill=\"none\" stroke=\"black\" d=\"M49.17,-89.35C44.3,-83.44 39.24,-76.3 36,-69 32.85,-61.91 30.81,-53.78 29.47,-46.17\"/>\n",
       "<polygon fill=\"black\" stroke=\"black\" points=\"32.94,-45.67 28.07,-36.26 26.01,-46.65 32.94,-45.67\"/>\n",
       "<text text-anchor=\"middle\" x=\"56.5\" y=\"-57.8\" font-family=\"Times,serif\" font-size=\"14.00\">&lt;=42.0</text>\n",
       "</g>\n",
       "<!-- Ad -->\n",
       "<g id=\"node3\" class=\"node\">\n",
       "<title>Ad</title>\n",
       "<polygon fill=\"none\" stroke=\"black\" points=\"126,-36 72,-36 72,0 126,0 126,-36\"/>\n",
       "<text text-anchor=\"middle\" x=\"99\" y=\"-14.3\" font-family=\"Times,serif\" font-size=\"14.00\">2</text>\n",
       "</g>\n",
       "<!-- A&#45;&gt;Ad -->\n",
       "<g id=\"edge2\" class=\"edge\">\n",
       "<title>A&#45;&gt;Ad</title>\n",
       "<path fill=\"none\" stroke=\"black\" d=\"M70.11,-87.21C75.16,-75.29 82.03,-59.06 87.81,-45.42\"/>\n",
       "<polygon fill=\"black\" stroke=\"black\" points=\"91.1,-46.62 91.78,-36.05 84.66,-43.89 91.1,-46.62\"/>\n",
       "<text text-anchor=\"middle\" x=\"99.5\" y=\"-57.8\" font-family=\"Times,serif\" font-size=\"14.00\">&gt;42.0</text>\n",
       "</g>\n",
       "</g>\n",
       "</svg>\n"
      ],
      "text/plain": [
       "<graphviz.dot.Digraph at 0x119d1b0b8>"
      ]
     },
     "execution_count": 25,
     "metadata": {},
     "output_type": "execute_result"
    }
   ],
   "source": [
    "# Exemple d'utilisation: \n",
    "un_arbre= ArbreBinaire()\n",
    "un_arbre.ajoute_feuille(1)\n",
    "un_arbre.est_feuille()\n",
    "un_arbre1 = ArbreBinaire()\n",
    "un_arbre1.ajoute_feuille(2)\n",
    "un_arbre2 = ArbreBinaire()\n",
    "un_arbre2.ajoute_fils(un_arbre,un_arbre1,\"nom\",42.0)\n",
    "\n",
    "gtree = gv.Digraph(format='png')\n",
    "un_arbre2.to_graph(gtree)"
   ]
  },
  {
   "cell_type": "markdown",
   "metadata": {},
   "source": [
    "### Construction de l'arbre de décision"
   ]
  },
  {
   "cell_type": "markdown",
   "metadata": {},
   "source": [
    "Pour construire un arbre de décision, il faut réaliser les étapes suivantes:\n",
    "- si l'entropie de Shannon de la distribution des classes de l'ensemble courant est inférieure à epsilon (réel positif fixé et qui est un paramètre de l'algorithme), alors construire une feuille avec cet ensemble, la classe associée à cette feuille est la classe majoritaire;\n",
    "- sinon, pour chaque attribut, calculer le seuil de discrétisation et l'entropie de Shannon correspondante\n",
    "    - choisir l'attribut qui donne une valeur d'entropie minimale\n",
    "    - l'attribut choisi sert à constituer un noeud de l'arbre de décision, les arcs issus de ce noeud sont labeller par un test (inférieur ou égal ou supérieur) par rapport au seuil trouvé\n",
    "    \n",
    "    \n",
    "<font color=\"RED\" size=\"+1\">**[Q]**</font> Ecrire la fonction qui construit un arbre de décision (binaire) à partir d'une base d'exemples. En plus de la base d'exemples, on utilise un argument \"epsilon\" qui est un réel >0 et qui sert pour le critère d'arrêt.\n",
    "Cette fonction a la spécification suivante:\n",
    "\n",
    "    def construit_AD(LSet,epsilon):\n",
    "        \"\"\" LSet : LabeledSet\n",
    "            epsilon : seuil d'entropie pour le critère d'arrêt \n",
    "        \"\"\"\n"
   ]
  },
  {
   "cell_type": "code",
   "execution_count": 26,
   "metadata": {},
   "outputs": [],
   "source": []
  },
  {
   "cell_type": "code",
   "execution_count": 27,
   "metadata": {},
   "outputs": [
    {
     "data": {
      "image/svg+xml": [
       "<?xml version=\"1.0\" encoding=\"UTF-8\" standalone=\"no\"?>\n",
       "<!DOCTYPE svg PUBLIC \"-//W3C//DTD SVG 1.1//EN\"\n",
       " \"http://www.w3.org/Graphics/SVG/1.1/DTD/svg11.dtd\">\n",
       "<!-- Generated by graphviz version 2.41.20171026.1811 (20171026.1811)\n",
       " -->\n",
       "<!-- Title: %3 Pages: 1 -->\n",
       "<svg width=\"417pt\" height=\"305pt\"\n",
       " viewBox=\"0.00 0.00 417.00 305.00\" xmlns=\"http://www.w3.org/2000/svg\" xmlns:xlink=\"http://www.w3.org/1999/xlink\">\n",
       "<g id=\"graph0\" class=\"graph\" transform=\"scale(1 1) rotate(0) translate(4 301)\">\n",
       "<title>%3</title>\n",
       "<polygon fill=\"white\" stroke=\"transparent\" points=\"-4,4 -4,-301 413,-301 413,4 -4,4\"/>\n",
       "<!-- A -->\n",
       "<g id=\"node1\" class=\"node\">\n",
       "<title>A</title>\n",
       "<ellipse fill=\"none\" stroke=\"black\" cx=\"116\" cy=\"-279\" rx=\"27\" ry=\"18\"/>\n",
       "<text text-anchor=\"middle\" x=\"116\" y=\"-275.3\" font-family=\"Times,serif\" font-size=\"14.00\">0</text>\n",
       "</g>\n",
       "<!-- Ag -->\n",
       "<g id=\"node2\" class=\"node\">\n",
       "<title>Ag</title>\n",
       "<polygon fill=\"none\" stroke=\"black\" points=\"60,-210 6,-210 6,-174 60,-174 60,-210\"/>\n",
       "<text text-anchor=\"middle\" x=\"33\" y=\"-188.3\" font-family=\"Times,serif\" font-size=\"14.00\">&#45;1</text>\n",
       "</g>\n",
       "<!-- A&#45;&gt;Ag -->\n",
       "<g id=\"edge5\" class=\"edge\">\n",
       "<title>A&#45;&gt;Ag</title>\n",
       "<path fill=\"none\" stroke=\"black\" d=\"M89.81,-274.37C70.86,-270.24 46.47,-261.48 34,-243 29.54,-236.39 28.15,-228.1 28.2,-220.17\"/>\n",
       "<polygon fill=\"black\" stroke=\"black\" points=\"31.7,-220.38 28.96,-210.14 24.72,-219.85 31.7,-220.38\"/>\n",
       "<text text-anchor=\"middle\" x=\"105.5\" y=\"-231.8\" font-family=\"Times,serif\" font-size=\"14.00\">&lt;=&#45;0.8917699266694037</text>\n",
       "</g>\n",
       "<!-- Ad -->\n",
       "<g id=\"node3\" class=\"node\">\n",
       "<title>Ad</title>\n",
       "<ellipse fill=\"none\" stroke=\"black\" cx=\"199\" cy=\"-192\" rx=\"27\" ry=\"18\"/>\n",
       "<text text-anchor=\"middle\" x=\"199\" y=\"-188.3\" font-family=\"Times,serif\" font-size=\"14.00\">1</text>\n",
       "</g>\n",
       "<!-- A&#45;&gt;Ad -->\n",
       "<g id=\"edge6\" class=\"edge\">\n",
       "<title>A&#45;&gt;Ad</title>\n",
       "<path fill=\"none\" stroke=\"black\" d=\"M138.96,-269.08C151.54,-263.24 166.63,-254.53 177,-243 183.04,-236.28 187.63,-227.64 191.02,-219.43\"/>\n",
       "<polygon fill=\"black\" stroke=\"black\" points=\"194.39,-220.4 194.56,-209.8 187.82,-217.98 194.39,-220.4\"/>\n",
       "<text text-anchor=\"middle\" x=\"254\" y=\"-231.8\" font-family=\"Times,serif\" font-size=\"14.00\">&gt;&#45;0.8917699266694037</text>\n",
       "</g>\n",
       "<!-- Adg -->\n",
       "<g id=\"node4\" class=\"node\">\n",
       "<title>Adg</title>\n",
       "<ellipse fill=\"none\" stroke=\"black\" cx=\"115\" cy=\"-105\" rx=\"27\" ry=\"18\"/>\n",
       "<text text-anchor=\"middle\" x=\"115\" y=\"-101.3\" font-family=\"Times,serif\" font-size=\"14.00\">0</text>\n",
       "</g>\n",
       "<!-- Ad&#45;&gt;Adg -->\n",
       "<g id=\"edge3\" class=\"edge\">\n",
       "<title>Ad&#45;&gt;Adg</title>\n",
       "<path fill=\"none\" stroke=\"black\" d=\"M172.5,-187.47C153.32,-183.38 128.64,-174.64 116,-156 111.53,-149.4 110.13,-141.11 110.19,-133.19\"/>\n",
       "<polygon fill=\"black\" stroke=\"black\" points=\"113.68,-133.39 110.95,-123.15 106.7,-132.86 113.68,-133.39\"/>\n",
       "<text text-anchor=\"middle\" x=\"189\" y=\"-144.8\" font-family=\"Times,serif\" font-size=\"14.00\">&lt;=0.45594266056909033</text>\n",
       "</g>\n",
       "<!-- Add -->\n",
       "<g id=\"node7\" class=\"node\">\n",
       "<title>Add</title>\n",
       "<polygon fill=\"none\" stroke=\"black\" points=\"311,-123 257,-123 257,-87 311,-87 311,-123\"/>\n",
       "<text text-anchor=\"middle\" x=\"284\" y=\"-101.3\" font-family=\"Times,serif\" font-size=\"14.00\">1</text>\n",
       "</g>\n",
       "<!-- Ad&#45;&gt;Add -->\n",
       "<g id=\"edge4\" class=\"edge\">\n",
       "<title>Ad&#45;&gt;Add</title>\n",
       "<path fill=\"none\" stroke=\"black\" d=\"M222.1,-182.51C235.22,-176.72 251.13,-167.93 262,-156 268,-149.42 272.55,-140.95 275.92,-132.85\"/>\n",
       "<polygon fill=\"black\" stroke=\"black\" points=\"279.26,-133.91 279.45,-123.32 272.69,-131.48 279.26,-133.91\"/>\n",
       "<text text-anchor=\"middle\" x=\"340\" y=\"-144.8\" font-family=\"Times,serif\" font-size=\"14.00\">&gt;0.45594266056909033</text>\n",
       "</g>\n",
       "<!-- Adgg -->\n",
       "<g id=\"node5\" class=\"node\">\n",
       "<title>Adgg</title>\n",
       "<polygon fill=\"none\" stroke=\"black\" points=\"54,-36 0,-36 0,0 54,0 54,-36\"/>\n",
       "<text text-anchor=\"middle\" x=\"27\" y=\"-14.3\" font-family=\"Times,serif\" font-size=\"14.00\">1</text>\n",
       "</g>\n",
       "<!-- Adg&#45;&gt;Adgg -->\n",
       "<g id=\"edge1\" class=\"edge\">\n",
       "<title>Adg&#45;&gt;Adgg</title>\n",
       "<path fill=\"none\" stroke=\"black\" d=\"M88.51,-101.08C68.26,-97.31 41.6,-88.7 28,-69 23.47,-62.44 22.06,-54.16 22.12,-46.23\"/>\n",
       "<polygon fill=\"black\" stroke=\"black\" points=\"25.61,-46.43 22.89,-36.19 18.63,-45.89 25.61,-46.43\"/>\n",
       "<text text-anchor=\"middle\" x=\"104.5\" y=\"-57.8\" font-family=\"Times,serif\" font-size=\"14.00\">&lt;=0.008858765761770804</text>\n",
       "</g>\n",
       "<!-- Adgd -->\n",
       "<g id=\"node6\" class=\"node\">\n",
       "<title>Adgd</title>\n",
       "<polygon fill=\"none\" stroke=\"black\" points=\"230,-36 176,-36 176,0 230,0 230,-36\"/>\n",
       "<text text-anchor=\"middle\" x=\"203\" y=\"-14.3\" font-family=\"Times,serif\" font-size=\"14.00\">&#45;1</text>\n",
       "</g>\n",
       "<!-- Adg&#45;&gt;Adgd -->\n",
       "<g id=\"edge2\" class=\"edge\">\n",
       "<title>Adg&#45;&gt;Adgd</title>\n",
       "<path fill=\"none\" stroke=\"black\" d=\"M138.57,-96.02C152.42,-90.32 169.43,-81.44 181,-69 187.06,-62.48 191.63,-54.02 194.99,-45.92\"/>\n",
       "<polygon fill=\"black\" stroke=\"black\" points=\"198.34,-46.97 198.51,-36.37 191.77,-44.55 198.34,-46.97\"/>\n",
       "<text text-anchor=\"middle\" x=\"263.5\" y=\"-57.8\" font-family=\"Times,serif\" font-size=\"14.00\">&gt;0.008858765761770804</text>\n",
       "</g>\n",
       "</g>\n",
       "</svg>\n"
      ],
      "text/plain": [
       "<graphviz.dot.Digraph at 0x119c30208>"
      ]
     },
     "execution_count": 27,
     "metadata": {},
     "output_type": "execute_result"
    }
   ],
   "source": [
    "#test de l'affichage \n",
    "abin = construit_AD(the_set,0.0)\n",
    "gtree = gv.Digraph(format='png')\n",
    "abin.to_graph(gtree)"
   ]
  },
  {
   "cell_type": "markdown",
   "metadata": {},
   "source": [
    "### Classification avec arbre de décision\n"
   ]
  },
  {
   "cell_type": "markdown",
   "metadata": {},
   "source": [
    "Pour classer un nouvel exemple avec un arbre de décision, il faut parcourir l'arbre, de la racine vers une feuille en respectant les tests rencontrés dans chaque arc. Une fois atteint une feuille, la classe de l'exemple est celle présente dans la feuille.\n",
    "\n",
    "La classe ArbreBinaire contient déjà une fonction <code>classifie</code> qui permet de classer un nouvel exemple et de renvoyer la classe +1 ou -1 selon le cas."
   ]
  },
  {
   "cell_type": "markdown",
   "metadata": {},
   "source": [
    "### Implémentation"
   ]
  },
  {
   "cell_type": "markdown",
   "metadata": {},
   "source": [
    "On définit le classifieur <code>ArbreDecision</code> comme suit.\n",
    "\n",
    "Si toutes les fonctions précédentes ont été écrites correctement, il est maintenant possible de construire un arbre de décision à partir de la base jouet.\n"
   ]
  },
  {
   "cell_type": "markdown",
   "metadata": {},
   "source": [
    "## Applications à des données réelles"
   ]
  },
  {
   "cell_type": "code",
   "execution_count": 28,
   "metadata": {},
   "outputs": [],
   "source": [
    "class ArbreDecision(cl.Classifier):\n",
    "    # Constructeur\n",
    "    def __init__(self,epsilon):\n",
    "        # valeur seuil d'entropie pour arrêter la construction\n",
    "        self.epsilon= epsilon\n",
    "        self.racine = None\n",
    "    \n",
    "    # Permet de calculer la prediction sur x => renvoie un score\n",
    "    def predict(self,x):\n",
    "        # classification de l'exemple x avec l'arbre de décision\n",
    "        # on rend 0 (classe -1) ou 1 (classe 1)\n",
    "        classe = self.racine.classifie(x)\n",
    "        if (classe == 1):\n",
    "            return(1)\n",
    "        else:\n",
    "            return(-1)\n",
    "    \n",
    "    # Permet d'entrainer le modele sur un ensemble de données\n",
    "    def train(self,set):\n",
    "        # construction de l'arbre de décision \n",
    "        self.set=set\n",
    "        self.racine = construit_AD(set,self.epsilon)\n",
    "\n",
    "    # Permet d'afficher l'arbre\n",
    "    def plot(self):\n",
    "        gtree = gv.Digraph(format='png')\n",
    "        return self.racine.to_graph(gtree)\n",
    "        "
   ]
  },
  {
   "cell_type": "code",
   "execution_count": 29,
   "metadata": {},
   "outputs": [
    {
     "data": {
      "image/png": "[encoded data removed]",
      "text/plain": [
       "<Figure size 432x288 with 1 Axes>"
      ]
     },
     "metadata": {},
     "output_type": "display_data"
    }
   ],
   "source": [
    "# un exemple d'utilisation:\n",
    "ad=ArbreDecision(0.0)          # initialiation d'un arbre binaire qui utilisera epsilon= 0.0\n",
    "ad.train(the_set)              # construction de l'arbre à partir de la base jouet\n",
    "ut.plot_frontiere(the_set,ad,20)  # tracé graphique de la frontière de décision\n",
    "ut.plot2DSet(the_set) "
   ]
  },
  {
   "cell_type": "code",
   "execution_count": 30,
   "metadata": {},
   "outputs": [
    {
     "data": {
      "image/svg+xml": [
       "<?xml version=\"1.0\" encoding=\"UTF-8\" standalone=\"no\"?>\n",
       "<!DOCTYPE svg PUBLIC \"-//W3C//DTD SVG 1.1//EN\"\n",
       " \"http://www.w3.org/Graphics/SVG/1.1/DTD/svg11.dtd\">\n",
       "<!-- Generated by graphviz version 2.41.20171026.1811 (20171026.1811)\n",
       " -->\n",
       "<!-- Title: %3 Pages: 1 -->\n",
       "<svg width=\"417pt\" height=\"305pt\"\n",
       " viewBox=\"0.00 0.00 417.00 305.00\" xmlns=\"http://www.w3.org/2000/svg\" xmlns:xlink=\"http://www.w3.org/1999/xlink\">\n",
       "<g id=\"graph0\" class=\"graph\" transform=\"scale(1 1) rotate(0) translate(4 301)\">\n",
       "<title>%3</title>\n",
       "<polygon fill=\"white\" stroke=\"transparent\" points=\"-4,4 -4,-301 413,-301 413,4 -4,4\"/>\n",
       "<!-- A -->\n",
       "<g id=\"node1\" class=\"node\">\n",
       "<title>A</title>\n",
       "<ellipse fill=\"none\" stroke=\"black\" cx=\"116\" cy=\"-279\" rx=\"27\" ry=\"18\"/>\n",
       "<text text-anchor=\"middle\" x=\"116\" y=\"-275.3\" font-family=\"Times,serif\" font-size=\"14.00\">0</text>\n",
       "</g>\n",
       "<!-- Ag -->\n",
       "<g id=\"node2\" class=\"node\">\n",
       "<title>Ag</title>\n",
       "<polygon fill=\"none\" stroke=\"black\" points=\"60,-210 6,-210 6,-174 60,-174 60,-210\"/>\n",
       "<text text-anchor=\"middle\" x=\"33\" y=\"-188.3\" font-family=\"Times,serif\" font-size=\"14.00\">&#45;1</text>\n",
       "</g>\n",
       "<!-- A&#45;&gt;Ag -->\n",
       "<g id=\"edge5\" class=\"edge\">\n",
       "<title>A&#45;&gt;Ag</title>\n",
       "<path fill=\"none\" stroke=\"black\" d=\"M89.81,-274.37C70.86,-270.24 46.47,-261.48 34,-243 29.54,-236.39 28.15,-228.1 28.2,-220.17\"/>\n",
       "<polygon fill=\"black\" stroke=\"black\" points=\"31.7,-220.38 28.96,-210.14 24.72,-219.85 31.7,-220.38\"/>\n",
       "<text text-anchor=\"middle\" x=\"105.5\" y=\"-231.8\" font-family=\"Times,serif\" font-size=\"14.00\">&lt;=&#45;0.8917699266694037</text>\n",
       "</g>\n",
       "<!-- Ad -->\n",
       "<g id=\"node3\" class=\"node\">\n",
       "<title>Ad</title>\n",
       "<ellipse fill=\"none\" stroke=\"black\" cx=\"199\" cy=\"-192\" rx=\"27\" ry=\"18\"/>\n",
       "<text text-anchor=\"middle\" x=\"199\" y=\"-188.3\" font-family=\"Times,serif\" font-size=\"14.00\">1</text>\n",
       "</g>\n",
       "<!-- A&#45;&gt;Ad -->\n",
       "<g id=\"edge6\" class=\"edge\">\n",
       "<title>A&#45;&gt;Ad</title>\n",
       "<path fill=\"none\" stroke=\"black\" d=\"M138.96,-269.08C151.54,-263.24 166.63,-254.53 177,-243 183.04,-236.28 187.63,-227.64 191.02,-219.43\"/>\n",
       "<polygon fill=\"black\" stroke=\"black\" points=\"194.39,-220.4 194.56,-209.8 187.82,-217.98 194.39,-220.4\"/>\n",
       "<text text-anchor=\"middle\" x=\"254\" y=\"-231.8\" font-family=\"Times,serif\" font-size=\"14.00\">&gt;&#45;0.8917699266694037</text>\n",
       "</g>\n",
       "<!-- Adg -->\n",
       "<g id=\"node4\" class=\"node\">\n",
       "<title>Adg</title>\n",
       "<ellipse fill=\"none\" stroke=\"black\" cx=\"115\" cy=\"-105\" rx=\"27\" ry=\"18\"/>\n",
       "<text text-anchor=\"middle\" x=\"115\" y=\"-101.3\" font-family=\"Times,serif\" font-size=\"14.00\">0</text>\n",
       "</g>\n",
       "<!-- Ad&#45;&gt;Adg -->\n",
       "<g id=\"edge3\" class=\"edge\">\n",
       "<title>Ad&#45;&gt;Adg</title>\n",
       "<path fill=\"none\" stroke=\"black\" d=\"M172.5,-187.47C153.32,-183.38 128.64,-174.64 116,-156 111.53,-149.4 110.13,-141.11 110.19,-133.19\"/>\n",
       "<polygon fill=\"black\" stroke=\"black\" points=\"113.68,-133.39 110.95,-123.15 106.7,-132.86 113.68,-133.39\"/>\n",
       "<text text-anchor=\"middle\" x=\"189\" y=\"-144.8\" font-family=\"Times,serif\" font-size=\"14.00\">&lt;=0.45594266056909033</text>\n",
       "</g>\n",
       "<!-- Add -->\n",
       "<g id=\"node7\" class=\"node\">\n",
       "<title>Add</title>\n",
       "<polygon fill=\"none\" stroke=\"black\" points=\"311,-123 257,-123 257,-87 311,-87 311,-123\"/>\n",
       "<text text-anchor=\"middle\" x=\"284\" y=\"-101.3\" font-family=\"Times,serif\" font-size=\"14.00\">1</text>\n",
       "</g>\n",
       "<!-- Ad&#45;&gt;Add -->\n",
       "<g id=\"edge4\" class=\"edge\">\n",
       "<title>Ad&#45;&gt;Add</title>\n",
       "<path fill=\"none\" stroke=\"black\" d=\"M222.1,-182.51C235.22,-176.72 251.13,-167.93 262,-156 268,-149.42 272.55,-140.95 275.92,-132.85\"/>\n",
       "<polygon fill=\"black\" stroke=\"black\" points=\"279.26,-133.91 279.45,-123.32 272.69,-131.48 279.26,-133.91\"/>\n",
       "<text text-anchor=\"middle\" x=\"340\" y=\"-144.8\" font-family=\"Times,serif\" font-size=\"14.00\">&gt;0.45594266056909033</text>\n",
       "</g>\n",
       "<!-- Adgg -->\n",
       "<g id=\"node5\" class=\"node\">\n",
       "<title>Adgg</title>\n",
       "<polygon fill=\"none\" stroke=\"black\" points=\"54,-36 0,-36 0,0 54,0 54,-36\"/>\n",
       "<text text-anchor=\"middle\" x=\"27\" y=\"-14.3\" font-family=\"Times,serif\" font-size=\"14.00\">1</text>\n",
       "</g>\n",
       "<!-- Adg&#45;&gt;Adgg -->\n",
       "<g id=\"edge1\" class=\"edge\">\n",
       "<title>Adg&#45;&gt;Adgg</title>\n",
       "<path fill=\"none\" stroke=\"black\" d=\"M88.51,-101.08C68.26,-97.31 41.6,-88.7 28,-69 23.47,-62.44 22.06,-54.16 22.12,-46.23\"/>\n",
       "<polygon fill=\"black\" stroke=\"black\" points=\"25.61,-46.43 22.89,-36.19 18.63,-45.89 25.61,-46.43\"/>\n",
       "<text text-anchor=\"middle\" x=\"104.5\" y=\"-57.8\" font-family=\"Times,serif\" font-size=\"14.00\">&lt;=0.008858765761770804</text>\n",
       "</g>\n",
       "<!-- Adgd -->\n",
       "<g id=\"node6\" class=\"node\">\n",
       "<title>Adgd</title>\n",
       "<polygon fill=\"none\" stroke=\"black\" points=\"230,-36 176,-36 176,0 230,0 230,-36\"/>\n",
       "<text text-anchor=\"middle\" x=\"203\" y=\"-14.3\" font-family=\"Times,serif\" font-size=\"14.00\">&#45;1</text>\n",
       "</g>\n",
       "<!-- Adg&#45;&gt;Adgd -->\n",
       "<g id=\"edge2\" class=\"edge\">\n",
       "<title>Adg&#45;&gt;Adgd</title>\n",
       "<path fill=\"none\" stroke=\"black\" d=\"M138.57,-96.02C152.42,-90.32 169.43,-81.44 181,-69 187.06,-62.48 191.63,-54.02 194.99,-45.92\"/>\n",
       "<polygon fill=\"black\" stroke=\"black\" points=\"198.34,-46.97 198.51,-36.37 191.77,-44.55 198.34,-46.97\"/>\n",
       "<text text-anchor=\"middle\" x=\"263.5\" y=\"-57.8\" font-family=\"Times,serif\" font-size=\"14.00\">&gt;0.008858765761770804</text>\n",
       "</g>\n",
       "</g>\n",
       "</svg>\n"
      ],
      "text/plain": [
       "<graphviz.dot.Digraph at 0x119df87b8>"
      ]
     },
     "execution_count": 30,
     "metadata": {},
     "output_type": "execute_result"
    }
   ],
   "source": [
    "ad.plot()"
   ]
  },
  {
   "cell_type": "markdown",
   "metadata": {},
   "source": [
    "<font color=\"RED\" size=\"+1\">**[Q]**</font> Appliquer l'algorithme des arbres de décision à des données réelles (par exemple, celles utilisées avec les k-nn) et comparer les résultats obtenus par les 2 algorithmes.\n",
    "\n",
    "Un autre exemple d'utilisation sur une base plus grande:"
   ]
  },
  {
   "cell_type": "code",
   "execution_count": 31,
   "metadata": {
    "scrolled": true
   },
   "outputs": [
    {
     "name": "stdout",
     "output_type": "stream",
     "text": [
      "Taille de la base générée : 200 exemples\n"
     ]
    },
    {
     "data": {
      "image/png": "[encoded data removed]",
      "text/plain": [
       "<Figure size 432x288 with 1 Axes>"
      ]
     },
     "metadata": {},
     "output_type": "display_data"
    }
   ],
   "source": [
    "autre_set=ut.createGaussianDataset(np.array([1,1]),np.array([[1,0],[0,1]]),np.array([-1,-1]),np.array([[1,0],[0,1]]),100)\n",
    "print(\"Taille de la base générée :\", autre_set.size(), \"exemples\")\n",
    "adautre=ArbreDecision(0.0)          \n",
    "adautre.train(autre_set)            \n",
    "ut.plot_frontiere(autre_set,adautre,20)\n",
    "ut.plot2DSet(autre_set) "
   ]
  },
  {
   "cell_type": "code",
   "execution_count": 32,
   "metadata": {},
   "outputs": [
    {
     "data": {
      "image/svg+xml": [
       "<?xml version=\"1.0\" encoding=\"UTF-8\" standalone=\"no\"?>\n",
       "<!DOCTYPE svg PUBLIC \"-//W3C//DTD SVG 1.1//EN\"\n",
       " \"http://www.w3.org/Graphics/SVG/1.1/DTD/svg11.dtd\">\n",
       "<!-- Generated by graphviz version 2.41.20171026.1811 (20171026.1811)\n",
       " -->\n",
       "<!-- Title: %3 Pages: 1 -->\n",
       "<svg width=\"1652pt\" height=\"1088pt\"\n",
       " viewBox=\"0.00 0.00 1652.00 1088.00\" xmlns=\"http://www.w3.org/2000/svg\" xmlns:xlink=\"http://www.w3.org/1999/xlink\">\n",
       "<g id=\"graph0\" class=\"graph\" transform=\"scale(1 1) rotate(0) translate(4 1084)\">\n",
       "<title>%3</title>\n",
       "<polygon fill=\"white\" stroke=\"transparent\" points=\"-4,4 -4,-1084 1648,-1084 1648,4 -4,4\"/>\n",
       "<!-- A -->\n",
       "<g id=\"node1\" class=\"node\">\n",
       "<title>A</title>\n",
       "<ellipse fill=\"none\" stroke=\"black\" cx=\"601\" cy=\"-1062\" rx=\"27\" ry=\"18\"/>\n",
       "<text text-anchor=\"middle\" x=\"601\" y=\"-1058.3\" font-family=\"Times,serif\" font-size=\"14.00\">0</text>\n",
       "</g>\n",
       "<!-- Ag -->\n",
       "<g id=\"node2\" class=\"node\">\n",
       "<title>Ag</title>\n",
       "<ellipse fill=\"none\" stroke=\"black\" cx=\"481\" cy=\"-975\" rx=\"27\" ry=\"18\"/>\n",
       "<text text-anchor=\"middle\" x=\"481\" y=\"-971.3\" font-family=\"Times,serif\" font-size=\"14.00\">1</text>\n",
       "</g>\n",
       "<!-- A&#45;&gt;Ag -->\n",
       "<g id=\"edge51\" class=\"edge\">\n",
       "<title>A&#45;&gt;Ag</title>\n",
       "<path fill=\"none\" stroke=\"black\" d=\"M583.03,-1048.27C562.98,-1034.07 530.32,-1010.93 507.36,-994.67\"/>\n",
       "<polygon fill=\"black\" stroke=\"black\" points=\"509.27,-991.74 499.09,-988.81 505.23,-997.45 509.27,-991.74\"/>\n",
       "<text text-anchor=\"middle\" x=\"624\" y=\"-1014.8\" font-family=\"Times,serif\" font-size=\"14.00\">&lt;=&#45;0.11450971853991587</text>\n",
       "</g>\n",
       "<!-- Ad -->\n",
       "<g id=\"node19\" class=\"node\">\n",
       "<title>Ad</title>\n",
       "<ellipse fill=\"none\" stroke=\"black\" cx=\"874\" cy=\"-975\" rx=\"27\" ry=\"18\"/>\n",
       "<text text-anchor=\"middle\" x=\"874\" y=\"-971.3\" font-family=\"Times,serif\" font-size=\"14.00\">1</text>\n",
       "</g>\n",
       "<!-- A&#45;&gt;Ad -->\n",
       "<g id=\"edge52\" class=\"edge\">\n",
       "<title>A&#45;&gt;Ad</title>\n",
       "<path fill=\"none\" stroke=\"black\" d=\"M625.23,-1053.46C674,-1038.27 784.12,-1003.98 840.04,-986.57\"/>\n",
       "<polygon fill=\"black\" stroke=\"black\" points=\"841.32,-989.84 849.83,-983.53 839.24,-983.16 841.32,-989.84\"/>\n",
       "<text text-anchor=\"middle\" x=\"825.5\" y=\"-1014.8\" font-family=\"Times,serif\" font-size=\"14.00\">&gt;&#45;0.11450971853991587</text>\n",
       "</g>\n",
       "<!-- Agg -->\n",
       "<g id=\"node3\" class=\"node\">\n",
       "<title>Agg</title>\n",
       "<ellipse fill=\"none\" stroke=\"black\" cx=\"197\" cy=\"-888\" rx=\"27\" ry=\"18\"/>\n",
       "<text text-anchor=\"middle\" x=\"197\" y=\"-884.3\" font-family=\"Times,serif\" font-size=\"14.00\">0</text>\n",
       "</g>\n",
       "<!-- Ag&#45;&gt;Agg -->\n",
       "<g id=\"edge15\" class=\"edge\">\n",
       "<title>Ag&#45;&gt;Agg</title>\n",
       "<path fill=\"none\" stroke=\"black\" d=\"M455.74,-968.63C427,-962.33 378.77,-951.19 338,-939 300.16,-927.69 257.52,-912.17 229.14,-901.44\"/>\n",
       "<polygon fill=\"black\" stroke=\"black\" points=\"230.31,-898.14 219.72,-897.86 227.82,-904.68 230.31,-898.14\"/>\n",
       "<text text-anchor=\"middle\" x=\"407.5\" y=\"-927.8\" font-family=\"Times,serif\" font-size=\"14.00\">&lt;=0.5188953866060789</text>\n",
       "</g>\n",
       "<!-- Agd -->\n",
       "<g id=\"node12\" class=\"node\">\n",
       "<title>Agd</title>\n",
       "<ellipse fill=\"none\" stroke=\"black\" cx=\"481\" cy=\"-888\" rx=\"27\" ry=\"18\"/>\n",
       "<text text-anchor=\"middle\" x=\"481\" y=\"-884.3\" font-family=\"Times,serif\" font-size=\"14.00\">0</text>\n",
       "</g>\n",
       "<!-- Ag&#45;&gt;Agd -->\n",
       "<g id=\"edge16\" class=\"edge\">\n",
       "<title>Ag&#45;&gt;Agd</title>\n",
       "<path fill=\"none\" stroke=\"black\" d=\"M481,-956.8C481,-945.16 481,-929.55 481,-916.24\"/>\n",
       "<polygon fill=\"black\" stroke=\"black\" points=\"484.5,-916.18 481,-906.18 477.5,-916.18 484.5,-916.18\"/>\n",
       "<text text-anchor=\"middle\" x=\"546.5\" y=\"-927.8\" font-family=\"Times,serif\" font-size=\"14.00\">&gt;0.5188953866060789</text>\n",
       "</g>\n",
       "<!-- Aggg -->\n",
       "<g id=\"node4\" class=\"node\">\n",
       "<title>Aggg</title>\n",
       "<polygon fill=\"none\" stroke=\"black\" points=\"58,-819 4,-819 4,-783 58,-783 58,-819\"/>\n",
       "<text text-anchor=\"middle\" x=\"31\" y=\"-797.3\" font-family=\"Times,serif\" font-size=\"14.00\">&#45;1</text>\n",
       "</g>\n",
       "<!-- Agg&#45;&gt;Aggg -->\n",
       "<g id=\"edge7\" class=\"edge\">\n",
       "<title>Agg&#45;&gt;Aggg</title>\n",
       "<path fill=\"none\" stroke=\"black\" d=\"M169.72,-887.77C137.34,-887.21 83.51,-881.43 50,-852 43.18,-846.01 38.8,-837.3 35.99,-828.83\"/>\n",
       "<polygon fill=\"black\" stroke=\"black\" points=\"39.36,-827.9 33.36,-819.17 32.61,-829.73 39.36,-827.9\"/>\n",
       "<text text-anchor=\"middle\" x=\"121.5\" y=\"-840.8\" font-family=\"Times,serif\" font-size=\"14.00\">&lt;=&#45;0.5434627470894711</text>\n",
       "</g>\n",
       "<!-- Aggd -->\n",
       "<g id=\"node5\" class=\"node\">\n",
       "<title>Aggd</title>\n",
       "<ellipse fill=\"none\" stroke=\"black\" cx=\"197\" cy=\"-801\" rx=\"27\" ry=\"18\"/>\n",
       "<text text-anchor=\"middle\" x=\"197\" y=\"-797.3\" font-family=\"Times,serif\" font-size=\"14.00\">0</text>\n",
       "</g>\n",
       "<!-- Agg&#45;&gt;Aggd -->\n",
       "<g id=\"edge8\" class=\"edge\">\n",
       "<title>Agg&#45;&gt;Aggd</title>\n",
       "<path fill=\"none\" stroke=\"black\" d=\"M197,-869.8C197,-858.16 197,-842.55 197,-829.24\"/>\n",
       "<polygon fill=\"black\" stroke=\"black\" points=\"200.5,-829.18 197,-819.18 193.5,-829.18 200.5,-829.18\"/>\n",
       "<text text-anchor=\"middle\" x=\"265\" y=\"-840.8\" font-family=\"Times,serif\" font-size=\"14.00\">&gt;&#45;0.5434627470894711</text>\n",
       "</g>\n",
       "<!-- Aggdg -->\n",
       "<g id=\"node6\" class=\"node\">\n",
       "<title>Aggdg</title>\n",
       "<polygon fill=\"none\" stroke=\"black\" points=\"58,-732 4,-732 4,-696 58,-696 58,-732\"/>\n",
       "<text text-anchor=\"middle\" x=\"31\" y=\"-710.3\" font-family=\"Times,serif\" font-size=\"14.00\">1</text>\n",
       "</g>\n",
       "<!-- Aggd&#45;&gt;Aggdg -->\n",
       "<g id=\"edge5\" class=\"edge\">\n",
       "<title>Aggd&#45;&gt;Aggdg</title>\n",
       "<path fill=\"none\" stroke=\"black\" d=\"M169.72,-800.77C137.34,-800.21 83.51,-794.43 50,-765 43.18,-759.01 38.8,-750.3 35.99,-741.83\"/>\n",
       "<polygon fill=\"black\" stroke=\"black\" points=\"39.36,-740.9 33.36,-732.17 32.61,-742.73 39.36,-740.9\"/>\n",
       "<text text-anchor=\"middle\" x=\"121.5\" y=\"-753.8\" font-family=\"Times,serif\" font-size=\"14.00\">&lt;=&#45;0.5374565568665287</text>\n",
       "</g>\n",
       "<!-- Aggdd -->\n",
       "<g id=\"node7\" class=\"node\">\n",
       "<title>Aggdd</title>\n",
       "<ellipse fill=\"none\" stroke=\"black\" cx=\"196\" cy=\"-714\" rx=\"27\" ry=\"18\"/>\n",
       "<text text-anchor=\"middle\" x=\"196\" y=\"-710.3\" font-family=\"Times,serif\" font-size=\"14.00\">1</text>\n",
       "</g>\n",
       "<!-- Aggd&#45;&gt;Aggdd -->\n",
       "<g id=\"edge6\" class=\"edge\">\n",
       "<title>Aggd&#45;&gt;Aggdd</title>\n",
       "<path fill=\"none\" stroke=\"black\" d=\"M196.8,-782.8C196.66,-771.16 196.48,-755.55 196.32,-742.24\"/>\n",
       "<polygon fill=\"black\" stroke=\"black\" points=\"199.82,-742.13 196.2,-732.18 192.82,-742.22 199.82,-742.13\"/>\n",
       "<text text-anchor=\"middle\" x=\"265\" y=\"-753.8\" font-family=\"Times,serif\" font-size=\"14.00\">&gt;&#45;0.5374565568665287</text>\n",
       "</g>\n",
       "<!-- Aggddg -->\n",
       "<g id=\"node8\" class=\"node\">\n",
       "<title>Aggddg</title>\n",
       "<polygon fill=\"none\" stroke=\"black\" points=\"54,-645 0,-645 0,-609 54,-609 54,-645\"/>\n",
       "<text text-anchor=\"middle\" x=\"27\" y=\"-623.3\" font-family=\"Times,serif\" font-size=\"14.00\">&#45;1</text>\n",
       "</g>\n",
       "<!-- Aggdd&#45;&gt;Aggddg -->\n",
       "<g id=\"edge3\" class=\"edge\">\n",
       "<title>Aggdd&#45;&gt;Aggddg</title>\n",
       "<path fill=\"none\" stroke=\"black\" d=\"M168.76,-713.94C135.79,-713.6 80.43,-708.1 46,-678 39.17,-672.03 34.78,-663.32 31.97,-654.85\"/>\n",
       "<polygon fill=\"black\" stroke=\"black\" points=\"35.34,-653.91 29.34,-645.18 28.59,-655.75 35.34,-653.91\"/>\n",
       "<text text-anchor=\"middle\" x=\"119\" y=\"-666.8\" font-family=\"Times,serif\" font-size=\"14.00\">&lt;=0.18979452624238802</text>\n",
       "</g>\n",
       "<!-- Aggddd -->\n",
       "<g id=\"node9\" class=\"node\">\n",
       "<title>Aggddd</title>\n",
       "<ellipse fill=\"none\" stroke=\"black\" cx=\"196\" cy=\"-627\" rx=\"27\" ry=\"18\"/>\n",
       "<text text-anchor=\"middle\" x=\"196\" y=\"-623.3\" font-family=\"Times,serif\" font-size=\"14.00\">1</text>\n",
       "</g>\n",
       "<!-- Aggdd&#45;&gt;Aggddd -->\n",
       "<g id=\"edge4\" class=\"edge\">\n",
       "<title>Aggdd&#45;&gt;Aggddd</title>\n",
       "<path fill=\"none\" stroke=\"black\" d=\"M196,-695.8C196,-684.16 196,-668.55 196,-655.24\"/>\n",
       "<polygon fill=\"black\" stroke=\"black\" points=\"199.5,-655.18 196,-645.18 192.5,-655.18 199.5,-655.18\"/>\n",
       "<text text-anchor=\"middle\" x=\"265\" y=\"-666.8\" font-family=\"Times,serif\" font-size=\"14.00\">&gt;0.18979452624238802</text>\n",
       "</g>\n",
       "<!-- Aggdddg -->\n",
       "<g id=\"node10\" class=\"node\">\n",
       "<title>Aggdddg</title>\n",
       "<polygon fill=\"none\" stroke=\"black\" points=\"139,-558 85,-558 85,-522 139,-522 139,-558\"/>\n",
       "<text text-anchor=\"middle\" x=\"112\" y=\"-536.3\" font-family=\"Times,serif\" font-size=\"14.00\">1</text>\n",
       "</g>\n",
       "<!-- Aggddd&#45;&gt;Aggdddg -->\n",
       "<g id=\"edge1\" class=\"edge\">\n",
       "<title>Aggddd&#45;&gt;Aggdddg</title>\n",
       "<path fill=\"none\" stroke=\"black\" d=\"M169.5,-622.47C150.32,-618.38 125.64,-609.64 113,-591 108.53,-584.4 107.13,-576.11 107.19,-568.19\"/>\n",
       "<polygon fill=\"black\" stroke=\"black\" points=\"110.68,-568.39 107.95,-558.15 103.7,-567.86 110.68,-568.39\"/>\n",
       "<text text-anchor=\"middle\" x=\"186\" y=\"-579.8\" font-family=\"Times,serif\" font-size=\"14.00\">&lt;=0.28517164899391867</text>\n",
       "</g>\n",
       "<!-- Aggdddd -->\n",
       "<g id=\"node11\" class=\"node\">\n",
       "<title>Aggdddd</title>\n",
       "<polygon fill=\"none\" stroke=\"black\" points=\"308,-558 254,-558 254,-522 308,-522 308,-558\"/>\n",
       "<text text-anchor=\"middle\" x=\"281\" y=\"-536.3\" font-family=\"Times,serif\" font-size=\"14.00\">&#45;1</text>\n",
       "</g>\n",
       "<!-- Aggddd&#45;&gt;Aggdddd -->\n",
       "<g id=\"edge2\" class=\"edge\">\n",
       "<title>Aggddd&#45;&gt;Aggdddd</title>\n",
       "<path fill=\"none\" stroke=\"black\" d=\"M219.1,-617.51C232.22,-611.72 248.13,-602.93 259,-591 265,-584.42 269.55,-575.95 272.92,-567.85\"/>\n",
       "<polygon fill=\"black\" stroke=\"black\" points=\"276.26,-568.91 276.45,-558.32 269.69,-566.48 276.26,-568.91\"/>\n",
       "<text text-anchor=\"middle\" x=\"338\" y=\"-579.8\" font-family=\"Times,serif\" font-size=\"14.00\">&gt;0.28517164899391867</text>\n",
       "</g>\n",
       "<!-- Agdg -->\n",
       "<g id=\"node13\" class=\"node\">\n",
       "<title>Agdg</title>\n",
       "<polygon fill=\"none\" stroke=\"black\" points=\"383,-819 329,-819 329,-783 383,-783 383,-819\"/>\n",
       "<text text-anchor=\"middle\" x=\"356\" y=\"-797.3\" font-family=\"Times,serif\" font-size=\"14.00\">&#45;1</text>\n",
       "</g>\n",
       "<!-- Agd&#45;&gt;Agdg -->\n",
       "<g id=\"edge13\" class=\"edge\">\n",
       "<title>Agd&#45;&gt;Agdg</title>\n",
       "<path fill=\"none\" stroke=\"black\" d=\"M454.63,-883.56C420.87,-878.56 365.27,-868.07 353,-852 348.16,-845.66 347.17,-837.43 347.9,-829.5\"/>\n",
       "<polygon fill=\"black\" stroke=\"black\" points=\"351.39,-829.86 349.67,-819.41 344.5,-828.65 351.39,-829.86\"/>\n",
       "<text text-anchor=\"middle\" x=\"424.5\" y=\"-840.8\" font-family=\"Times,serif\" font-size=\"14.00\">&lt;=&#45;1.3829045225917467</text>\n",
       "</g>\n",
       "<!-- Agdd -->\n",
       "<g id=\"node14\" class=\"node\">\n",
       "<title>Agdd</title>\n",
       "<ellipse fill=\"none\" stroke=\"black\" cx=\"522\" cy=\"-801\" rx=\"27\" ry=\"18\"/>\n",
       "<text text-anchor=\"middle\" x=\"522\" y=\"-797.3\" font-family=\"Times,serif\" font-size=\"14.00\">0</text>\n",
       "</g>\n",
       "<!-- Agd&#45;&gt;Agdd -->\n",
       "<g id=\"edge14\" class=\"edge\">\n",
       "<title>Agd&#45;&gt;Agdd</title>\n",
       "<path fill=\"none\" stroke=\"black\" d=\"M490.18,-870.76C493.39,-864.91 496.96,-858.21 500,-852 503.76,-844.34 507.59,-835.88 510.99,-828.14\"/>\n",
       "<polygon fill=\"black\" stroke=\"black\" points=\"514.26,-829.39 515.01,-818.83 507.83,-826.62 514.26,-829.39\"/>\n",
       "<text text-anchor=\"middle\" x=\"576\" y=\"-840.8\" font-family=\"Times,serif\" font-size=\"14.00\">&gt;&#45;1.3829045225917467</text>\n",
       "</g>\n",
       "<!-- Agddg -->\n",
       "<g id=\"node15\" class=\"node\">\n",
       "<title>Agddg</title>\n",
       "<ellipse fill=\"none\" stroke=\"black\" cx=\"357\" cy=\"-714\" rx=\"27\" ry=\"18\"/>\n",
       "<text text-anchor=\"middle\" x=\"357\" y=\"-710.3\" font-family=\"Times,serif\" font-size=\"14.00\">0</text>\n",
       "</g>\n",
       "<!-- Agdd&#45;&gt;Agddg -->\n",
       "<g id=\"edge11\" class=\"edge\">\n",
       "<title>Agdd&#45;&gt;Agddg</title>\n",
       "<path fill=\"none\" stroke=\"black\" d=\"M494.92,-800.87C462.48,-800.44 408.35,-794.81 375,-765 368.35,-759.05 364.16,-750.47 361.51,-742.08\"/>\n",
       "<polygon fill=\"black\" stroke=\"black\" points=\"364.84,-740.98 358.99,-732.15 358.06,-742.7 364.84,-740.98\"/>\n",
       "<text text-anchor=\"middle\" x=\"446.5\" y=\"-753.8\" font-family=\"Times,serif\" font-size=\"14.00\">&lt;=&#45;0.6535796438522082</text>\n",
       "</g>\n",
       "<!-- Agddd -->\n",
       "<g id=\"node18\" class=\"node\">\n",
       "<title>Agddd</title>\n",
       "<polygon fill=\"none\" stroke=\"black\" points=\"549,-732 495,-732 495,-696 549,-696 549,-732\"/>\n",
       "<text text-anchor=\"middle\" x=\"522\" y=\"-710.3\" font-family=\"Times,serif\" font-size=\"14.00\">1</text>\n",
       "</g>\n",
       "<!-- Agdd&#45;&gt;Agddd -->\n",
       "<g id=\"edge12\" class=\"edge\">\n",
       "<title>Agdd&#45;&gt;Agddd</title>\n",
       "<path fill=\"none\" stroke=\"black\" d=\"M522,-782.8C522,-771.16 522,-755.55 522,-742.24\"/>\n",
       "<polygon fill=\"black\" stroke=\"black\" points=\"525.5,-742.18 522,-732.18 518.5,-742.18 525.5,-742.18\"/>\n",
       "<text text-anchor=\"middle\" x=\"590\" y=\"-753.8\" font-family=\"Times,serif\" font-size=\"14.00\">&gt;&#45;0.6535796438522082</text>\n",
       "</g>\n",
       "<!-- Agddgg -->\n",
       "<g id=\"node16\" class=\"node\">\n",
       "<title>Agddgg</title>\n",
       "<polygon fill=\"none\" stroke=\"black\" points=\"384,-645 330,-645 330,-609 384,-609 384,-645\"/>\n",
       "<text text-anchor=\"middle\" x=\"357\" y=\"-623.3\" font-family=\"Times,serif\" font-size=\"14.00\">1</text>\n",
       "</g>\n",
       "<!-- Agddg&#45;&gt;Agddgg -->\n",
       "<g id=\"edge9\" class=\"edge\">\n",
       "<title>Agddg&#45;&gt;Agddgg</title>\n",
       "<path fill=\"none\" stroke=\"black\" d=\"M357,-695.8C357,-684.16 357,-668.55 357,-655.24\"/>\n",
       "<polygon fill=\"black\" stroke=\"black\" points=\"360.5,-655.18 357,-645.18 353.5,-655.18 360.5,-655.18\"/>\n",
       "<text text-anchor=\"middle\" x=\"421.5\" y=\"-666.8\" font-family=\"Times,serif\" font-size=\"14.00\">&lt;=&#45;0.91641207060704</text>\n",
       "</g>\n",
       "<!-- Agddgd -->\n",
       "<g id=\"node17\" class=\"node\">\n",
       "<title>Agddgd</title>\n",
       "<polygon fill=\"none\" stroke=\"black\" points=\"536,-645 482,-645 482,-609 536,-609 536,-645\"/>\n",
       "<text text-anchor=\"middle\" x=\"509\" y=\"-623.3\" font-family=\"Times,serif\" font-size=\"14.00\">&#45;1</text>\n",
       "</g>\n",
       "<!-- Agddg&#45;&gt;Agddgd -->\n",
       "<g id=\"edge10\" class=\"edge\">\n",
       "<title>Agddg&#45;&gt;Agddgd</title>\n",
       "<path fill=\"none\" stroke=\"black\" d=\"M384.03,-712.36C412.75,-710.32 457.92,-702.98 487,-678 494.03,-671.96 498.9,-663.24 502.23,-654.77\"/>\n",
       "<polygon fill=\"black\" stroke=\"black\" points=\"505.61,-655.71 505.48,-645.12 498.98,-653.48 505.61,-655.71\"/>\n",
       "<text text-anchor=\"middle\" x=\"559\" y=\"-666.8\" font-family=\"Times,serif\" font-size=\"14.00\">&gt;&#45;0.91641207060704</text>\n",
       "</g>\n",
       "<!-- Adg -->\n",
       "<g id=\"node20\" class=\"node\">\n",
       "<title>Adg</title>\n",
       "<ellipse fill=\"none\" stroke=\"black\" cx=\"874\" cy=\"-888\" rx=\"27\" ry=\"18\"/>\n",
       "<text text-anchor=\"middle\" x=\"874\" y=\"-884.3\" font-family=\"Times,serif\" font-size=\"14.00\">0</text>\n",
       "</g>\n",
       "<!-- Ad&#45;&gt;Adg -->\n",
       "<g id=\"edge49\" class=\"edge\">\n",
       "<title>Ad&#45;&gt;Adg</title>\n",
       "<path fill=\"none\" stroke=\"black\" d=\"M874,-956.8C874,-945.16 874,-929.55 874,-916.24\"/>\n",
       "<polygon fill=\"black\" stroke=\"black\" points=\"877.5,-916.18 874,-906.18 870.5,-916.18 877.5,-916.18\"/>\n",
       "<text text-anchor=\"middle\" x=\"945.5\" y=\"-927.8\" font-family=\"Times,serif\" font-size=\"14.00\">&lt;=&#45;0.7768578375242488</text>\n",
       "</g>\n",
       "<!-- Add -->\n",
       "<g id=\"node29\" class=\"node\">\n",
       "<title>Add</title>\n",
       "<ellipse fill=\"none\" stroke=\"black\" cx=\"1107\" cy=\"-888\" rx=\"27\" ry=\"18\"/>\n",
       "<text text-anchor=\"middle\" x=\"1107\" y=\"-884.3\" font-family=\"Times,serif\" font-size=\"14.00\">0</text>\n",
       "</g>\n",
       "<!-- Ad&#45;&gt;Add -->\n",
       "<g id=\"edge50\" class=\"edge\">\n",
       "<title>Ad&#45;&gt;Add</title>\n",
       "<path fill=\"none\" stroke=\"black\" d=\"M900.2,-970.15C930.16,-965.2 980.32,-955.26 1021,-939 1041.97,-930.62 1063.96,-917.75 1080.46,-907.17\"/>\n",
       "<polygon fill=\"black\" stroke=\"black\" points=\"1082.56,-909.97 1089.01,-901.57 1078.73,-904.12 1082.56,-909.97\"/>\n",
       "<text text-anchor=\"middle\" x=\"1118\" y=\"-927.8\" font-family=\"Times,serif\" font-size=\"14.00\">&gt;&#45;0.7768578375242488</text>\n",
       "</g>\n",
       "<!-- Adgg -->\n",
       "<g id=\"node21\" class=\"node\">\n",
       "<title>Adgg</title>\n",
       "<ellipse fill=\"none\" stroke=\"black\" cx=\"741\" cy=\"-801\" rx=\"27\" ry=\"18\"/>\n",
       "<text text-anchor=\"middle\" x=\"741\" y=\"-797.3\" font-family=\"Times,serif\" font-size=\"14.00\">0</text>\n",
       "</g>\n",
       "<!-- Adg&#45;&gt;Adgg -->\n",
       "<g id=\"edge23\" class=\"edge\">\n",
       "<title>Adg&#45;&gt;Adgg</title>\n",
       "<path fill=\"none\" stroke=\"black\" d=\"M847.61,-883.91C812.42,-879.18 753.04,-868.89 740,-852 735,-845.53 733.82,-837.04 734.32,-828.91\"/>\n",
       "<polygon fill=\"black\" stroke=\"black\" points=\"737.79,-829.36 735.69,-818.97 730.85,-828.4 737.79,-829.36\"/>\n",
       "<text text-anchor=\"middle\" x=\"813\" y=\"-840.8\" font-family=\"Times,serif\" font-size=\"14.00\">&lt;=0.29971843561617856</text>\n",
       "</g>\n",
       "<!-- Adgd -->\n",
       "<g id=\"node28\" class=\"node\">\n",
       "<title>Adgd</title>\n",
       "<polygon fill=\"none\" stroke=\"black\" points=\"937,-819 883,-819 883,-783 937,-783 937,-819\"/>\n",
       "<text text-anchor=\"middle\" x=\"910\" y=\"-797.3\" font-family=\"Times,serif\" font-size=\"14.00\">&#45;1</text>\n",
       "</g>\n",
       "<!-- Adg&#45;&gt;Adgd -->\n",
       "<g id=\"edge24\" class=\"edge\">\n",
       "<title>Adg&#45;&gt;Adgd</title>\n",
       "<path fill=\"none\" stroke=\"black\" d=\"M881.11,-870.21C886.16,-858.29 893.03,-842.06 898.81,-828.42\"/>\n",
       "<polygon fill=\"black\" stroke=\"black\" points=\"902.1,-829.62 902.78,-819.05 895.66,-826.89 902.1,-829.62\"/>\n",
       "<text text-anchor=\"middle\" x=\"964\" y=\"-840.8\" font-family=\"Times,serif\" font-size=\"14.00\">&gt;0.29971843561617856</text>\n",
       "</g>\n",
       "<!-- Adggg -->\n",
       "<g id=\"node22\" class=\"node\">\n",
       "<title>Adggg</title>\n",
       "<polygon fill=\"none\" stroke=\"black\" points=\"708,-732 654,-732 654,-696 708,-696 708,-732\"/>\n",
       "<text text-anchor=\"middle\" x=\"681\" y=\"-710.3\" font-family=\"Times,serif\" font-size=\"14.00\">&#45;1</text>\n",
       "</g>\n",
       "<!-- Adgg&#45;&gt;Adggg -->\n",
       "<g id=\"edge21\" class=\"edge\">\n",
       "<title>Adgg&#45;&gt;Adggg</title>\n",
       "<path fill=\"none\" stroke=\"black\" d=\"M717.26,-792.38C704.43,-786.92 689.68,-778.17 682,-765 678.09,-758.3 676.79,-750.18 676.75,-742.45\"/>\n",
       "<polygon fill=\"black\" stroke=\"black\" points=\"680.26,-742.52 677.36,-732.33 673.27,-742.1 680.26,-742.52\"/>\n",
       "<text text-anchor=\"middle\" x=\"755\" y=\"-753.8\" font-family=\"Times,serif\" font-size=\"14.00\">&lt;=0.10363813842565794</text>\n",
       "</g>\n",
       "<!-- Adggd -->\n",
       "<g id=\"node23\" class=\"node\">\n",
       "<title>Adggd</title>\n",
       "<ellipse fill=\"none\" stroke=\"black\" cx=\"837\" cy=\"-714\" rx=\"27\" ry=\"18\"/>\n",
       "<text text-anchor=\"middle\" x=\"837\" y=\"-710.3\" font-family=\"Times,serif\" font-size=\"14.00\">0</text>\n",
       "</g>\n",
       "<!-- Adgg&#45;&gt;Adggd -->\n",
       "<g id=\"edge22\" class=\"edge\">\n",
       "<title>Adgg&#45;&gt;Adggd</title>\n",
       "<path fill=\"none\" stroke=\"black\" d=\"M767.48,-796.29C787.17,-792.11 813.1,-783.31 828,-765 833.19,-758.63 835.79,-750.27 837,-742.22\"/>\n",
       "<polygon fill=\"black\" stroke=\"black\" points=\"840.51,-742.27 837.9,-732 833.54,-741.65 840.51,-742.27\"/>\n",
       "<text text-anchor=\"middle\" x=\"905\" y=\"-753.8\" font-family=\"Times,serif\" font-size=\"14.00\">&gt;0.10363813842565794</text>\n",
       "</g>\n",
       "<!-- Adggdg -->\n",
       "<g id=\"node24\" class=\"node\">\n",
       "<title>Adggdg</title>\n",
       "<ellipse fill=\"none\" stroke=\"black\" cx=\"668\" cy=\"-627\" rx=\"27\" ry=\"18\"/>\n",
       "<text text-anchor=\"middle\" x=\"668\" y=\"-623.3\" font-family=\"Times,serif\" font-size=\"14.00\">0</text>\n",
       "</g>\n",
       "<!-- Adggd&#45;&gt;Adggdg -->\n",
       "<g id=\"edge19\" class=\"edge\">\n",
       "<title>Adggd&#45;&gt;Adggdg</title>\n",
       "<path fill=\"none\" stroke=\"black\" d=\"M810.61,-709.85C772.66,-704.83 705.22,-693.93 687,-678 680.17,-672.03 675.78,-663.32 672.97,-654.85\"/>\n",
       "<polygon fill=\"black\" stroke=\"black\" points=\"676.34,-653.91 670.34,-645.18 669.59,-655.75 676.34,-653.91\"/>\n",
       "<text text-anchor=\"middle\" x=\"760\" y=\"-666.8\" font-family=\"Times,serif\" font-size=\"14.00\">&lt;=0.20863003007964853</text>\n",
       "</g>\n",
       "<!-- Adggdd -->\n",
       "<g id=\"node27\" class=\"node\">\n",
       "<title>Adggdd</title>\n",
       "<polygon fill=\"none\" stroke=\"black\" points=\"864,-645 810,-645 810,-609 864,-609 864,-645\"/>\n",
       "<text text-anchor=\"middle\" x=\"837\" y=\"-623.3\" font-family=\"Times,serif\" font-size=\"14.00\">1</text>\n",
       "</g>\n",
       "<!-- Adggd&#45;&gt;Adggdd -->\n",
       "<g id=\"edge20\" class=\"edge\">\n",
       "<title>Adggd&#45;&gt;Adggdd</title>\n",
       "<path fill=\"none\" stroke=\"black\" d=\"M837,-695.8C837,-684.16 837,-668.55 837,-655.24\"/>\n",
       "<polygon fill=\"black\" stroke=\"black\" points=\"840.5,-655.18 837,-645.18 833.5,-655.18 840.5,-655.18\"/>\n",
       "<text text-anchor=\"middle\" x=\"906\" y=\"-666.8\" font-family=\"Times,serif\" font-size=\"14.00\">&gt;0.20863003007964853</text>\n",
       "</g>\n",
       "<!-- Adggdgg -->\n",
       "<g id=\"node25\" class=\"node\">\n",
       "<title>Adggdgg</title>\n",
       "<polygon fill=\"none\" stroke=\"black\" points=\"611,-558 557,-558 557,-522 611,-522 611,-558\"/>\n",
       "<text text-anchor=\"middle\" x=\"584\" y=\"-536.3\" font-family=\"Times,serif\" font-size=\"14.00\">1</text>\n",
       "</g>\n",
       "<!-- Adggdg&#45;&gt;Adggdgg -->\n",
       "<g id=\"edge17\" class=\"edge\">\n",
       "<title>Adggdg&#45;&gt;Adggdgg</title>\n",
       "<path fill=\"none\" stroke=\"black\" d=\"M641.5,-622.47C622.32,-618.38 597.64,-609.64 585,-591 580.53,-584.4 579.13,-576.11 579.19,-568.19\"/>\n",
       "<polygon fill=\"black\" stroke=\"black\" points=\"582.68,-568.39 579.95,-558.15 575.7,-567.86 582.68,-568.39\"/>\n",
       "<text text-anchor=\"middle\" x=\"658\" y=\"-579.8\" font-family=\"Times,serif\" font-size=\"14.00\">&lt;=0.13923115968650668</text>\n",
       "</g>\n",
       "<!-- Adggdgd -->\n",
       "<g id=\"node26\" class=\"node\">\n",
       "<title>Adggdgd</title>\n",
       "<polygon fill=\"none\" stroke=\"black\" points=\"780,-558 726,-558 726,-522 780,-522 780,-558\"/>\n",
       "<text text-anchor=\"middle\" x=\"753\" y=\"-536.3\" font-family=\"Times,serif\" font-size=\"14.00\">&#45;1</text>\n",
       "</g>\n",
       "<!-- Adggdg&#45;&gt;Adggdgd -->\n",
       "<g id=\"edge18\" class=\"edge\">\n",
       "<title>Adggdg&#45;&gt;Adggdgd</title>\n",
       "<path fill=\"none\" stroke=\"black\" d=\"M691.1,-617.51C704.22,-611.72 720.13,-602.93 731,-591 737,-584.42 741.55,-575.95 744.92,-567.85\"/>\n",
       "<polygon fill=\"black\" stroke=\"black\" points=\"748.26,-568.91 748.45,-558.32 741.69,-566.48 748.26,-568.91\"/>\n",
       "<text text-anchor=\"middle\" x=\"810\" y=\"-579.8\" font-family=\"Times,serif\" font-size=\"14.00\">&gt;0.13923115968650668</text>\n",
       "</g>\n",
       "<!-- Addg -->\n",
       "<g id=\"node30\" class=\"node\">\n",
       "<title>Addg</title>\n",
       "<ellipse fill=\"none\" stroke=\"black\" cx=\"1149\" cy=\"-801\" rx=\"27\" ry=\"18\"/>\n",
       "<text text-anchor=\"middle\" x=\"1149\" y=\"-797.3\" font-family=\"Times,serif\" font-size=\"14.00\">1</text>\n",
       "</g>\n",
       "<!-- Add&#45;&gt;Addg -->\n",
       "<g id=\"edge47\" class=\"edge\">\n",
       "<title>Add&#45;&gt;Addg</title>\n",
       "<path fill=\"none\" stroke=\"black\" d=\"M1103.98,-870C1102.99,-859.94 1103.17,-847.2 1108,-837 1111.07,-830.52 1115.97,-824.79 1121.33,-819.93\"/>\n",
       "<polygon fill=\"black\" stroke=\"black\" points=\"1123.77,-822.46 1129.36,-813.46 1119.38,-817.01 1123.77,-822.46\"/>\n",
       "<text text-anchor=\"middle\" x=\"1174\" y=\"-840.8\" font-family=\"Times,serif\" font-size=\"14.00\">&lt;=0.682840269718384</text>\n",
       "</g>\n",
       "<!-- Addd -->\n",
       "<g id=\"node53\" class=\"node\">\n",
       "<title>Addd</title>\n",
       "<polygon fill=\"none\" stroke=\"black\" points=\"1289,-819 1235,-819 1235,-783 1289,-783 1289,-819\"/>\n",
       "<text text-anchor=\"middle\" x=\"1262\" y=\"-797.3\" font-family=\"Times,serif\" font-size=\"14.00\">1</text>\n",
       "</g>\n",
       "<!-- Add&#45;&gt;Addd -->\n",
       "<g id=\"edge48\" class=\"edge\">\n",
       "<title>Add&#45;&gt;Addd</title>\n",
       "<path fill=\"none\" stroke=\"black\" d=\"M1134.11,-886.57C1163.45,-884.73 1210.04,-877.58 1240,-852 1247.05,-845.98 1251.92,-837.27 1255.25,-828.8\"/>\n",
       "<polygon fill=\"black\" stroke=\"black\" points=\"1258.63,-829.73 1258.5,-819.14 1252,-827.51 1258.63,-829.73\"/>\n",
       "<text text-anchor=\"middle\" x=\"1312\" y=\"-840.8\" font-family=\"Times,serif\" font-size=\"14.00\">&gt;0.682840269718384</text>\n",
       "</g>\n",
       "<!-- Addgg -->\n",
       "<g id=\"node31\" class=\"node\">\n",
       "<title>Addgg</title>\n",
       "<ellipse fill=\"none\" stroke=\"black\" cx=\"1149\" cy=\"-714\" rx=\"27\" ry=\"18\"/>\n",
       "<text text-anchor=\"middle\" x=\"1149\" y=\"-710.3\" font-family=\"Times,serif\" font-size=\"14.00\">0</text>\n",
       "</g>\n",
       "<!-- Addg&#45;&gt;Addgg -->\n",
       "<g id=\"edge45\" class=\"edge\">\n",
       "<title>Addg&#45;&gt;Addgg</title>\n",
       "<path fill=\"none\" stroke=\"black\" d=\"M1149,-782.8C1149,-771.16 1149,-755.55 1149,-742.24\"/>\n",
       "<polygon fill=\"black\" stroke=\"black\" points=\"1152.5,-742.18 1149,-732.18 1145.5,-742.18 1152.5,-742.18\"/>\n",
       "<text text-anchor=\"middle\" x=\"1215\" y=\"-753.8\" font-family=\"Times,serif\" font-size=\"14.00\">&lt;=0.555723915700886</text>\n",
       "</g>\n",
       "<!-- Addgd -->\n",
       "<g id=\"node48\" class=\"node\">\n",
       "<title>Addgd</title>\n",
       "<ellipse fill=\"none\" stroke=\"black\" cx=\"1328\" cy=\"-714\" rx=\"27\" ry=\"18\"/>\n",
       "<text text-anchor=\"middle\" x=\"1328\" y=\"-710.3\" font-family=\"Times,serif\" font-size=\"14.00\">0</text>\n",
       "</g>\n",
       "<!-- Addg&#45;&gt;Addgd -->\n",
       "<g id=\"edge46\" class=\"edge\">\n",
       "<title>Addg&#45;&gt;Addgd</title>\n",
       "<path fill=\"none\" stroke=\"black\" d=\"M1174.16,-794.39C1210.81,-786.08 1275.58,-770.86 1285,-765 1295.57,-758.43 1304.92,-748.42 1312.18,-739.08\"/>\n",
       "<polygon fill=\"black\" stroke=\"black\" points=\"1315.15,-740.95 1318.23,-730.81 1309.5,-736.81 1315.15,-740.95\"/>\n",
       "<text text-anchor=\"middle\" x=\"1364\" y=\"-753.8\" font-family=\"Times,serif\" font-size=\"14.00\">&gt;0.555723915700886</text>\n",
       "</g>\n",
       "<!-- Addggg -->\n",
       "<g id=\"node32\" class=\"node\">\n",
       "<title>Addggg</title>\n",
       "<polygon fill=\"none\" stroke=\"black\" points=\"1025,-645 971,-645 971,-609 1025,-609 1025,-645\"/>\n",
       "<text text-anchor=\"middle\" x=\"998\" y=\"-623.3\" font-family=\"Times,serif\" font-size=\"14.00\">1</text>\n",
       "</g>\n",
       "<!-- Addgg&#45;&gt;Addggg -->\n",
       "<g id=\"edge39\" class=\"edge\">\n",
       "<title>Addgg&#45;&gt;Addggg</title>\n",
       "<path fill=\"none\" stroke=\"black\" d=\"M1122.49,-710.01C1085.6,-705.29 1021.55,-694.87 1006,-678 1000.39,-671.91 997.82,-663.53 996.82,-655.37\"/>\n",
       "<polygon fill=\"black\" stroke=\"black\" points=\"1000.31,-655.14 996.28,-645.34 993.32,-655.52 1000.31,-655.14\"/>\n",
       "<text text-anchor=\"middle\" x=\"1079\" y=\"-666.8\" font-family=\"Times,serif\" font-size=\"14.00\">&lt;=0.19008863326863867</text>\n",
       "</g>\n",
       "<!-- Addggd -->\n",
       "<g id=\"node33\" class=\"node\">\n",
       "<title>Addggd</title>\n",
       "<ellipse fill=\"none\" stroke=\"black\" cx=\"1167\" cy=\"-627\" rx=\"27\" ry=\"18\"/>\n",
       "<text text-anchor=\"middle\" x=\"1167\" y=\"-623.3\" font-family=\"Times,serif\" font-size=\"14.00\">1</text>\n",
       "</g>\n",
       "<!-- Addgg&#45;&gt;Addggd -->\n",
       "<g id=\"edge40\" class=\"edge\">\n",
       "<title>Addgg&#45;&gt;Addggd</title>\n",
       "<path fill=\"none\" stroke=\"black\" d=\"M1152.64,-695.8C1155.12,-684.09 1158.46,-668.34 1161.29,-654.97\"/>\n",
       "<polygon fill=\"black\" stroke=\"black\" points=\"1164.78,-655.39 1163.42,-644.89 1157.93,-653.94 1164.78,-655.39\"/>\n",
       "<text text-anchor=\"middle\" x=\"1228\" y=\"-666.8\" font-family=\"Times,serif\" font-size=\"14.00\">&gt;0.19008863326863867</text>\n",
       "</g>\n",
       "<!-- Addggdg -->\n",
       "<g id=\"node34\" class=\"node\">\n",
       "<title>Addggdg</title>\n",
       "<ellipse fill=\"none\" stroke=\"black\" cx=\"1007\" cy=\"-540\" rx=\"27\" ry=\"18\"/>\n",
       "<text text-anchor=\"middle\" x=\"1007\" y=\"-536.3\" font-family=\"Times,serif\" font-size=\"14.00\">0</text>\n",
       "</g>\n",
       "<!-- Addggd&#45;&gt;Addggdg -->\n",
       "<g id=\"edge37\" class=\"edge\">\n",
       "<title>Addggd&#45;&gt;Addggdg</title>\n",
       "<path fill=\"none\" stroke=\"black\" d=\"M1140,-626.73C1108.28,-626.12 1055.95,-620.26 1024,-591 1017.46,-585.01 1013.44,-576.42 1010.96,-568.03\"/>\n",
       "<polygon fill=\"black\" stroke=\"black\" points=\"1014.33,-567.05 1008.64,-558.11 1007.51,-568.64 1014.33,-567.05\"/>\n",
       "<text text-anchor=\"middle\" x=\"1093.5\" y=\"-579.8\" font-family=\"Times,serif\" font-size=\"14.00\">&lt;=0.3789105731338859</text>\n",
       "</g>\n",
       "<!-- Addggdd -->\n",
       "<g id=\"node47\" class=\"node\">\n",
       "<title>Addggdd</title>\n",
       "<polygon fill=\"none\" stroke=\"black\" points=\"1196,-558 1142,-558 1142,-522 1196,-522 1196,-558\"/>\n",
       "<text text-anchor=\"middle\" x=\"1169\" y=\"-536.3\" font-family=\"Times,serif\" font-size=\"14.00\">&#45;1</text>\n",
       "</g>\n",
       "<!-- Addggd&#45;&gt;Addggdd -->\n",
       "<g id=\"edge38\" class=\"edge\">\n",
       "<title>Addggd&#45;&gt;Addggdd</title>\n",
       "<path fill=\"none\" stroke=\"black\" d=\"M1167.4,-608.8C1167.68,-597.16 1168.05,-581.55 1168.36,-568.24\"/>\n",
       "<polygon fill=\"black\" stroke=\"black\" points=\"1171.86,-568.26 1168.6,-558.18 1164.86,-568.09 1171.86,-568.26\"/>\n",
       "<text text-anchor=\"middle\" x=\"1233.5\" y=\"-579.8\" font-family=\"Times,serif\" font-size=\"14.00\">&gt;0.3789105731338859</text>\n",
       "</g>\n",
       "<!-- Addggdgg -->\n",
       "<g id=\"node35\" class=\"node\">\n",
       "<title>Addggdgg</title>\n",
       "<ellipse fill=\"none\" stroke=\"black\" cx=\"926\" cy=\"-453\" rx=\"27\" ry=\"18\"/>\n",
       "<text text-anchor=\"middle\" x=\"926\" y=\"-449.3\" font-family=\"Times,serif\" font-size=\"14.00\">1</text>\n",
       "</g>\n",
       "<!-- Addggdg&#45;&gt;Addggdgg -->\n",
       "<g id=\"edge35\" class=\"edge\">\n",
       "<title>Addggdg&#45;&gt;Addggdgg</title>\n",
       "<path fill=\"none\" stroke=\"black\" d=\"M980.65,-535.01C962.27,-530.71 938.96,-521.9 927,-504 922.57,-497.37 921.19,-489.07 921.24,-481.15\"/>\n",
       "<polygon fill=\"black\" stroke=\"black\" points=\"924.73,-481.36 921.99,-471.12 917.75,-480.83 924.73,-481.36\"/>\n",
       "<text text-anchor=\"middle\" x=\"996.5\" y=\"-492.8\" font-family=\"Times,serif\" font-size=\"14.00\">&lt;=0.5635211222633436</text>\n",
       "</g>\n",
       "<!-- Addggdgd -->\n",
       "<g id=\"node46\" class=\"node\">\n",
       "<title>Addggdgd</title>\n",
       "<polygon fill=\"none\" stroke=\"black\" points=\"1115,-471 1061,-471 1061,-435 1115,-435 1115,-471\"/>\n",
       "<text text-anchor=\"middle\" x=\"1088\" y=\"-449.3\" font-family=\"Times,serif\" font-size=\"14.00\">1</text>\n",
       "</g>\n",
       "<!-- Addggdg&#45;&gt;Addggdgd -->\n",
       "<g id=\"edge36\" class=\"edge\">\n",
       "<title>Addggdg&#45;&gt;Addggdgd</title>\n",
       "<path fill=\"none\" stroke=\"black\" d=\"M1029.49,-529.78C1041.6,-523.89 1056.05,-515.23 1066,-504 1071.9,-497.34 1076.43,-488.84 1079.8,-480.75\"/>\n",
       "<polygon fill=\"black\" stroke=\"black\" points=\"1083.14,-481.83 1083.36,-471.23 1076.58,-479.38 1083.14,-481.83\"/>\n",
       "<text text-anchor=\"middle\" x=\"1140.5\" y=\"-492.8\" font-family=\"Times,serif\" font-size=\"14.00\">&gt;0.5635211222633436</text>\n",
       "</g>\n",
       "<!-- Addggdggg -->\n",
       "<g id=\"node36\" class=\"node\">\n",
       "<title>Addggdggg</title>\n",
       "<ellipse fill=\"none\" stroke=\"black\" cx=\"849\" cy=\"-366\" rx=\"27\" ry=\"18\"/>\n",
       "<text text-anchor=\"middle\" x=\"849\" y=\"-362.3\" font-family=\"Times,serif\" font-size=\"14.00\">0</text>\n",
       "</g>\n",
       "<!-- Addggdgg&#45;&gt;Addggdggg -->\n",
       "<g id=\"edge33\" class=\"edge\">\n",
       "<title>Addggdgg&#45;&gt;Addggdggg</title>\n",
       "<path fill=\"none\" stroke=\"black\" d=\"M900.19,-447.43C882.82,-442.89 861.14,-434.02 850,-417 845.64,-410.33 844.27,-402.02 844.32,-394.1\"/>\n",
       "<polygon fill=\"black\" stroke=\"black\" points=\"847.81,-394.31 845.06,-384.08 840.83,-393.79 847.81,-394.31\"/>\n",
       "<text text-anchor=\"middle\" x=\"916\" y=\"-405.8\" font-family=\"Times,serif\" font-size=\"14.00\">&lt;=0.208330553300833</text>\n",
       "</g>\n",
       "<!-- Addggdggd -->\n",
       "<g id=\"node45\" class=\"node\">\n",
       "<title>Addggdggd</title>\n",
       "<polygon fill=\"none\" stroke=\"black\" points=\"1031,-384 977,-384 977,-348 1031,-348 1031,-384\"/>\n",
       "<text text-anchor=\"middle\" x=\"1004\" y=\"-362.3\" font-family=\"Times,serif\" font-size=\"14.00\">1</text>\n",
       "</g>\n",
       "<!-- Addggdgg&#45;&gt;Addggdggd -->\n",
       "<g id=\"edge34\" class=\"edge\">\n",
       "<title>Addggdgg&#45;&gt;Addggdggd</title>\n",
       "<path fill=\"none\" stroke=\"black\" d=\"M947.89,-442.25C959.27,-436.3 972.7,-427.75 982,-417 987.82,-410.27 992.33,-401.76 995.71,-393.67\"/>\n",
       "<polygon fill=\"black\" stroke=\"black\" points=\"999.04,-394.76 999.28,-384.17 992.49,-392.3 999.04,-394.76\"/>\n",
       "<text text-anchor=\"middle\" x=\"1053\" y=\"-405.8\" font-family=\"Times,serif\" font-size=\"14.00\">&gt;0.208330553300833</text>\n",
       "</g>\n",
       "<!-- Addggdgggg -->\n",
       "<g id=\"node37\" class=\"node\">\n",
       "<title>Addggdgggg</title>\n",
       "<polygon fill=\"none\" stroke=\"black\" points=\"795,-297 741,-297 741,-261 795,-261 795,-297\"/>\n",
       "<text text-anchor=\"middle\" x=\"768\" y=\"-275.3\" font-family=\"Times,serif\" font-size=\"14.00\">&#45;1</text>\n",
       "</g>\n",
       "<!-- Addggdggg&#45;&gt;Addggdgggg -->\n",
       "<g id=\"edge31\" class=\"edge\">\n",
       "<title>Addggdggg&#45;&gt;Addggdgggg</title>\n",
       "<path fill=\"none\" stroke=\"black\" d=\"M822.65,-361.01C804.27,-356.71 780.96,-347.9 769,-330 764.57,-323.37 763.19,-315.07 763.24,-307.15\"/>\n",
       "<polygon fill=\"black\" stroke=\"black\" points=\"766.73,-307.36 763.99,-297.12 759.75,-306.83 766.73,-307.36\"/>\n",
       "<text text-anchor=\"middle\" x=\"838.5\" y=\"-318.8\" font-family=\"Times,serif\" font-size=\"14.00\">&lt;=0.3643829114703872</text>\n",
       "</g>\n",
       "<!-- Addggdgggd -->\n",
       "<g id=\"node38\" class=\"node\">\n",
       "<title>Addggdgggd</title>\n",
       "<ellipse fill=\"none\" stroke=\"black\" cx=\"930\" cy=\"-279\" rx=\"27\" ry=\"18\"/>\n",
       "<text text-anchor=\"middle\" x=\"930\" y=\"-275.3\" font-family=\"Times,serif\" font-size=\"14.00\">0</text>\n",
       "</g>\n",
       "<!-- Addggdggg&#45;&gt;Addggdgggd -->\n",
       "<g id=\"edge32\" class=\"edge\">\n",
       "<title>Addggdggg&#45;&gt;Addggdgggd</title>\n",
       "<path fill=\"none\" stroke=\"black\" d=\"M871.49,-355.78C883.6,-349.89 898.05,-341.23 908,-330 913.99,-323.24 918.57,-314.58 921.96,-306.38\"/>\n",
       "<polygon fill=\"black\" stroke=\"black\" points=\"925.33,-307.36 925.51,-296.76 918.76,-304.93 925.33,-307.36\"/>\n",
       "<text text-anchor=\"middle\" x=\"982.5\" y=\"-318.8\" font-family=\"Times,serif\" font-size=\"14.00\">&gt;0.3643829114703872</text>\n",
       "</g>\n",
       "<!-- Addggdgggdg -->\n",
       "<g id=\"node39\" class=\"node\">\n",
       "<title>Addggdgggdg</title>\n",
       "<polygon fill=\"none\" stroke=\"black\" points=\"876,-210 822,-210 822,-174 876,-174 876,-210\"/>\n",
       "<text text-anchor=\"middle\" x=\"849\" y=\"-188.3\" font-family=\"Times,serif\" font-size=\"14.00\">1</text>\n",
       "</g>\n",
       "<!-- Addggdgggd&#45;&gt;Addggdgggdg -->\n",
       "<g id=\"edge29\" class=\"edge\">\n",
       "<title>Addggdgggd&#45;&gt;Addggdgggdg</title>\n",
       "<path fill=\"none\" stroke=\"black\" d=\"M903.65,-274.01C885.27,-269.71 861.96,-260.9 850,-243 845.57,-236.37 844.19,-228.07 844.24,-220.15\"/>\n",
       "<polygon fill=\"black\" stroke=\"black\" points=\"847.73,-220.36 844.99,-210.12 840.75,-219.83 847.73,-220.36\"/>\n",
       "<text text-anchor=\"middle\" x=\"919.5\" y=\"-231.8\" font-family=\"Times,serif\" font-size=\"14.00\">&lt;=0.4943698064107626</text>\n",
       "</g>\n",
       "<!-- Addggdgggdd -->\n",
       "<g id=\"node40\" class=\"node\">\n",
       "<title>Addggdgggdd</title>\n",
       "<ellipse fill=\"none\" stroke=\"black\" cx=\"1011\" cy=\"-192\" rx=\"27\" ry=\"18\"/>\n",
       "<text text-anchor=\"middle\" x=\"1011\" y=\"-188.3\" font-family=\"Times,serif\" font-size=\"14.00\">0</text>\n",
       "</g>\n",
       "<!-- Addggdgggd&#45;&gt;Addggdgggdd -->\n",
       "<g id=\"edge30\" class=\"edge\">\n",
       "<title>Addggdgggd&#45;&gt;Addggdgggdd</title>\n",
       "<path fill=\"none\" stroke=\"black\" d=\"M952.49,-268.78C964.6,-262.89 979.05,-254.23 989,-243 994.99,-236.24 999.57,-227.58 1002.96,-219.38\"/>\n",
       "<polygon fill=\"black\" stroke=\"black\" points=\"1006.33,-220.36 1006.51,-209.76 999.76,-217.93 1006.33,-220.36\"/>\n",
       "<text text-anchor=\"middle\" x=\"1063.5\" y=\"-231.8\" font-family=\"Times,serif\" font-size=\"14.00\">&gt;0.4943698064107626</text>\n",
       "</g>\n",
       "<!-- Addggdgggddg -->\n",
       "<g id=\"node41\" class=\"node\">\n",
       "<title>Addggdgggddg</title>\n",
       "<polygon fill=\"none\" stroke=\"black\" points=\"957,-123 903,-123 903,-87 957,-87 957,-123\"/>\n",
       "<text text-anchor=\"middle\" x=\"930\" y=\"-101.3\" font-family=\"Times,serif\" font-size=\"14.00\">&#45;1</text>\n",
       "</g>\n",
       "<!-- Addggdgggdd&#45;&gt;Addggdgggddg -->\n",
       "<g id=\"edge27\" class=\"edge\">\n",
       "<title>Addggdgggdd&#45;&gt;Addggdgggddg</title>\n",
       "<path fill=\"none\" stroke=\"black\" d=\"M984.65,-187.01C966.27,-182.71 942.96,-173.9 931,-156 926.57,-149.37 925.19,-141.07 925.24,-133.15\"/>\n",
       "<polygon fill=\"black\" stroke=\"black\" points=\"928.73,-133.36 925.99,-123.12 921.75,-132.83 928.73,-133.36\"/>\n",
       "<text text-anchor=\"middle\" x=\"1000.5\" y=\"-144.8\" font-family=\"Times,serif\" font-size=\"14.00\">&lt;=0.5381629321897845</text>\n",
       "</g>\n",
       "<!-- Addggdgggddd -->\n",
       "<g id=\"node42\" class=\"node\">\n",
       "<title>Addggdgggddd</title>\n",
       "<ellipse fill=\"none\" stroke=\"black\" cx=\"1092\" cy=\"-105\" rx=\"27\" ry=\"18\"/>\n",
       "<text text-anchor=\"middle\" x=\"1092\" y=\"-101.3\" font-family=\"Times,serif\" font-size=\"14.00\">0</text>\n",
       "</g>\n",
       "<!-- Addggdgggdd&#45;&gt;Addggdgggddd -->\n",
       "<g id=\"edge28\" class=\"edge\">\n",
       "<title>Addggdgggdd&#45;&gt;Addggdgggddd</title>\n",
       "<path fill=\"none\" stroke=\"black\" d=\"M1033.49,-181.78C1045.6,-175.89 1060.05,-167.23 1070,-156 1075.99,-149.24 1080.57,-140.58 1083.96,-132.38\"/>\n",
       "<polygon fill=\"black\" stroke=\"black\" points=\"1087.33,-133.36 1087.51,-122.76 1080.76,-130.93 1087.33,-133.36\"/>\n",
       "<text text-anchor=\"middle\" x=\"1144.5\" y=\"-144.8\" font-family=\"Times,serif\" font-size=\"14.00\">&gt;0.5381629321897845</text>\n",
       "</g>\n",
       "<!-- Addggdgggdddg -->\n",
       "<g id=\"node43\" class=\"node\">\n",
       "<title>Addggdgggdddg</title>\n",
       "<polygon fill=\"none\" stroke=\"black\" points=\"1038,-36 984,-36 984,0 1038,0 1038,-36\"/>\n",
       "<text text-anchor=\"middle\" x=\"1011\" y=\"-14.3\" font-family=\"Times,serif\" font-size=\"14.00\">1</text>\n",
       "</g>\n",
       "<!-- Addggdgggddd&#45;&gt;Addggdgggdddg -->\n",
       "<g id=\"edge25\" class=\"edge\">\n",
       "<title>Addggdgggddd&#45;&gt;Addggdgggdddg</title>\n",
       "<path fill=\"none\" stroke=\"black\" d=\"M1065.65,-100.01C1047.27,-95.71 1023.96,-86.9 1012,-69 1007.57,-62.37 1006.19,-54.07 1006.24,-46.15\"/>\n",
       "<polygon fill=\"black\" stroke=\"black\" points=\"1009.73,-46.36 1006.99,-36.12 1002.75,-45.83 1009.73,-46.36\"/>\n",
       "<text text-anchor=\"middle\" x=\"1081.5\" y=\"-57.8\" font-family=\"Times,serif\" font-size=\"14.00\">&lt;=0.5488085602659679</text>\n",
       "</g>\n",
       "<!-- Addggdgggdddd -->\n",
       "<g id=\"node44\" class=\"node\">\n",
       "<title>Addggdgggdddd</title>\n",
       "<polygon fill=\"none\" stroke=\"black\" points=\"1200,-36 1146,-36 1146,0 1200,0 1200,-36\"/>\n",
       "<text text-anchor=\"middle\" x=\"1173\" y=\"-14.3\" font-family=\"Times,serif\" font-size=\"14.00\">&#45;1</text>\n",
       "</g>\n",
       "<!-- Addggdgggddd&#45;&gt;Addggdgggdddd -->\n",
       "<g id=\"edge26\" class=\"edge\">\n",
       "<title>Addggdgggddd&#45;&gt;Addggdgggdddd</title>\n",
       "<path fill=\"none\" stroke=\"black\" d=\"M1114.49,-94.78C1126.6,-88.89 1141.05,-80.23 1151,-69 1156.9,-62.34 1161.43,-53.84 1164.8,-45.75\"/>\n",
       "<polygon fill=\"black\" stroke=\"black\" points=\"1168.14,-46.83 1168.36,-36.23 1161.58,-44.38 1168.14,-46.83\"/>\n",
       "<text text-anchor=\"middle\" x=\"1225.5\" y=\"-57.8\" font-family=\"Times,serif\" font-size=\"14.00\">&gt;0.5488085602659679</text>\n",
       "</g>\n",
       "<!-- Addgdg -->\n",
       "<g id=\"node49\" class=\"node\">\n",
       "<title>Addgdg</title>\n",
       "<ellipse fill=\"none\" stroke=\"black\" cx=\"1328\" cy=\"-627\" rx=\"27\" ry=\"18\"/>\n",
       "<text text-anchor=\"middle\" x=\"1328\" y=\"-623.3\" font-family=\"Times,serif\" font-size=\"14.00\">0</text>\n",
       "</g>\n",
       "<!-- Addgd&#45;&gt;Addgdg -->\n",
       "<g id=\"edge43\" class=\"edge\">\n",
       "<title>Addgd&#45;&gt;Addgdg</title>\n",
       "<path fill=\"none\" stroke=\"black\" d=\"M1328,-695.8C1328,-684.16 1328,-668.55 1328,-655.24\"/>\n",
       "<polygon fill=\"black\" stroke=\"black\" points=\"1331.5,-655.18 1328,-645.18 1324.5,-655.18 1331.5,-655.18\"/>\n",
       "<text text-anchor=\"middle\" x=\"1404.5\" y=\"-666.8\" font-family=\"Times,serif\" font-size=\"14.00\">&lt;=0.060298172951563866</text>\n",
       "</g>\n",
       "<!-- Addgdd -->\n",
       "<g id=\"node52\" class=\"node\">\n",
       "<title>Addgdd</title>\n",
       "<polygon fill=\"none\" stroke=\"black\" points=\"1531,-645 1477,-645 1477,-609 1531,-609 1531,-645\"/>\n",
       "<text text-anchor=\"middle\" x=\"1504\" y=\"-623.3\" font-family=\"Times,serif\" font-size=\"14.00\">1</text>\n",
       "</g>\n",
       "<!-- Addgd&#45;&gt;Addgdd -->\n",
       "<g id=\"edge44\" class=\"edge\">\n",
       "<title>Addgd&#45;&gt;Addgdd</title>\n",
       "<path fill=\"none\" stroke=\"black\" d=\"M1355.11,-713.86C1388.61,-713.5 1445.63,-708.01 1482,-678 1489.15,-672.1 1494.05,-663.42 1497.37,-654.93\"/>\n",
       "<polygon fill=\"black\" stroke=\"black\" points=\"1500.76,-655.84 1500.59,-645.25 1494.11,-653.63 1500.76,-655.84\"/>\n",
       "<text text-anchor=\"middle\" x=\"1565.5\" y=\"-666.8\" font-family=\"Times,serif\" font-size=\"14.00\">&gt;0.060298172951563866</text>\n",
       "</g>\n",
       "<!-- Addgdgg -->\n",
       "<g id=\"node50\" class=\"node\">\n",
       "<title>Addgdgg</title>\n",
       "<polygon fill=\"none\" stroke=\"black\" points=\"1352,-558 1298,-558 1298,-522 1352,-522 1352,-558\"/>\n",
       "<text text-anchor=\"middle\" x=\"1325\" y=\"-536.3\" font-family=\"Times,serif\" font-size=\"14.00\">1</text>\n",
       "</g>\n",
       "<!-- Addgdg&#45;&gt;Addgdgg -->\n",
       "<g id=\"edge41\" class=\"edge\">\n",
       "<title>Addgdg&#45;&gt;Addgdgg</title>\n",
       "<path fill=\"none\" stroke=\"black\" d=\"M1326.9,-608.92C1326.56,-603.22 1326.23,-596.84 1326,-591 1325.72,-583.66 1325.51,-575.7 1325.36,-568.34\"/>\n",
       "<polygon fill=\"black\" stroke=\"black\" points=\"1328.86,-568.07 1325.19,-558.13 1321.86,-568.19 1328.86,-568.07\"/>\n",
       "<text text-anchor=\"middle\" x=\"1404.5\" y=\"-579.8\" font-family=\"Times,serif\" font-size=\"14.00\">&lt;=&#45;0.059183144935868404</text>\n",
       "</g>\n",
       "<!-- Addgdgd -->\n",
       "<g id=\"node51\" class=\"node\">\n",
       "<title>Addgdgd</title>\n",
       "<polygon fill=\"none\" stroke=\"black\" points=\"1532,-558 1478,-558 1478,-522 1532,-522 1532,-558\"/>\n",
       "<text text-anchor=\"middle\" x=\"1505\" y=\"-536.3\" font-family=\"Times,serif\" font-size=\"14.00\">&#45;1</text>\n",
       "</g>\n",
       "<!-- Addgdg&#45;&gt;Addgdgd -->\n",
       "<g id=\"edge42\" class=\"edge\">\n",
       "<title>Addgdg&#45;&gt;Addgdgd</title>\n",
       "<path fill=\"none\" stroke=\"black\" d=\"M1355.28,-626.91C1389,-626.6 1446.38,-621.17 1483,-591 1490.15,-585.1 1495.05,-576.42 1498.37,-567.94\"/>\n",
       "<polygon fill=\"black\" stroke=\"black\" points=\"1501.76,-568.85 1501.59,-558.25 1495.12,-566.64 1501.76,-568.85\"/>\n",
       "<text text-anchor=\"middle\" x=\"1569\" y=\"-579.8\" font-family=\"Times,serif\" font-size=\"14.00\">&gt;&#45;0.059183144935868404</text>\n",
       "</g>\n",
       "</g>\n",
       "</svg>\n"
      ],
      "text/plain": [
       "<graphviz.dot.Digraph at 0x119ecee48>"
      ]
     },
     "execution_count": 32,
     "metadata": {},
     "output_type": "execute_result"
    }
   ],
   "source": [
    "adautre.plot()"
   ]
  },
  {
   "cell_type": "markdown",
   "metadata": {},
   "source": [
    "### Améliorations (facultatif)"
   ]
  },
  {
   "cell_type": "markdown",
   "metadata": {},
   "source": [
    "Adapter votre algorithme afin de pouvoir construire des arbres de décision avec des attributs catégoriels. Dans un premier temps, vous considèrerez des attributs catégoriels à 2 valeurs. Ensuite, pour considérer des attributs à plus de 2 valeurs, vous devrez écrire une classe <code>ArbreGeneral</code> pour remplacer la classe <code>ArbreBinaire</code>."
   ]
  },
  {
   "cell_type": "markdown",
   "metadata": {},
   "source": [
    "## Etape 3: Expérimentation"
   ]
  },
  {
   "cell_type": "markdown",
   "metadata": {
    "collapsed": true
   },
   "source": [
    "Comparez le résultat obtenu avec ceux obtenus avec les 2 classifiers implémentés lors des TD-TME précédents. Ensuite, utilisez votre implémentation sur d'autres bases de données que vous avez déjà trouvées ou que vous pourrez trouver sur le web."
   ]
  },
  {
   "cell_type": "code",
   "execution_count": null,
   "metadata": {},
   "outputs": [],
   "source": []
  }
 ],
 "metadata": {
  "kernelspec": {
   "display_name": "Python 3",
   "language": "python",
   "name": "python3"
  },
  "language_info": {
   "codemirror_mode": {
    "name": "ipython",
    "version": 3
   },
   "file_extension": ".py",
   "mimetype": "text/x-python",
   "name": "python",
   "nbconvert_exporter": "python",
   "pygments_lexer": "ipython3",
   "version": "3.7.2"
  }
 },
 "nbformat": 4,
 "nbformat_minor": 1
}
