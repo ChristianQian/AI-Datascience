{
 "cells": [
  {
   "cell_type": "markdown",
   "metadata": {},
   "source": [
    "IA & Data science (3i026) -- 2018-2019\n",
    "--------\n",
    "*&copy; Equipe pédagogique: Manon Ansart, Vincent Guigue, Marie-Jeanne Lesot, Christophe Marsala, Olivier Schwander.*"
   ]
  },
  {
   "cell_type": "markdown",
   "metadata": {},
   "source": [
    "# TD-TME05: les arbres de décision\n",
    "\n",
    "L'objectif de ce TP est d'implémenter un algorithme d'apprentissage supervisé, l'algorithme de construction d'arbres de décision vu en cours.\n",
    "\n",
    "Dans un premier temps, nous allons nous restreindre à un cas binaire où les classes sont étiquetées $+1$ ou $-1$. De plus, nous allons ne considérer que le cas où les attributs sont tous numériques et on ne construit que des arbres avec des noeuds binaires (ie. qui ne contiennent que 2 branches sortantes)."
   ]
  },
  {
   "cell_type": "markdown",
   "metadata": {},
   "source": [
    "<font size=\"+1\" color=\"RED\">**[Q]**</font> **Indiquer dans la boîte ci-dessous vos noms et prénoms :**"
   ]
  },
  {
   "cell_type": "markdown",
   "metadata": {},
   "source": [
    "GUERASSIMOV Alexandre - QIAN Christian"
   ]
  },
  {
   "cell_type": "markdown",
   "metadata": {},
   "source": [
    "<font color=\"RED\" size=\"+1\">**[Q]**</font> **Renommer ce fichier ipython**\n",
    "\n",
    "Tout en haut de cette page, cliquer sur <tt>tme-05</tt> et rajouter à la suite de <tt>tme-05</tt> les noms des membres du binômes séparés par un tiret."
   ]
  },
  {
   "cell_type": "markdown",
   "metadata": {},
   "source": [
    "<font color=\"RED\" size=\"+1\">IMPORTANT: soumission de votre fichier final</font>\n",
    "\n",
    "**Nom à donner au fichier à poster** : *tme-05-Nom1_Nom2.ipynb* \n",
    "- *Nom1* et *Nom2* : noms des membres du binôme\n",
    "- ne pas compresser ou faire une archive: il faut rendre le notebook tel quel, éventuellement, si vous avez d'autres fichiers vous les rendez séparément.\n",
    "\n",
    "**Echancier pour la soumission de votre compte-rendu:**\n",
    "- le compte-rendu d'une séance doit être remis obligatoirement <font color=\"RED\">** à la fin de la séance**</font>. C'est ce compte-rendu qui donne la note de base de la séance.\n",
    "- vous pouvez éventuellement compléter votre compte-rendu  pour obtenir des points bonus, dans ce cas, vous devez soumettre votre complément avant le début de la semaine suivante.\n",
    "\n",
    "** Sur la page Moodle de remise du travail <font color=\"RED\">ne pas oublier d'envoyer le compte rendu</font>** à la fin de la séance, la soumission de la version complémentaire post-séance se fera sur une page différente."
   ]
  },
  {
   "cell_type": "markdown",
   "metadata": {},
   "source": [
    "## Mise à jour de votre librairie IADS\n",
    "\n",
    "Comme lors des séances précédentes, vous devez utiliser les fonctions de la librairie IADS.\n",
    "\n",
    "<font color=\"RED\" size=\"+1\">**[Q]**</font> **Ouvrir et compléter les fichiers Classifiers.py et utils.py**\n",
    "\n",
    "Rajouter dans la librairie les fonctions et classes et que vous avez écrites lors de la séance précédente. \n",
    "\n",
    "**Rappel**: dans un premier temps, vous devez écrire les classes et fonctions demandées dans le notebook de la séance de TDTME en cours. Lors de la séance suivante, vous rajouterez tout cela, une fois que vous l'aurez bien testé, dans vos fichiers de la librairie IADS.\n",
    "\n"
   ]
  },
  {
   "cell_type": "code",
   "execution_count": 1,
   "metadata": {},
   "outputs": [],
   "source": [
    "import numpy as np\n",
    "import pandas as pd\n",
    "import matplotlib.pyplot as plt\n",
    "import math\n",
    "%matplotlib inline \n",
    "\n",
    "# La ligne suivante permet de préciser le chemin d'accès à la librairie iads\n",
    "import sys\n",
    "sys.path.append('../')\n",
    "\n",
    "# Importation de la librairie iads\n",
    "import iads as iads\n",
    "\n",
    "\n",
    "# importation de utils# importation de LabeledSet\n",
    "from iads import LabeledSet as ls\n",
    "\n",
    "# importation de Classifiers\n",
    "from iads import Classifiers as cl\n",
    "\n",
    "from iads import utils as ut"
   ]
  },
  {
   "cell_type": "markdown",
   "metadata": {},
   "source": [
    "### Génération de données Jouet\n",
    "\n",
    "<font color=\"RED\" size=\"+1\">**[Q]**</font>  Dans un premier temps, pour mettre au point les fonctions, générer une base jouet assez petite (par exemple, 10 exemples de chaque classe)."
   ]
  },
  {
   "cell_type": "code",
   "execution_count": 3,
   "metadata": {},
   "outputs": [
    {
     "name": "stdout",
     "output_type": "stream",
     "text": [
      "Taille de la base jouet générée :  20  exemples\n"
     ]
    }
   ],
   "source": [
    "the_set = ut.createGaussianDataset(np.array([2,2]), np.array([[1.5,0], [0,1.5]]), np.array([-2,-2]), np.array([[1.5,0], [0,1.5]]), 10)\n",
    "print(\"Taille de la base jouet générée : \", the_set.size(), \" exemples\")"
   ]
  },
  {
   "cell_type": "code",
   "execution_count": 4,
   "metadata": {},
   "outputs": [
    {
     "data": {
      "text/plain": [
       "array([[ 0.81146778,  2.79501643],\n",
       "       [ 2.83539499,  0.70291001],\n",
       "       [ 1.61594809,  2.78048828],\n",
       "       [ 2.43114964,  2.39919493],\n",
       "       [ 1.83037351,  1.71854586],\n",
       "       [ 0.67716334, -0.51810389],\n",
       "       [ 2.16390353,  0.83437852],\n",
       "       [ 2.83297255,  1.92575233],\n",
       "       [ 2.40813603,  4.08329469],\n",
       "       [ 2.46844418,  1.50510048]])"
      ]
     },
     "execution_count": 4,
     "metadata": {},
     "output_type": "execute_result"
    }
   ],
   "source": [
    "# the_set = ... # définition d'un LabeledSet avec la fonction précédente\n",
    "\n",
    "S= the_set.x[np.where(the_set.y == 1),:]\n",
    "S[0]"
   ]
  },
  {
   "cell_type": "code",
   "execution_count": 5,
   "metadata": {},
   "outputs": [
    {
     "data": {
      "image/png": "[encoded data removed]",
      "text/plain": [
       "<Figure size 432x288 with 1 Axes>"
      ]
     },
     "metadata": {
      "needs_background": "light"
     },
     "output_type": "display_data"
    }
   ],
   "source": [
    "# Affichage du dataset généré\n",
    "ut.plot2DSet(the_set)"
   ]
  },
  {
   "cell_type": "markdown",
   "metadata": {},
   "source": [
    "<font color=\"RED\" size=\"+1\">**[Q]**</font> Ecrire la fonction <code>classe_majoritaire()</code> qui, étant donné un LabeledSet rend la classe majoritaire dans l'ensemble (celle qui est possédée par le plus grand nombre d'exemples donc...). En cas d'égalité, cette fonction rend la classe +1."
   ]
  },
  {
   "cell_type": "code",
   "execution_count": 6,
   "metadata": {},
   "outputs": [],
   "source": [
    "def classe_majoritaire(labeledset):\n",
    "    nbr = len(labeledset.x[np.where(labeledset.y == 1),:][0])\n",
    "    if nbr >= (labeledset.size() / 2) :\n",
    "        return 1\n",
    "    return -1"
   ]
  },
  {
   "cell_type": "code",
   "execution_count": 7,
   "metadata": {},
   "outputs": [
    {
     "data": {
      "text/plain": [
       "1"
      ]
     },
     "execution_count": 7,
     "metadata": {},
     "output_type": "execute_result"
    }
   ],
   "source": [
    "classe_majoritaire(the_set)"
   ]
  },
  {
   "cell_type": "markdown",
   "metadata": {},
   "source": [
    "## Arbres de décision\n",
    "\n",
    "Dans cette étape, on réalise l'implémentation de l'algorithme de construction d'un arbre de décision."
   ]
  },
  {
   "cell_type": "markdown",
   "metadata": {},
   "source": [
    "### Entropie et gain d'information\n",
    "\n",
    "On note $\\{c_1, c_2,..., c_k\\}$, l'ensemble des classes possibles.\n",
    "\n",
    "Dans le cours, la mesure de désordre présentée utilise, pour toute valeur $c$ de la classe le ratio $\\frac{|Y(c)|}{|Y|}$ qui correspond à la probabilité de la classe $c$ parmi $Y$.\n",
    "On note dans ce qui suit $p_1$ la probabilité de la classe $c_1$ parmi $Y$, etc. \n",
    "\n",
    "Ainsi, on a $P=(p_1, p_2,..., p_k)$ la distribution de probabilités sur les classes ainsi définies.\n",
    "\n",
    "L'**entropie de Shannon** de la distribution $P$ est donnée par:\n",
    "\n",
    "$ H_S(P) = -\\sum_{i=1}^{k} p_i \\log_k(p_i)$\n",
    "\n",
    "Le logarithme utilisé est le logarithme en base $k$ afin d'obtenir une valeur normalisée de l'entropie. \n",
    "\n",
    "*Remarque:* avec les notations vues en cours, on a $D(Y) = H_S(P)$.\n",
    "\n",
    "Pour ce qui suit, une *distribution de probabilités* est représentée par une **liste** Python $P=[p_1,...,p_k]$ de valeurs réelles telle que\n",
    "* pour tout $i=1,..., k$ : $0 \\leq p_i \\leq 1$\n",
    "* $\\sum_{i=1}^{k}p_i = 1$\n"
   ]
  },
  {
   "cell_type": "markdown",
   "metadata": {},
   "source": [
    "<font color=\"RED\" size=\"+1\">**[Q]**</font> Ecrire la fonction <code>shannon()</code> qui, étant donné une distribution de probabilités $P$, rend la valeur de $H_S(P)$, l'entropie de Shannon de $P$."
   ]
  },
  {
   "cell_type": "code",
   "execution_count": 8,
   "metadata": {},
   "outputs": [],
   "source": [
    "def shannon(p):\n",
    "    k = len(p)\n",
    "    h = 0\n",
    "    for e in p:\n",
    "        if e == 0:\n",
    "            continue\n",
    "        h -= e * math.log(e, k)\n",
    "    return h"
   ]
  },
  {
   "cell_type": "code",
   "execution_count": 9,
   "metadata": {},
   "outputs": [
    {
     "name": "stdout",
     "output_type": "stream",
     "text": [
      "P=[1,0] :  0.0\n",
      "P=[0.25, 0.25, 0.25, 0.25] :  1.0\n",
      "P=[0.7, 0.1, 0.2, 0.0] :  0.5783898247235197\n",
      "P=[1.0/3, 2.0/3] :  0.9182958340544896\n"
     ]
    }
   ],
   "source": [
    "# Exemples d'utilisation:\n",
    "print(\"P=[1,0] : \", shannon([1, 0]))\n",
    "print(\"P=[0.25, 0.25, 0.25, 0.25] : \", shannon([0.25, 0.25, 0.25, 0.25]))\n",
    "print(\"P=[0.7, 0.1, 0.2, 0.0] : \", shannon([0.7, 0.1, 0.2, 0.0]))\n",
    "print(\"P=[1.0/3, 2.0/3] : \", shannon([1.0/3, 2.0/3]))"
   ]
  },
  {
   "cell_type": "markdown",
   "metadata": {},
   "source": [
    "**On s'aperçoit que pour une liste avec des probabilités uniformes, l'entropie est maximisée (=1) ; tandis qu'avec une grande dispartié, elle est minimisée (=0)**"
   ]
  },
  {
   "cell_type": "markdown",
   "metadata": {},
   "source": [
    "<font color=\"RED\" size=\"+1\">**[Q]**</font> Tracer, à l'aide de la fonction plot, la courbe donnant la valeur de <code>shannon([p, 1-p])</code> en fonction de <code>p</code>."
   ]
  },
  {
   "cell_type": "code",
   "execution_count": 10,
   "metadata": {},
   "outputs": [
    {
     "data": {
      "image/png": "[encoded data removed]",
      "text/plain": [
       "<Figure size 432x288 with 1 Axes>"
      ]
     },
     "metadata": {
      "needs_background": "light"
     },
     "output_type": "display_data"
    }
   ],
   "source": [
    "s = []\n",
    "x = np.linspace(0,1,111)\n",
    "for i in x:\n",
    "    s.append(shannon([i, 1-i]))\n",
    "\n",
    "_ , ax = plt.subplots()\n",
    "ax.set_xlabel('p')\n",
    "ax.set_ylabel('shannon([p, 1-p])')\n",
    "ax.plot(x, s)\n",
    "plt.show()"
   ]
  },
  {
   "cell_type": "markdown",
   "metadata": {},
   "source": [
    "<font color=\"RED\" size=\"+1\">**[Q]**</font> A l'aide de la fonction <code>shannon()</code>, écrire la fonction <code>entropie()</code> qui prend un LabeledSet en argument et renvoie l'entropie de la distribution des classes dans cet ensemble."
   ]
  },
  {
   "cell_type": "code",
   "execution_count": 11,
   "metadata": {},
   "outputs": [],
   "source": [
    "def entropie(labeledset):\n",
    "    nbr1 = len(labeledset.x[np.where(labeledset.y == 1),:][0]) / labeledset.size()\n",
    "    nbr2 = 1 - nbr1\n",
    "    return shannon([nbr1, nbr2])"
   ]
  },
  {
   "cell_type": "code",
   "execution_count": 12,
   "metadata": {},
   "outputs": [
    {
     "data": {
      "text/plain": [
       "1.0"
      ]
     },
     "execution_count": 12,
     "metadata": {},
     "output_type": "execute_result"
    }
   ],
   "source": [
    "entropie(the_set)"
   ]
  },
  {
   "cell_type": "markdown",
   "metadata": {},
   "source": [
    "Cette fonction <code>entropie</code> permet dont de calculer le désordre des classes dans le LabeledSet considéré."
   ]
  },
  {
   "cell_type": "markdown",
   "metadata": {},
   "source": [
    "### Discrétisation des attributs numériques"
   ]
  },
  {
   "cell_type": "markdown",
   "metadata": {
    "collapsed": true
   },
   "source": [
    "Comme on l'a vu en cours, discrétiser un attribut numérique consiste en trouver un seuil de coupure dans son ensemble de valeurs. \n",
    "\n",
    "Par exemple, soit l'attribut Age contenant les valeurs 17, 18, 20, 27, 35, 37, 40. On discrétise cet attribut en 2 valeurs en prenant, par exemple, le seuil 30: cela permet de séparer d'un côté les valeurs inférieures ou égales à 30, et de l'autre les valeurs strictement supérieures à 30.\n",
    "\n",
    "Le seuil est choisi afin d'optimiser la distribution des classes des exemples qui se trouvent de chaque côté du seuil. Une fois un seuil choisi, on calcule le désordre des classes associées aux exemples de chaque côté du seuil et on agrège les 2 valeurs de désordre obtenues pour déterminer la qualité de la coupure à l'aide de la mesure $Q$ vue en cours.\n",
    "\n",
    "\n",
    "Soit $X$ un ensemble d'exemples, et soit $A$ un attribut que l'on souhaite discrétiser. Pour cela, on constitue l'ensemble des valeurs prises par les exemples de $X$ pour l'attribut $A$. Soit $A_X$ cet ensemble de valeurs.\n",
    "\n",
    "La discrétisation de $A_X$ s'effectue par les étapes suivantes:\n",
    "- Etape 1: ordonner de façon croissante les valeurs de $A_X$;\n",
    "- Etape 2: regarder tous les seuils possibles de coupure entre 2 valeurs consécutives de $A_X$ (on prend comme seuil de coupure la valeur médiane entre ces 2 valeurs). Chaque seuil trouvé créé 2 intervalles qui générent 2 sous-ensembles de $X$: l'ensemble $X_1$ des exemples dont la valeur pour $A$ et inférieure ou égale au seuil, et l'ensemble $X_2$ des exemples dont la valeur pour $A$ et supérieure au seuil. On détermine la qualité du seuil par la mesure de qualité d'un test vue en cours. On note $Q(seuil)$ cette valeur.\n",
    "\n",
    "\n",
    "La meilleure coupure pour discrétiser $A_X$ est celle qui minimise la valeur $Q(seuil)$.\n",
    "\n",
    "\n",
    "Par exemple, soit $X=\\{17, 18, 20, 27, 35, 37, 40\\}$, chaque valeur étant associées aux classes +1, +1, -1, -1, +1, +1, -1 respectivement. Un seuil de coupure possible est $31$ ($31 = \\frac{27+35}{2}$). Ce seuil coupe $X$ en $X_1=\\{17, 18, 20, 27\\}$ et $X_2=\\{35, 37, 40\\}$.\n",
    "\n",
    "- pour $X_1$, la probabilité de chaque classe est: $p(+1)= 0.5$ et $p(-1)=0.5$ donc, $H_S(X_1)=1$;\n",
    "- pour $X_2$, la probabilité de chaque classe est: $p(+1)= \\frac{1}{3}$ et $p(-1)=\\frac{2}{3}$ donc, $H_S(X_2)=0.9182958340544896$;\n",
    "- on a donc: $$Q(seuil=31) = \\frac{4}{7} H_S(X_1) + \\frac{3}{7} H_S(X_2);$$\n",
    "soit $Q(seuil=31) = 0.9182958340544896$"
   ]
  },
  {
   "cell_type": "markdown",
   "metadata": {},
   "source": [
    "On considère que <code>the_set</code> est un LabeledSet construit précédement. Il contient deux variables de type array: $x$ et $y$.\n",
    "\n",
    "Regarder et tester les instructions suivantes, il faut bien comprendre comment elles fonctionnent car on va utiliser les mêmes principes dans les fonctions à écrire."
   ]
  },
  {
   "cell_type": "code",
   "execution_count": 13,
   "metadata": {},
   "outputs": [
    {
     "name": "stdout",
     "output_type": "stream",
     "text": [
      "[[ 0.81146778  2.79501643]\n",
      " [ 2.83539499  0.70291001]\n",
      " [ 1.61594809  2.78048828]\n",
      " [ 2.43114964  2.39919493]\n",
      " [ 1.83037351  1.71854586]\n",
      " [ 0.67716334 -0.51810389]\n",
      " [ 2.16390353  0.83437852]\n",
      " [ 2.83297255  1.92575233]\n",
      " [ 2.40813603  4.08329469]\n",
      " [ 2.46844418  1.50510048]\n",
      " [-1.53659667 -2.13529422]\n",
      " [-2.51018964 -3.6070815 ]\n",
      " [-2.13531724 -5.19412711]\n",
      " [-1.92180532 -1.4734237 ]\n",
      " [-1.75788092 -1.83401229]\n",
      " [-4.88748242 -3.48227499]\n",
      " [-0.64947008 -1.53054683]\n",
      " [-1.73008542 -0.88612851]\n",
      " [-3.18500304 -2.01742336]\n",
      " [-1.40007227 -1.28561894]]\n"
     ]
    }
   ],
   "source": [
    "print(the_set.x)"
   ]
  },
  {
   "cell_type": "code",
   "execution_count": 14,
   "metadata": {},
   "outputs": [
    {
     "data": {
      "text/plain": [
       "array([[15, 12],\n",
       "       [18, 11],\n",
       "       [11, 15],\n",
       "       [12, 10],\n",
       "       [13, 18],\n",
       "       [14, 14],\n",
       "       [17, 16],\n",
       "       [10, 13],\n",
       "       [19, 19],\n",
       "       [16, 17],\n",
       "       [ 5,  5],\n",
       "       [ 0,  1],\n",
       "       [ 2,  6],\n",
       "       [ 4,  9],\n",
       "       [ 6,  4],\n",
       "       [ 8,  7],\n",
       "       [ 3,  3],\n",
       "       [ 9,  2],\n",
       "       [ 7,  0],\n",
       "       [ 1,  8]], dtype=int64)"
      ]
     },
     "execution_count": 14,
     "metadata": {},
     "output_type": "execute_result"
    }
   ],
   "source": [
    "ind= np.argsort(the_set.x,axis=0)   # Tri des valeurs de the_set.x selon les colonnes. \n",
    "                                    # La fonction rend un numpy.ndarray contenant autant de \n",
    "                                    # colonnes que the_set.x et dans chaque colonne, on a \n",
    "                                    # la position de l'exemple dans l'ordonnancement croissant.\n",
    "ind # pour afficher"
   ]
  },
  {
   "cell_type": "code",
   "execution_count": 15,
   "metadata": {},
   "outputs": [
    {
     "data": {
      "text/plain": [
       "array([[-4.88748242, -3.48227499],\n",
       "       [-3.18500304, -2.01742336],\n",
       "       [-2.51018964, -3.6070815 ],\n",
       "       [-2.13531724, -5.19412711],\n",
       "       [-1.92180532, -1.4734237 ],\n",
       "       [-1.75788092, -1.83401229],\n",
       "       [-1.73008542, -0.88612851],\n",
       "       [-1.53659667, -2.13529422],\n",
       "       [-1.40007227, -1.28561894],\n",
       "       [-0.64947008, -1.53054683],\n",
       "       [ 0.67716334, -0.51810389],\n",
       "       [ 0.81146778,  2.79501643],\n",
       "       [ 1.61594809,  2.78048828],\n",
       "       [ 1.83037351,  1.71854586],\n",
       "       [ 2.16390353,  0.83437852],\n",
       "       [ 2.40813603,  4.08329469],\n",
       "       [ 2.43114964,  2.39919493],\n",
       "       [ 2.46844418,  1.50510048],\n",
       "       [ 2.83297255,  1.92575233],\n",
       "       [ 2.83539499,  0.70291001]])"
      ]
     },
     "execution_count": 15,
     "metadata": {},
     "output_type": "execute_result"
    }
   ],
   "source": [
    "the_set.x[ind[0:len(the_set.x),0]]  # Rend le numpy.array des exemples de the_set.x ordonnés\n",
    "                                    # selon les indices donnés dans ind (colonne 0)\n"
   ]
  },
  {
   "cell_type": "code",
   "execution_count": 16,
   "metadata": {},
   "outputs": [
    {
     "data": {
      "text/plain": [
       "array([[-1],\n",
       "       [-1],\n",
       "       [-1],\n",
       "       [-1],\n",
       "       [-1],\n",
       "       [-1],\n",
       "       [-1],\n",
       "       [-1],\n",
       "       [-1],\n",
       "       [-1],\n",
       "       [ 1],\n",
       "       [ 1],\n",
       "       [ 1],\n",
       "       [ 1],\n",
       "       [ 1],\n",
       "       [ 1],\n",
       "       [ 1],\n",
       "       [ 1],\n",
       "       [ 1],\n",
       "       [ 1]])"
      ]
     },
     "execution_count": 16,
     "metadata": {},
     "output_type": "execute_result"
    }
   ],
   "source": [
    "the_set.y[ind[0:len(the_set.y),0]]  # Rend le numpy.array des exemples de the_set.y ordonnés\n",
    "                                    # selon les indices donnés dans ind (colonne 0)"
   ]
  },
  {
   "cell_type": "code",
   "execution_count": 17,
   "metadata": {},
   "outputs": [
    {
     "name": "stdout",
     "output_type": "stream",
     "text": [
      "valeur= -5.194127105306203 classe=  -1\n",
      "valeur= -3.607081501514637 classe=  -1\n",
      "valeur= -3.4822749889242033 classe=  -1\n",
      "valeur= -2.135294216721862 classe=  -1\n",
      "valeur= -2.0174233582673624 classe=  -1\n",
      "valeur= -1.8340122900314506 classe=  -1\n",
      "valeur= -1.5305468260221884 classe=  -1\n",
      "valeur= -1.4734237016244838 classe=  -1\n",
      "valeur= -1.2856189369917035 classe=  -1\n",
      "valeur= -0.8861285056874288 classe=  -1\n",
      "valeur= -0.518103894485558 classe=  1\n",
      "valeur= 0.7029100050437609 classe=  1\n",
      "valeur= 0.8343785225145115 classe=  1\n",
      "valeur= 1.5051004838568938 classe=  1\n",
      "valeur= 1.7185458622832055 classe=  1\n",
      "valeur= 1.9257523298448065 classe=  1\n",
      "valeur= 2.399194925298758 classe=  1\n",
      "valeur= 2.780488277832473 classe=  1\n",
      "valeur= 2.7950164280640157 classe=  1\n",
      "valeur= 4.083294688688266 classe=  1\n"
     ]
    }
   ],
   "source": [
    "colonne = 1    # numéro de la colonne de the_set.x à considérer\n",
    "for v_i in ind[0:len(the_set.x)]:\n",
    "    i = v_i[colonne]\n",
    "    exem = the_set.getX(i)\n",
    "    clas = the_set.getY(i)\n",
    "    print(\"valeur=\",exem[colonne], \"classe= \", clas[0])"
   ]
  },
  {
   "cell_type": "markdown",
   "metadata": {},
   "source": [
    "Etant donné un LabeledSet, ainsi qu'un numéro de colonne à considérer (qui correspond à un des attributs de description), la fonction <code>discrétise()</code> rend un tuple constitué de la valeur de coupure qui optimise la mesure de qualité, et de la valeur trouvée pour cette mesure."
   ]
  },
  {
   "cell_type": "code",
   "execution_count": 18,
   "metadata": {},
   "outputs": [],
   "source": [
    "def discretise(LSet, col):\n",
    "    \"\"\" LabelledSet * int -> tuple[float, float]\n",
    "        Hypothèse: LSet.size() >= 2\n",
    "        col est le numéro de colonne sur X à discrétiser\n",
    "        rend la valeur de coupure qui minimise l'entropie ainsi que son entropie.\n",
    "    \"\"\"\n",
    "    # initialisation:\n",
    "    min_entropie = 1.1  # on met à une valeur max car on veut minimiser\n",
    "    min_seuil = 0.0     \n",
    "    # trie des valeurs:\n",
    "    ind= np.argsort(LSet.x,axis=0)\n",
    "    \n",
    "    # calcul des distributions des classes pour E1 et E2:\n",
    "    inf_plus  = 0               # nombre de +1 dans E1\n",
    "    inf_moins = 0               # nombre de -1 dans E1\n",
    "    sup_plus  = 0               # nombre de +1 dans E2\n",
    "    sup_moins = 0               # nombre de -1 dans E2       \n",
    "    # remarque: au départ on considère que E1 est vide et donc E2 correspond à E. \n",
    "    # Ainsi inf_plus et inf_moins valent 0. Il reste à calculer sup_plus et sup_moins \n",
    "    # dans E.\n",
    "    for j in range(0,LSet.size()):\n",
    "        if (LSet.getY(j) == -1):\n",
    "            sup_moins += 1\n",
    "        else:\n",
    "            sup_plus += 1\n",
    "    nb_total = (sup_plus + sup_moins) # nombre d'exemples total dans E\n",
    "    \n",
    "    # parcours pour trouver le meilleur seuil:\n",
    "    for i in range(len(LSet.x)-1):\n",
    "        v_ind_i = ind[i]   # vecteur d'indices\n",
    "        courant = LSet.getX(v_ind_i[col])[col]\n",
    "        lookahead = LSet.getX(ind[i+1][col])[col]\n",
    "        val_seuil = (courant + lookahead) / 2.0;\n",
    "        # M-A-J de la distrib. des classes:\n",
    "        # pour réduire les traitements: on retire un exemple de E2 et on le place\n",
    "        # dans E1, c'est ainsi que l'on déplace donc le seuil de coupure.\n",
    "        if LSet.getY(ind[i][col])[0] == -1:\n",
    "            inf_moins += 1\n",
    "            sup_moins -= 1\n",
    "        else:\n",
    "            inf_plus += 1\n",
    "            sup_plus -= 1\n",
    "        # calcul de la distribution des classes de chaque côté du seuil:\n",
    "        nb_inf = (inf_moins + inf_plus)*1.0     # rem: on en fait un float pour éviter\n",
    "        nb_sup = (sup_moins + sup_plus)*1.0     # que ce soit une division entière.\n",
    "        # calcul de l'entropie de la coupure\n",
    "        val_entropie_inf = shannon([inf_moins / nb_inf, inf_plus  / nb_inf])\n",
    "        val_entropie_sup = shannon([sup_moins / nb_sup, sup_plus  / nb_sup])\n",
    "        val_entropie = (nb_inf / nb_total) * val_entropie_inf \\\n",
    "                       + (nb_sup / nb_total) * val_entropie_sup\n",
    "        # si cette coupure minimise l'entropie, on mémorise ce seuil et son entropie:\n",
    "        if (min_entropie > val_entropie):\n",
    "            min_entropie = val_entropie\n",
    "            min_seuil = val_seuil\n",
    "    return (min_seuil, min_entropie)"
   ]
  },
  {
   "cell_type": "code",
   "execution_count": 19,
   "metadata": {},
   "outputs": [
    {
     "data": {
      "text/plain": [
       "(0.013846627555182178, 0.0)"
      ]
     },
     "execution_count": 19,
     "metadata": {},
     "output_type": "execute_result"
    }
   ],
   "source": [
    "discretise(the_set,0) # le résultat dépend, bien sûr, de la base jouet"
   ]
  },
  {
   "cell_type": "code",
   "execution_count": 20,
   "metadata": {},
   "outputs": [
    {
     "data": {
      "text/plain": [
       "(-0.7021162000864934, 0.0)"
      ]
     },
     "execution_count": 20,
     "metadata": {},
     "output_type": "execute_result"
    }
   ],
   "source": [
    "discretise(the_set,1) # le résultat dépend, bien sûr, de la base jouet"
   ]
  },
  {
   "cell_type": "markdown",
   "metadata": {},
   "source": [
    "Une dernière fonction utile permet de diviser une base d'exemples en 2 sous-bases en utilisant un seuil sur la valeur d'un attribut donné.\n",
    "\n",
    "<font color=\"RED\" size=\"+1\">**[Q]**</font> Ecrire la fonction divise() dont la spécification est:\n",
    "\n",
    "    def divise(LSet,att,seuil):\n",
    "        \"\"\" LSet: LabeledSet\n",
    "            att : numéro d'attribut\n",
    "            seuil : valeur de seuil\n",
    "            rend le tuple contenant les 2 sous-LabeledSet obtenus par la\n",
    "            division de LSet selon le seuil sur l'attribut att\n",
    "        \"\"\"\n",
    "\n"
   ]
  },
  {
   "cell_type": "code",
   "execution_count": 21,
   "metadata": {},
   "outputs": [],
   "source": [
    "def divise(LSet,att,seuil):\n",
    "    d = LSet.getInputDimension()\n",
    "    set1 = ls.LabeledSet(d)\n",
    "    set2 = ls.LabeledSet(d)\n",
    "    taille = LSet.size()\n",
    "    \n",
    "    for i in range(taille):\n",
    "        x = LSet.getX(i)\n",
    "        y = LSet.getY(i)\n",
    "        if(x[att] <= seuil):\n",
    "            set1.addExample(x,y)\n",
    "        else:\n",
    "            set2.addExample(x,y)\n",
    "    return (set1,set2)"
   ]
  },
  {
   "cell_type": "code",
   "execution_count": 22,
   "metadata": {},
   "outputs": [
    {
     "name": "stdout",
     "output_type": "stream",
     "text": [
      "entropie inférieur: 0.0  / entropie supérieur: 0.0\n"
     ]
    }
   ],
   "source": [
    "Linf, Lsup = divise(the_set,0,-0.5)\n",
    "print(\"entropie inférieur:\",entropie(Linf),\" / entropie supérieur:\", entropie(Lsup))\n",
    "# remarque: les résultats dépendent de votre base jouet..."
   ]
  },
  {
   "cell_type": "markdown",
   "metadata": {},
   "source": [
    "### Représentation d'un arbre en Python"
   ]
  },
  {
   "cell_type": "markdown",
   "metadata": {},
   "source": [
    "Un arbre de décision doit être représenté en Python, pour cela, on utilise la classe <code>ArbreBinaire</code> suivante:"
   ]
  },
  {
   "cell_type": "code",
   "execution_count": 23,
   "metadata": {},
   "outputs": [],
   "source": [
    "import graphviz as gv\n",
    "# Eventuellement, il peut être nécessaire d'installer graphviz sur votre compte:\n",
    "# pip install --user --install-option=\"--prefix=\" -U graphviz\n",
    "\n",
    "\n",
    "class ArbreBinaire:\n",
    "    def __init__(self):\n",
    "        self.attribut = None   # numéro de l'attribut\n",
    "        self.seuil = None\n",
    "        self.inferieur = None # ArbreBinaire Gauche (valeurs <= au seuil)\n",
    "        self.superieur = None # ArbreBinaire Gauche (valeurs > au seuil)\n",
    "        self.classe = None # Classe si c'est une feuille: -1 ou +1\n",
    "        \n",
    "    def est_feuille(self):\n",
    "        \"\"\" rend True si l'arbre est une feuille \"\"\"\n",
    "        return self.seuil == None\n",
    "    \n",
    "    def ajoute_fils(self,ABinf,ABsup,att,seuil):\n",
    "        \"\"\" ABinf, ABsup: 2 arbres binaires\n",
    "            att: numéro d'attribut\n",
    "            seuil: valeur de seuil\n",
    "        \"\"\"\n",
    "        self.attribut = att\n",
    "        self.seuil = seuil\n",
    "        self.inferieur = ABinf\n",
    "        self.superieur = ABsup\n",
    "    \n",
    "    def ajoute_feuille(self,classe):\n",
    "        \"\"\" classe: -1 ou + 1\n",
    "        \"\"\"\n",
    "        self.classe = classe\n",
    "        \n",
    "    def classifie(self,exemple):\n",
    "        \"\"\" exemple : numpy.array\n",
    "            rend la classe de l'exemple: +1 ou -1\n",
    "        \"\"\"\n",
    "        if self.est_feuille():\n",
    "            return self.classe\n",
    "        if exemple[self.attribut] <= self.seuil:\n",
    "            return self.inferieur.classifie(exemple)\n",
    "        return self.superieur.classifie(exemple)\n",
    "    \n",
    "    def to_graph(self, g, prefixe='A'):\n",
    "        \"\"\" construit une représentation de l'arbre pour pouvoir\n",
    "            l'afficher\n",
    "        \"\"\"\n",
    "        if self.est_feuille():\n",
    "            g.node(prefixe,str(self.classe),shape='box')\n",
    "        else:\n",
    "            g.node(prefixe, str(self.attribut))\n",
    "            self.inferieur.to_graph(g,prefixe+\"g\")\n",
    "            self.superieur.to_graph(g,prefixe+\"d\")\n",
    "            g.edge(prefixe,prefixe+\"g\", '<='+ str(self.seuil))\n",
    "            g.edge(prefixe,prefixe+\"d\", '>'+ str(self.seuil))\n",
    "        \n",
    "        return g"
   ]
  },
  {
   "cell_type": "code",
   "execution_count": 24,
   "metadata": {},
   "outputs": [
    {
     "data": {
      "image/svg+xml": [
       "<?xml version=\"1.0\" encoding=\"UTF-8\" standalone=\"no\"?>\r\n",
       "<!DOCTYPE svg PUBLIC \"-//W3C//DTD SVG 1.1//EN\"\r\n",
       " \"http://www.w3.org/Graphics/SVG/1.1/DTD/svg11.dtd\">\r\n",
       "<!-- Generated by graphviz version 2.38.0 (20140413.2041)\r\n",
       " -->\r\n",
       "<!-- Title: %3 Pages: 1 -->\r\n",
       "<svg width=\"134pt\" height=\"131pt\"\r\n",
       " viewBox=\"0.00 0.00 134.00 131.00\" xmlns=\"http://www.w3.org/2000/svg\" xmlns:xlink=\"http://www.w3.org/1999/xlink\">\r\n",
       "<g id=\"graph0\" class=\"graph\" transform=\"scale(1 1) rotate(0) translate(4 127)\">\r\n",
       "<title>%3</title>\r\n",
       "<polygon fill=\"white\" stroke=\"none\" points=\"-4,4 -4,-127 130,-127 130,4 -4,4\"/>\r\n",
       "<!-- A -->\r\n",
       "<g id=\"node1\" class=\"node\"><title>A</title>\r\n",
       "<ellipse fill=\"none\" stroke=\"black\" cx=\"63\" cy=\"-105\" rx=\"27\" ry=\"18\"/>\r\n",
       "<text text-anchor=\"middle\" x=\"63\" y=\"-101.3\" font-family=\"Times New Roman,serif\" font-size=\"14.00\">nom</text>\r\n",
       "</g>\r\n",
       "<!-- Ag -->\r\n",
       "<g id=\"node2\" class=\"node\"><title>Ag</title>\r\n",
       "<polygon fill=\"none\" stroke=\"black\" points=\"54,-36 0,-36 0,-0 54,-0 54,-36\"/>\r\n",
       "<text text-anchor=\"middle\" x=\"27\" y=\"-14.3\" font-family=\"Times New Roman,serif\" font-size=\"14.00\">1</text>\r\n",
       "</g>\r\n",
       "<!-- A&#45;&gt;Ag -->\r\n",
       "<g id=\"edge1\" class=\"edge\"><title>A&#45;&gt;Ag</title>\r\n",
       "<path fill=\"none\" stroke=\"black\" d=\"M49.171,-89.3516C44.2998,-83.4397 39.2368,-76.2955 36,-69 32.8522,-61.9053 30.8051,-53.78 29.4738,-46.171\"/>\r\n",
       "<polygon fill=\"black\" stroke=\"black\" points=\"32.9377,-45.6687 28.0661,-36.2603 26.0073,-46.6532 32.9377,-45.6687\"/>\r\n",
       "<text text-anchor=\"middle\" x=\"56.5\" y=\"-57.8\" font-family=\"Times New Roman,serif\" font-size=\"14.00\">&lt;=42.0</text>\r\n",
       "</g>\r\n",
       "<!-- Ad -->\r\n",
       "<g id=\"node3\" class=\"node\"><title>Ad</title>\r\n",
       "<polygon fill=\"none\" stroke=\"black\" points=\"126,-36 72,-36 72,-0 126,-0 126,-36\"/>\r\n",
       "<text text-anchor=\"middle\" x=\"99\" y=\"-14.3\" font-family=\"Times New Roman,serif\" font-size=\"14.00\">2</text>\r\n",
       "</g>\r\n",
       "<!-- A&#45;&gt;Ad -->\r\n",
       "<g id=\"edge2\" class=\"edge\"><title>A&#45;&gt;Ad</title>\r\n",
       "<path fill=\"none\" stroke=\"black\" d=\"M70.1124,-87.2067C75.1581,-75.2934 82.032,-59.0634 87.8086,-45.4242\"/>\r\n",
       "<polygon fill=\"black\" stroke=\"black\" points=\"91.102,-46.6225 91.7791,-36.0493 84.6563,-43.8925 91.102,-46.6225\"/>\r\n",
       "<text text-anchor=\"middle\" x=\"99.5\" y=\"-57.8\" font-family=\"Times New Roman,serif\" font-size=\"14.00\">&gt;42.0</text>\r\n",
       "</g>\r\n",
       "</g>\r\n",
       "</svg>\r\n"
      ],
      "text/plain": [
       "<graphviz.dot.Digraph at 0x2ea1cd74240>"
      ]
     },
     "execution_count": 24,
     "metadata": {},
     "output_type": "execute_result"
    }
   ],
   "source": [
    "# Exemple d'utilisation: \n",
    "un_arbre= ArbreBinaire()\n",
    "un_arbre.ajoute_feuille(1)\n",
    "un_arbre.est_feuille()\n",
    "un_arbre1 = ArbreBinaire()\n",
    "un_arbre1.ajoute_feuille(2)\n",
    "un_arbre2 = ArbreBinaire()\n",
    "un_arbre2.ajoute_fils(un_arbre,un_arbre1,\"nom\",42.0)\n",
    "\n",
    "gtree = gv.Digraph(format='png')\n",
    "un_arbre2.to_graph(gtree)"
   ]
  },
  {
   "cell_type": "markdown",
   "metadata": {},
   "source": [
    "### Construction de l'arbre de décision"
   ]
  },
  {
   "cell_type": "markdown",
   "metadata": {},
   "source": [
    "Pour construire un arbre de décision, il faut réaliser les étapes suivantes:\n",
    "- si l'entropie de Shannon de la distribution des classes de l'ensemble courant est inférieure à epsilon (réel positif fixé et qui est un paramètre de l'algorithme), alors construire une feuille avec cet ensemble, la classe associée à cette feuille est la classe majoritaire;\n",
    "- sinon, pour chaque attribut, calculer le seuil de discrétisation et l'entropie de Shannon correspondante\n",
    "    - choisir l'attribut qui donne une valeur d'entropie minimale\n",
    "    - l'attribut choisi sert à constituer un noeud de l'arbre de décision, les arcs issus de ce noeud sont labeller par un test (inférieur ou égal ou supérieur) par rapport au seuil trouvé\n",
    "    \n",
    "    \n",
    "<font color=\"RED\" size=\"+1\">**[Q]**</font> Ecrire la fonction qui construit un arbre de décision (binaire) à partir d'une base d'exemples. En plus de la base d'exemples, on utilise un argument \"epsilon\" qui est un réel >0 et qui sert pour le critère d'arrêt.\n",
    "Cette fonction a la spécification suivante:\n",
    "\n",
    "    def construit_AD(LSet,epsilon):\n",
    "        \"\"\" LSet : LabeledSet\n",
    "            epsilon : seuil d'entropie pour le critère d'arrêt \n",
    "        \"\"\"\n"
   ]
  },
  {
   "cell_type": "code",
   "execution_count": 25,
   "metadata": {},
   "outputs": [],
   "source": [
    "def construit_AD(LSet,epsilon):\n",
    "    un_arbre= ArbreBinaire()\n",
    "    e = entropie(LSet)\n",
    "    if e <= epsilon:\n",
    "        un_arbre.ajoute_feuille(classe_majoritaire(LSet))\n",
    "    else:\n",
    "        ss = []\n",
    "        es = []\n",
    "        for c in range(LSet.getInputDimension()):\n",
    "            a, b = discretise(LSet, c)\n",
    "            ss.append(a)\n",
    "            es.append(b)\n",
    "        iatt = es.index(min(es))\n",
    "        Linf, Lsup = divise(LSet,iatt,ss[iatt])\n",
    "        un_arbre.ajoute_fils(construit_AD(Linf,epsilon),construit_AD(Lsup,epsilon),iatt,ss[iatt])\n",
    "    return un_arbre"
   ]
  },
  {
   "cell_type": "code",
   "execution_count": 26,
   "metadata": {},
   "outputs": [
    {
     "data": {
      "image/svg+xml": [
       "<?xml version=\"1.0\" encoding=\"UTF-8\" standalone=\"no\"?>\r\n",
       "<!DOCTYPE svg PUBLIC \"-//W3C//DTD SVG 1.1//EN\"\r\n",
       " \"http://www.w3.org/Graphics/SVG/1.1/DTD/svg11.dtd\">\r\n",
       "<!-- Generated by graphviz version 2.38.0 (20140413.2041)\r\n",
       " -->\r\n",
       "<!-- Title: %3 Pages: 1 -->\r\n",
       "<svg width=\"336pt\" height=\"131pt\"\r\n",
       " viewBox=\"0.00 0.00 336.00 131.00\" xmlns=\"http://www.w3.org/2000/svg\" xmlns:xlink=\"http://www.w3.org/1999/xlink\">\r\n",
       "<g id=\"graph0\" class=\"graph\" transform=\"scale(1 1) rotate(0) translate(4 127)\">\r\n",
       "<title>%3</title>\r\n",
       "<polygon fill=\"white\" stroke=\"none\" points=\"-4,4 -4,-127 332,-127 332,4 -4,4\"/>\r\n",
       "<!-- A -->\r\n",
       "<g id=\"node1\" class=\"node\"><title>A</title>\r\n",
       "<ellipse fill=\"none\" stroke=\"black\" cx=\"113\" cy=\"-105\" rx=\"27\" ry=\"18\"/>\r\n",
       "<text text-anchor=\"middle\" x=\"113\" y=\"-101.3\" font-family=\"Times New Roman,serif\" font-size=\"14.00\">0</text>\r\n",
       "</g>\r\n",
       "<!-- Ag -->\r\n",
       "<g id=\"node2\" class=\"node\"><title>Ag</title>\r\n",
       "<polygon fill=\"none\" stroke=\"black\" points=\"54,-36 0,-36 0,-0 54,-0 54,-36\"/>\r\n",
       "<text text-anchor=\"middle\" x=\"27\" y=\"-14.3\" font-family=\"Times New Roman,serif\" font-size=\"14.00\">&#45;1</text>\r\n",
       "</g>\r\n",
       "<!-- A&#45;&gt;Ag -->\r\n",
       "<g id=\"edge1\" class=\"edge\"><title>A&#45;&gt;Ag</title>\r\n",
       "<path fill=\"none\" stroke=\"black\" d=\"M86.6939,-100.818C66.9545,-96.9091 41.158,-88.2292 28,-69 23.4999,-62.4236 22.098,-54.1358 22.1513,-46.2092\"/>\r\n",
       "<polygon fill=\"black\" stroke=\"black\" points=\"25.6461,-46.4097 22.9212,-36.1712 18.6666,-45.8743 25.6461,-46.4097\"/>\r\n",
       "<text text-anchor=\"middle\" x=\"102.5\" y=\"-57.8\" font-family=\"Times New Roman,serif\" font-size=\"14.00\">&lt;=0.013846627555182178</text>\r\n",
       "</g>\r\n",
       "<!-- Ad -->\r\n",
       "<g id=\"node3\" class=\"node\"><title>Ad</title>\r\n",
       "<polygon fill=\"none\" stroke=\"black\" points=\"226,-36 172,-36 172,-0 226,-0 226,-36\"/>\r\n",
       "<text text-anchor=\"middle\" x=\"199\" y=\"-14.3\" font-family=\"Times New Roman,serif\" font-size=\"14.00\">1</text>\r\n",
       "</g>\r\n",
       "<!-- A&#45;&gt;Ad -->\r\n",
       "<g id=\"edge2\" class=\"edge\"><title>A&#45;&gt;Ad</title>\r\n",
       "<path fill=\"none\" stroke=\"black\" d=\"M136.161,-95.726C149.539,-89.9667 165.869,-81.1306 177,-69 183.017,-62.4424 187.579,-53.9735 190.944,-45.8759\"/>\r\n",
       "<polygon fill=\"black\" stroke=\"black\" points=\"194.286,-46.9294 194.473,-36.3362 187.721,-44.501 194.286,-46.9294\"/>\r\n",
       "<text text-anchor=\"middle\" x=\"257.5\" y=\"-57.8\" font-family=\"Times New Roman,serif\" font-size=\"14.00\">&gt;0.013846627555182178</text>\r\n",
       "</g>\r\n",
       "</g>\r\n",
       "</svg>\r\n"
      ],
      "text/plain": [
       "<graphviz.dot.Digraph at 0x2ea1cd69390>"
      ]
     },
     "execution_count": 26,
     "metadata": {},
     "output_type": "execute_result"
    }
   ],
   "source": [
    "#test de l'affichage \n",
    "abin = construit_AD(the_set,0.0)\n",
    "gtree = gv.Digraph(format='png')\n",
    "abin.to_graph(gtree)"
   ]
  },
  {
   "cell_type": "markdown",
   "metadata": {},
   "source": [
    "### Classification avec arbre de décision\n"
   ]
  },
  {
   "cell_type": "markdown",
   "metadata": {},
   "source": [
    "Pour classer un nouvel exemple avec un arbre de décision, il faut parcourir l'arbre, de la racine vers une feuille en respectant les tests rencontrés dans chaque arc. Une fois atteint une feuille, la classe de l'exemple est celle présente dans la feuille.\n",
    "\n",
    "La classe ArbreBinaire contient déjà une fonction <code>classifie</code> qui permet de classer un nouvel exemple et de renvoyer la classe +1 ou -1 selon le cas."
   ]
  },
  {
   "cell_type": "markdown",
   "metadata": {},
   "source": [
    "### Implémentation"
   ]
  },
  {
   "cell_type": "markdown",
   "metadata": {},
   "source": [
    "On définit le classifieur <code>ArbreDecision</code> comme suit.\n",
    "\n",
    "Si toutes les fonctions précédentes ont été écrites correctement, il est maintenant possible de construire un arbre de décision à partir de la base jouet.\n"
   ]
  },
  {
   "cell_type": "markdown",
   "metadata": {},
   "source": [
    "## Applications à des données réelles"
   ]
  },
  {
   "cell_type": "code",
   "execution_count": 27,
   "metadata": {},
   "outputs": [],
   "source": [
    "class ArbreDecision(cl.Classifier):\n",
    "    # Constructeur\n",
    "    def __init__(self,epsilon):\n",
    "        # valeur seuil d'entropie pour arrêter la construction\n",
    "        self.epsilon= epsilon\n",
    "        self.racine = None\n",
    "    \n",
    "    # Permet de calculer la prediction sur x => renvoie un score\n",
    "    def predict(self,x):\n",
    "        # classification de l'exemple x avec l'arbre de décision\n",
    "        # on rend 0 (classe -1) ou 1 (classe 1)\n",
    "        classe = self.racine.classifie(x)\n",
    "        if (classe == 1):\n",
    "            return(1)\n",
    "        else:\n",
    "            return(-1)\n",
    "    \n",
    "    # Permet d'entrainer le modele sur un ensemble de données\n",
    "    def train(self,set):\n",
    "        # construction de l'arbre de décision \n",
    "        self.set=set\n",
    "        self.racine = construit_AD(set,self.epsilon)\n",
    "\n",
    "    # Permet d'afficher l'arbre\n",
    "    def plot(self):\n",
    "        gtree = gv.Digraph(format='png')\n",
    "        return self.racine.to_graph(gtree)\n",
    "        "
   ]
  },
  {
   "cell_type": "code",
   "execution_count": 28,
   "metadata": {},
   "outputs": [
    {
     "data": {
      "image/png": "[encoded data removed]",
      "text/plain": [
       "<Figure size 432x288 with 1 Axes>"
      ]
     },
     "metadata": {
      "needs_background": "light"
     },
     "output_type": "display_data"
    }
   ],
   "source": [
    "# un exemple d'utilisation:\n",
    "ad=ArbreDecision(0.0)          # initialiation d'un arbre binaire qui utilisera epsilon= 0.0\n",
    "ad.train(the_set)              # construction de l'arbre à partir de la base jouet\n",
    "ut.plot_frontiere(the_set,ad,20)  # tracé graphique de la frontière de décision\n",
    "ut.plot2DSet(the_set) "
   ]
  },
  {
   "cell_type": "code",
   "execution_count": 29,
   "metadata": {},
   "outputs": [
    {
     "data": {
      "image/svg+xml": [
       "<?xml version=\"1.0\" encoding=\"UTF-8\" standalone=\"no\"?>\r\n",
       "<!DOCTYPE svg PUBLIC \"-//W3C//DTD SVG 1.1//EN\"\r\n",
       " \"http://www.w3.org/Graphics/SVG/1.1/DTD/svg11.dtd\">\r\n",
       "<!-- Generated by graphviz version 2.38.0 (20140413.2041)\r\n",
       " -->\r\n",
       "<!-- Title: %3 Pages: 1 -->\r\n",
       "<svg width=\"336pt\" height=\"131pt\"\r\n",
       " viewBox=\"0.00 0.00 336.00 131.00\" xmlns=\"http://www.w3.org/2000/svg\" xmlns:xlink=\"http://www.w3.org/1999/xlink\">\r\n",
       "<g id=\"graph0\" class=\"graph\" transform=\"scale(1 1) rotate(0) translate(4 127)\">\r\n",
       "<title>%3</title>\r\n",
       "<polygon fill=\"white\" stroke=\"none\" points=\"-4,4 -4,-127 332,-127 332,4 -4,4\"/>\r\n",
       "<!-- A -->\r\n",
       "<g id=\"node1\" class=\"node\"><title>A</title>\r\n",
       "<ellipse fill=\"none\" stroke=\"black\" cx=\"113\" cy=\"-105\" rx=\"27\" ry=\"18\"/>\r\n",
       "<text text-anchor=\"middle\" x=\"113\" y=\"-101.3\" font-family=\"Times New Roman,serif\" font-size=\"14.00\">0</text>\r\n",
       "</g>\r\n",
       "<!-- Ag -->\r\n",
       "<g id=\"node2\" class=\"node\"><title>Ag</title>\r\n",
       "<polygon fill=\"none\" stroke=\"black\" points=\"54,-36 0,-36 0,-0 54,-0 54,-36\"/>\r\n",
       "<text text-anchor=\"middle\" x=\"27\" y=\"-14.3\" font-family=\"Times New Roman,serif\" font-size=\"14.00\">&#45;1</text>\r\n",
       "</g>\r\n",
       "<!-- A&#45;&gt;Ag -->\r\n",
       "<g id=\"edge1\" class=\"edge\"><title>A&#45;&gt;Ag</title>\r\n",
       "<path fill=\"none\" stroke=\"black\" d=\"M86.6939,-100.818C66.9545,-96.9091 41.158,-88.2292 28,-69 23.4999,-62.4236 22.098,-54.1358 22.1513,-46.2092\"/>\r\n",
       "<polygon fill=\"black\" stroke=\"black\" points=\"25.6461,-46.4097 22.9212,-36.1712 18.6666,-45.8743 25.6461,-46.4097\"/>\r\n",
       "<text text-anchor=\"middle\" x=\"102.5\" y=\"-57.8\" font-family=\"Times New Roman,serif\" font-size=\"14.00\">&lt;=0.013846627555182178</text>\r\n",
       "</g>\r\n",
       "<!-- Ad -->\r\n",
       "<g id=\"node3\" class=\"node\"><title>Ad</title>\r\n",
       "<polygon fill=\"none\" stroke=\"black\" points=\"226,-36 172,-36 172,-0 226,-0 226,-36\"/>\r\n",
       "<text text-anchor=\"middle\" x=\"199\" y=\"-14.3\" font-family=\"Times New Roman,serif\" font-size=\"14.00\">1</text>\r\n",
       "</g>\r\n",
       "<!-- A&#45;&gt;Ad -->\r\n",
       "<g id=\"edge2\" class=\"edge\"><title>A&#45;&gt;Ad</title>\r\n",
       "<path fill=\"none\" stroke=\"black\" d=\"M136.161,-95.726C149.539,-89.9667 165.869,-81.1306 177,-69 183.017,-62.4424 187.579,-53.9735 190.944,-45.8759\"/>\r\n",
       "<polygon fill=\"black\" stroke=\"black\" points=\"194.286,-46.9294 194.473,-36.3362 187.721,-44.501 194.286,-46.9294\"/>\r\n",
       "<text text-anchor=\"middle\" x=\"257.5\" y=\"-57.8\" font-family=\"Times New Roman,serif\" font-size=\"14.00\">&gt;0.013846627555182178</text>\r\n",
       "</g>\r\n",
       "</g>\r\n",
       "</svg>\r\n"
      ],
      "text/plain": [
       "<graphviz.dot.Digraph at 0x2ea1cdf3be0>"
      ]
     },
     "execution_count": 29,
     "metadata": {},
     "output_type": "execute_result"
    }
   ],
   "source": [
    "ad.plot()"
   ]
  },
  {
   "cell_type": "markdown",
   "metadata": {},
   "source": [
    "<font color=\"RED\" size=\"+1\">**[Q]**</font> Appliquer l'algorithme des arbres de décision à des données réelles (par exemple, celles utilisées avec les k-nn) et comparer les résultats obtenus par les 2 algorithmes.\n",
    "\n",
    "Un autre exemple d'utilisation sur une base plus grande:"
   ]
  },
  {
   "cell_type": "code",
   "execution_count": null,
   "metadata": {},
   "outputs": [],
   "source": [
    "autre_set=ut.createGaussianDataset(np.array([1,1]),np.array([[1,0],[0,1]]),np.array([-1,-1]),np.array([[1,0],[0,1]]),10)"
   ]
  },
  {
   "cell_type": "code",
   "execution_count": 76,
   "metadata": {
    "scrolled": true
   },
   "outputs": [
    {
     "name": "stdout",
     "output_type": "stream",
     "text": [
      "Taille de la base générée : 20 exemples\n"
     ]
    },
    {
     "data": {
      "image/png": "[encoded data removed]",
      "text/plain": [
       "<Figure size 432x288 with 1 Axes>"
      ]
     },
     "metadata": {
      "needs_background": "light"
     },
     "output_type": "display_data"
    }
   ],
   "source": [
    "lb= ls.LabeledSet(2)\n",
    "lb.addExample([1,1],1)\n",
    "lb.addExample([1,1],1)\n",
    "lb.addExample([1,1],1)\n",
    "lb.addExample([2,2],1)\n",
    "lb.addExample([2,2],1)\n",
    "lb.addExample([2,2],1)\n",
    "lb.addExample([4,4],1)\n",
    "lb.addExample([4,4],1)\n",
    "lb.addExample([4,4],1)\n",
    "lb.addExample([4,0],1)\n",
    "lb.addExample([4,0],-1)\n",
    "lb.addExample([4,0],-1)\n",
    "lb.addExample([1,-3],-1)\n",
    "lb.addExample([1,-3],-1)\n",
    "lb.addExample([1,-3],-1)\n",
    "lb.addExample([2,-3],-1)\n",
    "lb.addExample([2,-3],-1)\n",
    "lb.addExample([2,-3],-1)\n",
    "lb.addExample([3,-3],-1)\n",
    "lb.addExample([3,-3],-1)\n",
    "print(\"Taille de la base générée :\", lb.size(), \"exemples\")\n",
    "adautre=ArbreDecision(0.5)          \n",
    "adautre.train(lb)            \n",
    "ut.plot_frontiere(lb,adautre,20)\n",
    "ut.plot2DSet(autre_set) "
   ]
  },
  {
   "cell_type": "code",
   "execution_count": 77,
   "metadata": {},
   "outputs": [
    {
     "data": {
      "image/svg+xml": [
       "<?xml version=\"1.0\" encoding=\"UTF-8\" standalone=\"no\"?>\r\n",
       "<!DOCTYPE svg PUBLIC \"-//W3C//DTD SVG 1.1//EN\"\r\n",
       " \"http://www.w3.org/Graphics/SVG/1.1/DTD/svg11.dtd\">\r\n",
       "<!-- Generated by graphviz version 2.38.0 (20140413.2041)\r\n",
       " -->\r\n",
       "<!-- Title: %3 Pages: 1 -->\r\n",
       "<svg width=\"134pt\" height=\"131pt\"\r\n",
       " viewBox=\"0.00 0.00 134.00 131.00\" xmlns=\"http://www.w3.org/2000/svg\" xmlns:xlink=\"http://www.w3.org/1999/xlink\">\r\n",
       "<g id=\"graph0\" class=\"graph\" transform=\"scale(1 1) rotate(0) translate(4 127)\">\r\n",
       "<title>%3</title>\r\n",
       "<polygon fill=\"white\" stroke=\"none\" points=\"-4,4 -4,-127 130,-127 130,4 -4,4\"/>\r\n",
       "<!-- A -->\r\n",
       "<g id=\"node1\" class=\"node\"><title>A</title>\r\n",
       "<ellipse fill=\"none\" stroke=\"black\" cx=\"63\" cy=\"-105\" rx=\"27\" ry=\"18\"/>\r\n",
       "<text text-anchor=\"middle\" x=\"63\" y=\"-101.3\" font-family=\"Times New Roman,serif\" font-size=\"14.00\">1</text>\r\n",
       "</g>\r\n",
       "<!-- Ag -->\r\n",
       "<g id=\"node2\" class=\"node\"><title>Ag</title>\r\n",
       "<polygon fill=\"none\" stroke=\"black\" points=\"54,-36 0,-36 0,-0 54,-0 54,-36\"/>\r\n",
       "<text text-anchor=\"middle\" x=\"27\" y=\"-14.3\" font-family=\"Times New Roman,serif\" font-size=\"14.00\">&#45;1</text>\r\n",
       "</g>\r\n",
       "<!-- A&#45;&gt;Ag -->\r\n",
       "<g id=\"edge1\" class=\"edge\"><title>A&#45;&gt;Ag</title>\r\n",
       "<path fill=\"none\" stroke=\"black\" d=\"M52.9104,-87.9858C49.4862,-82.148 45.818,-75.4061 43,-69 39.8209,-61.7732 36.9613,-53.7122 34.5689,-46.209\"/>\r\n",
       "<polygon fill=\"black\" stroke=\"black\" points=\"37.862,-45.0074 31.6102,-36.4538 31.1634,-47.0392 37.862,-45.0074\"/>\r\n",
       "<text text-anchor=\"middle\" x=\"60\" y=\"-57.8\" font-family=\"Times New Roman,serif\" font-size=\"14.00\">&lt;=0.0</text>\r\n",
       "</g>\r\n",
       "<!-- Ad -->\r\n",
       "<g id=\"node3\" class=\"node\"><title>Ad</title>\r\n",
       "<polygon fill=\"none\" stroke=\"black\" points=\"126,-36 72,-36 72,-0 126,-0 126,-36\"/>\r\n",
       "<text text-anchor=\"middle\" x=\"99\" y=\"-14.3\" font-family=\"Times New Roman,serif\" font-size=\"14.00\">1</text>\r\n",
       "</g>\r\n",
       "<!-- A&#45;&gt;Ad -->\r\n",
       "<g id=\"edge2\" class=\"edge\"><title>A&#45;&gt;Ad</title>\r\n",
       "<path fill=\"none\" stroke=\"black\" d=\"M70.1124,-87.2067C75.1581,-75.2934 82.032,-59.0634 87.8086,-45.4242\"/>\r\n",
       "<polygon fill=\"black\" stroke=\"black\" points=\"91.102,-46.6225 91.7791,-36.0493 84.6563,-43.8925 91.102,-46.6225\"/>\r\n",
       "<text text-anchor=\"middle\" x=\"96\" y=\"-57.8\" font-family=\"Times New Roman,serif\" font-size=\"14.00\">&gt;0.0</text>\r\n",
       "</g>\r\n",
       "</g>\r\n",
       "</svg>\r\n"
      ],
      "text/plain": [
       "<graphviz.dot.Digraph at 0x2ea1cc9f358>"
      ]
     },
     "execution_count": 77,
     "metadata": {},
     "output_type": "execute_result"
    }
   ],
   "source": [
    "adautre.plot()"
   ]
  },
  {
   "cell_type": "markdown",
   "metadata": {},
   "source": [
    "### Améliorations (facultatif)"
   ]
  },
  {
   "cell_type": "markdown",
   "metadata": {},
   "source": [
    "Adapter votre algorithme afin de pouvoir construire des arbres de décision avec des attributs catégoriels. Dans un premier temps, vous considèrerez des attributs catégoriels à 2 valeurs. Ensuite, pour considérer des attributs à plus de 2 valeurs, vous devrez écrire une classe <code>ArbreGeneral</code> pour remplacer la classe <code>ArbreBinaire</code>."
   ]
  },
  {
   "cell_type": "markdown",
   "metadata": {},
   "source": [
    "## Etape 3: Expérimentation"
   ]
  },
  {
   "cell_type": "markdown",
   "metadata": {
    "collapsed": true
   },
   "source": [
    "Comparez le résultat obtenu avec ceux obtenus avec les 2 classifiers implémentés lors des TD-TME précédents. Ensuite, utilisez votre implémentation sur d'autres bases de données que vous avez déjà trouvées ou que vous pourrez trouver sur le web."
   ]
  },
  {
   "cell_type": "code",
   "execution_count": 33,
   "metadata": {},
   "outputs": [],
   "source": [
    "def split(labeledSet, p):\n",
    "    d = labeledSet.getInputDimension()\n",
    "    l1 = ls.LabeledSet(d)\n",
    "    l2 = ls.LabeledSet(d)\n",
    "    taille = labeledSet.size()\n",
    "    \n",
    "    for i in range(int(taille * p)):\n",
    "        l1.addExample(labeledSet.getX(i), labeledSet.getY(i))\n",
    "        \n",
    "    for j in range(int(taille * p), taille):\n",
    "        l2.addExample(labeledSet.getX(j), labeledSet.getY(j))\n",
    "        \n",
    "    return (l1,l2)"
   ]
  },
  {
   "cell_type": "code",
   "execution_count": 34,
   "metadata": {},
   "outputs": [],
   "source": [
    "def affiche_base(LS):\n",
    "    \"\"\" LabeledSet\n",
    "        affiche le contenu de LS\n",
    "    \"\"\"\n",
    "    for i in range(0,LS.size()):\n",
    "        print(\"Exemple \"+str(i))\n",
    "        print(\"\\tdescription : \",LS.getX(i))\n",
    "        print(\"\\tlabel : \",LS.getY(i))\n",
    "    return"
   ]
  },
  {
   "cell_type": "code",
   "execution_count": 35,
   "metadata": {},
   "outputs": [
    {
     "data": {
      "text/html": [
       "<div>\n",
       "<style scoped>\n",
       "    .dataframe tbody tr th:only-of-type {\n",
       "        vertical-align: middle;\n",
       "    }\n",
       "\n",
       "    .dataframe tbody tr th {\n",
       "        vertical-align: top;\n",
       "    }\n",
       "\n",
       "    .dataframe thead th {\n",
       "        text-align: right;\n",
       "    }\n",
       "</style>\n",
       "<table border=\"1\" class=\"dataframe\">\n",
       "  <thead>\n",
       "    <tr style=\"text-align: right;\">\n",
       "      <th></th>\n",
       "      <th>Age</th>\n",
       "      <th>BMI</th>\n",
       "      <th>Glucose</th>\n",
       "      <th>Insulin</th>\n",
       "      <th>HOMA</th>\n",
       "      <th>Leptin</th>\n",
       "      <th>Adiponectin</th>\n",
       "      <th>Resistin</th>\n",
       "      <th>MCP.1</th>\n",
       "      <th>Classification</th>\n",
       "    </tr>\n",
       "  </thead>\n",
       "  <tbody>\n",
       "    <tr>\n",
       "      <th>0</th>\n",
       "      <td>48</td>\n",
       "      <td>23.500000</td>\n",
       "      <td>70</td>\n",
       "      <td>2.707</td>\n",
       "      <td>0.467409</td>\n",
       "      <td>8.8071</td>\n",
       "      <td>9.702400</td>\n",
       "      <td>7.99585</td>\n",
       "      <td>417.114</td>\n",
       "      <td>1</td>\n",
       "    </tr>\n",
       "    <tr>\n",
       "      <th>1</th>\n",
       "      <td>83</td>\n",
       "      <td>20.690495</td>\n",
       "      <td>92</td>\n",
       "      <td>3.115</td>\n",
       "      <td>0.706897</td>\n",
       "      <td>8.8438</td>\n",
       "      <td>5.429285</td>\n",
       "      <td>4.06405</td>\n",
       "      <td>468.786</td>\n",
       "      <td>1</td>\n",
       "    </tr>\n",
       "    <tr>\n",
       "      <th>2</th>\n",
       "      <td>82</td>\n",
       "      <td>23.124670</td>\n",
       "      <td>91</td>\n",
       "      <td>4.498</td>\n",
       "      <td>1.009651</td>\n",
       "      <td>17.9393</td>\n",
       "      <td>22.432040</td>\n",
       "      <td>9.27715</td>\n",
       "      <td>554.697</td>\n",
       "      <td>1</td>\n",
       "    </tr>\n",
       "    <tr>\n",
       "      <th>3</th>\n",
       "      <td>68</td>\n",
       "      <td>21.367521</td>\n",
       "      <td>77</td>\n",
       "      <td>3.226</td>\n",
       "      <td>0.612725</td>\n",
       "      <td>9.8827</td>\n",
       "      <td>7.169560</td>\n",
       "      <td>12.76600</td>\n",
       "      <td>928.220</td>\n",
       "      <td>1</td>\n",
       "    </tr>\n",
       "    <tr>\n",
       "      <th>4</th>\n",
       "      <td>86</td>\n",
       "      <td>21.111111</td>\n",
       "      <td>92</td>\n",
       "      <td>3.549</td>\n",
       "      <td>0.805386</td>\n",
       "      <td>6.6994</td>\n",
       "      <td>4.819240</td>\n",
       "      <td>10.57635</td>\n",
       "      <td>773.920</td>\n",
       "      <td>1</td>\n",
       "    </tr>\n",
       "  </tbody>\n",
       "</table>\n",
       "</div>"
      ],
      "text/plain": [
       "   Age        BMI  Glucose  Insulin      HOMA   Leptin  Adiponectin  Resistin  \\\n",
       "0   48  23.500000       70    2.707  0.467409   8.8071     9.702400   7.99585   \n",
       "1   83  20.690495       92    3.115  0.706897   8.8438     5.429285   4.06405   \n",
       "2   82  23.124670       91    4.498  1.009651  17.9393    22.432040   9.27715   \n",
       "3   68  21.367521       77    3.226  0.612725   9.8827     7.169560  12.76600   \n",
       "4   86  21.111111       92    3.549  0.805386   6.6994     4.819240  10.57635   \n",
       "\n",
       "     MCP.1  Classification  \n",
       "0  417.114               1  \n",
       "1  468.786               1  \n",
       "2  554.697               1  \n",
       "3  928.220               1  \n",
       "4  773.920               1  "
      ]
     },
     "execution_count": 35,
     "metadata": {},
     "output_type": "execute_result"
    }
   ],
   "source": [
    "url = 'https://archive.ics.uci.edu/ml/machine-learning-databases/00451/dataR2.csv'\n",
    "#url = 'https://opendata.paris.fr/explore/dataset/velib-emplacement-des-stations/download/?format=csv&timezone=Europe/Berlin&use_labels_for_header=true'\n",
    "df = pd.read_csv(url, sep=',')\n",
    "df.head()"
   ]
  },
  {
   "cell_type": "code",
   "execution_count": 36,
   "metadata": {},
   "outputs": [
    {
     "name": "stdout",
     "output_type": "stream",
     "text": [
      "Exemple 0\n",
      "\tdescription :  [ 48.          23.5         70.           2.707        0.46740867\n",
      "   8.8071       9.7024       7.99585    417.114     ]\n",
      "\tlabel :  [-1]\n",
      "Exemple 1\n",
      "\tdescription :  [ 83.          20.69049454  92.           3.115        0.70689733\n",
      "   8.8438       5.429285     4.06405    468.786     ]\n",
      "\tlabel :  [-1]\n",
      "Exemple 2\n",
      "\tdescription :  [ 82.          23.12467037  91.           4.498        1.00965107\n",
      "  17.9393      22.43204      9.27715    554.697     ]\n",
      "\tlabel :  [-1]\n",
      "Exemple 3\n",
      "\tdescription :  [6.80000000e+01 2.13675214e+01 7.70000000e+01 3.22600000e+00\n",
      " 6.12724933e-01 9.88270000e+00 7.16956000e+00 1.27660000e+01\n",
      " 9.28220000e+02]\n",
      "\tlabel :  [-1]\n",
      "Exemple 4\n",
      "\tdescription :  [ 86.          21.11111111  92.           3.549        0.8053864\n",
      "   6.6994       4.81924     10.57635    773.92      ]\n",
      "\tlabel :  [-1]\n",
      "Exemple 5\n",
      "\tdescription :  [ 49.          22.85445769  92.           3.226        0.73208693\n",
      "   6.8317      13.67975     10.3176     530.41      ]\n",
      "\tlabel :  [-1]\n",
      "Exemple 6\n",
      "\tdescription :  [8.90000000e+01 2.27000000e+01 7.70000000e+01 4.69000000e+00\n",
      " 8.90787333e-01 6.96400000e+00 5.58986500e+00 1.29361000e+01\n",
      " 1.25608300e+03]\n",
      "\tlabel :  [-1]\n",
      "Exemple 7\n",
      "\tdescription :  [ 76.          23.8        118.           6.47         1.88320133\n",
      "   4.311       13.25132      5.1042     280.694     ]\n",
      "\tlabel :  [-1]\n",
      "Exemple 8\n",
      "\tdescription :  [ 73.          22.          97.           3.35         0.80154333\n",
      "   4.47        10.358725     6.28445    136.855     ]\n",
      "\tlabel :  [-1]\n",
      "Exemple 9\n",
      "\tdescription :  [ 75.          23.          83.           4.952        1.01383947\n",
      "  17.127       11.57899      7.0913     318.302     ]\n",
      "\tlabel :  [-1]\n",
      "Exemple 10\n",
      "\tdescription :  [ 34.         21.47       78.          3.469       0.6674356  14.57\n",
      "  13.11        6.92      354.6      ]\n",
      "\tlabel :  [-1]\n",
      "Exemple 11\n",
      "\tdescription :  [ 29.          23.01        82.           5.663        1.14543613\n",
      "  35.59        26.72         4.58       174.8       ]\n",
      "\tlabel :  [-1]\n",
      "Exemple 12\n",
      "\tdescription :  [ 25.          22.86        82.           4.09         0.82727067\n",
      "  20.45        23.67         5.14       313.73      ]\n",
      "\tlabel :  [-1]\n",
      "Exemple 13\n",
      "\tdescription :  [ 24.     18.67   88.      6.107   1.33    8.88   36.06    6.85  632.22 ]\n",
      "\tlabel :  [-1]\n",
      "Exemple 14\n",
      "\tdescription :  [ 38.       23.34     75.        5.782     1.06967  15.26     17.95\n",
      "   9.35    165.02   ]\n",
      "\tlabel :  [-1]\n",
      "Exemple 15\n",
      "\tdescription :  [44.    20.76  86.     7.553  1.6   14.09  20.32   7.64  63.61 ]\n",
      "\tlabel :  [-1]\n",
      "Exemple 16\n",
      "\tdescription :  [ 47.     22.03   84.      2.869   0.59   26.65   38.04    3.32  191.72 ]\n",
      "\tlabel :  [-1]\n",
      "Exemple 17\n",
      "\tdescription :  [ 61.          32.03895937  85.          18.077        3.79014433\n",
      "  30.7729       7.780255    13.68392    444.395     ]\n",
      "\tlabel :  [-1]\n",
      "Exemple 18\n",
      "\tdescription :  [ 64.          34.5297228   95.           4.427        1.03739367\n",
      "  21.2117       5.46262      6.70188    252.449     ]\n",
      "\tlabel :  [-1]\n",
      "Exemple 19\n",
      "\tdescription :  [ 32.          36.51263743  87.          14.026        3.0099796\n",
      "  49.3727       5.1         17.10223    588.46      ]\n",
      "\tlabel :  [-1]\n",
      "Exemple 20\n",
      "\tdescription :  [ 36.          28.57667585  86.           4.345        0.92171933\n",
      "  15.1248       8.6          9.1539     534.224     ]\n",
      "\tlabel :  [-1]\n",
      "Exemple 21\n",
      "\tdescription :  [ 34.          31.97501487  87.           4.53         0.972138\n",
      "  28.7502       7.64276      5.62592    572.783     ]\n",
      "\tlabel :  [-1]\n",
      "Exemple 22\n",
      "\tdescription :  [ 29.          32.27078777  84.           5.81         1.203832\n",
      "  45.6196       6.209635    24.6033     904.981     ]\n",
      "\tlabel :  [-1]\n",
      "Exemple 23\n",
      "\tdescription :  [ 35.          30.27681661  84.           4.376        0.9067072\n",
      "  39.2134       9.048185    16.43706    733.797     ]\n",
      "\tlabel :  [-1]\n",
      "Exemple 24\n",
      "\tdescription :  [  54.           30.48315806   90.            5.537         1.229214\n",
      "   12.331         9.73138      10.19299    1227.91      ]\n",
      "\tlabel :  [-1]\n",
      "Exemple 25\n",
      "\tdescription :  [ 45.          37.03560819  83.           6.76         1.38399733\n",
      "  39.9802       4.617125     8.70448    586.173     ]\n",
      "\tlabel :  [-1]\n",
      "Exemple 26\n",
      "\tdescription :  [ 50.          38.57875854 106.           6.703        1.75261107\n",
      "  46.6401       4.667645    11.78388    887.16      ]\n",
      "\tlabel :  [-1]\n",
      "Exemple 27\n",
      "\tdescription :  [  66.           31.44654088   90.            9.245         2.05239\n",
      "   45.9624       10.35526      23.3819     1102.11      ]\n",
      "\tlabel :  [-1]\n",
      "Exemple 28\n",
      "\tdescription :  [ 35.         35.2507611  90.          6.817       1.513374   50.6094\n",
      "   6.966895   22.03703   667.928    ]\n",
      "\tlabel :  [-1]\n",
      "Exemple 29\n",
      "\tdescription :  [ 36.          34.17489     80.           6.59         1.30042667\n",
      "  10.2809       5.065915    15.72187    581.313     ]\n",
      "\tlabel :  [-1]\n",
      "Exemple 30\n",
      "\tdescription :  [ 66.          36.21227888 101.          15.533        3.86978807\n",
      "  74.7069       7.53955     22.32024    864.968     ]\n",
      "\tlabel :  [-1]\n",
      "Exemple 31\n",
      "\tdescription :  [ 53.          36.7901662  101.          10.175        2.53493167\n",
      "  27.1841      20.03        10.26309    695.754     ]\n",
      "\tlabel :  [-1]\n",
      "Exemple 32\n",
      "\tdescription :  [ 28.          35.85581466  87.           8.576        1.8404096\n",
      "  68.5102       4.7942      21.44366    358.624     ]\n",
      "\tlabel :  [-1]\n",
      "Exemple 33\n",
      "\tdescription :  [ 43.          34.42217362  89.          23.194        5.09185613\n",
      "  31.2128       8.300955     6.71026    960.246     ]\n",
      "\tlabel :  [-1]\n",
      "Exemple 34\n",
      "\tdescription :  [ 51.          27.68877813  77.           3.855        0.732193\n",
      "  20.092        3.19209     10.37518    473.859     ]\n",
      "\tlabel :  [-1]\n",
      "Exemple 35\n",
      "\tdescription :  [ 67.          29.60676726  79.           5.819        1.13392913\n",
      "  21.9033       2.19428      4.2075     585.307     ]\n",
      "\tlabel :  [-1]\n",
      "Exemple 36\n",
      "\tdescription :  [ 66.          31.2385898   82.           4.181        0.84567693\n",
      "  16.2247       4.267105     3.29175    634.602     ]\n",
      "\tlabel :  [-1]\n",
      "Exemple 37\n",
      "\tdescription :  [ 69.          35.09270153 101.           5.646        1.4066068\n",
      "  83.4821       6.796985    82.1        263.499     ]\n",
      "\tlabel :  [-1]\n",
      "Exemple 38\n",
      "\tdescription :  [ 60.          26.34929208 103.           5.138        1.30539453\n",
      "  24.2998       2.19428     20.2535     378.996     ]\n",
      "\tlabel :  [-1]\n",
      "Exemple 39\n",
      "\tdescription :  [ 77.          35.58792924  76.           3.881        0.72755813\n",
      "  21.7863       8.12555     17.2615     618.272     ]\n",
      "\tlabel :  [-1]\n",
      "Exemple 40\n",
      "\tdescription :  [ 76.         29.2184076  83.          5.376       1.1006464  28.562\n",
      "   7.36996     8.04375   698.789    ]\n",
      "\tlabel :  [-1]\n",
      "Exemple 41\n",
      "\tdescription :  [ 76.        27.2       94.        14.07       3.262364  35.891\n",
      "   9.34663    8.4156   377.227   ]\n",
      "\tlabel :  [-1]\n",
      "Exemple 42\n",
      "\tdescription :  [ 75.          27.3         85.           5.197        1.08963767\n",
      "  10.39         9.000805     7.5767     335.393     ]\n",
      "\tlabel :  [-1]\n",
      "Exemple 43\n",
      "\tdescription :  [ 69.        32.5       93.         5.43       1.245642  15.145\n",
      "  11.78796   11.78796  270.142   ]\n",
      "\tlabel :  [-1]\n",
      "Exemple 44\n",
      "\tdescription :  [ 71.        30.3      102.         8.34       2.098344  56.502\n",
      "   8.13       4.2989   200.976   ]\n",
      "\tlabel :  [-1]\n",
      "Exemple 45\n",
      "\tdescription :  [ 66.        27.7       90.         6.042      1.341324  24.846\n",
      "   7.652055   6.7052   225.88    ]\n",
      "\tlabel :  [-1]\n",
      "Exemple 46\n",
      "\tdescription :  [ 75.         25.7        94.          8.079       1.8732508  65.926\n",
      "   3.74122     4.49685   206.802    ]\n",
      "\tlabel :  [-1]\n",
      "Exemple 47\n",
      "\tdescription :  [ 78.        25.3       60.         3.508      0.519184   6.633\n",
      "  10.567295   4.6638   209.749   ]\n",
      "\tlabel :  [-1]\n",
      "Exemple 48\n",
      "\tdescription :  [ 69.         29.4        89.         10.704       2.3498848  45.272\n",
      "   8.2863      4.53      215.769    ]\n",
      "\tlabel :  [-1]\n",
      "Exemple 49\n",
      "\tdescription :  [ 85.         26.6        96.          4.462       1.0566016   7.85\n",
      "   7.9317      9.6135    232.006    ]\n",
      "\tlabel :  [-1]\n",
      "Exemple 50\n",
      "\tdescription :  [ 76.        27.1      110.        26.211      7.111918  21.778\n",
      "   4.935635   8.49395   45.843   ]\n",
      "\tlabel :  [-1]\n",
      "Exemple 51\n",
      "\tdescription :  [ 77.          25.9         85.           4.58         0.96027333\n",
      "  13.74         9.75326     11.774      488.829     ]\n",
      "\tlabel :  [-1]\n",
      "Exemple 52\n",
      "\tdescription :  [ 45.          21.30394858 102.          13.852        3.4851632\n",
      "   7.6476      21.056625    23.03408    552.444     ]\n",
      "\tlabel :  [1]\n",
      "Exemple 53\n",
      "\tdescription :  [ 45.          20.82999519  74.           4.56         0.832352\n",
      "   7.7529       8.237405    28.0323     382.955     ]\n",
      "\tlabel :  [1]\n",
      "Exemple 54\n",
      "\tdescription :  [ 49.          20.9566075   94.          12.305        2.85311933\n",
      "  11.2406       8.412175    23.1177     573.63      ]\n",
      "\tlabel :  [1]\n",
      "Exemple 55\n",
      "\tdescription :  [ 34.          24.24242424  92.          21.699        4.9242264\n",
      "  16.7353      21.823745    12.06534    481.949     ]\n",
      "\tlabel :  [1]\n",
      "Exemple 56\n",
      "\tdescription :  [ 42.          21.35991456  93.           2.999        0.6879706\n",
      "  19.0826       8.462915    17.37615    321.919     ]\n",
      "\tlabel :  [1]\n",
      "Exemple 57\n",
      "\tdescription :  [ 68.          21.08281329 102.           6.2          1.55992\n",
      "   9.6994       8.574655    13.74244    448.799     ]\n",
      "\tlabel :  [1]\n",
      "Exemple 58\n",
      "\tdescription :  [51.         19.13265306 93.          4.364       1.0011016  11.0816\n",
      "  5.80762     5.57055    90.6       ]\n",
      "\tlabel :  [1]\n",
      "Exemple 59\n",
      "\tdescription :  [ 62.          22.65625     92.           3.482        0.79018187\n",
      "   9.8648      11.236235    10.69548    703.973     ]\n",
      "\tlabel :  [1]\n",
      "Exemple 60\n",
      "\tdescription :  [ 38.          22.4996371   95.           5.261        1.23282767\n",
      "   8.438        4.77192     15.73606    199.055     ]\n",
      "\tlabel :  [1]\n",
      "Exemple 61\n",
      "\tdescription :  [ 69.          21.51385851 112.           6.683        1.84629013\n",
      "  32.58         4.138025    15.69876    713.239     ]\n",
      "\tlabel :  [1]\n",
      "Exemple 62\n",
      "\tdescription :  [4.90000000e+01 2.13675214e+01 7.80000000e+01 2.64000000e+00\n",
      " 5.07936000e-01 6.33390000e+00 3.88614500e+00 2.29425400e+01\n",
      " 7.37672000e+02]\n",
      "\tlabel :  [1]\n",
      "Exemple 63\n",
      "\tdescription :  [ 51.          22.89281998 103.           2.74         0.69614267\n",
      "   8.0163       9.349775    11.55492    359.232     ]\n",
      "\tlabel :  [1]\n",
      "Exemple 64\n",
      "\tdescription :  [ 59.          22.83287935  98.           6.862        1.65877413\n",
      "  14.9037       4.230105     8.2049     355.31      ]\n",
      "\tlabel :  [1]\n",
      "Exemple 65\n",
      "\tdescription :  [ 45.          23.14049587 116.           4.902        1.4026256\n",
      "  17.9973       4.294705     5.2633     518.586     ]\n",
      "\tlabel :  [1]\n",
      "Exemple 66\n",
      "\tdescription :  [ 54.          24.21875     86.           3.73         0.79125733\n",
      "   8.6874       3.70523     10.34455    635.049     ]\n",
      "\tlabel :  [1]\n"
     ]
    }
   ],
   "source": [
    "age = df['Age']\n",
    "bmi = df['BMI']\n",
    "glucose = df['Glucose']\n",
    "insulin = df['Insulin']\n",
    "homa = df['HOMA']\n",
    "leptin = df['Leptin']\n",
    "adiponectin = df['Adiponectin']\n",
    "resistin = df['Resistin']\n",
    "mcp = df['MCP.1']\n",
    "clas = df['Classification']\n",
    "exp = ls.LabeledSet(9)\n",
    "\n",
    "taille = df.shape[0]\n",
    "for i in range(67): #avec une taille au-dessus, ça crash, trop de récurrences\n",
    "    exp.addExample([age[i], bmi[i], glucose[i], insulin[i], homa[i], leptin[i], adiponectin[i], resistin[i], mcp[i]], 1 if clas[i] == 2 else -1)\n",
    "    \n",
    "affiche_base(exp)"
   ]
  },
  {
   "cell_type": "code",
   "execution_count": 37,
   "metadata": {},
   "outputs": [
    {
     "data": {
      "image/svg+xml": [
       "<?xml version=\"1.0\" encoding=\"UTF-8\" standalone=\"no\"?>\r\n",
       "<!DOCTYPE svg PUBLIC \"-//W3C//DTD SVG 1.1//EN\"\r\n",
       " \"http://www.w3.org/Graphics/SVG/1.1/DTD/svg11.dtd\">\r\n",
       "<!-- Generated by graphviz version 2.38.0 (20140413.2041)\r\n",
       " -->\r\n",
       "<!-- Title: %3 Pages: 1 -->\r\n",
       "<svg width=\"348pt\" height=\"392pt\"\r\n",
       " viewBox=\"0.00 0.00 348.00 392.00\" xmlns=\"http://www.w3.org/2000/svg\" xmlns:xlink=\"http://www.w3.org/1999/xlink\">\r\n",
       "<g id=\"graph0\" class=\"graph\" transform=\"scale(1 1) rotate(0) translate(4 388)\">\r\n",
       "<title>%3</title>\r\n",
       "<polygon fill=\"white\" stroke=\"none\" points=\"-4,4 -4,-388 344,-388 344,4 -4,4\"/>\r\n",
       "<!-- A -->\r\n",
       "<g id=\"node1\" class=\"node\"><title>A</title>\r\n",
       "<ellipse fill=\"none\" stroke=\"black\" cx=\"218\" cy=\"-366\" rx=\"27\" ry=\"18\"/>\r\n",
       "<text text-anchor=\"middle\" x=\"218\" y=\"-362.3\" font-family=\"Times New Roman,serif\" font-size=\"14.00\">1</text>\r\n",
       "</g>\r\n",
       "<!-- Ag -->\r\n",
       "<g id=\"node2\" class=\"node\"><title>Ag</title>\r\n",
       "<ellipse fill=\"none\" stroke=\"black\" cx=\"163\" cy=\"-279\" rx=\"27\" ry=\"18\"/>\r\n",
       "<text text-anchor=\"middle\" x=\"163\" y=\"-275.3\" font-family=\"Times New Roman,serif\" font-size=\"14.00\">2</text>\r\n",
       "</g>\r\n",
       "<!-- A&#45;&gt;Ag -->\r\n",
       "<g id=\"edge9\" class=\"edge\"><title>A&#45;&gt;Ag</title>\r\n",
       "<path fill=\"none\" stroke=\"black\" d=\"M195.108,-356.335C183.617,-350.695 170.737,-342.105 164,-330 160.226,-323.22 158.966,-315.079 158.923,-307.355\"/>\r\n",
       "<polygon fill=\"black\" stroke=\"black\" points=\"162.425,-307.43 159.499,-297.247 155.436,-307.031 162.425,-307.43\"/>\r\n",
       "<text text-anchor=\"middle\" x=\"208\" y=\"-318.8\" font-family=\"Times New Roman,serif\" font-size=\"14.00\">&lt;=24.77121212</text>\r\n",
       "</g>\r\n",
       "<!-- Ad -->\r\n",
       "<g id=\"node11\" class=\"node\"><title>Ad</title>\r\n",
       "<polygon fill=\"none\" stroke=\"black\" points=\"301,-297 247,-297 247,-261 301,-261 301,-297\"/>\r\n",
       "<text text-anchor=\"middle\" x=\"274\" y=\"-275.3\" font-family=\"Times New Roman,serif\" font-size=\"14.00\">&#45;1</text>\r\n",
       "</g>\r\n",
       "<!-- A&#45;&gt;Ad -->\r\n",
       "<g id=\"edge10\" class=\"edge\"><title>A&#45;&gt;Ad</title>\r\n",
       "<path fill=\"none\" stroke=\"black\" d=\"M233.827,-351.041C240.039,-345.004 246.889,-337.589 252,-330 256.768,-322.921 260.902,-314.639 264.26,-306.876\"/>\r\n",
       "<polygon fill=\"black\" stroke=\"black\" points=\"267.568,-308.031 268.086,-297.449 261.082,-305.398 267.568,-308.031\"/>\r\n",
       "<text text-anchor=\"middle\" x=\"300\" y=\"-318.8\" font-family=\"Times New Roman,serif\" font-size=\"14.00\">&gt;24.77121212</text>\r\n",
       "</g>\r\n",
       "<!-- Agg -->\r\n",
       "<g id=\"node3\" class=\"node\"><title>Agg</title>\r\n",
       "<ellipse fill=\"none\" stroke=\"black\" cx=\"125\" cy=\"-192\" rx=\"27\" ry=\"18\"/>\r\n",
       "<text text-anchor=\"middle\" x=\"125\" y=\"-188.3\" font-family=\"Times New Roman,serif\" font-size=\"14.00\">7</text>\r\n",
       "</g>\r\n",
       "<!-- Ag&#45;&gt;Agg -->\r\n",
       "<g id=\"edge7\" class=\"edge\"><title>Ag&#45;&gt;Agg</title>\r\n",
       "<path fill=\"none\" stroke=\"black\" d=\"M154.252,-261.775C151.201,-255.918 147.834,-249.217 145,-243 141.509,-235.344 138.001,-226.891 134.919,-219.148\"/>\r\n",
       "<polygon fill=\"black\" stroke=\"black\" points=\"138.178,-217.872 131.277,-209.833 131.659,-220.421 138.178,-217.872\"/>\r\n",
       "<text text-anchor=\"middle\" x=\"165.5\" y=\"-231.8\" font-family=\"Times New Roman,serif\" font-size=\"14.00\">&lt;=92.0</text>\r\n",
       "</g>\r\n",
       "<!-- Agd -->\r\n",
       "<g id=\"node8\" class=\"node\"><title>Agd</title>\r\n",
       "<ellipse fill=\"none\" stroke=\"black\" cx=\"215\" cy=\"-192\" rx=\"27\" ry=\"18\"/>\r\n",
       "<text text-anchor=\"middle\" x=\"215\" y=\"-188.3\" font-family=\"Times New Roman,serif\" font-size=\"14.00\">0</text>\r\n",
       "</g>\r\n",
       "<!-- Ag&#45;&gt;Agd -->\r\n",
       "<g id=\"edge8\" class=\"edge\"><title>Ag&#45;&gt;Agd</title>\r\n",
       "<path fill=\"none\" stroke=\"black\" d=\"M173.723,-262.091C177.658,-256.147 182.102,-249.309 186,-243 190.929,-235.023 196.123,-226.209 200.732,-218.23\"/>\r\n",
       "<polygon fill=\"black\" stroke=\"black\" points=\"203.887,-219.765 205.823,-209.349 197.814,-216.284 203.887,-219.765\"/>\r\n",
       "<text text-anchor=\"middle\" x=\"212.5\" y=\"-231.8\" font-family=\"Times New Roman,serif\" font-size=\"14.00\">&gt;92.0</text>\r\n",
       "</g>\r\n",
       "<!-- Aggg -->\r\n",
       "<g id=\"node4\" class=\"node\"><title>Aggg</title>\r\n",
       "<polygon fill=\"none\" stroke=\"black\" points=\"54,-123 0,-123 0,-87 54,-87 54,-123\"/>\r\n",
       "<text text-anchor=\"middle\" x=\"27\" y=\"-101.3\" font-family=\"Times New Roman,serif\" font-size=\"14.00\">&#45;1</text>\r\n",
       "</g>\r\n",
       "<!-- Agg&#45;&gt;Aggg -->\r\n",
       "<g id=\"edge3\" class=\"edge\"><title>Agg&#45;&gt;Aggg</title>\r\n",
       "<path fill=\"none\" stroke=\"black\" d=\"M99.5661,-185.235C82.3994,-180.154 60.3415,-171.136 46,-156 39.9154,-149.578 35.7282,-141.012 32.8688,-132.786\"/>\r\n",
       "<polygon fill=\"black\" stroke=\"black\" points=\"36.1934,-131.686 30.0013,-123.089 29.4807,-133.671 36.1934,-131.686\"/>\r\n",
       "<text text-anchor=\"middle\" x=\"83.5\" y=\"-144.8\" font-family=\"Times New Roman,serif\" font-size=\"14.00\">&lt;=10.331075</text>\r\n",
       "</g>\r\n",
       "<!-- Aggd -->\r\n",
       "<g id=\"node5\" class=\"node\"><title>Aggd</title>\r\n",
       "<ellipse fill=\"none\" stroke=\"black\" cx=\"125\" cy=\"-105\" rx=\"27\" ry=\"18\"/>\r\n",
       "<text text-anchor=\"middle\" x=\"125\" y=\"-101.3\" font-family=\"Times New Roman,serif\" font-size=\"14.00\">0</text>\r\n",
       "</g>\r\n",
       "<!-- Agg&#45;&gt;Aggd -->\r\n",
       "<g id=\"edge4\" class=\"edge\"><title>Agg&#45;&gt;Aggd</title>\r\n",
       "<path fill=\"none\" stroke=\"black\" d=\"M125,-173.799C125,-162.163 125,-146.548 125,-133.237\"/>\r\n",
       "<polygon fill=\"black\" stroke=\"black\" points=\"128.5,-133.175 125,-123.175 121.5,-133.175 128.5,-133.175\"/>\r\n",
       "<text text-anchor=\"middle\" x=\"158.5\" y=\"-144.8\" font-family=\"Times New Roman,serif\" font-size=\"14.00\">&gt;10.331075</text>\r\n",
       "</g>\r\n",
       "<!-- Aggdg -->\r\n",
       "<g id=\"node6\" class=\"node\"><title>Aggdg</title>\r\n",
       "<polygon fill=\"none\" stroke=\"black\" points=\"116,-36 62,-36 62,-0 116,-0 116,-36\"/>\r\n",
       "<text text-anchor=\"middle\" x=\"89\" y=\"-14.3\" font-family=\"Times New Roman,serif\" font-size=\"14.00\">1</text>\r\n",
       "</g>\r\n",
       "<!-- Aggd&#45;&gt;Aggdg -->\r\n",
       "<g id=\"edge1\" class=\"edge\"><title>Aggd&#45;&gt;Aggdg</title>\r\n",
       "<path fill=\"none\" stroke=\"black\" d=\"M111.171,-89.3516C106.3,-83.4397 101.237,-76.2955 98,-69 94.8522,-61.9053 92.8051,-53.78 91.4738,-46.171\"/>\r\n",
       "<polygon fill=\"black\" stroke=\"black\" points=\"94.9377,-45.6687 90.0661,-36.2603 88.0073,-46.6532 94.9377,-45.6687\"/>\r\n",
       "<text text-anchor=\"middle\" x=\"118.5\" y=\"-57.8\" font-family=\"Times New Roman,serif\" font-size=\"14.00\">&lt;=65.0</text>\r\n",
       "</g>\r\n",
       "<!-- Aggdd -->\r\n",
       "<g id=\"node7\" class=\"node\"><title>Aggdd</title>\r\n",
       "<polygon fill=\"none\" stroke=\"black\" points=\"188,-36 134,-36 134,-0 188,-0 188,-36\"/>\r\n",
       "<text text-anchor=\"middle\" x=\"161\" y=\"-14.3\" font-family=\"Times New Roman,serif\" font-size=\"14.00\">&#45;1</text>\r\n",
       "</g>\r\n",
       "<!-- Aggd&#45;&gt;Aggdd -->\r\n",
       "<g id=\"edge2\" class=\"edge\"><title>Aggd&#45;&gt;Aggdd</title>\r\n",
       "<path fill=\"none\" stroke=\"black\" d=\"M132.112,-87.2067C137.158,-75.2934 144.032,-59.0634 149.809,-45.4242\"/>\r\n",
       "<polygon fill=\"black\" stroke=\"black\" points=\"153.102,-46.6225 153.779,-36.0493 146.656,-43.8925 153.102,-46.6225\"/>\r\n",
       "<text text-anchor=\"middle\" x=\"162.5\" y=\"-57.8\" font-family=\"Times New Roman,serif\" font-size=\"14.00\">&gt;65.0</text>\r\n",
       "</g>\r\n",
       "<!-- Agdg -->\r\n",
       "<g id=\"node9\" class=\"node\"><title>Agdg</title>\r\n",
       "<polygon fill=\"none\" stroke=\"black\" points=\"242,-123 188,-123 188,-87 242,-87 242,-123\"/>\r\n",
       "<text text-anchor=\"middle\" x=\"215\" y=\"-101.3\" font-family=\"Times New Roman,serif\" font-size=\"14.00\">1</text>\r\n",
       "</g>\r\n",
       "<!-- Agd&#45;&gt;Agdg -->\r\n",
       "<g id=\"edge5\" class=\"edge\"><title>Agd&#45;&gt;Agdg</title>\r\n",
       "<path fill=\"none\" stroke=\"black\" d=\"M215,-173.799C215,-162.163 215,-146.548 215,-133.237\"/>\r\n",
       "<polygon fill=\"black\" stroke=\"black\" points=\"218.5,-133.175 215,-123.175 211.5,-133.175 218.5,-133.175\"/>\r\n",
       "<text text-anchor=\"middle\" x=\"235.5\" y=\"-144.8\" font-family=\"Times New Roman,serif\" font-size=\"14.00\">&lt;=71.0</text>\r\n",
       "</g>\r\n",
       "<!-- Agdd -->\r\n",
       "<g id=\"node10\" class=\"node\"><title>Agdd</title>\r\n",
       "<polygon fill=\"none\" stroke=\"black\" points=\"314,-123 260,-123 260,-87 314,-87 314,-123\"/>\r\n",
       "<text text-anchor=\"middle\" x=\"287\" y=\"-101.3\" font-family=\"Times New Roman,serif\" font-size=\"14.00\">&#45;1</text>\r\n",
       "</g>\r\n",
       "<!-- Agd&#45;&gt;Agdd -->\r\n",
       "<g id=\"edge6\" class=\"edge\"><title>Agd&#45;&gt;Agdd</title>\r\n",
       "<path fill=\"none\" stroke=\"black\" d=\"M234,-178.909C242.647,-172.771 252.582,-164.763 260,-156 265.956,-148.964 271.161,-140.404 275.369,-132.368\"/>\r\n",
       "<polygon fill=\"black\" stroke=\"black\" points=\"278.557,-133.817 279.838,-123.3 272.278,-130.723 278.557,-133.817\"/>\r\n",
       "<text text-anchor=\"middle\" x=\"285.5\" y=\"-144.8\" font-family=\"Times New Roman,serif\" font-size=\"14.00\">&gt;71.0</text>\r\n",
       "</g>\r\n",
       "</g>\r\n",
       "</svg>\r\n"
      ],
      "text/plain": [
       "<graphviz.dot.Digraph at 0xecb710>"
      ]
     },
     "execution_count": 37,
     "metadata": {},
     "output_type": "execute_result"
    }
   ],
   "source": [
    "aaaa=ArbreDecision(0.0)          \n",
    "aaaa.train(exp)\n",
    "aaaa.plot()"
   ]
  },
  {
   "cell_type": "code",
   "execution_count": null,
   "metadata": {},
   "outputs": [],
   "source": []
  }
 ],
 "metadata": {
  "kernelspec": {
   "display_name": "Python 3",
   "language": "python",
   "name": "python3"
  },
  "language_info": {
   "codemirror_mode": {
    "name": "ipython",
    "version": 3
   },
   "file_extension": ".py",
   "mimetype": "text/x-python",
   "name": "python",
   "nbconvert_exporter": "python",
   "pygments_lexer": "ipython3",
   "version": "3.7.2"
  }
 },
 "nbformat": 4,
 "nbformat_minor": 1
}
