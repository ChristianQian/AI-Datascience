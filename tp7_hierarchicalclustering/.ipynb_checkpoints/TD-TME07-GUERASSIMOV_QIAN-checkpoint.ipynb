{
 "cells": [
  {
   "cell_type": "markdown",
   "metadata": {},
   "source": [
    "IA & Data science (3i026) -- 2018-2019\n",
    "--------\n",
    "*&copy; Equipe pédagogique: Manon Ansart, Vincent Guigue, Marie-Jeanne Lesot, Christophe Marsala, Olivier Schwander.*"
   ]
  },
  {
   "cell_type": "markdown",
   "metadata": {},
   "source": [
    "# TD-TME07: algorithmes d'apprentissage non-supervisé"
   ]
  },
  {
   "cell_type": "markdown",
   "metadata": {},
   "source": [
    "L'objectif de cette séance est d'implémenter des algorithmes d'apprentissage non-supervisé (cf. cours 8), en particulier, l'algorithme de classification hiérarchique."
   ]
  },
  {
   "cell_type": "markdown",
   "metadata": {},
   "source": [
    "<font size=\"+1\" color=\"RED\">**[Q]**</font> **Indiquer dans la boîte ci-dessous vos noms et prénoms :**"
   ]
  },
  {
   "cell_type": "markdown",
   "metadata": {},
   "source": [
    "GUERASSIMOV Alexandre - QIAN Christian"
   ]
  },
  {
   "cell_type": "markdown",
   "metadata": {},
   "source": [
    "<font color=\"RED\" size=\"+1\">**[Q]**</font> **Renommer ce fichier ipython**\n",
    "\n",
    "Tout en haut de cette page, cliquer sur <tt>TD-TME07</tt> et rajouter à la suite de <tt>TD-TME07</tt> les noms des membres du binômes séparés par un tiret."
   ]
  },
  {
   "cell_type": "markdown",
   "metadata": {},
   "source": [
    "\n",
    "## Préparation"
   ]
  },
  {
   "cell_type": "markdown",
   "metadata": {},
   "source": [
    "L'archive récupérée avec ce fichier contient aussi le répertoire <code>data</code> qui contient les bases pour expérimenter vos fonctions."
   ]
  },
  {
   "cell_type": "markdown",
   "metadata": {},
   "source": [
    "Avant de commencer, exécuter le bloc suivant afin de pouvoir initialiser des variables utiles :"
   ]
  },
  {
   "cell_type": "code",
   "execution_count": 1,
   "metadata": {},
   "outputs": [],
   "source": [
    "import numpy as np\n",
    "import pandas as pd\n",
    "import math\n",
    "from datetime import datetime as dt\n",
    "import matplotlib.pyplot as plt\n",
    "%matplotlib inline  "
   ]
  },
  {
   "cell_type": "markdown",
   "metadata": {},
   "source": [
    "## Travail à réaliser"
   ]
  },
  {
   "cell_type": "markdown",
   "metadata": {},
   "source": [
    "Le travail à faire se décompose en 2 phases :\n",
    "- dans un premier temps, le travail porte sur la base d'apprentissage <code>base-2D.csv</code> qui contient des exemples décrits dans $R^2$. Ainsi, il est plus aisé de visualiser les résultats des fonctions à écrire ;\n",
    "- dans un second temps, les fonctions écrites dans la phase précédente sont à utiliser avec la base d'apprentissage \"base-Paris.csv\".\n",
    "\n",
    "**Attention**: vos fonctions doivent **dès leur création** pouvoir s'appliquer **quelle que soit la dimension** des exemples traités."
   ]
  },
  {
   "cell_type": "markdown",
   "metadata": {},
   "source": [
    "## Phase 1: implémentation des fonctions de base"
   ]
  },
  {
   "cell_type": "markdown",
   "metadata": {},
   "source": [
    "### Chargement du fichier \"base_2D.csv\""
   ]
  },
  {
   "cell_type": "markdown",
   "metadata": {},
   "source": [
    "La lecture d'un fichier CSV par <code>pd.read()</code> fournit un <code>DataFrame</code> que vous avez appris à manipuler dans les séances précédentes."
   ]
  },
  {
   "cell_type": "code",
   "execution_count": 2,
   "metadata": {},
   "outputs": [
    {
     "name": "stdout",
     "output_type": "stream",
     "text": [
      "Il y a 14 exemples dans la base.\n"
     ]
    }
   ],
   "source": [
    "# Par exemple:\n",
    "data_2D = pd.read_csv(\"data/base-2D.csv\")\n",
    "print(\"Il y a\", len(data_2D), \"exemples dans la base.\")"
   ]
  },
  {
   "cell_type": "markdown",
   "metadata": {},
   "source": [
    "<font size=\"+1\" color=\"RED\">**[Q]**</font> Exécuter le code suivant qui permet de réaliser une représentation graphique de cette base d'apprentissage.\n"
   ]
  },
  {
   "cell_type": "code",
   "execution_count": 3,
   "metadata": {},
   "outputs": [
    {
     "data": {
      "text/plain": [
       "<matplotlib.collections.PathCollection at 0x2064ea68208>"
      ]
     },
     "execution_count": 3,
     "metadata": {},
     "output_type": "execute_result"
    },
    {
     "data": {
      "image/png": "[encoded data removed]",
      "text/plain": [
       "<Figure size 432x288 with 1 Axes>"
      ]
     },
     "metadata": {
      "needs_background": "light"
     },
     "output_type": "display_data"
    }
   ],
   "source": [
    "M_data2D= data_2D.values      # conversion du DataFrame en matrice pour la commande suivante\n",
    "colonne_X= M_data2D[0: , 0]        # récupération des valeurs de la première colonne\n",
    "colonne_Y= M_data2D[0: , 1]        # récupération des valeurs de la deuxième colonne\n",
    "plt.scatter(colonne_X, colonne_Y)  # affichage des points"
   ]
  },
  {
   "cell_type": "markdown",
   "metadata": {},
   "source": [
    "## Fonctions préliminaires"
   ]
  },
  {
   "cell_type": "markdown",
   "metadata": {},
   "source": [
    "### Normalisation des données"
   ]
  },
  {
   "cell_type": "markdown",
   "metadata": {},
   "source": [
    "<font size=\"+1\" color=\"RED\">**[Q]**</font> Ecrire la fonction <code>normalisation</code> qui prend en argument un <code>DataFrame</code> et rend la matrice obtenue en normalisant chaque colonne de ce <code>DataFrame</code> en appliquant la normalisation vue en cours.\n"
   ]
  },
  {
   "cell_type": "code",
   "execution_count": 4,
   "metadata": {},
   "outputs": [
    {
     "data": {
      "text/plain": [
       "array([[0. , 4. ],\n",
       "       [1. , 3.5],\n",
       "       [1. , 1. ],\n",
       "       [2. , 1. ],\n",
       "       [2. , 2. ],\n",
       "       [4. , 4. ],\n",
       "       [4. , 5. ],\n",
       "       [4. , 6. ],\n",
       "       [4.5, 1. ],\n",
       "       [4.5, 6. ],\n",
       "       [5. , 1. ],\n",
       "       [5. , 5. ],\n",
       "       [6. , 2. ],\n",
       "       [7. , 4. ]])"
      ]
     },
     "execution_count": 4,
     "metadata": {},
     "output_type": "execute_result"
    }
   ],
   "source": [
    "M_data2D"
   ]
  },
  {
   "cell_type": "code",
   "execution_count": 5,
   "metadata": {},
   "outputs": [
    {
     "name": "stdout",
     "output_type": "stream",
     "text": [
      "[[0.         0.6       ]\n",
      " [0.14285714 0.5       ]\n",
      " [0.14285714 0.        ]\n",
      " [0.28571429 0.        ]\n",
      " [0.28571429 0.2       ]\n",
      " [0.57142857 0.6       ]\n",
      " [0.57142857 0.8       ]\n",
      " [0.57142857 1.        ]\n",
      " [0.64285714 0.        ]\n",
      " [0.64285714 1.        ]\n",
      " [0.71428571 0.        ]\n",
      " [0.71428571 0.8       ]\n",
      " [0.85714286 0.2       ]\n",
      " [1.         0.6       ]]\n",
      "colonne X : 0.0 7.0\n",
      "colonne Y : 1.0 6.0\n"
     ]
    }
   ],
   "source": [
    "def normalisation(data):\n",
    "    #res = data.copy()\n",
    "    #col_X= data[0: , 0]\n",
    "    #col_Y= data[0: , 1]\n",
    "    #mix = min(col_X)\n",
    "    #mx = max(col_X)\n",
    "    #miy = min(col_Y)\n",
    "    #my = max(col_Y)\n",
    "    #res[0: ,0] = data[0: , 0] - mix\n",
    "    #res[0: ,0] /= (mx - mix)\n",
    "    #res[0: ,1] = data[0: , 1] - miy\n",
    "    #res[0: ,1] /= (my - miy)\n",
    "    return (data - data.min(axis=0)) / (data.max(axis=0) - data.min(axis=0))\n",
    "    #return res\n",
    "\n",
    "n = normalisation(M_data2D) \n",
    "print(n)\n",
    "reftest = np.array([[0.        , 0.6       ],\\\n",
    "       [0.14285714, 0.5       ],\\\n",
    "       [0.14285714, 0.        ],\\\n",
    "       [0.28571429, 0.        ],\\\n",
    "       [0.28571429, 0.2       ],\\\n",
    "       [0.57142857, 0.6       ],\\\n",
    "       [0.57142857, 0.8       ],\\\n",
    "       [0.57142857, 1.        ],\\\n",
    "       [0.64285714, 0.        ],\\\n",
    "       [0.64285714, 1.        ],\\\n",
    "       [0.71428571, 0.        ],\\\n",
    "       [0.71428571, 0.8       ],\\\n",
    "       [0.85714286, 0.2       ],\\\n",
    "       [1.        , 0.6       ]])\n",
    "assert np.equal(n.all(), reftest.all())\n",
    "print(\"colonne X :\", min(colonne_X), max(colonne_X))\n",
    "print(\"colonne Y :\", min(colonne_Y), max(colonne_Y))"
   ]
  },
  {
   "cell_type": "markdown",
   "metadata": {},
   "source": [
    "**[Q]** Normaliser les données de la base-2D et afficher leur représentation graphique: vérifier que le tracé est le même que celui obtenu avant la normalisation (aux valeurs des axes près)."
   ]
  },
  {
   "cell_type": "code",
   "execution_count": 6,
   "metadata": {},
   "outputs": [
    {
     "data": {
      "text/plain": [
       "<matplotlib.collections.PathCollection at 0x2063bfdb668>"
      ]
     },
     "execution_count": 6,
     "metadata": {},
     "output_type": "execute_result"
    },
    {
     "data": {
      "image/png": "[encoded data removed]",
      "text/plain": [
       "<Figure size 432x288 with 1 Axes>"
      ]
     },
     "metadata": {
      "needs_background": "light"
     },
     "output_type": "display_data"
    }
   ],
   "source": [
    "colonne_X= n[0: , 0]        # récupération des valeurs de la première colonne\n",
    "colonne_Y= n[0: , 1]        # récupération des valeurs de la deuxième colonne\n",
    "plt.scatter(colonne_X, colonne_Y)"
   ]
  },
  {
   "cell_type": "markdown",
   "metadata": {},
   "source": [
    "### Distances entre exemples"
   ]
  },
  {
   "cell_type": "markdown",
   "metadata": {},
   "source": [
    "<font size=\"+1\" color=\"RED\">**[Q]**</font> Ecrire la fonction <code>dist_euclidienne_vect</code> qui prend en argument deux exemples sous la forme de vecteurs et rend leur distance euclidienne. "
   ]
  },
  {
   "cell_type": "code",
   "execution_count": 7,
   "metadata": {},
   "outputs": [],
   "source": [
    "def dist_euclidienne_vect(e1, e2):\n",
    "    return np.sqrt(((e2 - e1)**2).sum())"
   ]
  },
  {
   "cell_type": "code",
   "execution_count": 8,
   "metadata": {},
   "outputs": [
    {
     "name": "stdout",
     "output_type": "stream",
     "text": [
      "v1 :  [0.  0.6] \n",
      "v2 :  [0.14285714 0.5       ]\n",
      "distance euclidienne entre v1 et v2 :  0.17437936593905287\n"
     ]
    }
   ],
   "source": [
    "# Exemple d'utilisation sur les 2 premiers exemples de la base:\n",
    "v1= n[0,:]\n",
    "v2= n[1,:]\n",
    "print(\"v1 : \",v1, \"\\nv2 : \",v2)\n",
    "\n",
    "assert dist_euclidienne_vect(v1,v2) == 0.17437936593905287\n",
    "print(\"distance euclidienne entre v1 et v2 : \", dist_euclidienne_vect(v1,v2))"
   ]
  },
  {
   "cell_type": "markdown",
   "metadata": {},
   "source": [
    "<font size=\"+1\" color=\"RED\">**[Q]**</font> Ecrire la fonction <code>dist_manhattan_vect</code> qui prend en argument deux exemples et rend leur distance de Manhattan. "
   ]
  },
  {
   "cell_type": "code",
   "execution_count": 9,
   "metadata": {},
   "outputs": [],
   "source": [
    "def dist_manhattan_vect(e1, e2):\n",
    "    return np.abs(e2 - e1).sum()"
   ]
  },
  {
   "cell_type": "code",
   "execution_count": 10,
   "metadata": {
    "scrolled": true
   },
   "outputs": [
    {
     "name": "stdout",
     "output_type": "stream",
     "text": [
      "v1 :  [0.  0.6] \n",
      "v2 :  [0.14285714 0.5       ]\n",
      "distance de Manhattan entre v1 et v2 :  0.24285714285714283\n"
     ]
    }
   ],
   "source": [
    "# Exemple d'utilisation sur les 2 premiers exemples de la base:\n",
    "v1= n[0,:]\n",
    "v2= n[1,:]\n",
    "print(\"v1 : \",v1, \"\\nv2 : \",v2)\n",
    "\n",
    "assert dist_manhattan_vect(v1,v2) == 0.24285714285714283\n",
    "print(\"distance de Manhattan entre v1 et v2 : \", dist_manhattan_vect(v1,v2))"
   ]
  },
  {
   "cell_type": "markdown",
   "metadata": {},
   "source": [
    "<font size=\"+1\" color=\"RED\">**[Q]**</font> Ecrire la fonction <code>dist_vect</code> qui prend en argument une chaîne de caractères (soit la chaîne \"euclidienne\", soit \"manhattan\") ainsi que deux vecteurs et qui rend leur distance soit euclidienne, soit de Manhattan selon le cas."
   ]
  },
  {
   "cell_type": "code",
   "execution_count": 11,
   "metadata": {},
   "outputs": [],
   "source": [
    "def dist_vect(s, v1, v2):\n",
    "    if s == \"euclidienne\":\n",
    "        return dist_euclidienne_vect(v1, v2)\n",
    "    elif s == \"manhattan\":\n",
    "        return dist_manhattan_vect(v1, v2)\n",
    "    "
   ]
  },
  {
   "cell_type": "code",
   "execution_count": 12,
   "metadata": {
    "scrolled": true
   },
   "outputs": [
    {
     "name": "stdout",
     "output_type": "stream",
     "text": [
      "v1 :  [0.  0.6] \n",
      "v2 :  [0.14285714 0.5       ]\n",
      "distance  euclidienne  entre v1 et v2 :\t 0.17437936593905287\n",
      "distance  manhattan  entre v1 et v2 :\t 0.24285714285714283\n"
     ]
    }
   ],
   "source": [
    "v1= n[0,:]\n",
    "v2= n[1,:]\n",
    "print(\"v1 : \",v1, \"\\nv2 : \",v2)\n",
    "\n",
    "for nom in [\"euclidienne\", \"manhattan\"] :\n",
    "    print(\"distance \", nom, \" entre v1 et v2 :\\t\", dist_vect(nom,v1,v2))\n"
   ]
  },
  {
   "cell_type": "markdown",
   "metadata": {},
   "source": [
    "### Calcul de centroides"
   ]
  },
  {
   "cell_type": "markdown",
   "metadata": {},
   "source": [
    "<font size=\"+1\" color=\"RED\">**[Q]**</font> Ecrire la fonction <code>centroide</code> qui, étant donné une matrice représentant plusieurs exemples rend le centroide (calculé en faisant la moyenne de chaque composante des vecteurs de la matrice).\n",
    "On fait l'hypothèse que la matrice contient toujours au moins un exemple."
   ]
  },
  {
   "cell_type": "code",
   "execution_count": 13,
   "metadata": {},
   "outputs": [],
   "source": [
    "def centroide(m):\n",
    "    if isinstance(m,list):\n",
    "        return m[0]\n",
    "    #res = np.zeros(2)\n",
    "    s = np.sum(m, axis=0)\n",
    "    #sx = m[0: ,0].sum()\n",
    "    #sy = m[0: ,1].sum()\n",
    "    #res[0] = (sx / m.shape[0])\n",
    "    #res[1] = (sy / m.shape[0])\n",
    "    return s / m.shape[0]\n",
    "    #return res"
   ]
  },
  {
   "cell_type": "code",
   "execution_count": 14,
   "metadata": {},
   "outputs": [
    {
     "data": {
      "text/plain": [
       "array([[0.        , 0.6       ],\n",
       "       [0.14285714, 0.5       ],\n",
       "       [0.14285714, 0.        ],\n",
       "       [0.28571429, 0.        ],\n",
       "       [0.28571429, 0.2       ],\n",
       "       [0.57142857, 0.6       ],\n",
       "       [0.57142857, 0.8       ],\n",
       "       [0.57142857, 1.        ],\n",
       "       [0.64285714, 0.        ],\n",
       "       [0.64285714, 1.        ],\n",
       "       [0.71428571, 0.        ],\n",
       "       [0.71428571, 0.8       ],\n",
       "       [0.85714286, 0.2       ],\n",
       "       [1.        , 0.6       ]])"
      ]
     },
     "execution_count": 14,
     "metadata": {},
     "output_type": "execute_result"
    }
   ],
   "source": [
    "n"
   ]
  },
  {
   "cell_type": "code",
   "execution_count": 15,
   "metadata": {},
   "outputs": [
    {
     "data": {
      "text/plain": [
       "array([0.51020408, 0.45      ])"
      ]
     },
     "execution_count": 15,
     "metadata": {},
     "output_type": "execute_result"
    }
   ],
   "source": [
    "assert np.equal(centroide(n).all(),np.array([0.51020408, 0.45      ]).all())\n",
    "centroide(n)"
   ]
  },
  {
   "cell_type": "markdown",
   "metadata": {},
   "source": [
    "### Distances entre groupes d'exemples\n"
   ]
  },
  {
   "cell_type": "markdown",
   "metadata": {},
   "source": [
    "La distance entre deux groupes d'exemples correspond à la distance entre leurs centroïdes (approche \"centroid linkage\").\n",
    "\n",
    "<font size=\"+1\" color=\"RED\">**[Q]**</font> Ecrire la fonction <code>dist_groupes</code> qui prend en argument une chaîne de caractères (soit \"euclidienne\", soit \"manhattan\") ainsi que deux groupes de vecteurs et qui rend leur distance soit euclidienne, soit de Manhattan selon le cas.\n"
   ]
  },
  {
   "cell_type": "code",
   "execution_count": 16,
   "metadata": {},
   "outputs": [],
   "source": [
    "def dist_groupes(s, gv1, gv2):\n",
    "    cv1 = centroide(gv1)\n",
    "    cv2 = centroide(gv2)\n",
    "    if s == \"euclidienne\":\n",
    "        return dist_euclidienne_vect(cv1, cv2)\n",
    "    elif s == \"manhattan\":\n",
    "        return dist_manhattan_vect(cv1, cv2)"
   ]
  },
  {
   "cell_type": "code",
   "execution_count": 17,
   "metadata": {},
   "outputs": [
    {
     "name": "stdout",
     "output_type": "stream",
     "text": [
      "[[0.         0.6       ]\n",
      " [0.14285714 0.5       ]\n",
      " [0.14285714 0.        ]\n",
      " [0.28571429 0.        ]]\n"
     ]
    },
    {
     "data": {
      "text/plain": [
       "0.586345478713841"
      ]
     },
     "execution_count": 17,
     "metadata": {},
     "output_type": "execute_result"
    }
   ],
   "source": [
    "# par exemple :\n",
    "print(n[0:4])\n",
    "dist_groupes(\"euclidienne\", n[0:4], n[5:13])"
   ]
  },
  {
   "cell_type": "markdown",
   "metadata": {},
   "source": [
    "## L'algorithme de classification hiérarchique"
   ]
  },
  {
   "cell_type": "markdown",
   "metadata": {},
   "source": [
    "Dans la suite de cet exercice, une partition (qui est un groupe de clusters) est représentée par une structure de données de type dictionnaire (<code>dict()</code> en python) :\n",
    "- la clé est un numéro de cluster (sous la forme d'un entier naturel) ;\n",
    "- la valeur associée est une matrice contenant les exemples qui sont dans le cluster correspondant.\n",
    "\n",
    "On appelle \"partition\" un tel dictionnaire.\n"
   ]
  },
  {
   "cell_type": "markdown",
   "metadata": {},
   "source": [
    "<font size=\"+1\" color=\"RED\">**[Q]**</font> Ecrire la fonction <code>initialise</code> qui, étant donné une matrice M d'exemples, rend un dictionnaire contenant autant d'entrées que d'exemples dans M. Dans ce dictionnaire, une clé est numéro d'exemple (un entier compris entre 0 et n-1, le nombre d'exemples) et la valeur associée est une matrice d'exemples contenant un exemple de M."
   ]
  },
  {
   "cell_type": "code",
   "execution_count": 18,
   "metadata": {},
   "outputs": [],
   "source": [
    "def initialise(M):\n",
    "    dico = dict()\n",
    "    for i in range(M.shape[0]):\n",
    "        dico[i] = [M[i]]\n",
    "    return dico"
   ]
  },
  {
   "cell_type": "code",
   "execution_count": 19,
   "metadata": {},
   "outputs": [
    {
     "data": {
      "text/plain": [
       "{0: [array([0. , 0.6])],\n",
       " 1: [array([0.14285714, 0.5       ])],\n",
       " 2: [array([0.14285714, 0.        ])],\n",
       " 3: [array([0.28571429, 0.        ])],\n",
       " 4: [array([0.28571429, 0.2       ])],\n",
       " 5: [array([0.57142857, 0.6       ])],\n",
       " 6: [array([0.57142857, 0.8       ])],\n",
       " 7: [array([0.57142857, 1.        ])],\n",
       " 8: [array([0.64285714, 0.        ])],\n",
       " 9: [array([0.64285714, 1.        ])],\n",
       " 10: [array([0.71428571, 0.        ])],\n",
       " 11: [array([0.71428571, 0.8       ])],\n",
       " 12: [array([0.85714286, 0.2       ])],\n",
       " 13: [array([1. , 0.6])]}"
      ]
     },
     "execution_count": 19,
     "metadata": {},
     "output_type": "execute_result"
    }
   ],
   "source": [
    "# Par exemple:\n",
    "depart = initialise(n)\n",
    "# cette partition contient autant de clusters que d'exemples: on a un cluster par exemple.\n",
    "depart "
   ]
  },
  {
   "cell_type": "markdown",
   "metadata": {},
   "source": [
    "### Variante 1: chaînage par centroides"
   ]
  },
  {
   "cell_type": "markdown",
   "metadata": {},
   "source": [
    "On souhaite implémenter ici l'algorithme de classification hiérarchique basé sur l'utilisation d'un chaînage par centroides (approche \"centroid linkage\").\n",
    "\n",
    "On commence par implémenter une fonction qui, étant donné une partition, permet de regrouper les 2 clusters les plus proches. Ces 2 clusters sont alors fusionnés pour n'en former qu'un seul qui est ajouté à la partition, alors que les 2 clusters initiaux sont retirés de la partition.\n",
    "On fait l'hypothèse que la partition initiale contient au moins 2 groupes.\n",
    "\n",
    "<font size=\"+1\" color=\"RED\">**[Q]**</font> Ecrire la fonction <code>fusionne</code> qui prend en argument un nom de distance (\"euclidienne\" ou \"manhattan\") et une partition C0 et qui rend 4 valeurs :\n",
    "- la partition C1 obtenue après fusion des 2 clusters les plus proches ;\n",
    "- les clés des 2 clusters de C0 qui ont été fusionnés et qui ont donc aussi été retirés de C1 ;\n",
    "- la distance qui séparait ces 2 clusters, calculée selon le nom de distance donné."
   ]
  },
  {
   "cell_type": "code",
   "execution_count": 20,
   "metadata": {},
   "outputs": [],
   "source": [
    "def fusionne(s, dic):\n",
    "    k = list(dic.keys())\n",
    "    res = dic\n",
    "    c1 = 0\n",
    "    c2 = 0\n",
    "    d = 10000000000\n",
    "    for i in dic.keys():\n",
    "        for j in dic.keys():\n",
    "            if i == j:\n",
    "                continue\n",
    "            db = dist_groupes(s, dic[i], dic[j])\n",
    "            if db < d:\n",
    "                #print(\"db \", db, \"dic i \", dic[i], \"dic j \", dic[j])\n",
    "                c1 = i\n",
    "                c2 = j\n",
    "                d = db\n",
    "    print(\"Fusion de \",c1,\" et \",c2,\"pour une distance de \",d)\n",
    "    m = max(dic.keys())+1\n",
    "    # l = res.pop(c1) + res.pop(c2)\n",
    "    #l = res[c1] + res[c2]\n",
    "    #print(\"test res c1 \",res[c1],\"test res c2 \",res[c2])\n",
    "    l = np.concatenate([res[c1], res[c2]])\n",
    "    del res[c1]\n",
    "    del res[c2]\n",
    "    res[m] = l\n",
    "    #print(res)\n",
    "    return (res, c1, c2, d)"
   ]
  },
  {
   "cell_type": "code",
   "execution_count": 21,
   "metadata": {},
   "outputs": [
    {
     "name": "stdout",
     "output_type": "stream",
     "text": [
      "Fusion de  8  et  10 pour une distance de  0.0714285714285714\n"
     ]
    },
    {
     "data": {
      "text/plain": [
       "({0: [array([0. , 0.6])],\n",
       "  1: [array([0.14285714, 0.5       ])],\n",
       "  2: [array([0.14285714, 0.        ])],\n",
       "  3: [array([0.28571429, 0.        ])],\n",
       "  4: [array([0.28571429, 0.2       ])],\n",
       "  5: [array([0.57142857, 0.6       ])],\n",
       "  6: [array([0.57142857, 0.8       ])],\n",
       "  7: [array([0.57142857, 1.        ])],\n",
       "  9: [array([0.64285714, 1.        ])],\n",
       "  11: [array([0.71428571, 0.8       ])],\n",
       "  12: [array([0.85714286, 0.2       ])],\n",
       "  13: [array([1. , 0.6])],\n",
       "  14: array([[0.64285714, 0.        ],\n",
       "         [0.71428571, 0.        ]])},\n",
       " 8,\n",
       " 10,\n",
       " 0.0714285714285714)"
      ]
     },
     "execution_count": 21,
     "metadata": {},
     "output_type": "execute_result"
    }
   ],
   "source": [
    "# Par exemple:\n",
    "depart = initialise(n)\n",
    "\n",
    "fusionne(\"euclidienne\",depart)"
   ]
  },
  {
   "cell_type": "markdown",
   "metadata": {},
   "source": [
    "### Construction de dendrogramme"
   ]
  },
  {
   "cell_type": "markdown",
   "metadata": {},
   "source": [
    "Le dendrogramme permet de visualiser les fusions de clusters réalisés tout au long du déroulement de l'algorithme de clustering hiérarchique.\n",
    "\n",
    "Pour construire un dendrogramme, il est nécessaire de construire la matrice suivante (que l'on appelle <code>M_Fusion</code> dans ce qui suit): pour chaque ligne, cette matrice contient 4 colonnes :\n",
    "- les 2 premières colonnes contiennent les clés des groupes fusionnés ;\n",
    "- la 3e colonne contient la distance qui séparait ces 2 groupes ;\n",
    "- la 4e colonne contient la valeur 2 (c'est une valeur sans importance pour nous).\n",
    " "
   ]
  },
  {
   "cell_type": "code",
   "execution_count": 22,
   "metadata": {},
   "outputs": [
    {
     "name": "stdout",
     "output_type": "stream",
     "text": [
      "Fusion de  8  et  10 pour une distance de  0.0714285714285714\n",
      "Fusion de  7  et  9 pour une distance de  0.07142857142857151\n",
      "Fusion de  2  et  3 pour une distance de  0.14285714285714285\n",
      "Fusion de  6  et  11 pour une distance de  0.1428571428571429\n",
      "Fusion de  0  et  1 pour une distance de  0.17437936593905287\n",
      "Fusion de  15  et  17 pour une distance de  0.20316375219039837\n",
      "Fusion de  4  et  16 pour une distance de  0.21237241067597867\n",
      "Fusion de  12  et  14 pour une distance de  0.26811891970176366\n",
      "Fusion de  5  et  19 pour une distance de  0.3047456282855976\n",
      "Fusion de  13  et  22 pour une distance de  0.4542857142857144\n",
      "Fusion de  20  et  21 pour une distance de  0.5000000000000001\n",
      "Fusion de  18  et  24 pour une distance de  0.638139657302555\n",
      "Fusion de  23  et  25 pour une distance de  0.6796842379114776\n",
      "\n",
      "La matrice M_Fusion obtenue :\n",
      " [[ 8.         10.          0.07142857  2.        ]\n",
      " [ 7.          9.          0.07142857  2.        ]\n",
      " [ 2.          3.          0.14285714  2.        ]\n",
      " [ 6.         11.          0.14285714  2.        ]\n",
      " [ 0.          1.          0.17437937  2.        ]\n",
      " [15.         17.          0.20316375  2.        ]\n",
      " [ 4.         16.          0.21237241  2.        ]\n",
      " [12.         14.          0.26811892  2.        ]\n",
      " [ 5.         19.          0.30474563  2.        ]\n",
      " [13.         22.          0.45428571  2.        ]\n",
      " [20.         21.          0.5         2.        ]\n",
      " [18.         24.          0.63813966  2.        ]\n",
      " [23.         25.          0.67968424  2.        ]]\n"
     ]
    }
   ],
   "source": [
    "# Exemple de construction de la matrice M_Fusion en utilisant les fonctions écrites\n",
    "# dans les questions précédentes\n",
    "\n",
    "# initialisation \n",
    "courant = initialise(n)       # clustering courant, au départ:s données data_2D normalisées\n",
    "M_Fusion = []                        # initialisation\n",
    "while len(courant) >=2:              # tant qu'il y a 2 groupes à fusionner\n",
    "    new,k1,k2,dist_min = fusionne('euclidienne',courant)\n",
    "    if(len(M_Fusion)==0):\n",
    "        M_Fusion = [k1,k2,dist_min,2]\n",
    "    else:\n",
    "        M_Fusion = np.vstack( [M_Fusion,[k1,k2,dist_min,2] ])\n",
    "    courant = new\n",
    "    \n",
    "print('\\nLa matrice M_Fusion obtenue :\\n',M_Fusion)"
   ]
  },
  {
   "cell_type": "markdown",
   "metadata": {},
   "source": [
    "Une fois la matrice <code>M_Fusion</code> construite, le tracé d'un histogramme s'effectue avec le code suivant :"
   ]
  },
  {
   "cell_type": "code",
   "execution_count": 23,
   "metadata": {},
   "outputs": [
    {
     "data": {
      "image/png": "[encoded data removed]",
      "text/plain": [
       "<Figure size 2160x1080 with 1 Axes>"
      ]
     },
     "metadata": {
      "needs_background": "light"
     },
     "output_type": "display_data"
    }
   ],
   "source": [
    "import scipy.cluster.hierarchy\n",
    "\n",
    "# Paramètre de la fenêtre d'affichage: \n",
    "plt.figure(figsize=(30, 15)) # taille : largeur x hauteur\n",
    "plt.title('Dendrogramme', fontsize=25)    \n",
    "plt.xlabel('Exemple', fontsize=25)\n",
    "plt.ylabel('Distance', fontsize=25)\n",
    "\n",
    "# Construction du dendrogramme à partir de la matrice M_Fusion:\n",
    "scipy.cluster.hierarchy.dendrogram(\n",
    "    M_Fusion,\n",
    "    leaf_font_size=18.,  # taille des caractères de l'axe des X\n",
    ")\n",
    "\n",
    "# Affichage du résultat obtenu:\n",
    "plt.show()"
   ]
  },
  {
   "cell_type": "markdown",
   "metadata": {},
   "source": [
    "<font size=\"+1\" color=\"RED\">**[Q]**</font> Ecrire la fonction <code>clustering_hierarchique</code> qui, pour une base d'apprentissage et un nom de distance donné, permet de réaliser un clustering hiérarchique et de tracer le dendrogramme obtenu.\n",
    "\n",
    "La fonction rend la matrice <code>M_Fusion</code> construite."
   ]
  },
  {
   "cell_type": "code",
   "execution_count": 24,
   "metadata": {},
   "outputs": [],
   "source": [
    "import scipy.cluster.hierarchy\n",
    "\n",
    "def clustering_hierarchique(train, s):\n",
    "    courant = initialise(train)       # clustering courant, au départ:s données data_2D normalisées\n",
    "    M_Fusion = []                        # initialisation\n",
    "    while len(courant) >=2:              # tant qu'il y a 2 groupes à fusionner\n",
    "        new,k1,k2,dist_min = fusionne(s,courant)\n",
    "        if(len(M_Fusion)==0):\n",
    "            M_Fusion = [k1,k2,dist_min,2]\n",
    "        else:\n",
    "            M_Fusion = np.vstack( [M_Fusion,[k1,k2,dist_min,2] ])\n",
    "        courant = new\n",
    "        \n",
    "    plt.figure(figsize=(30, 15)) # taille : largeur x hauteur\n",
    "    plt.title('Dendrogramme', fontsize=25)    \n",
    "    plt.xlabel('Exemple', fontsize=25)\n",
    "    plt.ylabel('Distance', fontsize=25)\n",
    "\n",
    "    # Construction du dendrogramme à partir de la matrice M_Fusion:\n",
    "    scipy.cluster.hierarchy.dendrogram(\n",
    "        M_Fusion,\n",
    "        leaf_font_size=18.,  # taille des caractères de l'axe des X\n",
    "    )\n",
    "    plt.show()\n",
    "    return M_Fusion"
   ]
  },
  {
   "cell_type": "markdown",
   "metadata": {},
   "source": [
    "### Comparaison de distances"
   ]
  },
  {
   "cell_type": "markdown",
   "metadata": {},
   "source": [
    "<font size=\"+1\" color=\"RED\">**[Q]**</font> Réaliser un clustering en utilisant la distance de Manhattan. Comparer les résultats obtenus avec cette distance avec ceux obtenus avec la distance euclidienne. Est-ce que l'utilisation de cette distance vous semble pertinent?"
   ]
  },
  {
   "cell_type": "code",
   "execution_count": 25,
   "metadata": {},
   "outputs": [
    {
     "name": "stdout",
     "output_type": "stream",
     "text": [
      "Fusion de  8  et  10 pour une distance de  0.0714285714285714\n",
      "Fusion de  7  et  9 pour une distance de  0.07142857142857151\n",
      "Fusion de  2  et  3 pour une distance de  0.14285714285714285\n",
      "Fusion de  6  et  11 pour une distance de  0.1428571428571429\n",
      "Fusion de  15  et  17 pour une distance de  0.23571428571428554\n",
      "Fusion de  0  et  1 pour une distance de  0.24285714285714283\n",
      "Fusion de  4  et  16 pour une distance de  0.27142857142857146\n",
      "Fusion de  5  et  18 pour une distance de  0.35357142857142854\n",
      "Fusion de  12  et  14 pour une distance de  0.3785714285714285\n",
      "Fusion de  20  et  22 pour une distance de  0.5000000000000001\n",
      "Fusion de  13  et  21 pour une distance de  0.6257142857142859\n",
      "Fusion de  19  et  24 pour une distance de  0.857142857142857\n",
      "Fusion de  23  et  25 pour une distance de  0.7095238095238097\n"
     ]
    },
    {
     "data": {
      "image/png": "[encoded data removed]",
      "text/plain": [
       "<Figure size 2160x1080 with 1 Axes>"
      ]
     },
     "metadata": {
      "needs_background": "light"
     },
     "output_type": "display_data"
    },
    {
     "data": {
      "text/plain": [
       "array([[ 8.        , 10.        ,  0.07142857,  2.        ],\n",
       "       [ 7.        ,  9.        ,  0.07142857,  2.        ],\n",
       "       [ 2.        ,  3.        ,  0.14285714,  2.        ],\n",
       "       [ 6.        , 11.        ,  0.14285714,  2.        ],\n",
       "       [15.        , 17.        ,  0.23571429,  2.        ],\n",
       "       [ 0.        ,  1.        ,  0.24285714,  2.        ],\n",
       "       [ 4.        , 16.        ,  0.27142857,  2.        ],\n",
       "       [ 5.        , 18.        ,  0.35357143,  2.        ],\n",
       "       [12.        , 14.        ,  0.37857143,  2.        ],\n",
       "       [20.        , 22.        ,  0.5       ,  2.        ],\n",
       "       [13.        , 21.        ,  0.62571429,  2.        ],\n",
       "       [19.        , 24.        ,  0.85714286,  2.        ],\n",
       "       [23.        , 25.        ,  0.70952381,  2.        ]])"
      ]
     },
     "execution_count": 25,
     "metadata": {},
     "output_type": "execute_result"
    }
   ],
   "source": [
    "clustering_hierarchique(n, \"manhattan\")"
   ]
  },
  {
   "cell_type": "markdown",
   "metadata": {},
   "source": [
    "On remarque que la distance de manhattan "
   ]
  },
  {
   "cell_type": "markdown",
   "metadata": {},
   "source": [
    "### Variante 2: chaînage complet (maximum des distances)"
   ]
  },
  {
   "cell_type": "markdown",
   "metadata": {},
   "source": [
    "On considère maintenant l'approche \"complete linkage\". \n",
    "\n",
    "<font size=\"+1\" color=\"RED\">**[Q]**</font> Ecrire la fonction <code>dist_max_groupes</code> qui, étant donné deux clusters, calcule leur distance ainsi définie. Cette fonction prend 3 arguments: un nom de distance à utiliser (\"euclidienne\" ou \"manhattan\") et deux clusters.\n",
    "On fait l'hypothèse que les 2 clusters contiennent au moins un exemple.\n"
   ]
  },
  {
   "cell_type": "code",
   "execution_count": 26,
   "metadata": {},
   "outputs": [],
   "source": [
    "def dist_max_groupes(s, c1, c2):\n",
    "    res = []\n",
    "    if s == \"euclidienne\":\n",
    "        for e in c1:\n",
    "            for f in c2:\n",
    "                if np.array_equal(e,f):\n",
    "                    continue\n",
    "                res.append(dist_euclidienne_vect(e,f))\n",
    "        return max(res)\n",
    "    elif s == \"manhattan\":\n",
    "        for e in c1:\n",
    "            for f in c2:\n",
    "                if np.array_equal(e,f):\n",
    "                    continue\n",
    "                res.append(dist_manhattan_vect(e,f))\n",
    "        return max(res)\n",
    "    "
   ]
  },
  {
   "cell_type": "code",
   "execution_count": 27,
   "metadata": {},
   "outputs": [
    {
     "data": {
      "text/plain": [
       "1.118033988749895"
      ]
     },
     "execution_count": 27,
     "metadata": {},
     "output_type": "execute_result"
    }
   ],
   "source": [
    "dist_max_groupes(\"euclidienne\", n[0:5], n[6:13])"
   ]
  },
  {
   "cell_type": "markdown",
   "metadata": {},
   "source": [
    "La distance <code>dist_max_groupes</code> est utilisée lors d'un clustering hiérarchique basé sur un chaînage complet.\n",
    "\n",
    "<font size=\"+1\" color=\"RED\">**[Q]**</font> Implémenter une variante du clustering hiérarchique qui utilise cette distance."
   ]
  },
  {
   "cell_type": "code",
   "execution_count": 28,
   "metadata": {},
   "outputs": [],
   "source": [
    "def fusionne_max(s, dic):\n",
    "    k = dic.keys()\n",
    "    res = dic\n",
    "    c1 = 0\n",
    "    c2 = 0\n",
    "    d = 0\n",
    "    for i in k:\n",
    "        for j in k:\n",
    "            if i == j:\n",
    "                continue\n",
    "            db = dist_max_groupes(s, dic[i], dic[j])\n",
    "            if db > d:\n",
    "                c1 = i\n",
    "                c2 = j\n",
    "                d = db\n",
    "    print(\"Fusion de \",c1,\" et \",c2,\"pour une distance de \",d)\n",
    "    m = max(k)+1\n",
    "    l = np.concatenate([res[c1], res[c2]])\n",
    "    del res[c1]\n",
    "    del res[c2]\n",
    "    res[m] = l\n",
    "    return (res, c1, c2, d)"
   ]
  },
  {
   "cell_type": "code",
   "execution_count": 29,
   "metadata": {},
   "outputs": [
    {
     "name": "stdout",
     "output_type": "stream",
     "text": [
      "Fusion de  2  et  9 pour une distance de  1.118033988749895\n"
     ]
    },
    {
     "data": {
      "text/plain": [
       "({0: [array([0. , 0.6])],\n",
       "  1: [array([0.14285714, 0.5       ])],\n",
       "  3: [array([0.28571429, 0.        ])],\n",
       "  4: [array([0.28571429, 0.2       ])],\n",
       "  5: [array([0.57142857, 0.6       ])],\n",
       "  6: [array([0.57142857, 0.8       ])],\n",
       "  7: [array([0.57142857, 1.        ])],\n",
       "  8: [array([0.64285714, 0.        ])],\n",
       "  10: [array([0.71428571, 0.        ])],\n",
       "  11: [array([0.71428571, 0.8       ])],\n",
       "  12: [array([0.85714286, 0.2       ])],\n",
       "  13: [array([1. , 0.6])],\n",
       "  14: array([[0.14285714, 0.        ],\n",
       "         [0.64285714, 1.        ]])},\n",
       " 2,\n",
       " 9,\n",
       " 1.118033988749895)"
      ]
     },
     "execution_count": 29,
     "metadata": {},
     "output_type": "execute_result"
    }
   ],
   "source": [
    "depart = initialise(n)\n",
    "fusionne_max(\"euclidienne\",depart)"
   ]
  },
  {
   "cell_type": "code",
   "execution_count": 30,
   "metadata": {},
   "outputs": [],
   "source": [
    "def clustering_hierarchique_max(train, s):\n",
    "    courant = initialise(train)       # clustering courant, au départ:s données data_2D normalisées\n",
    "    M_Fusion = []                        # initialisation\n",
    "    while len(courant) >=2:              # tant qu'il y a 2 groupes à fusionner\n",
    "        new,k1,k2,dist_max = fusionne_max(s,courant)\n",
    "        if(len(M_Fusion)==0):\n",
    "            M_Fusion = [k1,k2,dist_max,2]\n",
    "        else:\n",
    "            M_Fusion = np.vstack( [M_Fusion,[k1,k2,dist_max,2] ])\n",
    "        courant = new\n",
    "        \n",
    "    plt.figure(figsize=(30, 15)) # taille : largeur x hauteur\n",
    "    plt.title('Dendrogramme', fontsize=25)    \n",
    "    plt.xlabel('Exemple', fontsize=25)\n",
    "    plt.ylabel('Distance', fontsize=25)\n",
    "\n",
    "    # Construction du dendrogramme à partir de la matrice M_Fusion:\n",
    "    scipy.cluster.hierarchy.dendrogram(\n",
    "        M_Fusion,\n",
    "        leaf_font_size=18.,  # taille des caractères de l'axe des X\n",
    "    )\n",
    "    plt.show()\n",
    "    return M_Fusion"
   ]
  },
  {
   "cell_type": "code",
   "execution_count": 31,
   "metadata": {},
   "outputs": [
    {
     "name": "stdout",
     "output_type": "stream",
     "text": [
      "Fusion de  2  et  9 pour une distance de  1.118033988749895\n",
      "Fusion de  7  et  14 pour une distance de  1.0879675865519869\n",
      "Fusion de  3  et  15 pour une distance de  1.0618620533798933\n",
      "Fusion de  13  et  16 pour une distance de  1.0462761956343176\n",
      "Fusion de  10  et  17 pour une distance de  1.0101525445522108\n",
      "Fusion de  8  et  18 pour une distance de  1.0025477748298715\n",
      "Fusion de  0  et  19 pour une distance de  1.0\n",
      "Fusion de  11  et  20 pour une distance de  0.9831228876620145\n",
      "Fusion de  12  et  21 pour une distance de  0.945882591842677\n",
      "Fusion de  6  et  22 pour une distance de  0.9075645813867766\n",
      "Fusion de  4  et  23 pour une distance de  0.8760998917978265\n",
      "Fusion de  1  et  24 pour une distance de  0.8629564748879405\n",
      "Fusion de  5  et  25 pour une distance de  0.7373421657465108\n"
     ]
    },
    {
     "data": {
      "image/png": "[encoded data removed]",
      "text/plain": [
       "<Figure size 2160x1080 with 1 Axes>"
      ]
     },
     "metadata": {
      "needs_background": "light"
     },
     "output_type": "display_data"
    },
    {
     "data": {
      "text/plain": [
       "array([[ 2.        ,  9.        ,  1.11803399,  2.        ],\n",
       "       [ 7.        , 14.        ,  1.08796759,  2.        ],\n",
       "       [ 3.        , 15.        ,  1.06186205,  2.        ],\n",
       "       [13.        , 16.        ,  1.0462762 ,  2.        ],\n",
       "       [10.        , 17.        ,  1.01015254,  2.        ],\n",
       "       [ 8.        , 18.        ,  1.00254777,  2.        ],\n",
       "       [ 0.        , 19.        ,  1.        ,  2.        ],\n",
       "       [11.        , 20.        ,  0.98312289,  2.        ],\n",
       "       [12.        , 21.        ,  0.94588259,  2.        ],\n",
       "       [ 6.        , 22.        ,  0.90756458,  2.        ],\n",
       "       [ 4.        , 23.        ,  0.87609989,  2.        ],\n",
       "       [ 1.        , 24.        ,  0.86295647,  2.        ],\n",
       "       [ 5.        , 25.        ,  0.73734217,  2.        ]])"
      ]
     },
     "execution_count": 31,
     "metadata": {},
     "output_type": "execute_result"
    }
   ],
   "source": [
    "clustering_hierarchique_max(n,'euclidienne')"
   ]
  },
  {
   "cell_type": "markdown",
   "metadata": {},
   "source": [
    "## Phase 2 : application à des données réelles"
   ]
  },
  {
   "cell_type": "markdown",
   "metadata": {},
   "source": [
    "### Données: traitement des déchets de la ville de Paris"
   ]
  },
  {
   "cell_type": "markdown",
   "metadata": {},
   "source": [
    "Récupérer les données concernant le traitement des déchets de la ville de Paris :\n",
    "http://opendata.paris.fr/explore/dataset/tonnages_des_dechets_bacs_jaunes/table/\n",
    "\n",
    "**Attention**: il faut certainement préparer cette base afin de pouvoir appliquer l'algorithme de clustering: en particulier, certaines colonnes (Granularité, Total...) ne sont pas à utilisables dans le calcul des distances, il faut donc les éliminer. Il faut aussi prévoir de conserver le nom de l'arrondissement afin de pouvoir à la fin analyser le résultat du clustering.\n",
    "\n",
    "Sauvegarder ces données, prêtes à être traitées par l'algorithme de clustering, au format CSV dans le répertoire <pre>data/</pre> sous le nom <pre>base-Paris.csv</pre>\n",
    "\n",
    "<font size=\"+1\" color=\"RED\">**[Q]**</font> Etudier cette base et les clusters qui peuvent être mis en évidence.\n"
   ]
  },
  {
   "cell_type": "code",
   "execution_count": 35,
   "metadata": {},
   "outputs": [],
   "source": [
    "data_Paris = pd.read_csv(\"data/tonnages_des_dechets_bacs_jaunes.csv\", sep=\";\")"
   ]
  },
  {
   "cell_type": "code",
   "execution_count": 34,
   "metadata": {},
   "outputs": [
    {
     "data": {
      "text/html": [
       "<div>\n",
       "<style scoped>\n",
       "    .dataframe tbody tr th:only-of-type {\n",
       "        vertical-align: middle;\n",
       "    }\n",
       "\n",
       "    .dataframe tbody tr th {\n",
       "        vertical-align: top;\n",
       "    }\n",
       "\n",
       "    .dataframe thead th {\n",
       "        text-align: right;\n",
       "    }\n",
       "</style>\n",
       "<table border=\"1\" class=\"dataframe\">\n",
       "  <thead>\n",
       "    <tr style=\"text-align: right;\">\n",
       "      <th></th>\n",
       "      <th>Granularité</th>\n",
       "      <th>janv-11</th>\n",
       "      <th>févr-11</th>\n",
       "      <th>mars-11</th>\n",
       "      <th>avr-11</th>\n",
       "      <th>mai-11</th>\n",
       "      <th>juin-11</th>\n",
       "      <th>juil-11</th>\n",
       "      <th>août-11</th>\n",
       "      <th>sept-11</th>\n",
       "      <th>oct-11</th>\n",
       "      <th>nov-11</th>\n",
       "      <th>déc-11</th>\n",
       "      <th>Total arrondissement 2011</th>\n",
       "    </tr>\n",
       "  </thead>\n",
       "  <tbody>\n",
       "    <tr>\n",
       "      <th>0</th>\n",
       "      <td>75007</td>\n",
       "      <td>288,1</td>\n",
       "      <td>249,1</td>\n",
       "      <td>303,7</td>\n",
       "      <td>255,8</td>\n",
       "      <td>287,8</td>\n",
       "      <td>288,4</td>\n",
       "      <td>249,6</td>\n",
       "      <td>185,6</td>\n",
       "      <td>281,3</td>\n",
       "      <td>284,3</td>\n",
       "      <td>296,4</td>\n",
       "      <td>301,1</td>\n",
       "      <td>NaN</td>\n",
       "    </tr>\n",
       "    <tr>\n",
       "      <th>1</th>\n",
       "      <td>75013</td>\n",
       "      <td>596,5</td>\n",
       "      <td>540,2</td>\n",
       "      <td>618,5</td>\n",
       "      <td>558,6</td>\n",
       "      <td>595,9</td>\n",
       "      <td>581,7</td>\n",
       "      <td>539,2</td>\n",
       "      <td>490,5</td>\n",
       "      <td>597,8</td>\n",
       "      <td>575,7</td>\n",
       "      <td>580,5</td>\n",
       "      <td>601,4</td>\n",
       "      <td>NaN</td>\n",
       "    </tr>\n",
       "    <tr>\n",
       "      <th>2</th>\n",
       "      <td>75014</td>\n",
       "      <td>464</td>\n",
       "      <td>404,9</td>\n",
       "      <td>465,3</td>\n",
       "      <td>420,2</td>\n",
       "      <td>405,3</td>\n",
       "      <td>446</td>\n",
       "      <td>412,9</td>\n",
       "      <td>348,7</td>\n",
       "      <td>449,3</td>\n",
       "      <td>446,3</td>\n",
       "      <td>453,1</td>\n",
       "      <td>484,3</td>\n",
       "      <td>NaN</td>\n",
       "    </tr>\n",
       "    <tr>\n",
       "      <th>3</th>\n",
       "      <td>75015</td>\n",
       "      <td>903,1</td>\n",
       "      <td>801,4</td>\n",
       "      <td>937,5</td>\n",
       "      <td>835,5</td>\n",
       "      <td>876,8</td>\n",
       "      <td>888,6</td>\n",
       "      <td>628,8</td>\n",
       "      <td>674,8</td>\n",
       "      <td>913,3</td>\n",
       "      <td>878,7</td>\n",
       "      <td>895,7</td>\n",
       "      <td>935,8</td>\n",
       "      <td>NaN</td>\n",
       "    </tr>\n",
       "    <tr>\n",
       "      <th>4</th>\n",
       "      <td>75017</td>\n",
       "      <td>451,1</td>\n",
       "      <td>412,4</td>\n",
       "      <td>491,6</td>\n",
       "      <td>422,7</td>\n",
       "      <td>363,6</td>\n",
       "      <td>446,4</td>\n",
       "      <td>409,5</td>\n",
       "      <td>332,3</td>\n",
       "      <td>416,4</td>\n",
       "      <td>451,5</td>\n",
       "      <td>475,1</td>\n",
       "      <td>513,5</td>\n",
       "      <td>NaN</td>\n",
       "    </tr>\n",
       "    <tr>\n",
       "      <th>5</th>\n",
       "      <td>75018</td>\n",
       "      <td>427</td>\n",
       "      <td>394,3</td>\n",
       "      <td>455,2</td>\n",
       "      <td>419,9</td>\n",
       "      <td>458,3</td>\n",
       "      <td>456,6</td>\n",
       "      <td>418</td>\n",
       "      <td>361,8</td>\n",
       "      <td>464,6</td>\n",
       "      <td>453,4</td>\n",
       "      <td>478,5</td>\n",
       "      <td>470,9</td>\n",
       "      <td>NaN</td>\n",
       "    </tr>\n",
       "    <tr>\n",
       "      <th>6</th>\n",
       "      <td>75019</td>\n",
       "      <td>323,4</td>\n",
       "      <td>287,3</td>\n",
       "      <td>350,3</td>\n",
       "      <td>317,8</td>\n",
       "      <td>336,9</td>\n",
       "      <td>340,7</td>\n",
       "      <td>311,6</td>\n",
       "      <td>281</td>\n",
       "      <td>345,6</td>\n",
       "      <td>335,6</td>\n",
       "      <td>367</td>\n",
       "      <td>354,5</td>\n",
       "      <td>NaN</td>\n",
       "    </tr>\n",
       "    <tr>\n",
       "      <th>7</th>\n",
       "      <td>75002</td>\n",
       "      <td>153</td>\n",
       "      <td>125,8</td>\n",
       "      <td>136,6</td>\n",
       "      <td>126,6</td>\n",
       "      <td>133,2</td>\n",
       "      <td>127,6</td>\n",
       "      <td>126,7</td>\n",
       "      <td>114,3</td>\n",
       "      <td>144,3</td>\n",
       "      <td>145,1</td>\n",
       "      <td>129,5</td>\n",
       "      <td>129,8</td>\n",
       "      <td>NaN</td>\n",
       "    </tr>\n",
       "    <tr>\n",
       "      <th>8</th>\n",
       "      <td>75004</td>\n",
       "      <td>116,3</td>\n",
       "      <td>115,7</td>\n",
       "      <td>133,4</td>\n",
       "      <td>115</td>\n",
       "      <td>123,2</td>\n",
       "      <td>120,5</td>\n",
       "      <td>114,5</td>\n",
       "      <td>97,6</td>\n",
       "      <td>130,5</td>\n",
       "      <td>123</td>\n",
       "      <td>124,3</td>\n",
       "      <td>133,7</td>\n",
       "      <td>NaN</td>\n",
       "    </tr>\n",
       "    <tr>\n",
       "      <th>9</th>\n",
       "      <td>75008</td>\n",
       "      <td>252,6</td>\n",
       "      <td>246,7</td>\n",
       "      <td>252,9</td>\n",
       "      <td>232,5</td>\n",
       "      <td>199,4</td>\n",
       "      <td>236,4</td>\n",
       "      <td>175,4</td>\n",
       "      <td>189,4</td>\n",
       "      <td>266,6</td>\n",
       "      <td>230,3</td>\n",
       "      <td>257,7</td>\n",
       "      <td>224,4</td>\n",
       "      <td>NaN</td>\n",
       "    </tr>\n",
       "    <tr>\n",
       "      <th>10</th>\n",
       "      <td>75012</td>\n",
       "      <td>484,2</td>\n",
       "      <td>445,9</td>\n",
       "      <td>517</td>\n",
       "      <td>452</td>\n",
       "      <td>402</td>\n",
       "      <td>488</td>\n",
       "      <td>456</td>\n",
       "      <td>409</td>\n",
       "      <td>506</td>\n",
       "      <td>495</td>\n",
       "      <td>493</td>\n",
       "      <td>502</td>\n",
       "      <td>NaN</td>\n",
       "    </tr>\n",
       "    <tr>\n",
       "      <th>11</th>\n",
       "      <td>75016</td>\n",
       "      <td>584,1</td>\n",
       "      <td>571,2</td>\n",
       "      <td>684,7</td>\n",
       "      <td>590,3</td>\n",
       "      <td>563,4</td>\n",
       "      <td>666,3</td>\n",
       "      <td>570,4</td>\n",
       "      <td>433,2</td>\n",
       "      <td>679,7</td>\n",
       "      <td>656,1</td>\n",
       "      <td>662,6</td>\n",
       "      <td>699,9</td>\n",
       "      <td>NaN</td>\n",
       "    </tr>\n",
       "    <tr>\n",
       "      <th>12</th>\n",
       "      <td>75020</td>\n",
       "      <td>394,1</td>\n",
       "      <td>366,3</td>\n",
       "      <td>422,7</td>\n",
       "      <td>367,1</td>\n",
       "      <td>273,5</td>\n",
       "      <td>381,7</td>\n",
       "      <td>353,4</td>\n",
       "      <td>297</td>\n",
       "      <td>414</td>\n",
       "      <td>350</td>\n",
       "      <td>410,6</td>\n",
       "      <td>410</td>\n",
       "      <td>NaN</td>\n",
       "    </tr>\n",
       "    <tr>\n",
       "      <th>13</th>\n",
       "      <td>Tout Paris</td>\n",
       "      <td>7 134,20</td>\n",
       "      <td>6 462,60</td>\n",
       "      <td>7 517,40</td>\n",
       "      <td>6 656,60</td>\n",
       "      <td>6 563,40</td>\n",
       "      <td>7 063</td>\n",
       "      <td>6 220,20</td>\n",
       "      <td>5 464</td>\n",
       "      <td>7 296,30</td>\n",
       "      <td>7 084,60</td>\n",
       "      <td>7 291,70</td>\n",
       "      <td>7 492,80</td>\n",
       "      <td>NaN</td>\n",
       "    </tr>\n",
       "    <tr>\n",
       "      <th>14</th>\n",
       "      <td>75001</td>\n",
       "      <td>75,3</td>\n",
       "      <td>60,4</td>\n",
       "      <td>71,2</td>\n",
       "      <td>59,5</td>\n",
       "      <td>73,9</td>\n",
       "      <td>72</td>\n",
       "      <td>57,9</td>\n",
       "      <td>56,4</td>\n",
       "      <td>75,5</td>\n",
       "      <td>75,7</td>\n",
       "      <td>65,8</td>\n",
       "      <td>79,1</td>\n",
       "      <td>NaN</td>\n",
       "    </tr>\n",
       "    <tr>\n",
       "      <th>15</th>\n",
       "      <td>75005</td>\n",
       "      <td>247</td>\n",
       "      <td>211</td>\n",
       "      <td>251</td>\n",
       "      <td>218</td>\n",
       "      <td>185</td>\n",
       "      <td>224</td>\n",
       "      <td>213,3</td>\n",
       "      <td>162,9</td>\n",
       "      <td>203,4</td>\n",
       "      <td>232,1</td>\n",
       "      <td>227,6</td>\n",
       "      <td>251,6</td>\n",
       "      <td>NaN</td>\n",
       "    </tr>\n",
       "    <tr>\n",
       "      <th>16</th>\n",
       "      <td>75006</td>\n",
       "      <td>222</td>\n",
       "      <td>189</td>\n",
       "      <td>218</td>\n",
       "      <td>192</td>\n",
       "      <td>180</td>\n",
       "      <td>199</td>\n",
       "      <td>171,8</td>\n",
       "      <td>134,8</td>\n",
       "      <td>183,1</td>\n",
       "      <td>195,5</td>\n",
       "      <td>213,8</td>\n",
       "      <td>204,1</td>\n",
       "      <td>NaN</td>\n",
       "    </tr>\n",
       "    <tr>\n",
       "      <th>17</th>\n",
       "      <td>75010</td>\n",
       "      <td>273</td>\n",
       "      <td>248,6</td>\n",
       "      <td>292,2</td>\n",
       "      <td>255,2</td>\n",
       "      <td>284,3</td>\n",
       "      <td>267,3</td>\n",
       "      <td>246,6</td>\n",
       "      <td>210,3</td>\n",
       "      <td>280,6</td>\n",
       "      <td>275,6</td>\n",
       "      <td>284,6</td>\n",
       "      <td>283,2</td>\n",
       "      <td>NaN</td>\n",
       "    </tr>\n",
       "    <tr>\n",
       "      <th>18</th>\n",
       "      <td>75011</td>\n",
       "      <td>487,2</td>\n",
       "      <td>422,2</td>\n",
       "      <td>491</td>\n",
       "      <td>437</td>\n",
       "      <td>466</td>\n",
       "      <td>443</td>\n",
       "      <td>373,5</td>\n",
       "      <td>367,5</td>\n",
       "      <td>511,9</td>\n",
       "      <td>490,6</td>\n",
       "      <td>469,2</td>\n",
       "      <td>487,9</td>\n",
       "      <td>NaN</td>\n",
       "    </tr>\n",
       "    <tr>\n",
       "      <th>19</th>\n",
       "      <td>75003</td>\n",
       "      <td>183,9</td>\n",
       "      <td>173,1</td>\n",
       "      <td>204,2</td>\n",
       "      <td>183</td>\n",
       "      <td>203,2</td>\n",
       "      <td>181,9</td>\n",
       "      <td>191,2</td>\n",
       "      <td>153,6</td>\n",
       "      <td>208,6</td>\n",
       "      <td>186,5</td>\n",
       "      <td>192,9</td>\n",
       "      <td>189,9</td>\n",
       "      <td>NaN</td>\n",
       "    </tr>\n",
       "  </tbody>\n",
       "</table>\n",
       "</div>"
      ],
      "text/plain": [
       "   Granularité   janv-11   févr-11   mars-11    avr-11    mai-11 juin-11  \\\n",
       "0        75007     288,1     249,1     303,7     255,8     287,8   288,4   \n",
       "1        75013     596,5     540,2     618,5     558,6     595,9   581,7   \n",
       "2        75014       464     404,9     465,3     420,2     405,3     446   \n",
       "3        75015     903,1     801,4     937,5     835,5     876,8   888,6   \n",
       "4        75017     451,1     412,4     491,6     422,7     363,6   446,4   \n",
       "5        75018       427     394,3     455,2     419,9     458,3   456,6   \n",
       "6        75019     323,4     287,3     350,3     317,8     336,9   340,7   \n",
       "7        75002       153     125,8     136,6     126,6     133,2   127,6   \n",
       "8        75004     116,3     115,7     133,4       115     123,2   120,5   \n",
       "9        75008     252,6     246,7     252,9     232,5     199,4   236,4   \n",
       "10       75012     484,2     445,9       517       452       402     488   \n",
       "11       75016     584,1     571,2     684,7     590,3     563,4   666,3   \n",
       "12       75020     394,1     366,3     422,7     367,1     273,5   381,7   \n",
       "13  Tout Paris  7 134,20  6 462,60  7 517,40  6 656,60  6 563,40   7 063   \n",
       "14       75001      75,3      60,4      71,2      59,5      73,9      72   \n",
       "15       75005       247       211       251       218       185     224   \n",
       "16       75006       222       189       218       192       180     199   \n",
       "17       75010       273     248,6     292,2     255,2     284,3   267,3   \n",
       "18       75011     487,2     422,2       491       437       466     443   \n",
       "19       75003     183,9     173,1     204,2       183     203,2   181,9   \n",
       "\n",
       "     juil-11 août-11   sept-11    oct-11    nov-11    déc-11  \\\n",
       "0      249,6   185,6     281,3     284,3     296,4     301,1   \n",
       "1      539,2   490,5     597,8     575,7     580,5     601,4   \n",
       "2      412,9   348,7     449,3     446,3     453,1     484,3   \n",
       "3      628,8   674,8     913,3     878,7     895,7     935,8   \n",
       "4      409,5   332,3     416,4     451,5     475,1     513,5   \n",
       "5        418   361,8     464,6     453,4     478,5     470,9   \n",
       "6      311,6     281     345,6     335,6       367     354,5   \n",
       "7      126,7   114,3     144,3     145,1     129,5     129,8   \n",
       "8      114,5    97,6     130,5       123     124,3     133,7   \n",
       "9      175,4   189,4     266,6     230,3     257,7     224,4   \n",
       "10       456     409       506       495       493       502   \n",
       "11     570,4   433,2     679,7     656,1     662,6     699,9   \n",
       "12     353,4     297       414       350     410,6       410   \n",
       "13  6 220,20   5 464  7 296,30  7 084,60  7 291,70  7 492,80   \n",
       "14      57,9    56,4      75,5      75,7      65,8      79,1   \n",
       "15     213,3   162,9     203,4     232,1     227,6     251,6   \n",
       "16     171,8   134,8     183,1     195,5     213,8     204,1   \n",
       "17     246,6   210,3     280,6     275,6     284,6     283,2   \n",
       "18     373,5   367,5     511,9     490,6     469,2     487,9   \n",
       "19     191,2   153,6     208,6     186,5     192,9     189,9   \n",
       "\n",
       "    Total arrondissement 2011  \n",
       "0                         NaN  \n",
       "1                         NaN  \n",
       "2                         NaN  \n",
       "3                         NaN  \n",
       "4                         NaN  \n",
       "5                         NaN  \n",
       "6                         NaN  \n",
       "7                         NaN  \n",
       "8                         NaN  \n",
       "9                         NaN  \n",
       "10                        NaN  \n",
       "11                        NaN  \n",
       "12                        NaN  \n",
       "13                        NaN  \n",
       "14                        NaN  \n",
       "15                        NaN  \n",
       "16                        NaN  \n",
       "17                        NaN  \n",
       "18                        NaN  \n",
       "19                        NaN  "
      ]
     },
     "execution_count": 34,
     "metadata": {},
     "output_type": "execute_result"
    }
   ],
   "source": [
    "data_Paris.head(-1)"
   ]
  },
  {
   "cell_type": "code",
   "execution_count": 36,
   "metadata": {},
   "outputs": [
    {
     "data": {
      "text/html": [
       "<div>\n",
       "<style scoped>\n",
       "    .dataframe tbody tr th:only-of-type {\n",
       "        vertical-align: middle;\n",
       "    }\n",
       "\n",
       "    .dataframe tbody tr th {\n",
       "        vertical-align: top;\n",
       "    }\n",
       "\n",
       "    .dataframe thead th {\n",
       "        text-align: right;\n",
       "    }\n",
       "</style>\n",
       "<table border=\"1\" class=\"dataframe\">\n",
       "  <thead>\n",
       "    <tr style=\"text-align: right;\">\n",
       "      <th></th>\n",
       "      <th>janv-11</th>\n",
       "      <th>févr-11</th>\n",
       "      <th>mars-11</th>\n",
       "      <th>avr-11</th>\n",
       "      <th>mai-11</th>\n",
       "      <th>juin-11</th>\n",
       "      <th>juil-11</th>\n",
       "      <th>août-11</th>\n",
       "      <th>sept-11</th>\n",
       "      <th>oct-11</th>\n",
       "      <th>nov-11</th>\n",
       "      <th>déc-11</th>\n",
       "    </tr>\n",
       "  </thead>\n",
       "  <tbody>\n",
       "    <tr>\n",
       "      <th>0</th>\n",
       "      <td>288,1</td>\n",
       "      <td>249,1</td>\n",
       "      <td>303,7</td>\n",
       "      <td>255,8</td>\n",
       "      <td>287,8</td>\n",
       "      <td>288,4</td>\n",
       "      <td>249,6</td>\n",
       "      <td>185,6</td>\n",
       "      <td>281,3</td>\n",
       "      <td>284,3</td>\n",
       "      <td>296,4</td>\n",
       "      <td>301,1</td>\n",
       "    </tr>\n",
       "    <tr>\n",
       "      <th>1</th>\n",
       "      <td>596,5</td>\n",
       "      <td>540,2</td>\n",
       "      <td>618,5</td>\n",
       "      <td>558,6</td>\n",
       "      <td>595,9</td>\n",
       "      <td>581,7</td>\n",
       "      <td>539,2</td>\n",
       "      <td>490,5</td>\n",
       "      <td>597,8</td>\n",
       "      <td>575,7</td>\n",
       "      <td>580,5</td>\n",
       "      <td>601,4</td>\n",
       "    </tr>\n",
       "    <tr>\n",
       "      <th>2</th>\n",
       "      <td>464</td>\n",
       "      <td>404,9</td>\n",
       "      <td>465,3</td>\n",
       "      <td>420,2</td>\n",
       "      <td>405,3</td>\n",
       "      <td>446</td>\n",
       "      <td>412,9</td>\n",
       "      <td>348,7</td>\n",
       "      <td>449,3</td>\n",
       "      <td>446,3</td>\n",
       "      <td>453,1</td>\n",
       "      <td>484,3</td>\n",
       "    </tr>\n",
       "    <tr>\n",
       "      <th>3</th>\n",
       "      <td>903,1</td>\n",
       "      <td>801,4</td>\n",
       "      <td>937,5</td>\n",
       "      <td>835,5</td>\n",
       "      <td>876,8</td>\n",
       "      <td>888,6</td>\n",
       "      <td>628,8</td>\n",
       "      <td>674,8</td>\n",
       "      <td>913,3</td>\n",
       "      <td>878,7</td>\n",
       "      <td>895,7</td>\n",
       "      <td>935,8</td>\n",
       "    </tr>\n",
       "    <tr>\n",
       "      <th>4</th>\n",
       "      <td>451,1</td>\n",
       "      <td>412,4</td>\n",
       "      <td>491,6</td>\n",
       "      <td>422,7</td>\n",
       "      <td>363,6</td>\n",
       "      <td>446,4</td>\n",
       "      <td>409,5</td>\n",
       "      <td>332,3</td>\n",
       "      <td>416,4</td>\n",
       "      <td>451,5</td>\n",
       "      <td>475,1</td>\n",
       "      <td>513,5</td>\n",
       "    </tr>\n",
       "    <tr>\n",
       "      <th>5</th>\n",
       "      <td>427</td>\n",
       "      <td>394,3</td>\n",
       "      <td>455,2</td>\n",
       "      <td>419,9</td>\n",
       "      <td>458,3</td>\n",
       "      <td>456,6</td>\n",
       "      <td>418</td>\n",
       "      <td>361,8</td>\n",
       "      <td>464,6</td>\n",
       "      <td>453,4</td>\n",
       "      <td>478,5</td>\n",
       "      <td>470,9</td>\n",
       "    </tr>\n",
       "    <tr>\n",
       "      <th>6</th>\n",
       "      <td>323,4</td>\n",
       "      <td>287,3</td>\n",
       "      <td>350,3</td>\n",
       "      <td>317,8</td>\n",
       "      <td>336,9</td>\n",
       "      <td>340,7</td>\n",
       "      <td>311,6</td>\n",
       "      <td>281</td>\n",
       "      <td>345,6</td>\n",
       "      <td>335,6</td>\n",
       "      <td>367</td>\n",
       "      <td>354,5</td>\n",
       "    </tr>\n",
       "    <tr>\n",
       "      <th>7</th>\n",
       "      <td>153</td>\n",
       "      <td>125,8</td>\n",
       "      <td>136,6</td>\n",
       "      <td>126,6</td>\n",
       "      <td>133,2</td>\n",
       "      <td>127,6</td>\n",
       "      <td>126,7</td>\n",
       "      <td>114,3</td>\n",
       "      <td>144,3</td>\n",
       "      <td>145,1</td>\n",
       "      <td>129,5</td>\n",
       "      <td>129,8</td>\n",
       "    </tr>\n",
       "    <tr>\n",
       "      <th>8</th>\n",
       "      <td>116,3</td>\n",
       "      <td>115,7</td>\n",
       "      <td>133,4</td>\n",
       "      <td>115</td>\n",
       "      <td>123,2</td>\n",
       "      <td>120,5</td>\n",
       "      <td>114,5</td>\n",
       "      <td>97,6</td>\n",
       "      <td>130,5</td>\n",
       "      <td>123</td>\n",
       "      <td>124,3</td>\n",
       "      <td>133,7</td>\n",
       "    </tr>\n",
       "    <tr>\n",
       "      <th>9</th>\n",
       "      <td>252,6</td>\n",
       "      <td>246,7</td>\n",
       "      <td>252,9</td>\n",
       "      <td>232,5</td>\n",
       "      <td>199,4</td>\n",
       "      <td>236,4</td>\n",
       "      <td>175,4</td>\n",
       "      <td>189,4</td>\n",
       "      <td>266,6</td>\n",
       "      <td>230,3</td>\n",
       "      <td>257,7</td>\n",
       "      <td>224,4</td>\n",
       "    </tr>\n",
       "    <tr>\n",
       "      <th>10</th>\n",
       "      <td>484,2</td>\n",
       "      <td>445,9</td>\n",
       "      <td>517</td>\n",
       "      <td>452</td>\n",
       "      <td>402</td>\n",
       "      <td>488</td>\n",
       "      <td>456</td>\n",
       "      <td>409</td>\n",
       "      <td>506</td>\n",
       "      <td>495</td>\n",
       "      <td>493</td>\n",
       "      <td>502</td>\n",
       "    </tr>\n",
       "    <tr>\n",
       "      <th>11</th>\n",
       "      <td>584,1</td>\n",
       "      <td>571,2</td>\n",
       "      <td>684,7</td>\n",
       "      <td>590,3</td>\n",
       "      <td>563,4</td>\n",
       "      <td>666,3</td>\n",
       "      <td>570,4</td>\n",
       "      <td>433,2</td>\n",
       "      <td>679,7</td>\n",
       "      <td>656,1</td>\n",
       "      <td>662,6</td>\n",
       "      <td>699,9</td>\n",
       "    </tr>\n",
       "    <tr>\n",
       "      <th>12</th>\n",
       "      <td>394,1</td>\n",
       "      <td>366,3</td>\n",
       "      <td>422,7</td>\n",
       "      <td>367,1</td>\n",
       "      <td>273,5</td>\n",
       "      <td>381,7</td>\n",
       "      <td>353,4</td>\n",
       "      <td>297</td>\n",
       "      <td>414</td>\n",
       "      <td>350</td>\n",
       "      <td>410,6</td>\n",
       "      <td>410</td>\n",
       "    </tr>\n",
       "    <tr>\n",
       "      <th>13</th>\n",
       "      <td>7 134,20</td>\n",
       "      <td>6 462,60</td>\n",
       "      <td>7 517,40</td>\n",
       "      <td>6 656,60</td>\n",
       "      <td>6 563,40</td>\n",
       "      <td>7 063</td>\n",
       "      <td>6 220,20</td>\n",
       "      <td>5 464</td>\n",
       "      <td>7 296,30</td>\n",
       "      <td>7 084,60</td>\n",
       "      <td>7 291,70</td>\n",
       "      <td>7 492,80</td>\n",
       "    </tr>\n",
       "    <tr>\n",
       "      <th>14</th>\n",
       "      <td>75,3</td>\n",
       "      <td>60,4</td>\n",
       "      <td>71,2</td>\n",
       "      <td>59,5</td>\n",
       "      <td>73,9</td>\n",
       "      <td>72</td>\n",
       "      <td>57,9</td>\n",
       "      <td>56,4</td>\n",
       "      <td>75,5</td>\n",
       "      <td>75,7</td>\n",
       "      <td>65,8</td>\n",
       "      <td>79,1</td>\n",
       "    </tr>\n",
       "    <tr>\n",
       "      <th>15</th>\n",
       "      <td>247</td>\n",
       "      <td>211</td>\n",
       "      <td>251</td>\n",
       "      <td>218</td>\n",
       "      <td>185</td>\n",
       "      <td>224</td>\n",
       "      <td>213,3</td>\n",
       "      <td>162,9</td>\n",
       "      <td>203,4</td>\n",
       "      <td>232,1</td>\n",
       "      <td>227,6</td>\n",
       "      <td>251,6</td>\n",
       "    </tr>\n",
       "    <tr>\n",
       "      <th>16</th>\n",
       "      <td>222</td>\n",
       "      <td>189</td>\n",
       "      <td>218</td>\n",
       "      <td>192</td>\n",
       "      <td>180</td>\n",
       "      <td>199</td>\n",
       "      <td>171,8</td>\n",
       "      <td>134,8</td>\n",
       "      <td>183,1</td>\n",
       "      <td>195,5</td>\n",
       "      <td>213,8</td>\n",
       "      <td>204,1</td>\n",
       "    </tr>\n",
       "    <tr>\n",
       "      <th>17</th>\n",
       "      <td>273</td>\n",
       "      <td>248,6</td>\n",
       "      <td>292,2</td>\n",
       "      <td>255,2</td>\n",
       "      <td>284,3</td>\n",
       "      <td>267,3</td>\n",
       "      <td>246,6</td>\n",
       "      <td>210,3</td>\n",
       "      <td>280,6</td>\n",
       "      <td>275,6</td>\n",
       "      <td>284,6</td>\n",
       "      <td>283,2</td>\n",
       "    </tr>\n",
       "    <tr>\n",
       "      <th>18</th>\n",
       "      <td>487,2</td>\n",
       "      <td>422,2</td>\n",
       "      <td>491</td>\n",
       "      <td>437</td>\n",
       "      <td>466</td>\n",
       "      <td>443</td>\n",
       "      <td>373,5</td>\n",
       "      <td>367,5</td>\n",
       "      <td>511,9</td>\n",
       "      <td>490,6</td>\n",
       "      <td>469,2</td>\n",
       "      <td>487,9</td>\n",
       "    </tr>\n",
       "    <tr>\n",
       "      <th>19</th>\n",
       "      <td>183,9</td>\n",
       "      <td>173,1</td>\n",
       "      <td>204,2</td>\n",
       "      <td>183</td>\n",
       "      <td>203,2</td>\n",
       "      <td>181,9</td>\n",
       "      <td>191,2</td>\n",
       "      <td>153,6</td>\n",
       "      <td>208,6</td>\n",
       "      <td>186,5</td>\n",
       "      <td>192,9</td>\n",
       "      <td>189,9</td>\n",
       "    </tr>\n",
       "    <tr>\n",
       "      <th>20</th>\n",
       "      <td>208,3</td>\n",
       "      <td>197,1</td>\n",
       "      <td>220,4</td>\n",
       "      <td>197,9</td>\n",
       "      <td>151,7</td>\n",
       "      <td>206,9</td>\n",
       "      <td>199,9</td>\n",
       "      <td>163,3</td>\n",
       "      <td>223,8</td>\n",
       "      <td>203,6</td>\n",
       "      <td>213,8</td>\n",
       "      <td>235,7</td>\n",
       "    </tr>\n",
       "  </tbody>\n",
       "</table>\n",
       "</div>"
      ],
      "text/plain": [
       "     janv-11   févr-11   mars-11    avr-11    mai-11 juin-11   juil-11  \\\n",
       "0      288,1     249,1     303,7     255,8     287,8   288,4     249,6   \n",
       "1      596,5     540,2     618,5     558,6     595,9   581,7     539,2   \n",
       "2        464     404,9     465,3     420,2     405,3     446     412,9   \n",
       "3      903,1     801,4     937,5     835,5     876,8   888,6     628,8   \n",
       "4      451,1     412,4     491,6     422,7     363,6   446,4     409,5   \n",
       "5        427     394,3     455,2     419,9     458,3   456,6       418   \n",
       "6      323,4     287,3     350,3     317,8     336,9   340,7     311,6   \n",
       "7        153     125,8     136,6     126,6     133,2   127,6     126,7   \n",
       "8      116,3     115,7     133,4       115     123,2   120,5     114,5   \n",
       "9      252,6     246,7     252,9     232,5     199,4   236,4     175,4   \n",
       "10     484,2     445,9       517       452       402     488       456   \n",
       "11     584,1     571,2     684,7     590,3     563,4   666,3     570,4   \n",
       "12     394,1     366,3     422,7     367,1     273,5   381,7     353,4   \n",
       "13  7 134,20  6 462,60  7 517,40  6 656,60  6 563,40   7 063  6 220,20   \n",
       "14      75,3      60,4      71,2      59,5      73,9      72      57,9   \n",
       "15       247       211       251       218       185     224     213,3   \n",
       "16       222       189       218       192       180     199     171,8   \n",
       "17       273     248,6     292,2     255,2     284,3   267,3     246,6   \n",
       "18     487,2     422,2       491       437       466     443     373,5   \n",
       "19     183,9     173,1     204,2       183     203,2   181,9     191,2   \n",
       "20     208,3     197,1     220,4     197,9     151,7   206,9     199,9   \n",
       "\n",
       "   août-11   sept-11    oct-11    nov-11    déc-11  \n",
       "0    185,6     281,3     284,3     296,4     301,1  \n",
       "1    490,5     597,8     575,7     580,5     601,4  \n",
       "2    348,7     449,3     446,3     453,1     484,3  \n",
       "3    674,8     913,3     878,7     895,7     935,8  \n",
       "4    332,3     416,4     451,5     475,1     513,5  \n",
       "5    361,8     464,6     453,4     478,5     470,9  \n",
       "6      281     345,6     335,6       367     354,5  \n",
       "7    114,3     144,3     145,1     129,5     129,8  \n",
       "8     97,6     130,5       123     124,3     133,7  \n",
       "9    189,4     266,6     230,3     257,7     224,4  \n",
       "10     409       506       495       493       502  \n",
       "11   433,2     679,7     656,1     662,6     699,9  \n",
       "12     297       414       350     410,6       410  \n",
       "13   5 464  7 296,30  7 084,60  7 291,70  7 492,80  \n",
       "14    56,4      75,5      75,7      65,8      79,1  \n",
       "15   162,9     203,4     232,1     227,6     251,6  \n",
       "16   134,8     183,1     195,5     213,8     204,1  \n",
       "17   210,3     280,6     275,6     284,6     283,2  \n",
       "18   367,5     511,9     490,6     469,2     487,9  \n",
       "19   153,6     208,6     186,5     192,9     189,9  \n",
       "20   163,3     223,8     203,6     213,8     235,7  "
      ]
     },
     "execution_count": 36,
     "metadata": {},
     "output_type": "execute_result"
    }
   ],
   "source": [
    "data_Paris = data_Paris.iloc[:, 1:-1]\n",
    "data_Paris"
   ]
  },
  {
   "cell_type": "markdown",
   "metadata": {
    "collapsed": true
   },
   "source": [
    "<font size=\"+1\" color=\"RED\">**[Q]**</font> Préparer un rapport d'analyse (c'est-à-dire, compléter votre notebook en rajoutant à la suite tout un ensemble d'expérimentations et de résultats obtenus sur la base) réalisé sur cette base qui mette en évidence les clusters existants à différents niveaux de distance, et en utilisant différentes distances.\n"
   ]
  },
  {
   "cell_type": "code",
   "execution_count": 36,
   "metadata": {},
   "outputs": [
    {
     "data": {
      "text/plain": [
       "array([[ 288.1,  249.1,  303.7,  255.8,  287.8,  288.4,  249.6,  185.6,\n",
       "         281.3,  284.3,  296.4,  301.1],\n",
       "       [ 596.5,  540.2,  618.5,  558.6,  595.9,  581.7,  539.2,  490.5,\n",
       "         597.8,  575.7,  580.5,  601.4],\n",
       "       [ 464. ,  404.9,  465.3,  420.2,  405.3,  446. ,  412.9,  348.7,\n",
       "         449.3,  446.3,  453.1,  484.3],\n",
       "       [ 903.1,  801.4,  937.5,  835.5,  876.8,  888.6,  628.8,  674.8,\n",
       "         913.3,  878.7,  895.7,  935.8],\n",
       "       [ 451.1,  412.4,  491.6,  422.7,  363.6,  446.4,  409.5,  332.3,\n",
       "         416.4,  451.5,  475.1,  513.5],\n",
       "       [ 427. ,  394.3,  455.2,  419.9,  458.3,  456.6,  418. ,  361.8,\n",
       "         464.6,  453.4,  478.5,  470.9],\n",
       "       [ 323.4,  287.3,  350.3,  317.8,  336.9,  340.7,  311.6,  281. ,\n",
       "         345.6,  335.6,  367. ,  354.5],\n",
       "       [ 153. ,  125.8,  136.6,  126.6,  133.2,  127.6,  126.7,  114.3,\n",
       "         144.3,  145.1,  129.5,  129.8],\n",
       "       [ 116.3,  115.7,  133.4,  115. ,  123.2,  120.5,  114.5,   97.6,\n",
       "         130.5,  123. ,  124.3,  133.7],\n",
       "       [ 252.6,  246.7,  252.9,  232.5,  199.4,  236.4,  175.4,  189.4,\n",
       "         266.6,  230.3,  257.7,  224.4],\n",
       "       [ 484.2,  445.9,  517. ,  452. ,  402. ,  488. ,  456. ,  409. ,\n",
       "         506. ,  495. ,  493. ,  502. ],\n",
       "       [ 584.1,  571.2,  684.7,  590.3,  563.4,  666.3,  570.4,  433.2,\n",
       "         679.7,  656.1,  662.6,  699.9],\n",
       "       [ 394.1,  366.3,  422.7,  367.1,  273.5,  381.7,  353.4,  297. ,\n",
       "         414. ,  350. ,  410.6,  410. ],\n",
       "       [7134.2, 6462.6, 7517.4, 6656.6, 6563.4, 7063. , 6220.2, 5464. ,\n",
       "        7296.3, 7084.6, 7291.7, 7492.8],\n",
       "       [  75.3,   60.4,   71.2,   59.5,   73.9,   72. ,   57.9,   56.4,\n",
       "          75.5,   75.7,   65.8,   79.1],\n",
       "       [ 247. ,  211. ,  251. ,  218. ,  185. ,  224. ,  213.3,  162.9,\n",
       "         203.4,  232.1,  227.6,  251.6],\n",
       "       [ 222. ,  189. ,  218. ,  192. ,  180. ,  199. ,  171.8,  134.8,\n",
       "         183.1,  195.5,  213.8,  204.1],\n",
       "       [ 273. ,  248.6,  292.2,  255.2,  284.3,  267.3,  246.6,  210.3,\n",
       "         280.6,  275.6,  284.6,  283.2],\n",
       "       [ 487.2,  422.2,  491. ,  437. ,  466. ,  443. ,  373.5,  367.5,\n",
       "         511.9,  490.6,  469.2,  487.9],\n",
       "       [ 183.9,  173.1,  204.2,  183. ,  203.2,  181.9,  191.2,  153.6,\n",
       "         208.6,  186.5,  192.9,  189.9],\n",
       "       [ 208.3,  197.1,  220.4,  197.9,  151.7,  206.9,  199.9,  163.3,\n",
       "         223.8,  203.6,  213.8,  235.7]])"
      ]
     },
     "execution_count": 36,
     "metadata": {},
     "output_type": "execute_result"
    }
   ],
   "source": [
    "data_Paris = data_Paris.stack().str.replace(' ','').unstack()\n",
    "data_Paris = data_Paris.stack().str.replace(',','.').unstack()\n",
    "#data_Paris\n",
    "parisVal = data_Paris.values.astype(float)\n",
    "parisVal"
   ]
  },
  {
   "cell_type": "code",
   "execution_count": 37,
   "metadata": {},
   "outputs": [
    {
     "data": {
      "text/plain": [
       "array([[0.03014634, 0.02947424, 0.03122398, 0.0297555 , 0.03296094,\n",
       "        0.03095408, 0.03110851, 0.0238923 , 0.028501  , 0.02976216,\n",
       "        0.03191298, 0.02994456],\n",
       "       [0.07383587, 0.07494299, 0.07350058, 0.07565445, 0.08043763,\n",
       "        0.07290802, 0.07810395, 0.08027591, 0.07233271, 0.07133787,\n",
       "        0.07122988, 0.07045065],\n",
       "       [0.05506524, 0.05380963, 0.05292632, 0.05467554, 0.05106711,\n",
       "        0.05349735, 0.05760836, 0.05405355, 0.05176712, 0.05287563,\n",
       "        0.05359886, 0.05465557],\n",
       "       [0.1172704 , 0.11574146, 0.11634122, 0.11762744, 0.12372294,\n",
       "        0.11680732, 0.09264398, 0.11435757, 0.11602593, 0.11456862,\n",
       "        0.11485075, 0.11555633],\n",
       "       [0.05323776, 0.0549811 , 0.05645833, 0.05505449, 0.04464134,\n",
       "        0.05355457, 0.05705662, 0.05102079, 0.04721084, 0.05361754,\n",
       "        0.05664346, 0.05859422],\n",
       "       [0.04982363, 0.05215395, 0.05156993, 0.05463006, 0.05923415,\n",
       "        0.05501359, 0.05843597, 0.05647607, 0.053886  , 0.05388863,\n",
       "        0.05711399, 0.05284811],\n",
       "       [0.03514712, 0.03544094, 0.03748221, 0.03915357, 0.04052701,\n",
       "        0.03843513, 0.04116969, 0.04153414, 0.03740583, 0.03708143,\n",
       "        0.04168339, 0.03714744],\n",
       "       [0.01100738, 0.01021524, 0.008783  , 0.01017114, 0.00913784,\n",
       "        0.00795308, 0.01116466, 0.01070715, 0.00952803, 0.0099017 ,\n",
       "        0.00881551, 0.00683869],\n",
       "       [0.00580827, 0.00863766, 0.00835325, 0.00841279, 0.00759689,\n",
       "        0.00693749, 0.00918488, 0.00761891, 0.00761688, 0.00674856,\n",
       "        0.00809588, 0.00736474],\n",
       "       [0.02511723, 0.02909937, 0.02440171, 0.02622364, 0.01933893,\n",
       "        0.02351595, 0.01906756, 0.02459501, 0.02646521, 0.02205767,\n",
       "        0.02655725, 0.01959885],\n",
       "       [0.05792687, 0.06021368, 0.05986946, 0.05949584, 0.05055859,\n",
       "        0.05950508, 0.0646025 , 0.06520453, 0.05961943, 0.05982394,\n",
       "        0.05912066, 0.05704304],\n",
       "       [0.07207922, 0.07978507, 0.08239102, 0.0804596 , 0.07542954,\n",
       "        0.0850093 , 0.083167  , 0.06967971, 0.08367494, 0.082809  ,\n",
       "        0.08259179, 0.08373687],\n",
       "       [0.04516284, 0.04778045, 0.04720529, 0.04662655, 0.03075738,\n",
       "        0.04429981, 0.04795287, 0.04449294, 0.04687846, 0.03913596,\n",
       "        0.04771724, 0.04463358],\n",
       "       [1.        , 1.        , 1.        , 1.        , 1.        ,\n",
       "        1.        , 1.        , 1.        , 1.        , 1.        ,\n",
       "        1.        , 1.        ],\n",
       "       [0.        , 0.        , 0.        , 0.        , 0.        ,\n",
       "        0.        , 0.        , 0.        , 0.        , 0.        ,\n",
       "        0.        , 0.        ],\n",
       "       [0.0243239 , 0.02352316, 0.02414654, 0.02402571, 0.01711996,\n",
       "        0.02174224, 0.02521786, 0.0196945 , 0.01771272, 0.02231449,\n",
       "        0.02239167, 0.02326773],\n",
       "       [0.02078227, 0.02008685, 0.01971475, 0.02008458, 0.01634949,\n",
       "        0.01816621, 0.01848336, 0.01449811, 0.0149014 , 0.01709255,\n",
       "        0.02048188, 0.01686068],\n",
       "       [0.0280072 , 0.02939615, 0.02967957, 0.02966455, 0.0324216 ,\n",
       "        0.02793592, 0.03062168, 0.02845995, 0.02840405, 0.02852088,\n",
       "        0.03027997, 0.02753011],\n",
       "       [0.05835187, 0.05651182, 0.05637775, 0.05722211, 0.06042068,\n",
       "        0.05306823, 0.05121464, 0.05753014, 0.06043652, 0.05919616,\n",
       "        0.05582696, 0.05514116],\n",
       "       [0.01538483, 0.01760332, 0.01786146, 0.01872035, 0.01992449,\n",
       "        0.01572021, 0.02163153, 0.0179747 , 0.01843286, 0.01580847,\n",
       "        0.0175895 , 0.0149453 ],\n",
       "       [0.01884146, 0.02135204, 0.02003707, 0.02097891, 0.0119886 ,\n",
       "        0.01929624, 0.02304334, 0.01976847, 0.02053789, 0.01824823,\n",
       "        0.02048188, 0.02112306]])"
      ]
     },
     "execution_count": 37,
     "metadata": {},
     "output_type": "execute_result"
    }
   ],
   "source": [
    "normalisation(parisVal)"
   ]
  },
  {
   "cell_type": "code",
   "execution_count": 38,
   "metadata": {},
   "outputs": [
    {
     "name": "stdout",
     "output_type": "stream",
     "text": [
      "Fusion de  13  et  14 pour une distance de  23588.743873932755\n",
      "Fusion de  8  et  21 pour une distance de  23408.17998243349\n",
      "Fusion de  7  et  22 pour une distance de  23367.182456385282\n",
      "Fusion de  19  et  23 pour une distance de  23176.503763510147\n",
      "Fusion de  16  et  24 pour une distance de  23158.881562588464\n",
      "Fusion de  20  et  25 pour une distance de  23125.172831786578\n",
      "Fusion de  15  et  26 pour une distance de  23065.451537093308\n",
      "Fusion de  9  et  27 pour une distance de  23026.174960900476\n",
      "Fusion de  17  et  28 pour une distance de  22900.33852260704\n",
      "Fusion de  0  et  29 pour une distance de  22877.530096144557\n",
      "Fusion de  6  et  30 pour une distance de  22684.151417895268\n",
      "Fusion de  12  et  31 pour une distance de  22539.803159743875\n",
      "Fusion de  4  et  32 pour une distance de  22322.977380940923\n",
      "Fusion de  2  et  33 pour une distance de  22321.379141755555\n",
      "Fusion de  5  et  34 pour une distance de  22306.23996306863\n",
      "Fusion de  18  et  35 pour une distance de  22248.76877042862\n",
      "Fusion de  10  et  36 pour une distance de  22192.858094215804\n",
      "Fusion de  1  et  37 pour une distance de  21840.142360112946\n",
      "Fusion de  11  et  38 pour une distance de  21689.596896899675\n",
      "Fusion de  3  et  39 pour une distance de  20877.640101314133\n"
     ]
    },
    {
     "data": {
      "image/png": "[encoded data removed]",
      "text/plain": [
       "<Figure size 2160x1080 with 1 Axes>"
      ]
     },
     "metadata": {
      "needs_background": "light"
     },
     "output_type": "display_data"
    },
    {
     "data": {
      "text/plain": [
       "array([[1.30000000e+01, 1.40000000e+01, 2.35887439e+04, 2.00000000e+00],\n",
       "       [8.00000000e+00, 2.10000000e+01, 2.34081800e+04, 2.00000000e+00],\n",
       "       [7.00000000e+00, 2.20000000e+01, 2.33671825e+04, 2.00000000e+00],\n",
       "       [1.90000000e+01, 2.30000000e+01, 2.31765038e+04, 2.00000000e+00],\n",
       "       [1.60000000e+01, 2.40000000e+01, 2.31588816e+04, 2.00000000e+00],\n",
       "       [2.00000000e+01, 2.50000000e+01, 2.31251728e+04, 2.00000000e+00],\n",
       "       [1.50000000e+01, 2.60000000e+01, 2.30654515e+04, 2.00000000e+00],\n",
       "       [9.00000000e+00, 2.70000000e+01, 2.30261750e+04, 2.00000000e+00],\n",
       "       [1.70000000e+01, 2.80000000e+01, 2.29003385e+04, 2.00000000e+00],\n",
       "       [0.00000000e+00, 2.90000000e+01, 2.28775301e+04, 2.00000000e+00],\n",
       "       [6.00000000e+00, 3.00000000e+01, 2.26841514e+04, 2.00000000e+00],\n",
       "       [1.20000000e+01, 3.10000000e+01, 2.25398032e+04, 2.00000000e+00],\n",
       "       [4.00000000e+00, 3.20000000e+01, 2.23229774e+04, 2.00000000e+00],\n",
       "       [2.00000000e+00, 3.30000000e+01, 2.23213791e+04, 2.00000000e+00],\n",
       "       [5.00000000e+00, 3.40000000e+01, 2.23062400e+04, 2.00000000e+00],\n",
       "       [1.80000000e+01, 3.50000000e+01, 2.22487688e+04, 2.00000000e+00],\n",
       "       [1.00000000e+01, 3.60000000e+01, 2.21928581e+04, 2.00000000e+00],\n",
       "       [1.00000000e+00, 3.70000000e+01, 2.18401424e+04, 2.00000000e+00],\n",
       "       [1.10000000e+01, 3.80000000e+01, 2.16895969e+04, 2.00000000e+00],\n",
       "       [3.00000000e+00, 3.90000000e+01, 2.08776401e+04, 2.00000000e+00]])"
      ]
     },
     "execution_count": 38,
     "metadata": {},
     "output_type": "execute_result"
    }
   ],
   "source": [
    "clustering_hierarchique_max(parisVal, \"euclidienne\")"
   ]
  },
  {
   "cell_type": "code",
   "execution_count": 39,
   "metadata": {},
   "outputs": [
    {
     "name": "stdout",
     "output_type": "stream",
     "text": [
      "Fusion de  13  et  14 pour une distance de  81424.09999999999\n",
      "Fusion de  8  et  21 pour une distance de  80799.1\n",
      "Fusion de  7  et  22 pour une distance de  80654.3\n",
      "Fusion de  19  et  23 pour une distance de  79994.79999999999\n",
      "Fusion de  16  et  24 pour une distance de  79943.7\n",
      "Fusion de  20  et  25 pour une distance de  79824.4\n",
      "Fusion de  15  et  26 pour une distance de  79619.9\n",
      "Fusion de  9  et  27 pour une distance de  79482.5\n",
      "Fusion de  17  et  28 pour une distance de  79045.3\n",
      "Fusion de  0  et  29 pour une distance de  78975.6\n",
      "Fusion de  6  et  30 pour une distance de  78295.09999999999\n",
      "Fusion de  12  et  31 pour une distance de  77806.40000000001\n",
      "Fusion de  4  et  32 pour une distance de  77060.70000000001\n",
      "Fusion de  2  et  33 pour une distance de  77046.5\n",
      "Fusion de  5  et  34 pour une distance de  76988.29999999999\n",
      "Fusion de  18  et  35 pour une distance de  76799.79999999999\n",
      "Fusion de  10  et  36 pour une distance de  76596.70000000001\n",
      "Fusion de  1  et  37 pour une distance de  75370.3\n",
      "Fusion de  11  et  38 pour une distance de  74884.9\n",
      "Fusion de  3  et  39 pour une distance de  72076.79999999999\n"
     ]
    },
    {
     "data": {
      "image/png": "[encoded data removed]",
      "text/plain": [
       "<Figure size 2160x1080 with 1 Axes>"
      ]
     },
     "metadata": {
      "needs_background": "light"
     },
     "output_type": "display_data"
    },
    {
     "data": {
      "text/plain": [
       "array([[1.30000e+01, 1.40000e+01, 8.14241e+04, 2.00000e+00],\n",
       "       [8.00000e+00, 2.10000e+01, 8.07991e+04, 2.00000e+00],\n",
       "       [7.00000e+00, 2.20000e+01, 8.06543e+04, 2.00000e+00],\n",
       "       [1.90000e+01, 2.30000e+01, 7.99948e+04, 2.00000e+00],\n",
       "       [1.60000e+01, 2.40000e+01, 7.99437e+04, 2.00000e+00],\n",
       "       [2.00000e+01, 2.50000e+01, 7.98244e+04, 2.00000e+00],\n",
       "       [1.50000e+01, 2.60000e+01, 7.96199e+04, 2.00000e+00],\n",
       "       [9.00000e+00, 2.70000e+01, 7.94825e+04, 2.00000e+00],\n",
       "       [1.70000e+01, 2.80000e+01, 7.90453e+04, 2.00000e+00],\n",
       "       [0.00000e+00, 2.90000e+01, 7.89756e+04, 2.00000e+00],\n",
       "       [6.00000e+00, 3.00000e+01, 7.82951e+04, 2.00000e+00],\n",
       "       [1.20000e+01, 3.10000e+01, 7.78064e+04, 2.00000e+00],\n",
       "       [4.00000e+00, 3.20000e+01, 7.70607e+04, 2.00000e+00],\n",
       "       [2.00000e+00, 3.30000e+01, 7.70465e+04, 2.00000e+00],\n",
       "       [5.00000e+00, 3.40000e+01, 7.69883e+04, 2.00000e+00],\n",
       "       [1.80000e+01, 3.50000e+01, 7.67998e+04, 2.00000e+00],\n",
       "       [1.00000e+01, 3.60000e+01, 7.65967e+04, 2.00000e+00],\n",
       "       [1.00000e+00, 3.70000e+01, 7.53703e+04, 2.00000e+00],\n",
       "       [1.10000e+01, 3.80000e+01, 7.48849e+04, 2.00000e+00],\n",
       "       [3.00000e+00, 3.90000e+01, 7.20768e+04, 2.00000e+00]])"
      ]
     },
     "execution_count": 39,
     "metadata": {},
     "output_type": "execute_result"
    }
   ],
   "source": [
    "clustering_hierarchique_max(parisVal, \"manhattan\")"
   ]
  },
  {
   "cell_type": "code",
   "execution_count": 323,
   "metadata": {},
   "outputs": [
    {
     "name": "stdout",
     "output_type": "stream",
     "text": [
      "Fusion de  0  et  17 pour une distance de  44.421278684882544\n",
      "Fusion de  7  et  8 pour une distance de  53.78605767296949\n",
      "Fusion de  16  et  19 pour une distance de  70.04291541619322\n",
      "Fusion de  2  et  4 pour une distance de  73.39114387989875\n",
      "Fusion de  20  et  23 pour une distance de  74.79112581048638\n",
      "Fusion de  15  et  25 pour une distance de  98.26018748427282\n",
      "Fusion de  5  et  24 pour une distance de  98.81181609503994\n",
      "Fusion de  18  et  27 pour une distance de  119.07484574371233\n",
      "Fusion de  9  et  26 pour une distance de  126.98828193971285\n",
      "Fusion de  10  et  28 pour une distance de  128.662526109975\n",
      "Fusion de  6  et  12 pour une distance de  191.0043716777184\n",
      "Fusion de  14  et  22 pour une distance de  201.9366856220038\n",
      "Fusion de  1  et  11 pour une distance de  220.42381903959472\n",
      "Fusion de  21  et  29 pour une distance de  226.70057719379545\n",
      "Fusion de  30  et  31 pour une distance de  336.11182172009353\n",
      "Fusion de  32  et  34 pour une distance de  408.19415967828945\n",
      "Fusion de  33  et  35 pour une distance de  610.7655967584237\n",
      "Fusion de  36  et  37 pour une distance de  931.3577890655591\n",
      "Fusion de  3  et  38 pour une distance de  1858.7973055155016\n",
      "Fusion de  13  et  39 pour une distance de  22635.780972991633\n"
     ]
    },
    {
     "data": {
      "image/png": "[encoded data removed]",
      "text/plain": [
       "<Figure size 2160x1080 with 1 Axes>"
      ]
     },
     "metadata": {
      "needs_background": "light"
     },
     "output_type": "display_data"
    },
    {
     "data": {
      "text/plain": [
       "array([[0.00000000e+00, 1.70000000e+01, 4.44212787e+01, 2.00000000e+00],\n",
       "       [7.00000000e+00, 8.00000000e+00, 5.37860577e+01, 2.00000000e+00],\n",
       "       [1.60000000e+01, 1.90000000e+01, 7.00429154e+01, 2.00000000e+00],\n",
       "       [2.00000000e+00, 4.00000000e+00, 7.33911439e+01, 2.00000000e+00],\n",
       "       [2.00000000e+01, 2.30000000e+01, 7.47911258e+01, 2.00000000e+00],\n",
       "       [1.50000000e+01, 2.50000000e+01, 9.82601875e+01, 2.00000000e+00],\n",
       "       [5.00000000e+00, 2.40000000e+01, 9.88118161e+01, 2.00000000e+00],\n",
       "       [1.80000000e+01, 2.70000000e+01, 1.19074846e+02, 2.00000000e+00],\n",
       "       [9.00000000e+00, 2.60000000e+01, 1.26988282e+02, 2.00000000e+00],\n",
       "       [1.00000000e+01, 2.80000000e+01, 1.28662526e+02, 2.00000000e+00],\n",
       "       [6.00000000e+00, 1.20000000e+01, 1.91004372e+02, 2.00000000e+00],\n",
       "       [1.40000000e+01, 2.20000000e+01, 2.01936686e+02, 2.00000000e+00],\n",
       "       [1.00000000e+00, 1.10000000e+01, 2.20423819e+02, 2.00000000e+00],\n",
       "       [2.10000000e+01, 2.90000000e+01, 2.26700577e+02, 2.00000000e+00],\n",
       "       [3.00000000e+01, 3.10000000e+01, 3.36111822e+02, 2.00000000e+00],\n",
       "       [3.20000000e+01, 3.40000000e+01, 4.08194160e+02, 2.00000000e+00],\n",
       "       [3.30000000e+01, 3.50000000e+01, 6.10765597e+02, 2.00000000e+00],\n",
       "       [3.60000000e+01, 3.70000000e+01, 9.31357789e+02, 2.00000000e+00],\n",
       "       [3.00000000e+00, 3.80000000e+01, 1.85879731e+03, 2.00000000e+00],\n",
       "       [1.30000000e+01, 3.90000000e+01, 2.26357810e+04, 2.00000000e+00]])"
      ]
     },
     "execution_count": 323,
     "metadata": {},
     "output_type": "execute_result"
    }
   ],
   "source": [
    "clustering_hierarchique(parisVal, \"euclidienne\")"
   ]
  },
  {
   "cell_type": "code",
   "execution_count": 40,
   "metadata": {},
   "outputs": [
    {
     "name": "stdout",
     "output_type": "stream",
     "text": [
      "Fusion de  0  et  17 pour une distance de  119.1\n",
      "Fusion de  7  et  8 pour une distance de  152.59999999999997\n",
      "Fusion de  2  et  4 pour une distance de  200.39999999999992\n",
      "Fusion de  16  et  20 pour une distance de  203.3\n",
      "Fusion de  19  et  24 pour une distance de  215.54999999999993\n",
      "Fusion de  5  et  23 pour une distance de  260.70000000000005\n",
      "Fusion de  9  et  15 pour une distance de  271.2\n",
      "Fusion de  18  et  26 pour une distance de  328.6333333333334\n",
      "Fusion de  25  et  27 pour une distance de  369.76666666666665\n",
      "Fusion de  10  et  28 pour une distance de  419.7249999999999\n",
      "Fusion de  6  et  12 pour une distance de  615.4999999999999\n",
      "Fusion de  1  et  11 pour une distance de  689.8\n",
      "Fusion de  14  et  22 pour une distance de  697.4\n",
      "Fusion de  21  et  29 pour une distance de  762.61\n",
      "Fusion de  30  et  31 pour une distance de  1152.35\n",
      "Fusion de  33  et  34 pour une distance de  1403.9952380952382\n",
      "Fusion de  32  et  35 pour une distance de  2100.042857142857\n",
      "Fusion de  36  et  37 pour une distance de  3215.403333333333\n",
      "Fusion de  3  et  38 pour une distance de  6376.484210526315\n",
      "Fusion de  13  et  39 pour une distance de  78134.46\n"
     ]
    },
    {
     "data": {
      "image/png": "[encoded data removed]",
      "text/plain": [
       "<Figure size 2160x1080 with 1 Axes>"
      ]
     },
     "metadata": {
      "needs_background": "light"
     },
     "output_type": "display_data"
    },
    {
     "data": {
      "text/plain": [
       "array([[0.00000000e+00, 1.70000000e+01, 1.19100000e+02, 2.00000000e+00],\n",
       "       [7.00000000e+00, 8.00000000e+00, 1.52600000e+02, 2.00000000e+00],\n",
       "       [2.00000000e+00, 4.00000000e+00, 2.00400000e+02, 2.00000000e+00],\n",
       "       [1.60000000e+01, 2.00000000e+01, 2.03300000e+02, 2.00000000e+00],\n",
       "       [1.90000000e+01, 2.40000000e+01, 2.15550000e+02, 2.00000000e+00],\n",
       "       [5.00000000e+00, 2.30000000e+01, 2.60700000e+02, 2.00000000e+00],\n",
       "       [9.00000000e+00, 1.50000000e+01, 2.71200000e+02, 2.00000000e+00],\n",
       "       [1.80000000e+01, 2.60000000e+01, 3.28633333e+02, 2.00000000e+00],\n",
       "       [2.50000000e+01, 2.70000000e+01, 3.69766667e+02, 2.00000000e+00],\n",
       "       [1.00000000e+01, 2.80000000e+01, 4.19725000e+02, 2.00000000e+00],\n",
       "       [6.00000000e+00, 1.20000000e+01, 6.15500000e+02, 2.00000000e+00],\n",
       "       [1.00000000e+00, 1.10000000e+01, 6.89800000e+02, 2.00000000e+00],\n",
       "       [1.40000000e+01, 2.20000000e+01, 6.97400000e+02, 2.00000000e+00],\n",
       "       [2.10000000e+01, 2.90000000e+01, 7.62610000e+02, 2.00000000e+00],\n",
       "       [3.00000000e+01, 3.10000000e+01, 1.15235000e+03, 2.00000000e+00],\n",
       "       [3.30000000e+01, 3.40000000e+01, 1.40399524e+03, 2.00000000e+00],\n",
       "       [3.20000000e+01, 3.50000000e+01, 2.10004286e+03, 2.00000000e+00],\n",
       "       [3.60000000e+01, 3.70000000e+01, 3.21540333e+03, 2.00000000e+00],\n",
       "       [3.00000000e+00, 3.80000000e+01, 6.37648421e+03, 2.00000000e+00],\n",
       "       [1.30000000e+01, 3.90000000e+01, 7.81344600e+04, 2.00000000e+00]])"
      ]
     },
     "execution_count": 40,
     "metadata": {},
     "output_type": "execute_result"
    }
   ],
   "source": [
    "clustering_hierarchique(parisVal, \"manhattan\")"
   ]
  },
  {
   "cell_type": "markdown",
   "metadata": {},
   "source": [
    "## Questions de cours (à faire chez vous, sur papier)\n",
    "\n",
    "Pour vous entraîner sans machine...\n",
    "\n",
    "<font color=\"RED\" size=\"+1\">**[Q]**</font> Montrer que la distance de Manhattan est bien une mesure de distance.\n",
    "\n",
    "<font color=\"RED\" size=\"+1\">**[Q]**</font> Dans le cours, 4 approches possibles ont été données afin de calculer la distance entre 2 groupes :\n",
    "- l'approche du chaînage minimum est appelée \"simple linkage\"\n",
    "- l'approche du chaînage maximum, est appelée \"complete linkage\"\n",
    "- l'approche du chaînage moyenne est appelée \"average linkage\"\n",
    "- l'approche du par centre de gravité est appelée \"centroid linkage\"\n",
    "\n",
    "On considère une mesure de distance $d$. Soit $A =\\{a_1,a_2,...,a_{|A|}\\}$ et $B =\\{b_1,b_2,...,b_{|B|}\\}$ deux groupes d'exemples. Donner l'expression de la distance entre $A$ et $B$ pour chacune des approches.\n",
    "\n",
    "\n",
    "<font color=\"RED\" size=\"+1\">**[Q]**</font> En utilisant la distance euclidienne et l'approche \"centroid linkage\", appliquer, \"à la main\", l'algorithme de clustering hiérarchique, méthode par agglomération, sur les données fournies sur le transparent 10 du cours 2 (coin haut gauche). Dans cette page, les données correspondent à 9 points dans un espace 2D: $X_1 \\times X_2$. Le point 1 est le point de coordonnées $(-0.5, -1.0)$, etc. \n",
    "Construire le dendrogramme correspondant.\n",
    "\n",
    "rem : dans la page du cours, les 3 premiers clusters construits sont donnés.\n",
    "\n",
    "\n",
    "<font color=\"RED\" size=\"+1\">**[Q]**</font> *(examen 2018)*\n",
    "On considère la base d'apprentissage de $[0,10]\\times [0,10]$ contenant les 7 exemples suivants: $\\mathcal{X}=\\{(1,2)$, $(1,4)$, $(3,4)$, $(3,5)$, $(6,2)$, $(6,5)$, $(8,3)\\}$ (remarque: cette base est déjà normalisée).\n",
    "En détaillant les étapes et en expliquant les calculs réalisés et les regroupements effectués, appliquer sur $\\mathcal{X}$ l'algorithme de classification hiérarchique, version ascendante, en utilisant l'approche ``centroid linkage'' et la distance euclidienne.  Donner le dendrogramme obtenu.\n",
    "<font color=\"RED\" size=\"+1\">**[Q]**</font> Si on rajoute l'exemple $(5,5)$ dans $\\mathcal{X}$ de la question précédente, sans ré-appliquer l'algorithme donner, en les justifiant, les modifications apportées au dendrogramme précédent par l'ajout de cet exemple."
   ]
  },
  {
   "cell_type": "code",
   "execution_count": null,
   "metadata": {},
   "outputs": [],
   "source": []
  }
 ],
 "metadata": {
  "kernelspec": {
   "display_name": "Python 3",
   "language": "python",
   "name": "python3"
  },
  "language_info": {
   "codemirror_mode": {
    "name": "ipython",
    "version": 3
   },
   "file_extension": ".py",
   "mimetype": "text/x-python",
   "name": "python",
   "nbconvert_exporter": "python",
   "pygments_lexer": "ipython3",
   "version": "3.7.2"
  }
 },
 "nbformat": 4,
 "nbformat_minor": 1
}
