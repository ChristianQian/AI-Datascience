{
 "cells": [
  {
   "cell_type": "markdown",
   "metadata": {},
   "source": [
    "IA & Data science (3i026) -- 2018-2019\n",
    "--------\n",
    "*&copy; Equipe pédagogique: Manon Ansart, Vincent Guigue, Marie-Jeanne Lesot, Christophe Marsala, Olivier Schwander.*\n"
   ]
  },
  {
   "cell_type": "markdown",
   "metadata": {},
   "source": [
    "# TD-TME03: programmation du perceptron\n",
    "\n",
    "Dans ce TP, nous allons principalement programmer un perceptron, en nous restreignant au cas binaire où les données sont étiquetées $+1$ ou $-1$ (comme les séances précédentes)."
   ]
  },
  {
   "cell_type": "markdown",
   "metadata": {},
   "source": [
    "<font size=\"+1\" color=\"RED\">**[Q]**</font> **Indiquer dans la boîte ci-dessous vos noms et prénoms :**"
   ]
  },
  {
   "cell_type": "markdown",
   "metadata": {},
   "source": [
    "GUERASSIMOV Alexandre - QIAN Christian"
   ]
  },
  {
   "cell_type": "markdown",
   "metadata": {},
   "source": [
    "<font color=\"RED\" size=\"+1\">**[Q]**</font> **Renommer ce fichier ipython**\n",
    "\n",
    "Tout en haut de cette page, cliquer sur <tt>tme-03</tt> et rajouter à la suite de <tt>tme-03</tt> les noms des membres du binômes séparés par un tiret."
   ]
  },
  {
   "cell_type": "markdown",
   "metadata": {},
   "source": [
    "<font color=\"RED\" size=\"+1\">IMPORTANT: soumission de votre fichier final</font>\n",
    "\n",
    "**Nom à donner au fichier à poster** : *tme-03-Nom1_Nom2.ipynb* \n",
    "- *Nom1* et *Nom2* : noms des membres du binôme\n",
    "- ne pas compresser ou faire une archive: il faut rendre le fichier ipython tel quel, éventuellement, si vous avez d'autres fichiers vous les rendez séparément.\n",
    "\n",
    "**Echancier pour la soumission de votre compte-rendu:**\n",
    "- le compte-rendu d'une séance doit être remis obligatoirement <font color=\"RED\">** à la fin de la séance**</font>. C'est ce compte-rendu qui donne la note de base de la séance.\n",
    "- vous pouvez éventuellement compléter votre compte-rendu  pour obtenir des points bonus, dans ce cas, vous devez soumettre votre complément avant le début de la semaine suivante.\n",
    "\n",
    "** Sur la page Moodle de remise du travail <font color=\"RED\">ne pas oublier d'envoyer le compte rendu</font>** à la fin de la séance, la soumission de la version complémentaire post-séance se fera sur une page différente."
   ]
  },
  {
   "cell_type": "markdown",
   "metadata": {},
   "source": [
    "## Création d'une librairie\n",
    "\n",
    "Afin de pouvoir réutiliser les classes et fonctions écrites dans les séances de TDTME précédentes, on va construire une librairie qu'il suffira d'importer.\n",
    "\n",
    "Récupérer l'archive iads.tgz et la désarchiver de telle sorte que le répertoire iads soit un répertoire frère du répertoire tme03.\n",
    "\n",
    "Ainsi, vous devrez avoir l'arborescence suivante dans votre répertoire $HOME:\n",
    "\n",
    "    - 3i026/\n",
    "        - tme01/\n",
    "            - tme01.ipynb\n",
    "        - tme02/\n",
    "            - tme02.ipynb\n",
    "        - tme03/\n",
    "            - tme03.ipynb\n",
    "        - iads/\n",
    "            - Classifiers.py\n",
    "            - LabeledSet.py\n",
    "            - utils.py\n",
    "          \n",
    "\n",
    "**Important** :\n",
    "- ce fichier tme03.ipynb doit toujours rester dans le répertorie tme03/\n",
    "- pour ouvrir les fichiers py qui se trouvent dans le répertoire iads/ il est nécessaire d'utiliser un éditeur de texte comme emacs, gedit, idle,...\n",
    "\n",
    "\n",
    "<font color=\"RED\" size=\"+1\">**[Q]**</font> **Ouvrir et compléter les fichiers Classifiers.py et utils.py**\n",
    "\n",
    "Pour compléter ces fichiers, reprendre le code écrit dans le TDTME précédent pour compléter toute les parties indiquées <tt>#TODO</tt>.\n",
    "- dans utils.py, il faut compléter la fonction createGaussianDataset\n",
    "- dans Classifiers.py, il faut compléter le code des classifiers"
   ]
  },
  {
   "cell_type": "markdown",
   "metadata": {},
   "source": [
    "Une fois ces fichiers complétés, la librairie <tt>iads</tt> peut être importée dans ce notebook."
   ]
  },
  {
   "cell_type": "code",
   "execution_count": 3,
   "metadata": {},
   "outputs": [],
   "source": [
    "import numpy as np\n",
    "import pandas as pd\n",
    "import matplotlib.pyplot as plt\n",
    "import random\n",
    "%matplotlib inline  \n",
    "\n",
    "# La ligne suivante permet de préciser le chemin d'accès à la librairie iads\n",
    "import sys\n",
    "sys.path.append('../')\n",
    "\n",
    "# Importation de la librairie iads\n",
    "import iads as iads\n",
    "\n",
    "# importation de LabeledSet\n",
    "from iads import LabeledSet as ls\n",
    "\n",
    "# importation de Classifiers\n",
    "from iads import Classifiers as cl\n",
    "\n",
    "# importation de utils\n",
    "from iads import utils as ut"
   ]
  },
  {
   "cell_type": "markdown",
   "metadata": {},
   "source": [
    "La commande <tt>help</tt> permet d'avoir des informations sur le contenu d'une librairie importée:"
   ]
  },
  {
   "cell_type": "code",
   "execution_count": 2,
   "metadata": {},
   "outputs": [
    {
     "name": "stdout",
     "output_type": "stream",
     "text": [
      "Help on package iads:\n",
      "\n",
      "NAME\n",
      "    iads\n",
      "\n",
      "DESCRIPTION\n",
      "    Package: iads\n",
      "    File: __init__.py\n",
      "    Année: semestre 2 - 2018-2019, Sorbonne Université\n",
      "\n",
      "PACKAGE CONTENTS\n",
      "    Classifiers\n",
      "    LabeledSet\n",
      "    utils\n",
      "\n",
      "FILE\n",
      "    c:\\users\\zeraflut\\desktop\\3i026\\iads\\__init__.py\n",
      "\n",
      "\n"
     ]
    }
   ],
   "source": [
    "help(iads)"
   ]
  },
  {
   "cell_type": "code",
   "execution_count": 3,
   "metadata": {},
   "outputs": [
    {
     "name": "stdout",
     "output_type": "stream",
     "text": [
      "Help on module iads.LabeledSet in iads:\n",
      "\n",
      "NAME\n",
      "    iads.LabeledSet\n",
      "\n",
      "DESCRIPTION\n",
      "    Package: iads\n",
      "    Fichier: LabeledSet.py\n",
      "    Année: semestre 2 - 2018-2019, Sorbonne Université\n",
      "\n",
      "CLASSES\n",
      "    builtins.object\n",
      "        LabeledSet\n",
      "    \n",
      "    class LabeledSet(builtins.object)\n",
      "     |  LabeledSet(input_dimension)\n",
      "     |  \n",
      "     |  Classe pour représenter un ensemble d'exemples (base d'apprentissage)\n",
      "     |  Variables d'instance :\n",
      "     |      - input_dimension (int) : dimension de la description d'un exemple (x)\n",
      "     |      - nb_examples (int) : nombre d'exemples dans l'ensemble\n",
      "     |  \n",
      "     |  Methods defined here:\n",
      "     |  \n",
      "     |  __init__(self, input_dimension)\n",
      "     |      Constructeur de LabeledSet\n",
      "     |      Argument: \n",
      "     |          - intput_dimension (int) : dimension de x\n",
      "     |      Hypothèse : input_dimension > 0\n",
      "     |  \n",
      "     |  addExample(self, vector, label)\n",
      "     |      Ajout d'un exemple dans l'ensemble\n",
      "     |      Argument: \n",
      "     |          - vector ()\n",
      "     |          - label (int) : classe de l'exemple (+1 ou -1)\n",
      "     |  \n",
      "     |  getInputDimension(self)\n",
      "     |      Renvoie la dimension de l'espace d'entrée\n",
      "     |  \n",
      "     |  getX(self, i)\n",
      "     |      Renvoie la description du i-eme exemple (x_i)\n",
      "     |  \n",
      "     |  getY(self, i)\n",
      "     |      Renvoie la classe de du i-eme exemple (y_i)\n",
      "     |  \n",
      "     |  size(self)\n",
      "     |      Renvoie le nombre d'exemples dans l'ensemble\n",
      "     |  \n",
      "     |  ----------------------------------------------------------------------\n",
      "     |  Data descriptors defined here:\n",
      "     |  \n",
      "     |  __dict__\n",
      "     |      dictionary for instance variables (if defined)\n",
      "     |  \n",
      "     |  __weakref__\n",
      "     |      list of weak references to the object (if defined)\n",
      "\n",
      "FILE\n",
      "    c:\\users\\zeraflut\\desktop\\3i026\\iads\\labeledset.py\n",
      "\n",
      "\n"
     ]
    }
   ],
   "source": [
    "help(ls)"
   ]
  },
  {
   "cell_type": "code",
   "execution_count": 4,
   "metadata": {},
   "outputs": [
    {
     "name": "stdout",
     "output_type": "stream",
     "text": [
      "Help on module iads.Classifiers in iads:\n",
      "\n",
      "NAME\n",
      "    iads.Classifiers\n",
      "\n",
      "DESCRIPTION\n",
      "    Package: iads\n",
      "    Fichier: Classifiers.py\n",
      "    Année: semestre 2 - 2018-2019, Sorbonne Université\n",
      "\n",
      "CLASSES\n",
      "    builtins.object\n",
      "        Classifier\n",
      "            ClassifierKNN\n",
      "            ClassifierLineaireRandom\n",
      "    \n",
      "    class Classifier(builtins.object)\n",
      "     |  Classifier(input_dimension)\n",
      "     |  \n",
      "     |  Classe pour représenter un classifieur\n",
      "     |  Attention: cette classe est une classe abstraite, elle ne peut pas être\n",
      "     |  instanciée.\n",
      "     |  \n",
      "     |  Methods defined here:\n",
      "     |  \n",
      "     |  __init__(self, input_dimension)\n",
      "     |      Constructeur de Classifier\n",
      "     |      Argument:\n",
      "     |          - intput_dimension (int) : dimension d'entrée des exemples\n",
      "     |      Hypothèse : input_dimension > 0\n",
      "     |  \n",
      "     |  accuracy(self, dataset)\n",
      "     |      Permet de calculer la qualité du système\n",
      "     |  \n",
      "     |  predict(self, x)\n",
      "     |      rend la prediction sur x (-1 ou +1)\n",
      "     |  \n",
      "     |  train(self, labeledSet)\n",
      "     |      Permet d'entrainer le modele sur l'ensemble donné\n",
      "     |  \n",
      "     |  ----------------------------------------------------------------------\n",
      "     |  Data descriptors defined here:\n",
      "     |  \n",
      "     |  __dict__\n",
      "     |      dictionary for instance variables (if defined)\n",
      "     |  \n",
      "     |  __weakref__\n",
      "     |      list of weak references to the object (if defined)\n",
      "    \n",
      "    class ClassifierKNN(Classifier)\n",
      "     |  ClassifierKNN(input_dimension, k)\n",
      "     |  \n",
      "     |  Classe pour représenter un classifieur par K plus proches voisins.\n",
      "     |  Cette classe hérite de la classe Classifier\n",
      "     |  \n",
      "     |  Method resolution order:\n",
      "     |      ClassifierKNN\n",
      "     |      Classifier\n",
      "     |      builtins.object\n",
      "     |  \n",
      "     |  Methods defined here:\n",
      "     |  \n",
      "     |  __init__(self, input_dimension, k)\n",
      "     |      Constructeur de Classifier\n",
      "     |      Argument:\n",
      "     |          - intput_dimension (int) : dimension d'entrée des exemples\n",
      "     |          - k (int) : nombre de voisins à considérer\n",
      "     |      Hypothèse : input_dimension > 0\n",
      "     |  \n",
      "     |  predict(self, x)\n",
      "     |      rend la prediction sur x (-1 ou +1)\n",
      "     |  \n",
      "     |  train(self, labeledSet)\n",
      "     |      Permet d'entrainer le modele sur l'ensemble donné\n",
      "     |  \n",
      "     |  ----------------------------------------------------------------------\n",
      "     |  Methods inherited from Classifier:\n",
      "     |  \n",
      "     |  accuracy(self, dataset)\n",
      "     |      Permet de calculer la qualité du système\n",
      "     |  \n",
      "     |  ----------------------------------------------------------------------\n",
      "     |  Data descriptors inherited from Classifier:\n",
      "     |  \n",
      "     |  __dict__\n",
      "     |      dictionary for instance variables (if defined)\n",
      "     |  \n",
      "     |  __weakref__\n",
      "     |      list of weak references to the object (if defined)\n",
      "    \n",
      "    class ClassifierLineaireRandom(Classifier)\n",
      "     |  ClassifierLineaireRandom(input_dimension)\n",
      "     |  \n",
      "     |  Classe pour représenter un classifieur linéaire aléatoire\n",
      "     |  Cette classe hérite de la classe Classifier\n",
      "     |  \n",
      "     |  Method resolution order:\n",
      "     |      ClassifierLineaireRandom\n",
      "     |      Classifier\n",
      "     |      builtins.object\n",
      "     |  \n",
      "     |  Methods defined here:\n",
      "     |  \n",
      "     |  __init__(self, input_dimension)\n",
      "     |      Constructeur de Classifier\n",
      "     |      Argument:\n",
      "     |          - intput_dimension (int) : dimension d'entrée des exemples\n",
      "     |      Hypothèse : input_dimension > 0\n",
      "     |  \n",
      "     |  predict(self, x)\n",
      "     |      rend la prediction sur x (-1 ou +1)\n",
      "     |  \n",
      "     |  train(self, labeledSet)\n",
      "     |      Permet d'entrainer le modele sur l'ensemble donné\n",
      "     |  \n",
      "     |  ----------------------------------------------------------------------\n",
      "     |  Methods inherited from Classifier:\n",
      "     |  \n",
      "     |  accuracy(self, dataset)\n",
      "     |      Permet de calculer la qualité du système\n",
      "     |  \n",
      "     |  ----------------------------------------------------------------------\n",
      "     |  Data descriptors inherited from Classifier:\n",
      "     |  \n",
      "     |  __dict__\n",
      "     |      dictionary for instance variables (if defined)\n",
      "     |  \n",
      "     |  __weakref__\n",
      "     |      list of weak references to the object (if defined)\n",
      "\n",
      "FILE\n",
      "    c:\\users\\zeraflut\\desktop\\3i026\\iads\\classifiers.py\n",
      "\n",
      "\n"
     ]
    }
   ],
   "source": [
    "help(cl)"
   ]
  },
  {
   "cell_type": "markdown",
   "metadata": {},
   "source": [
    "Dans les boîtes suivantes, on utilise ces librairies avec les exemples vus en TDTME-02."
   ]
  },
  {
   "cell_type": "code",
   "execution_count": 4,
   "metadata": {},
   "outputs": [
    {
     "name": "stdout",
     "output_type": "stream",
     "text": [
      "Exemple 0\n",
      "\tdescription :  [0 1]\n",
      "\tlabel :  [1]\n",
      "Exemple 1\n",
      "\tdescription :  [2 3]\n",
      "\tlabel :  [1]\n",
      "Exemple 2\n",
      "\tdescription :  [1 2]\n",
      "\tlabel :  [-1]\n",
      "Exemple 3\n",
      "\tdescription :  [2 2]\n",
      "\tlabel :  [-1]\n"
     ]
    }
   ],
   "source": [
    "# Exemple d'utilisation de LabeledSet\n",
    "\n",
    "une_base = ls.LabeledSet(2)        # définition d'une base pour contenir des exemples en 2D\n",
    "\n",
    "une_base.addExample([0, 1],1)   # ajout de l'exemple (0, 1) de classe +1\n",
    "une_base.addExample([2, 3],1)   # ajout de l'exemple (2, 3) de classe +1\n",
    "une_base.addExample([1, 2],-1)  # ajout de l'exemple (1, 2) de classe -1\n",
    "une_base.addExample([2, 2],-1)  # ajout de l'exemple (2, 2) de classe -1\n",
    "\n",
    "# Fonction pour afficher le LabeledSet\n",
    "def affiche_base(LS):\n",
    "    \"\"\" LabeledSet\n",
    "        affiche le contenu de LS\n",
    "    \"\"\"\n",
    "    for i in range(0,LS.size()):\n",
    "        print(\"Exemple \"+str(i))\n",
    "        print(\"\\tdescription : \",LS.getX(i))\n",
    "        print(\"\\tlabel : \",LS.getY(i))\n",
    "    return\n",
    "\n",
    "# Affichage de la base\n",
    "affiche_base(une_base)"
   ]
  },
  {
   "cell_type": "code",
   "execution_count": 5,
   "metadata": {},
   "outputs": [
    {
     "name": "stdout",
     "output_type": "stream",
     "text": [
      "Taille de la base jouet générée : 20 exemples\n"
     ]
    },
    {
     "data": {
      "image/png": "[encoded data removed]",
      "text/plain": [
       "<Figure size 432x288 with 1 Axes>"
      ]
     },
     "metadata": {
      "needs_background": "light"
     },
     "output_type": "display_data"
    }
   ],
   "source": [
    "# Exemple d'utilisation de utils\n",
    "\n",
    "the_set = ut.createGaussianDataset(np.array([1,1]),np.array([[1,0],[0,1]]),np.array([-1,-1]),np.array([[1,0],[0,1]]),10)\n",
    "\n",
    "print(\"Taille de la base jouet générée :\", the_set.size(), \"exemples\")\n",
    "\n",
    "# Affichage :\n",
    "ut.plot2DSet(the_set)\n"
   ]
  },
  {
   "cell_type": "code",
   "execution_count": 6,
   "metadata": {},
   "outputs": [
    {
     "data": {
      "image/png": "[encoded data removed]",
      "text/plain": [
       "<Figure size 432x288 with 1 Axes>"
      ]
     },
     "metadata": {
      "needs_background": "light"
     },
     "output_type": "display_data"
    }
   ],
   "source": [
    "# Exemple d'utilisation de Classifiers pour créer un knn:\n",
    "\n",
    "knn = cl.ClassifierKNN(2,3)\n",
    "\n",
    "knn.train(the_set)\n",
    "\n",
    "ut.plot_frontiere(the_set,knn)\n",
    "ut.plot2DSet(the_set)"
   ]
  },
  {
   "cell_type": "markdown",
   "metadata": {},
   "source": [
    "<font color=\"RED\" size=\"+2\">**Très important**</font>: tout le reste du travail à faire dans ce TDTME ne doit être fait que dans le notebook. Il ne faut plus modifier les fichiers de la librairie.\n",
    "\n",
    "Le compte-rendu de cette séance ne comportera que le fichier notebook.\n"
   ]
  },
  {
   "cell_type": "markdown",
   "metadata": {},
   "source": [
    "Perceptron aléatoire\n",
    "====\n",
    "\n",
    "La classe <tt>ClassifierPerceptronRandom</tt> suivante hérite de la classe `Classifier`. Elle implémente un modèle de perceptron aléatoire qui modélise un hyperplan $f_w(x)=\\langle w ; x \\rangle$ tel que $w$ est tiré aléatoirement lors de la création.\n",
    "\n",
    "\n",
    "\n"
   ]
  },
  {
   "cell_type": "code",
   "execution_count": 7,
   "metadata": {},
   "outputs": [],
   "source": [
    "class ClassifierPerceptronRandom(cl.Classifier):\n",
    "    def __init__(self, input_dimension):\n",
    "        \"\"\" Argument:\n",
    "                - input_dimension (int) : dimension d'entrée des exemples\n",
    "            Hypothèse : input_dimension > 0\n",
    "        \"\"\"\n",
    "        v = np.random.rand(input_dimension)     # vecteur aléatoire à input_dimension dimensions\n",
    "        self.w = (2* v - 1) / np.linalg.norm(v) # on normalise par la norme de v\n",
    "\n",
    "    def predict(self, x):\n",
    "        \"\"\" rend la prediction sur x (-1 ou +1)\n",
    "        \"\"\"\n",
    "        z = np.dot(x, self.w)\n",
    "        return z\n",
    "        \n",
    "    def train(self,labeledSet):\n",
    "        \"\"\" Permet d'entrainer le modele sur l'ensemble donné\n",
    "        \"\"\"        \n",
    "        print(\"No training needed\")"
   ]
  },
  {
   "cell_type": "markdown",
   "metadata": {},
   "source": [
    "<font color=\"RED\" size=\"+1\">**[Q]**</font> Tester ce modèle de perceptron sur un jeu de données aléatoire.\n"
   ]
  },
  {
   "cell_type": "code",
   "execution_count": 8,
   "metadata": {},
   "outputs": [
    {
     "data": {
      "image/png": "[encoded data removed]",
      "text/plain": [
       "<Figure size 432x288 with 1 Axes>"
      ]
     },
     "metadata": {
      "needs_background": "light"
     },
     "output_type": "display_data"
    }
   ],
   "source": [
    "# Exemple de création et d'utilisation d'un Perceptron aléatoire:\n",
    "\n",
    "perceptron_random = ClassifierPerceptronRandom(2)\n",
    "\n",
    "ut.plot_frontiere(the_set,perceptron_random)\n",
    "ut.plot2DSet(the_set)"
   ]
  },
  {
   "cell_type": "markdown",
   "metadata": {},
   "source": [
    "Perceptron de Rosenblatt\n",
    "==="
   ]
  },
  {
   "cell_type": "markdown",
   "metadata": {},
   "source": [
    "<font color=\"RED\" size=\"+1\">**[Q]**</font> En héritant de la classe `Classifier`, écrire la classe <tt>ClassifierPerceptron</tt> qui implémente l'algorithme du Perceptron de Rosenblatt vu en cours.\n",
    "\n",
    "La fonction `train` fera une itération sur l'ensemble des données de l'apprentissage. Les points d'apprentissage seront tirés dans un ordre aléatoire.\n",
    "\n"
   ]
  },
  {
   "cell_type": "code",
   "execution_count": 9,
   "metadata": {},
   "outputs": [],
   "source": [
    "class ClassifierPerceptron(cl.Classifier):\n",
    "    \"\"\" Perceptron de Rosenblatt\n",
    "    \"\"\"\n",
    "    def __init__(self,input_dimension,learning_rate):\n",
    "        \"\"\" Argument:\n",
    "                - intput_dimension (int) : dimension d'entrée des exemples\n",
    "                - learning_rate :\n",
    "            Hypothèse : input_dimension > 0\n",
    "        \"\"\"\n",
    "        self.input_dimension = input_dimension\n",
    "        self.learning_rate = learning_rate\n",
    "        v = np.random.rand(input_dimension)\n",
    "        self.w = (2* v - 1) / np.linalg.norm(v)\n",
    "\n",
    "    def predict(self,x):\n",
    "        \"\"\" rend la prediction sur x (-1 ou +1)\n",
    "        \"\"\"\n",
    "        if np.dot(x, self.w) >= 0:\n",
    "            return 1\n",
    "        return -1\n",
    "    \n",
    "    def train(self,labeledSet):\n",
    "        \"\"\" Permet d'entrainer le modele sur l'ensemble donné\n",
    "        \"\"\"\n",
    "        self.labeledSet = labeledSet\n",
    "        r = list(range(0,labeledSet.size(),1))\n",
    "        random.shuffle(r)\n",
    "        for i in range(labeledSet.size()):\n",
    "            x = labeledSet.getX(r[i])\n",
    "            self.w += self.learning_rate * (labeledSet.getY(r[i])-self.predict(x)) * x\n",
    "        return self.w"
   ]
  },
  {
   "cell_type": "markdown",
   "metadata": {},
   "source": [
    "<font color=\"RED\" size=\"+1\">**[Q]**</font> Tester le perceptron de la manière suivante:\n",
    "- Apprendre pendant N itérations\n",
    "- Afficher l'accuracy du modèle à chaque itération\n",
    "- Vérifier que l'accuracy monte\n",
    "- Dessiner la frontière obtenue"
   ]
  },
  {
   "cell_type": "code",
   "execution_count": 10,
   "metadata": {},
   "outputs": [
    {
     "data": {
      "image/png": "[encoded data removed]",
      "text/plain": [
       "<Figure size 432x288 with 1 Axes>"
      ]
     },
     "metadata": {
      "needs_background": "light"
     },
     "output_type": "display_data"
    },
    {
     "data": {
      "image/png": "[encoded data removed]",
      "text/plain": [
       "<Figure size 432x288 with 1 Axes>"
      ]
     },
     "metadata": {
      "needs_background": "light"
     },
     "output_type": "display_data"
    }
   ],
   "source": [
    "classpercptron = ClassifierPerceptron(2,1)\n",
    "\n",
    "res = np.zeros(100)\n",
    "res[0] = classpercptron.accuracy(the_set)\n",
    "\n",
    "for i in range(1,100):\n",
    "    classpercptron.train(the_set)\n",
    "    res[i] = classpercptron.accuracy(the_set)\n",
    "    \n",
    "k = range(1,101,1)\n",
    "plt.plot(k, res)\n",
    "plt.show()\n",
    "\n",
    "ut.plot_frontiere(the_set,classpercptron,100)\n",
    "ut.plot2DSet(the_set)"
   ]
  },
  {
   "cell_type": "markdown",
   "metadata": {},
   "source": [
    "<font color=\"RED\" size=\"+1\">**[Q]**</font> Expérimentations\n",
    "\n",
    "- Générer deux ensembles de train et de test\n",
    "- Dessiner la courbe de performance en fonction de l'itération sur les ensembles de train et de test\n",
    "    * Que se passe-t-il en fonction du pas (epsilon) d'apprentissage ? \n",
    "    * Que se passe-t-il quand le nombre d'exemples en apprentissage est faible ? \n"
   ]
  },
  {
   "cell_type": "code",
   "execution_count": 27,
   "metadata": {
    "scrolled": false
   },
   "outputs": [
    {
     "data": {
      "image/png": "[encoded data removed]",
      "text/plain": [
       "<Figure size 432x288 with 1 Axes>"
      ]
     },
     "metadata": {
      "needs_background": "light"
     },
     "output_type": "display_data"
    }
   ],
   "source": [
    "nb = 100\n",
    "lset = ut.createGaussianDataset(np.array([1,1]),np.array([[1,0],[0,1]]),np.array([-1,-1]),np.array([[1,0],[0,1]]),nb)\n",
    "ltest = ut.createGaussianDataset(np.array([0,0]),np.array([[1,0],[0,1]]),np.array([0,-2]),np.array([[1,0],[0,1]]),nb)\n",
    "\n",
    "classpercptron = ClassifierPerceptron(2,1)\n",
    "\n",
    "res = np.zeros(nb*2)\n",
    "res2 = np.zeros(nb*2)\n",
    "\n",
    "res[0] = classpercptron.accuracy(lset)\n",
    "res2[0] = classpercptron.accuracy(ltest)\n",
    "\n",
    "for i in range(1, nb*2):\n",
    "    classpercptron.train(lset)\n",
    "    res[i] = classpercptron.accuracy(lset)\n",
    "    res2[i] = classpercptron.accuracy(ltest)\n",
    "\n",
    "\n",
    "\n",
    "k = range(1,(nb*2)+1,1)\n",
    "plt.plot(k, res, label = \"train\")\n",
    "plt.plot(k, res2, label = \"test\")\n",
    "plt.legend(loc = \"best\")\n",
    "plt.show()\n"
   ]
  },
  {
   "cell_type": "markdown",
   "metadata": {},
   "source": [
    "Avec peu d'exemples, on remarque que le classifier prend en général plus de temps à l'apprentissage - ce qui est matérialisé par une pente plus inclinée de la courbe avant la stabilisation du niveau de performance.\n",
    "Avoir un pas faible provoque un dessin plus précis de la courbe, avec de nombreuses faibles fluctuations visibles ; tandis qu'avec un pas elevé, le dessin est plus lisse, ne représentant que les fluctuations importantes."
   ]
  },
  {
   "cell_type": "markdown",
   "metadata": {},
   "source": [
    "<font color=\"RED\" size=\"+1\">**[Q]**</font> **Données XOR**\n",
    "\n",
    "Ecrire la fpnction `createXOR` qui, étant donné un nombre de points $n$ et une variance $var$, permet de générer une base de données contenant:\n",
    "- deux gaussiennes centrées en (0,0) et (1,1) correspondant à $n$ exemples positifs\n",
    "- deux gaussiennes centrées en (1,0) et (0,1) correspondant à $n$ exemples négatifs\n",
    "\n",
    "Dans la suite, on appelle XOR une base de données créée par cette fonction.\n",
    "\n",
    "\n",
    "Que se passe-t-il quand on apprend un perceptron  ? Quel est le problème ? "
   ]
  },
  {
   "cell_type": "code",
   "execution_count": 12,
   "metadata": {},
   "outputs": [],
   "source": [
    "def createXOR(nb_points,var):\n",
    "    v = np.array([[var, 0], [0, var]])\n",
    "    g1 = ut.createGaussianDataset(np.array([0,0]), v, np.array([1,0]), v, nb_points)\n",
    "    g2 = ut.createGaussianDataset(np.array([1,1]), v, np.array([0,1]), v, nb_points)\n",
    "    \n",
    "    for i in range(0, g2.size()):\n",
    "        g1.addExample(g2.getX(i), g2.getY(i))\n",
    "    return g1\n"
   ]
  },
  {
   "cell_type": "code",
   "execution_count": 13,
   "metadata": {},
   "outputs": [
    {
     "data": {
      "image/png": "[encoded data removed]",
      "text/plain": [
       "<Figure size 432x288 with 1 Axes>"
      ]
     },
     "metadata": {
      "needs_background": "light"
     },
     "output_type": "display_data"
    }
   ],
   "source": [
    "xor=createXOR(100,0.01)\n",
    "ut.plot2DSet(xor)"
   ]
  },
  {
   "cell_type": "markdown",
   "metadata": {},
   "source": [
    "Kernel Trick\n",
    "--------------"
   ]
  },
  {
   "cell_type": "markdown",
   "metadata": {},
   "source": [
    "Nous allons projeter (manuellement) les données 2D dans un espace de plus grande dimension. Voici un exemple de projection qui transforme un vecteur $(x_1,x_2)$ en un vecteur $(x_1,x_2,1)$"
   ]
  },
  {
   "cell_type": "code",
   "execution_count": 14,
   "metadata": {},
   "outputs": [
    {
     "data": {
      "text/plain": [
       "array([0.24275991, 1.31985647, 1.        ])"
      ]
     },
     "execution_count": 14,
     "metadata": {},
     "output_type": "execute_result"
    }
   ],
   "source": [
    "class KernelBias:\n",
    "    def transform(self,x):\n",
    "        y=np.asarray([x[0],x[1],1])\n",
    "        return y\n",
    "\n",
    "kb=KernelBias()\n",
    "kb.transform(the_set.getX(1))\n"
   ]
  },
  {
   "cell_type": "markdown",
   "metadata": {},
   "source": [
    "<font color=\"RED\" size=\"+1\">**[Q]**</font> Implémenter la classe ClassifierPerceptronKernel qui prend un Kernel en paramètre, et calcule le perceptron sur la version \"kernélisée\" des données. Tester ce perceptron sur le dataset 1 (2 gaussiennes) et le dataset XOR."
   ]
  },
  {
   "cell_type": "code",
   "execution_count": 15,
   "metadata": {},
   "outputs": [],
   "source": [
    "class ClassifierPerceptronKernel(cl.Classifier):\n",
    "    def __init__(self,dimension_kernel,learning_rate,kernel):\n",
    "        \"\"\" Argument:\n",
    "                - intput_dimension (int) : dimension d'entrée des exemples\n",
    "                - learning_rate :\n",
    "            Hypothèse : input_dimension > 0\n",
    "        \"\"\"\n",
    "        self.dimension_kernel = dimension_kernel\n",
    "        self.learning_rate = learning_rate\n",
    "        self.kernel = kernel\n",
    "        v = np.random.rand(dimension_kernel)\n",
    "        self.w = (2* v - 1) / np.linalg.norm(v)\n",
    "        \n",
    "    def predict(self,x):\n",
    "        \"\"\" rend la prediction sur x (-1 ou +1)\n",
    "        \"\"\"\n",
    "        kx = self.kernel.transform(x)\n",
    "        if np.dot(kx, self.w) >= 0:\n",
    "            return 1\n",
    "        return -1\n",
    "    \n",
    "    def train(self,labeledSet):\n",
    "        \"\"\" Permet d'entrainer le modele sur l'ensemble donné\n",
    "        \"\"\"\n",
    "        r = list(range(0,labeledSet.size(),1))\n",
    "        random.shuffle(r)\n",
    "        for i in range(labeledSet.size()):\n",
    "            x = labeledSet.getX(r[i])\n",
    "            kx = self.kernel.transform(x)\n",
    "            self.w += self.learning_rate * kx * (labeledSet.getY(r[i])-self.predict(x))\n",
    "        return self.w"
   ]
  },
  {
   "cell_type": "code",
   "execution_count": 16,
   "metadata": {},
   "outputs": [
    {
     "data": {
      "image/png": "[encoded data removed]",
      "text/plain": [
       "<Figure size 432x288 with 1 Axes>"
      ]
     },
     "metadata": {
      "needs_background": "light"
     },
     "output_type": "display_data"
    }
   ],
   "source": [
    "pk = ClassifierPerceptronKernel(3,0.001,kb)\n",
    "\n",
    "for i in range(100):\n",
    "    pk.train(the_set)\n",
    "\n",
    "ut.plot_frontiere(the_set,pk,100)\n",
    "ut.plot2DSet(the_set)"
   ]
  },
  {
   "cell_type": "code",
   "execution_count": 25,
   "metadata": {},
   "outputs": [
    {
     "data": {
      "image/png": "[encoded data removed]",
      "text/plain": [
       "<Figure size 432x288 with 1 Axes>"
      ]
     },
     "metadata": {
      "needs_background": "light"
     },
     "output_type": "display_data"
    }
   ],
   "source": [
    "for i in range(100):\n",
    "    pk.train(xor)\n",
    "\n",
    "ut.plot_frontiere(xor,pk,100)\n",
    "ut.plot2DSet(xor)"
   ]
  },
  {
   "cell_type": "markdown",
   "metadata": {},
   "source": [
    "On s'aperçoit que le ClassifierPerceptronKernel arrive à des résultats légèrement meilleurs que le ClassifierPerceptron classique selon la répartition des points de l'ensemble de données.\n",
    "En ce qui concerne le XOR, le ClassifierPerceptronKernel "
   ]
  },
  {
   "cell_type": "markdown",
   "metadata": {},
   "source": [
    "<font color=\"RED\" size=\"+1\">**[Q]**</font> Implémenter le kernel : $(x_1,x_2) \\rightarrow (1,x_1,x_2,x_1*x_1,x_2*x_2,x_1*x_2)$. Entrainer le perceptron correspondant sur le XOR. Que constatez-vous ? Donnez une explication (explication donnée en cours lors de la prochaine séance)"
   ]
  },
  {
   "cell_type": "code",
   "execution_count": 18,
   "metadata": {},
   "outputs": [
    {
     "data": {
      "image/png": "[encoded data removed]",
      "text/plain": [
       "<Figure size 432x288 with 1 Axes>"
      ]
     },
     "metadata": {
      "needs_background": "light"
     },
     "output_type": "display_data"
    }
   ],
   "source": [
    "class KernelPoly:\n",
    "    def transform(self,x):\n",
    "        y=np.asarray([1, x[0],x[1], x[0]**2, x[1]**2, x[0]*x[1]])\n",
    "        return y\n",
    "\n",
    "N=100\n",
    "k=KernelPoly()\n",
    "perceptron_k=ClassifierPerceptronKernel(6,0.001,k)\n",
    "\n",
    "for i in range(N):\n",
    "    perceptron_k.train(xor)\n",
    "    \n",
    "ut.plot_frontiere(xor,perceptron_k,N)\n",
    "ut.plot2DSet(xor)"
   ]
  },
  {
   "cell_type": "markdown",
   "metadata": {},
   "source": [
    "Expérimentations sur des datasets réels\n",
    "-------\n",
    "\n"
   ]
  },
  {
   "cell_type": "markdown",
   "metadata": {
    "collapsed": true
   },
   "source": [
    "A partir de datasets trouvés sur le web, réaliser un ensemble d'expérimentations permettant de comparer les 3 classifiers (knn, perceptron de Rosenblatt et version kernélisée) que vous avez implémentés.\n",
    "\n",
    "Par exemple, vous pouvez utiliser les datasets suivants:\n",
    "- https://archive.ics.uci.edu/ml/datasets/Breast+Cancer+Coimbra\n",
    "- https://www.kaggle.com/uciml/indian-liver-patient-records\n",
    "- voir sur les données ouvertes de Paris : https://opendata.paris.fr/explore/?sort=modified\n",
    "\n",
    "Afin d'utiliser de tels jeux de données, il sera certainement nécessaire que vous réalisiez un prétraitement afin de pouvoir utiliser vos implémentations."
   ]
  },
  {
   "cell_type": "code",
   "execution_count": 19,
   "metadata": {},
   "outputs": [
    {
     "data": {
      "text/html": [
       "<div>\n",
       "<style scoped>\n",
       "    .dataframe tbody tr th:only-of-type {\n",
       "        vertical-align: middle;\n",
       "    }\n",
       "\n",
       "    .dataframe tbody tr th {\n",
       "        vertical-align: top;\n",
       "    }\n",
       "\n",
       "    .dataframe thead th {\n",
       "        text-align: right;\n",
       "    }\n",
       "</style>\n",
       "<table border=\"1\" class=\"dataframe\">\n",
       "  <thead>\n",
       "    <tr style=\"text-align: right;\">\n",
       "      <th></th>\n",
       "      <th>Age</th>\n",
       "      <th>BMI</th>\n",
       "      <th>Glucose</th>\n",
       "      <th>Insulin</th>\n",
       "      <th>HOMA</th>\n",
       "      <th>Leptin</th>\n",
       "      <th>Adiponectin</th>\n",
       "      <th>Resistin</th>\n",
       "      <th>MCP.1</th>\n",
       "      <th>Classification</th>\n",
       "    </tr>\n",
       "  </thead>\n",
       "  <tbody>\n",
       "    <tr>\n",
       "      <th>0</th>\n",
       "      <td>48</td>\n",
       "      <td>23.500000</td>\n",
       "      <td>70</td>\n",
       "      <td>2.707</td>\n",
       "      <td>0.467409</td>\n",
       "      <td>8.8071</td>\n",
       "      <td>9.702400</td>\n",
       "      <td>7.99585</td>\n",
       "      <td>417.114</td>\n",
       "      <td>1</td>\n",
       "    </tr>\n",
       "    <tr>\n",
       "      <th>1</th>\n",
       "      <td>83</td>\n",
       "      <td>20.690495</td>\n",
       "      <td>92</td>\n",
       "      <td>3.115</td>\n",
       "      <td>0.706897</td>\n",
       "      <td>8.8438</td>\n",
       "      <td>5.429285</td>\n",
       "      <td>4.06405</td>\n",
       "      <td>468.786</td>\n",
       "      <td>1</td>\n",
       "    </tr>\n",
       "    <tr>\n",
       "      <th>2</th>\n",
       "      <td>82</td>\n",
       "      <td>23.124670</td>\n",
       "      <td>91</td>\n",
       "      <td>4.498</td>\n",
       "      <td>1.009651</td>\n",
       "      <td>17.9393</td>\n",
       "      <td>22.432040</td>\n",
       "      <td>9.27715</td>\n",
       "      <td>554.697</td>\n",
       "      <td>1</td>\n",
       "    </tr>\n",
       "    <tr>\n",
       "      <th>3</th>\n",
       "      <td>68</td>\n",
       "      <td>21.367521</td>\n",
       "      <td>77</td>\n",
       "      <td>3.226</td>\n",
       "      <td>0.612725</td>\n",
       "      <td>9.8827</td>\n",
       "      <td>7.169560</td>\n",
       "      <td>12.76600</td>\n",
       "      <td>928.220</td>\n",
       "      <td>1</td>\n",
       "    </tr>\n",
       "    <tr>\n",
       "      <th>4</th>\n",
       "      <td>86</td>\n",
       "      <td>21.111111</td>\n",
       "      <td>92</td>\n",
       "      <td>3.549</td>\n",
       "      <td>0.805386</td>\n",
       "      <td>6.6994</td>\n",
       "      <td>4.819240</td>\n",
       "      <td>10.57635</td>\n",
       "      <td>773.920</td>\n",
       "      <td>1</td>\n",
       "    </tr>\n",
       "  </tbody>\n",
       "</table>\n",
       "</div>"
      ],
      "text/plain": [
       "   Age        BMI  Glucose  Insulin      HOMA   Leptin  Adiponectin  Resistin  \\\n",
       "0   48  23.500000       70    2.707  0.467409   8.8071     9.702400   7.99585   \n",
       "1   83  20.690495       92    3.115  0.706897   8.8438     5.429285   4.06405   \n",
       "2   82  23.124670       91    4.498  1.009651  17.9393    22.432040   9.27715   \n",
       "3   68  21.367521       77    3.226  0.612725   9.8827     7.169560  12.76600   \n",
       "4   86  21.111111       92    3.549  0.805386   6.6994     4.819240  10.57635   \n",
       "\n",
       "     MCP.1  Classification  \n",
       "0  417.114               1  \n",
       "1  468.786               1  \n",
       "2  554.697               1  \n",
       "3  928.220               1  \n",
       "4  773.920               1  "
      ]
     },
     "execution_count": 19,
     "metadata": {},
     "output_type": "execute_result"
    }
   ],
   "source": [
    "url = 'https://archive.ics.uci.edu/ml/machine-learning-databases/00451/dataR2.csv'\n",
    "#url = 'https://opendata.paris.fr/explore/dataset/velib-emplacement-des-stations/download/?format=csv&timezone=Europe/Berlin&use_labels_for_header=true'\n",
    "df = pd.read_csv(url, sep=',')\n",
    "df.head()"
   ]
  },
  {
   "cell_type": "code",
   "execution_count": 20,
   "metadata": {},
   "outputs": [
    {
     "name": "stdout",
     "output_type": "stream",
     "text": [
      "Exemple 0\n",
      "\tdescription :  [48 70]\n",
      "\tlabel :  [-1]\n",
      "Exemple 1\n",
      "\tdescription :  [83 92]\n",
      "\tlabel :  [-1]\n",
      "Exemple 2\n",
      "\tdescription :  [82 91]\n",
      "\tlabel :  [-1]\n",
      "Exemple 3\n",
      "\tdescription :  [68 77]\n",
      "\tlabel :  [-1]\n",
      "Exemple 4\n",
      "\tdescription :  [86 92]\n",
      "\tlabel :  [-1]\n",
      "Exemple 5\n",
      "\tdescription :  [49 92]\n",
      "\tlabel :  [-1]\n",
      "Exemple 6\n",
      "\tdescription :  [89 77]\n",
      "\tlabel :  [-1]\n",
      "Exemple 7\n",
      "\tdescription :  [ 76 118]\n",
      "\tlabel :  [-1]\n",
      "Exemple 8\n",
      "\tdescription :  [73 97]\n",
      "\tlabel :  [-1]\n",
      "Exemple 9\n",
      "\tdescription :  [75 83]\n",
      "\tlabel :  [-1]\n",
      "Exemple 10\n",
      "\tdescription :  [34 78]\n",
      "\tlabel :  [-1]\n",
      "Exemple 11\n",
      "\tdescription :  [29 82]\n",
      "\tlabel :  [-1]\n",
      "Exemple 12\n",
      "\tdescription :  [25 82]\n",
      "\tlabel :  [-1]\n",
      "Exemple 13\n",
      "\tdescription :  [24 88]\n",
      "\tlabel :  [-1]\n",
      "Exemple 14\n",
      "\tdescription :  [38 75]\n",
      "\tlabel :  [-1]\n",
      "Exemple 15\n",
      "\tdescription :  [44 86]\n",
      "\tlabel :  [-1]\n",
      "Exemple 16\n",
      "\tdescription :  [47 84]\n",
      "\tlabel :  [-1]\n",
      "Exemple 17\n",
      "\tdescription :  [61 85]\n",
      "\tlabel :  [-1]\n",
      "Exemple 18\n",
      "\tdescription :  [64 95]\n",
      "\tlabel :  [-1]\n",
      "Exemple 19\n",
      "\tdescription :  [32 87]\n",
      "\tlabel :  [-1]\n",
      "Exemple 20\n",
      "\tdescription :  [36 86]\n",
      "\tlabel :  [-1]\n",
      "Exemple 21\n",
      "\tdescription :  [34 87]\n",
      "\tlabel :  [-1]\n",
      "Exemple 22\n",
      "\tdescription :  [29 84]\n",
      "\tlabel :  [-1]\n",
      "Exemple 23\n",
      "\tdescription :  [35 84]\n",
      "\tlabel :  [-1]\n",
      "Exemple 24\n",
      "\tdescription :  [54 90]\n",
      "\tlabel :  [-1]\n",
      "Exemple 25\n",
      "\tdescription :  [45 83]\n",
      "\tlabel :  [-1]\n",
      "Exemple 26\n",
      "\tdescription :  [ 50 106]\n",
      "\tlabel :  [-1]\n",
      "Exemple 27\n",
      "\tdescription :  [66 90]\n",
      "\tlabel :  [-1]\n",
      "Exemple 28\n",
      "\tdescription :  [35 90]\n",
      "\tlabel :  [-1]\n",
      "Exemple 29\n",
      "\tdescription :  [36 80]\n",
      "\tlabel :  [-1]\n",
      "Exemple 30\n",
      "\tdescription :  [ 66 101]\n",
      "\tlabel :  [-1]\n",
      "Exemple 31\n",
      "\tdescription :  [ 53 101]\n",
      "\tlabel :  [-1]\n",
      "Exemple 32\n",
      "\tdescription :  [28 87]\n",
      "\tlabel :  [-1]\n",
      "Exemple 33\n",
      "\tdescription :  [43 89]\n",
      "\tlabel :  [-1]\n",
      "Exemple 34\n",
      "\tdescription :  [51 77]\n",
      "\tlabel :  [-1]\n",
      "Exemple 35\n",
      "\tdescription :  [67 79]\n",
      "\tlabel :  [-1]\n",
      "Exemple 36\n",
      "\tdescription :  [66 82]\n",
      "\tlabel :  [-1]\n",
      "Exemple 37\n",
      "\tdescription :  [ 69 101]\n",
      "\tlabel :  [-1]\n",
      "Exemple 38\n",
      "\tdescription :  [ 60 103]\n",
      "\tlabel :  [-1]\n",
      "Exemple 39\n",
      "\tdescription :  [77 76]\n",
      "\tlabel :  [-1]\n",
      "Exemple 40\n",
      "\tdescription :  [76 83]\n",
      "\tlabel :  [-1]\n",
      "Exemple 41\n",
      "\tdescription :  [76 94]\n",
      "\tlabel :  [-1]\n",
      "Exemple 42\n",
      "\tdescription :  [75 85]\n",
      "\tlabel :  [-1]\n",
      "Exemple 43\n",
      "\tdescription :  [69 93]\n",
      "\tlabel :  [-1]\n",
      "Exemple 44\n",
      "\tdescription :  [ 71 102]\n",
      "\tlabel :  [-1]\n",
      "Exemple 45\n",
      "\tdescription :  [66 90]\n",
      "\tlabel :  [-1]\n",
      "Exemple 46\n",
      "\tdescription :  [75 94]\n",
      "\tlabel :  [-1]\n",
      "Exemple 47\n",
      "\tdescription :  [78 60]\n",
      "\tlabel :  [-1]\n",
      "Exemple 48\n",
      "\tdescription :  [69 89]\n",
      "\tlabel :  [-1]\n",
      "Exemple 49\n",
      "\tdescription :  [85 96]\n",
      "\tlabel :  [-1]\n",
      "Exemple 50\n",
      "\tdescription :  [ 76 110]\n",
      "\tlabel :  [-1]\n",
      "Exemple 51\n",
      "\tdescription :  [77 85]\n",
      "\tlabel :  [-1]\n",
      "Exemple 52\n",
      "\tdescription :  [ 45 102]\n",
      "\tlabel :  [1]\n",
      "Exemple 53\n",
      "\tdescription :  [45 74]\n",
      "\tlabel :  [1]\n",
      "Exemple 54\n",
      "\tdescription :  [49 94]\n",
      "\tlabel :  [1]\n",
      "Exemple 55\n",
      "\tdescription :  [34 92]\n",
      "\tlabel :  [1]\n",
      "Exemple 56\n",
      "\tdescription :  [42 93]\n",
      "\tlabel :  [1]\n",
      "Exemple 57\n",
      "\tdescription :  [ 68 102]\n",
      "\tlabel :  [1]\n",
      "Exemple 58\n",
      "\tdescription :  [51 93]\n",
      "\tlabel :  [1]\n",
      "Exemple 59\n",
      "\tdescription :  [62 92]\n",
      "\tlabel :  [1]\n",
      "Exemple 60\n",
      "\tdescription :  [38 95]\n",
      "\tlabel :  [1]\n",
      "Exemple 61\n",
      "\tdescription :  [ 69 112]\n",
      "\tlabel :  [1]\n",
      "Exemple 62\n",
      "\tdescription :  [49 78]\n",
      "\tlabel :  [1]\n",
      "Exemple 63\n",
      "\tdescription :  [ 51 103]\n",
      "\tlabel :  [1]\n",
      "Exemple 64\n",
      "\tdescription :  [59 98]\n",
      "\tlabel :  [1]\n",
      "Exemple 65\n",
      "\tdescription :  [ 45 116]\n",
      "\tlabel :  [1]\n",
      "Exemple 66\n",
      "\tdescription :  [54 86]\n",
      "\tlabel :  [1]\n",
      "Exemple 67\n",
      "\tdescription :  [64 98]\n",
      "\tlabel :  [1]\n",
      "Exemple 68\n",
      "\tdescription :  [46 88]\n",
      "\tlabel :  [1]\n",
      "Exemple 69\n",
      "\tdescription :  [ 44 114]\n",
      "\tlabel :  [1]\n",
      "Exemple 70\n",
      "\tdescription :  [45 92]\n",
      "\tlabel :  [1]\n",
      "Exemple 71\n",
      "\tdescription :  [ 44 106]\n",
      "\tlabel :  [1]\n",
      "Exemple 72\n",
      "\tdescription :  [ 51 105]\n",
      "\tlabel :  [1]\n",
      "Exemple 73\n",
      "\tdescription :  [ 72 105]\n",
      "\tlabel :  [1]\n",
      "Exemple 74\n",
      "\tdescription :  [46 86]\n",
      "\tlabel :  [1]\n",
      "Exemple 75\n",
      "\tdescription :  [ 43 101]\n",
      "\tlabel :  [1]\n",
      "Exemple 76\n",
      "\tdescription :  [55 92]\n",
      "\tlabel :  [1]\n",
      "Exemple 77\n",
      "\tdescription :  [ 43 103]\n",
      "\tlabel :  [1]\n",
      "Exemple 78\n",
      "\tdescription :  [ 86 201]\n",
      "\tlabel :  [1]\n",
      "Exemple 79\n",
      "\tdescription :  [41 97]\n",
      "\tlabel :  [1]\n",
      "Exemple 80\n",
      "\tdescription :  [59 77]\n",
      "\tlabel :  [1]\n",
      "Exemple 81\n",
      "\tdescription :  [ 81 100]\n",
      "\tlabel :  [1]\n",
      "Exemple 82\n",
      "\tdescription :  [48 99]\n",
      "\tlabel :  [1]\n",
      "Exemple 83\n",
      "\tdescription :  [ 71 112]\n",
      "\tlabel :  [1]\n",
      "Exemple 84\n",
      "\tdescription :  [42 98]\n",
      "\tlabel :  [1]\n",
      "Exemple 85\n",
      "\tdescription :  [65 85]\n",
      "\tlabel :  [1]\n",
      "Exemple 86\n",
      "\tdescription :  [48 90]\n",
      "\tlabel :  [1]\n",
      "Exemple 87\n",
      "\tdescription :  [ 85 196]\n",
      "\tlabel :  [1]\n",
      "Exemple 88\n",
      "\tdescription :  [ 48 199]\n",
      "\tlabel :  [1]\n",
      "Exemple 89\n",
      "\tdescription :  [ 58 139]\n",
      "\tlabel :  [1]\n",
      "Exemple 90\n",
      "\tdescription :  [ 40 128]\n",
      "\tlabel :  [1]\n",
      "Exemple 91\n",
      "\tdescription :  [ 82 100]\n",
      "\tlabel :  [1]\n",
      "Exemple 92\n",
      "\tdescription :  [52 87]\n",
      "\tlabel :  [1]\n",
      "Exemple 93\n",
      "\tdescription :  [ 49 134]\n",
      "\tlabel :  [1]\n",
      "Exemple 94\n",
      "\tdescription :  [ 60 131]\n",
      "\tlabel :  [1]\n",
      "Exemple 95\n",
      "\tdescription :  [49 70]\n",
      "\tlabel :  [1]\n",
      "Exemple 96\n",
      "\tdescription :  [44 99]\n",
      "\tlabel :  [1]\n",
      "Exemple 97\n",
      "\tdescription :  [ 40 103]\n",
      "\tlabel :  [1]\n",
      "Exemple 98\n",
      "\tdescription :  [ 71 104]\n",
      "\tlabel :  [1]\n",
      "Exemple 99\n",
      "\tdescription :  [ 69 108]\n",
      "\tlabel :  [1]\n",
      "Exemple 100\n",
      "\tdescription :  [74 88]\n",
      "\tlabel :  [1]\n",
      "Exemple 101\n",
      "\tdescription :  [66 89]\n",
      "\tlabel :  [1]\n",
      "Exemple 102\n",
      "\tdescription :  [65 97]\n",
      "\tlabel :  [1]\n",
      "Exemple 103\n",
      "\tdescription :  [72 83]\n",
      "\tlabel :  [1]\n",
      "Exemple 104\n",
      "\tdescription :  [57 95]\n",
      "\tlabel :  [1]\n",
      "Exemple 105\n",
      "\tdescription :  [ 73 134]\n",
      "\tlabel :  [1]\n",
      "Exemple 106\n",
      "\tdescription :  [45 90]\n",
      "\tlabel :  [1]\n",
      "Exemple 107\n",
      "\tdescription :  [46 92]\n",
      "\tlabel :  [1]\n",
      "Exemple 108\n",
      "\tdescription :  [ 68 131]\n",
      "\tlabel :  [1]\n",
      "Exemple 109\n",
      "\tdescription :  [ 75 152]\n",
      "\tlabel :  [1]\n",
      "Exemple 110\n",
      "\tdescription :  [ 54 119]\n",
      "\tlabel :  [1]\n",
      "Exemple 111\n",
      "\tdescription :  [45 92]\n",
      "\tlabel :  [1]\n",
      "Exemple 112\n",
      "\tdescription :  [ 62 100]\n",
      "\tlabel :  [1]\n",
      "Exemple 113\n",
      "\tdescription :  [65 97]\n",
      "\tlabel :  [1]\n",
      "Exemple 114\n",
      "\tdescription :  [72 82]\n",
      "\tlabel :  [1]\n",
      "Exemple 115\n",
      "\tdescription :  [ 86 138]\n",
      "\tlabel :  [1]\n"
     ]
    }
   ],
   "source": [
    "age = df['Age']\n",
    "bmi = df['BMI']\n",
    "glucose = df['Glucose']\n",
    "insulin = df['Insulin']\n",
    "homa = df['HOMA']\n",
    "leptin = df['Leptin']\n",
    "adiponectin = df['Adiponectin']\n",
    "resistin = df['Resistin']\n",
    "mcp = df['MCP.1']\n",
    "clas = df['Classification']\n",
    "exp = ls.LabeledSet(2)\n",
    "\n",
    "taille = df.shape[0]\n",
    "for i in range(taille):\n",
    "    exp.addExample([age[i], glucose[i]], 1 if clas[i] == 2 else -1)\n",
    "    \n",
    "affiche_base(exp)"
   ]
  },
  {
   "cell_type": "code",
   "execution_count": 21,
   "metadata": {},
   "outputs": [],
   "source": [
    "N = 100\n",
    "k = KernelPoly()\n",
    "expknn = cl.ClassifierKNN(2,1)\n",
    "expperceptron = ClassifierPerceptron(2,1)\n",
    "expperceptronkernel = ClassifierPerceptronKernel(6,0.001,k)"
   ]
  },
  {
   "cell_type": "code",
   "execution_count": 22,
   "metadata": {},
   "outputs": [
    {
     "data": {
      "image/png": "[encoded data removed]",
      "text/plain": [
       "<Figure size 432x288 with 1 Axes>"
      ]
     },
     "metadata": {
      "needs_background": "light"
     },
     "output_type": "display_data"
    }
   ],
   "source": [
    "for i in range(N):\n",
    "    expknn.train(exp)\n",
    "    \n",
    "ut.plot_frontiere(exp,expknn,taille)\n",
    "ut.plot2DSet(exp)"
   ]
  },
  {
   "cell_type": "code",
   "execution_count": 23,
   "metadata": {},
   "outputs": [
    {
     "data": {
      "image/png": "[encoded data removed]",
      "text/plain": [
       "<Figure size 432x288 with 1 Axes>"
      ]
     },
     "metadata": {
      "needs_background": "light"
     },
     "output_type": "display_data"
    }
   ],
   "source": [
    "for i in range(N):\n",
    "    expperceptron.train(exp)\n",
    "    \n",
    "ut.plot_frontiere(exp,expperceptron,taille)\n",
    "ut.plot2DSet(exp)"
   ]
  },
  {
   "cell_type": "code",
   "execution_count": 24,
   "metadata": {},
   "outputs": [
    {
     "data": {
      "image/png": "[encoded data removed]",
      "text/plain": [
       "<Figure size 432x288 with 1 Axes>"
      ]
     },
     "metadata": {
      "needs_background": "light"
     },
     "output_type": "display_data"
    }
   ],
   "source": [
    "for i in range(N):\n",
    "    expperceptronkernel.train(exp)\n",
    "    \n",
    "ut.plot_frontiere(exp,expperceptronkernel,taille)\n",
    "ut.plot2DSet(exp)"
   ]
  },
  {
   "cell_type": "markdown",
   "metadata": {},
   "source": [
    "On s'apperçoit que le ClassifierKNN a des frontières cohérentes mais que la grande densité des points ainsi que la répartition homogène des valeurs aux labels positifs et négatifs empêchent le tracé des ClassifierPerceptron et ClassifierPerceptronKernel."
   ]
  }
 ],
 "metadata": {
  "kernelspec": {
   "display_name": "Python 3",
   "language": "python",
   "name": "python3"
  },
  "language_info": {
   "codemirror_mode": {
    "name": "ipython",
    "version": 3
   },
   "file_extension": ".py",
   "mimetype": "text/x-python",
   "name": "python",
   "nbconvert_exporter": "python",
   "pygments_lexer": "ipython3",
   "version": "3.7.2"
  }
 },
 "nbformat": 4,
 "nbformat_minor": 1
}
