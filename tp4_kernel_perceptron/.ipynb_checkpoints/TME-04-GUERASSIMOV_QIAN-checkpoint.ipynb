{
 "cells": [
  {
   "cell_type": "markdown",
   "metadata": {},
   "source": [
    "IA & Data science (3i026) -- 2018-2019\n",
    "--------\n",
    "*&copy; Equipe pédagogique: Manon Ansart, Vincent Guigue, Marie-Jeanne Lesot, Christophe Marsala, Olivier Schwander.*\n"
   ]
  },
  {
   "cell_type": "markdown",
   "metadata": {},
   "source": [
    "# TD-TME04: Programmation du kernel perceptron\n",
    "\n",
    "Le but de ce TP est de terminer l'extension de l'algoritheme du perceptron à l'aide de noyaux, avant de commencer à étudier les données du projet."
   ]
  },
  {
   "cell_type": "markdown",
   "metadata": {},
   "source": [
    "<font size=\"+1\" color=\"RED\">**[Q]**</font> **Indiquer dans la boîte ci-dessous vos noms et prénoms :**"
   ]
  },
  {
   "cell_type": "markdown",
   "metadata": {},
   "source": [
    "GUERASSIMOV Alexandre - QIAN Christian"
   ]
  },
  {
   "cell_type": "markdown",
   "metadata": {},
   "source": [
    "<font color=\"RED\" size=\"+1\">**[Q]**</font> **Renommer ce fichier ipython**\n",
    "\n",
    "Tout en haut de cette page, cliquer sur <tt>tme-04</tt> et rajouter à la suite de <tt>tme-04</tt> les noms des membres du binômes séparés par un tiret."
   ]
  },
  {
   "cell_type": "markdown",
   "metadata": {},
   "source": [
    "<font color=\"RED\" size=\"+1\">IMPORTANT: soumission de votre fichier final</font>\n",
    "\n",
    "**Nom à donner au fichier à poster** : *tme-04-Nom1_Nom2.ipynb* \n",
    "- *Nom1* et *Nom2* : noms des membres du binôme\n",
    "- ne pas compresser ou faire une archive: il faut rendre le fichier ipython tel quel, éventuellement, si vous avez d'autres fichiers vous les rendez séparément.\n",
    "\n",
    "**Echancier pour la soumission de votre compte-rendu:**\n",
    "- le compte-rendu d'une séance doit être remis obligatoirement <font color=\"RED\">** à la fin de la séance**</font>. C'est ce compte-rendu qui donne la note de base de la séance.\n",
    "- vous pouvez éventuellement compléter votre compte-rendu  pour obtenir des points bonus, dans ce cas, vous devez soumettre votre complément avant le début de la semaine suivante.\n",
    "\n",
    "** Sur la page Moodle de remise du travail <font color=\"RED\">ne pas oublier d'envoyer le compte rendu</font>** à la fin de la séance, la soumission de la version complémentaire post-séance se fera sur une page différente."
   ]
  },
  {
   "cell_type": "markdown",
   "metadata": {},
   "source": [
    "## Mise à jour de votre librairie IADS\n",
    "\n",
    "Comme lors de la séance précédente, vous devez utiliser les fonctions de la librairie IADS.\n",
    "\n",
    "<font color=\"RED\" size=\"+1\">**[Q]**</font> **Ouvrir et compléter les fichiers Classifiers.py et utils.py**\n",
    "\n",
    "Rajouter dans la librairie les fonctions et classes et que vous avez écrites lors de la séance précédente. \n",
    "\n",
    "**Rappel**: dans un premier temps, vous devez écrire les classes et fonctions demandées dans le notebook de la séance de TDTME en cours. La séance suivante, vous rajouterez tout cela, une fois que vous l'aurez bien testé, dans vos fichiers de la librairie IADS.\n"
   ]
  },
  {
   "cell_type": "code",
   "execution_count": 1,
   "metadata": {},
   "outputs": [],
   "source": [
    "import numpy as np\n",
    "import pandas as pd\n",
    "import matplotlib.pyplot as plt\n",
    "import random\n",
    "%matplotlib inline  \n",
    "\n",
    "# La ligne suivante permet de préciser le chemin d'accès à la librairie iads\n",
    "import sys\n",
    "sys.path.append('../')\n",
    "\n",
    "# Importation de la librairie iads\n",
    "import iads as iads\n",
    "\n",
    "# importation de LabeledSet\n",
    "from iads import LabeledSet as ls\n",
    "\n",
    "# importation de Classifiers\n",
    "from iads import Classifiers as cl\n",
    "\n",
    "# importation de utils\n",
    "from iads import utils as ut\n"
   ]
  },
  {
   "cell_type": "markdown",
   "metadata": {},
   "source": [
    "Kernel Trick\n",
    "--------------"
   ]
  },
  {
   "cell_type": "markdown",
   "metadata": {},
   "source": [
    "Nous allons projeter (manuellement) les données 2D dans un espace de plus grande dimension. Voici un exemple de projection qui transforme un vecteur $(x_1,x_2)$ en un vecteur $(x_1,x_2,1)$"
   ]
  },
  {
   "cell_type": "code",
   "execution_count": 2,
   "metadata": {},
   "outputs": [
    {
     "name": "stdout",
     "output_type": "stream",
     "text": [
      "Taille de la base jouet générée : 20 exemples\n"
     ]
    },
    {
     "data": {
      "image/png": "[encoded data removed]",
      "text/plain": [
       "<Figure size 432x288 with 1 Axes>"
      ]
     },
     "metadata": {
      "needs_background": "light"
     },
     "output_type": "display_data"
    }
   ],
   "source": [
    "# Exemple d'utilisation de utils\n",
    "\n",
    "the_set = ut.createGaussianDataset(np.array([1,1]),np.array([[1,0],[0,1]]),np.array([-1,-1]),np.array([[1,0],[0,1]]),10)\n",
    "\n",
    "print(\"Taille de la base jouet générée :\", the_set.size(), \"exemples\")\n",
    "\n",
    "# Affichage :\n",
    "ut.plot2DSet(the_set)\n"
   ]
  },
  {
   "cell_type": "code",
   "execution_count": 3,
   "metadata": {},
   "outputs": [
    {
     "data": {
      "text/plain": [
       "array([1.65653962, 1.275346  , 1.        ])"
      ]
     },
     "execution_count": 3,
     "metadata": {},
     "output_type": "execute_result"
    }
   ],
   "source": [
    "class KernelBias:\n",
    "    def transform(self,x):\n",
    "        y=np.asarray([x[0],x[1],1])\n",
    "        return y\n",
    "\n",
    "kb=KernelBias()\n",
    "kb.transform(the_set.getX(1))\n"
   ]
  },
  {
   "cell_type": "markdown",
   "metadata": {},
   "source": [
    "<font color=\"RED\" size=\"+1\">**[Q]**</font> Implémenter la classe ClassifierPerceptronKernel qui prend un Kernel en paramètre, et calcule le perceptron sur la version \"kernélisée\" des données. Tester ce perceptron sur le dataset 1 (2 gaussiennes) et le dataset XOR."
   ]
  },
  {
   "cell_type": "code",
   "execution_count": 5,
   "metadata": {},
   "outputs": [],
   "source": [
    "class ClassifierPerceptronKernel(cl.Classifier):\n",
    "    def __init__(self,dimension_kernel,learning_rate,kernel):\n",
    "        \"\"\" Argument:\n",
    "                - intput_dimension (int) : dimension d'entrée des exemples\n",
    "                - learning_rate :\n",
    "            Hypothèse : input_dimension > 0\n",
    "        \"\"\"\n",
    "        self.dimension_kernel = dimension_kernel\n",
    "        self.learning_rate = learning_rate\n",
    "        self.kernel = kernel\n",
    "        v = np.random.rand(dimension_kernel)\n",
    "        self.w = (2* v - 1) / np.linalg.norm(v)\n",
    "        \n",
    "    def predict(self,x):\n",
    "        \"\"\" rend la prediction sur x (-1 ou +1)\n",
    "        \"\"\"\n",
    "        kx = self.kernel.transform(x)\n",
    "        if np.dot(kx, self.w) >= 0:\n",
    "            return 1\n",
    "        return -1\n",
    "    \n",
    "    def train(self,labeledSet):\n",
    "        \"\"\" Permet d'entrainer le modele sur l'ensemble donné\n",
    "        \"\"\"\n",
    "        r = list(range(0,labeledSet.size(),1))\n",
    "        random.shuffle(r)\n",
    "        for i in range(labeledSet.size()):\n",
    "            x = labeledSet.getX(r[i])\n",
    "            kx = self.kernel.transform(x)\n",
    "            self.w += self.learning_rate * kx * (labeledSet.getY(r[i])-self.predict(x))\n",
    "        return self.w"
   ]
  },
  {
   "cell_type": "code",
   "execution_count": 6,
   "metadata": {},
   "outputs": [
    {
     "data": {
      "image/png": "[encoded data removed]",
      "text/plain": [
       "<Figure size 432x288 with 1 Axes>"
      ]
     },
     "metadata": {
      "needs_background": "light"
     },
     "output_type": "display_data"
    }
   ],
   "source": [
    "def createXOR(nb_points,var):\n",
    "    v = np.array([[var, 0], [0, var]])\n",
    "    g1 = ut.createGaussianDataset(np.array([0,0]), v, np.array([1,0]), v, nb_points)\n",
    "    g2 = ut.createGaussianDataset(np.array([1,1]), v, np.array([0,1]), v, nb_points)\n",
    "    \n",
    "    for i in range(0, g2.size()):\n",
    "        g1.addExample(g2.getX(i), g2.getY(i))\n",
    "    return g1\n",
    "\n",
    "xor=createXOR(100,0.01)\n",
    "ut.plot2DSet(xor)"
   ]
  },
  {
   "cell_type": "markdown",
   "metadata": {},
   "source": [
    "<font color=\"RED\" size=\"+1\">**[Q]**</font> Implémenter le kernel : $(x_1,x_2) \\rightarrow (1,x_1,x_2,x_1*x_1,x_2*x_2,x_1*x_2)$. Entrainer le perceptron correspondant sur le XOR. Que constatez-vous ? Donnez une explication (explication donnée en cours lors de la prochaine séance)"
   ]
  },
  {
   "cell_type": "code",
   "execution_count": 7,
   "metadata": {},
   "outputs": [
    {
     "data": {
      "image/png": "[encoded data removed]",
      "text/plain": [
       "<Figure size 432x288 with 1 Axes>"
      ]
     },
     "metadata": {
      "needs_background": "light"
     },
     "output_type": "display_data"
    }
   ],
   "source": [
    "class KernelPoly:\n",
    "    def transform(self,x):\n",
    "        y=np.asarray([1, x[0],x[1], x[0]**2, x[1]**2, x[0]*x[1]])\n",
    "        return y\n",
    "\n",
    "N=100\n",
    "kp=KernelPoly()\n",
    "perceptron_k=ClassifierPerceptronKernel(6,0.001,kp)\n",
    "\n",
    "for i in range(N):\n",
    "    perceptron_k.train(xor)\n",
    "    \n",
    "ut.plot_frontiere(xor,perceptron_k,N)\n",
    "ut.plot2DSet(xor)"
   ]
  },
  {
   "cell_type": "code",
   "execution_count": 23,
   "metadata": {},
   "outputs": [],
   "source": [
    "def split(labeledSet, p):\n",
    "    d = labeledSet.getInputDimension()\n",
    "    l1 = ls.LabeledSet(d)\n",
    "    l2 = ls.LabeledSet(d)\n",
    "    taille = labeledSet.size()\n",
    "    \n",
    "    for i in range(int(taille * p)):\n",
    "        l1.addExample(labeledSet.getX(i), labeledSet.getY(i))\n",
    "        \n",
    "    for j in range(int(taille * p), taille):\n",
    "        l2.addExample(labeledSet.getX(j), labeledSet.getY(j))\n",
    "        \n",
    "    return (l1,l2)"
   ]
  },
  {
   "cell_type": "code",
   "execution_count": 24,
   "metadata": {},
   "outputs": [],
   "source": [
    "def affiche_base(LS):\n",
    "    \"\"\" LabeledSet\n",
    "        affiche le contenu de LS\n",
    "    \"\"\"\n",
    "    for i in range(0,LS.size()):\n",
    "        print(\"Exemple \"+str(i))\n",
    "        print(\"\\tdescription : \",LS.getX(i))\n",
    "        print(\"\\tlabel : \",LS.getY(i))\n",
    "    return"
   ]
  },
  {
   "cell_type": "code",
   "execution_count": 60,
   "metadata": {},
   "outputs": [],
   "source": [
    "g = ut.createGaussianDataset(np.array([1,1]),np.array([[1,0],[0,1]]),np.array([-1,-1]),np.array([[1,0],[0,1]]),40)\n",
    "splittrain, splittest = split(g, 0.6)"
   ]
  },
  {
   "cell_type": "markdown",
   "metadata": {},
   "source": [
    "Gradiant Stochastique\n",
    "====\n",
    "\n",
    "Au lieu de comparer la valeur du label avec sa prédiction lors de l'apprentissage, il est question ici de la comparer directement avec la valeur du produit vectoriel $\\langle w ; x \\rangle$ afin de permettre un meilleur ajustement de la frontière."
   ]
  },
  {
   "cell_type": "code",
   "execution_count": 9,
   "metadata": {},
   "outputs": [],
   "source": [
    "class ClassifierGradiantStochastique(cl.Classifier):\n",
    "    def __init__(self,input_dimension,learning_rate):\n",
    "        \"\"\" Argument:\n",
    "                - intput_dimension (int) : dimension d'entrée des exemples\n",
    "                - learning_rate :\n",
    "            Hypothèse : input_dimension > 0\n",
    "        \"\"\"\n",
    "        self.input_dimension = input_dimension\n",
    "        self.learning_rate = learning_rate\n",
    "        v = np.random.rand(input_dimension)\n",
    "        self.w = (2* v - 1) / np.linalg.norm(v)\n",
    "        \n",
    "    def predict(self,x):\n",
    "        \"\"\" rend la prediction sur x (-1 ou +1)\n",
    "        \"\"\"\n",
    "        if np.dot(x, self.w) >= 0:\n",
    "            return 1\n",
    "        return -1\n",
    "    \n",
    "    def train(self,labeledSet):\n",
    "        \"\"\" Permet d'entrainer le modele sur l'ensemble donné\n",
    "        \"\"\"\n",
    "        r = list(range(0,labeledSet.size(),1))\n",
    "        random.shuffle(r)\n",
    "        loss = 0\n",
    "        for i in range(labeledSet.size()):\n",
    "            x = labeledSet.getX(r[i])\n",
    "            self.w += self.learning_rate * (labeledSet.getY(r[i])-np.dot(x, self.w)) * x\n",
    "        return self.w\n",
    "    \n",
    "    def loss(self, dataset):\n",
    "        l = 0\n",
    "        for i in range(dataset.size()):\n",
    "            l += (dataset.getY(i) - np.dot(self.w, dataset.getX(i)))**2\n",
    "        return l / dataset.size()"
   ]
  },
  {
   "cell_type": "markdown",
   "metadata": {},
   "source": [
    "Gradiant Batch\n",
    "====\n",
    "\n",
    "Comme pour le stochastique, l'entraînement se fait selon le produit vectoriel $\\langle w ; x \\rangle$ ; mais à la différence de ce dernier, l'affectation vers $w$ ne se fait pas directement. Ainsi, les erreurs de la base de données ne vont pas perturber la tracé de la frontière."
   ]
  },
  {
   "cell_type": "code",
   "execution_count": 10,
   "metadata": {},
   "outputs": [],
   "source": [
    "class ClassifierGradiantBatch(cl.Classifier):\n",
    "    def __init__(self,input_dimension,learning_rate):\n",
    "        \"\"\" Argument:\n",
    "                - intput_dimension (int) : dimension d'entrée des exemples\n",
    "                - learning_rate :\n",
    "            Hypothèse : input_dimension > 0\n",
    "        \"\"\"\n",
    "        self.input_dimension = input_dimension\n",
    "        self.learning_rate = learning_rate\n",
    "        v = np.random.rand(input_dimension)\n",
    "        self.w = (2* v - 1) / np.linalg.norm(v)\n",
    "        \n",
    "    def predict(self,x):\n",
    "        \"\"\" rend la prediction sur x (-1 ou +1)\n",
    "        \"\"\"\n",
    "        if np.dot(x, self.w) >= 0:\n",
    "            return 1\n",
    "        return -1\n",
    "    \n",
    "    def train(self,labeledSet):\n",
    "        \"\"\" Permet d'entrainer le modele sur l'ensemble donné\n",
    "        \"\"\"\n",
    "        r = list(range(0,labeledSet.size(),1))\n",
    "        random.shuffle(r)\n",
    "        g = 0\n",
    "        for i in range(labeledSet.size()):\n",
    "            x = labeledSet.getX(r[i])\n",
    "            g += (labeledSet.getY(r[i])-np.dot(self.w, x)) * x\n",
    "        self.w += self.learning_rate * g\n",
    "        return self.w\n",
    "    \n",
    "    def loss(self, dataset):\n",
    "        l = 0\n",
    "        for i in range(dataset.size()):\n",
    "            l += (dataset.getY(i) - np.dot(self.w, dataset.getX(i)))**2\n",
    "        return l / dataset.size()"
   ]
  },
  {
   "cell_type": "code",
   "execution_count": 80,
   "metadata": {},
   "outputs": [],
   "source": [
    "nb = 100\n",
    "lset = ut.createGaussianDataset(np.array([1,1]),np.array([[1,0],[0,1]]),np.array([-1,-1]),np.array([[1,0],[0,1]]),nb)\n",
    "ltest = ut.createGaussianDataset(np.array([0,0]),np.array([[1,0],[0,1]]),np.array([0,-2]),np.array([[1,0],[0,1]]),nb)"
   ]
  },
  {
   "cell_type": "code",
   "execution_count": 76,
   "metadata": {},
   "outputs": [
    {
     "data": {
      "image/png": "[encoded data removed]",
      "text/plain": [
       "<Figure size 432x288 with 1 Axes>"
      ]
     },
     "metadata": {
      "needs_background": "light"
     },
     "output_type": "display_data"
    },
    {
     "data": {
      "image/png": "[encoded data removed]",
      "text/plain": [
       "<Figure size 432x288 with 1 Axes>"
      ]
     },
     "metadata": {
      "needs_background": "light"
     },
     "output_type": "display_data"
    }
   ],
   "source": [
    "classstoch = ClassifierGradiantStochastique(2,0.0001)\n",
    "\n",
    "res = np.zeros(nb*2)\n",
    "res2 = np.zeros(nb*2)\n",
    "resloss1 = np.zeros(nb*2)\n",
    "resloss2 = np.zeros(nb*2)\n",
    "\n",
    "#lset = splittrain\n",
    "#ltest = splittest\n",
    "\n",
    "\n",
    "res[0] = classstoch.accuracy(lset)\n",
    "res2[0] = classstoch.accuracy(ltest)\n",
    "resloss1[0] = classstoch.loss(lset)\n",
    "resloss2[0] = classstoch.loss(ltest)\n",
    "\n",
    "for i in range(1, nb*2):\n",
    "    classstoch.train(lset)\n",
    "    res[i] = classstoch.accuracy(lset)\n",
    "    res2[i] = classstoch.accuracy(ltest)\n",
    "    resloss1[i] = classstoch.loss(lset)\n",
    "    resloss2[i] = classstoch.loss(ltest)\n",
    "\n",
    "\n",
    "\n",
    "k = range(1,(nb*2)+1,1)\n",
    "plt.plot(k, res, label = \"accuracy train\", color = \"purple\")\n",
    "plt.plot(k, res2, label = \"accuracy test\", color = \"green\")\n",
    "plt.legend(loc = \"best\")\n",
    "plt.show()\n",
    "\n",
    "plt.plot(k, resloss1, label = \"loss train\")\n",
    "plt.plot(k, resloss2, label = \"loss test\")\n",
    "plt.legend(loc = \"best\")\n",
    "plt.show()"
   ]
  },
  {
   "cell_type": "code",
   "execution_count": 175,
   "metadata": {},
   "outputs": [
    {
     "data": {
      "image/png": "[encoded data removed]",
      "text/plain": [
       "<Figure size 432x288 with 1 Axes>"
      ]
     },
     "metadata": {
      "needs_background": "light"
     },
     "output_type": "display_data"
    }
   ],
   "source": [
    "ut.plot_frontiere(lset,classstoch,200)\n",
    "ut.plot2DSet(lset)"
   ]
  },
  {
   "cell_type": "code",
   "execution_count": 81,
   "metadata": {},
   "outputs": [
    {
     "data": {
      "image/png": "[encoded data removed]",
      "text/plain": [
       "<Figure size 432x288 with 1 Axes>"
      ]
     },
     "metadata": {
      "needs_background": "light"
     },
     "output_type": "display_data"
    },
    {
     "data": {
      "image/png": "[encoded data removed]",
      "text/plain": [
       "<Figure size 432x288 with 1 Axes>"
      ]
     },
     "metadata": {
      "needs_background": "light"
     },
     "output_type": "display_data"
    }
   ],
   "source": [
    "classbatch = ClassifierGradiantBatch(2,0.0001)\n",
    "\n",
    "res = np.zeros(nb*2)\n",
    "res2 = np.zeros(nb*2)\n",
    "resloss1 = np.zeros(nb*2)\n",
    "resloss2 = np.zeros(nb*2)\n",
    "\n",
    "#lset = splittrain\n",
    "#ltest = splittest\n",
    "\n",
    "res[0] = classbatch.accuracy(lset)\n",
    "res2[0] = classbatch.accuracy(ltest)\n",
    "resloss1[0] = classbatch.loss(lset)\n",
    "resloss2[0] = classbatch.loss(ltest)\n",
    "\n",
    "for i in range(1, nb*2):\n",
    "    classbatch.train(lset)\n",
    "    res[i] = classbatch.accuracy(lset)\n",
    "    res2[i] = classbatch.accuracy(ltest)\n",
    "    resloss1[i] = classbatch.loss(lset)\n",
    "    resloss2[i] = classbatch.loss(ltest)\n",
    "\n",
    "\n",
    "k = range(1,(nb*2)+1,1)\n",
    "plt.plot(k, res, label = \"accuracy train\")\n",
    "plt.plot(k, res2, label = \"accuracy test\")\n",
    "plt.legend(loc = \"best\")\n",
    "plt.show()\n",
    "\n",
    "plt.plot(k, resloss1, label = \"loss train\")\n",
    "plt.plot(k, resloss2, label = \"loss test\")\n",
    "plt.legend(loc = \"best\")\n",
    "plt.show()"
   ]
  },
  {
   "cell_type": "code",
   "execution_count": null,
   "metadata": {},
   "outputs": [],
   "source": [
    "ut.plot_frontiere(lset,classstoch,200)\n",
    "ut.plot2DSet(lset)"
   ]
  },
  {
   "cell_type": "markdown",
   "metadata": {},
   "source": [
    "Gradiant Stochastique Kernelisé\n",
    "===="
   ]
  },
  {
   "cell_type": "code",
   "execution_count": 17,
   "metadata": {},
   "outputs": [],
   "source": [
    "class ClassifierGradiantStochastiqueKernel(cl.Classifier):\n",
    "    def __init__(self,dimension_kernel,learning_rate,kernel):\n",
    "        \"\"\" Argument:\n",
    "                - intput_dimension (int) : dimension d'entrée des exemples\n",
    "                - learning_rate :\n",
    "            Hypothèse : input_dimension > 0\n",
    "        \"\"\"\n",
    "        self.dimension_kernel = dimension_kernel\n",
    "        self.learning_rate = learning_rate\n",
    "        self.kernel = kernel\n",
    "        v = np.random.rand(dimension_kernel)\n",
    "        self.w = (2* v - 1) / np.linalg.norm(v)\n",
    "        \n",
    "    def predict(self,x):\n",
    "        \"\"\" rend la prediction sur x (-1 ou +1)\n",
    "        \"\"\"\n",
    "        kx = self.kernel.transform(x)\n",
    "        if np.dot(kx, self.w) >= 0:\n",
    "            return 1\n",
    "        return -1\n",
    "    \n",
    "    def train(self,labeledSet):\n",
    "        \"\"\" Permet d'entrainer le modele sur l'ensemble donné\n",
    "        \"\"\"\n",
    "        r = list(range(0,labeledSet.size(),1))\n",
    "        random.shuffle(r)\n",
    "        loss = 0\n",
    "        for i in range(labeledSet.size()):\n",
    "            x = labeledSet.getX(r[i])\n",
    "            kx = self.kernel.transform(x)\n",
    "            self.w += self.learning_rate * (labeledSet.getY(r[i])-np.dot(kx, self.w)) * kx\n",
    "        return self.w\n",
    "    \n",
    "    def loss(self, dataset):\n",
    "        l = 0\n",
    "        for i in range(dataset.size()):\n",
    "            x = dataset.getX(i)\n",
    "            kx = self.kernel.transform(x)\n",
    "            l += (dataset.getY(i) - np.dot(self.w, kx))**2\n",
    "        return l / dataset.size()"
   ]
  },
  {
   "cell_type": "markdown",
   "metadata": {},
   "source": [
    "Gradiant Batch Kernelisé\n",
    "===="
   ]
  },
  {
   "cell_type": "code",
   "execution_count": 13,
   "metadata": {},
   "outputs": [],
   "source": [
    "class ClassifierGradiantBatchKernel(cl.Classifier):\n",
    "    def __init__(self,dimension_kernel,learning_rate,kernel):\n",
    "        \"\"\" Argument:\n",
    "                - intput_dimension (int) : dimension d'entrée des exemples\n",
    "                - learning_rate :\n",
    "            Hypothèse : input_dimension > 0\n",
    "        \"\"\"\n",
    "        self.dimension_kernel = dimension_kernel\n",
    "        self.learning_rate = learning_rate\n",
    "        self.kernel = kernel\n",
    "        v = np.random.rand(dimension_kernel)\n",
    "        self.w = (2* v - 1) / np.linalg.norm(v)\n",
    "        \n",
    "    def predict(self,x):\n",
    "        \"\"\" rend la prediction sur x (-1 ou +1)\n",
    "        \"\"\"\n",
    "        kx = self.kernel.transform(x)\n",
    "        if np.dot(kx, self.w) >= 0:\n",
    "            return 1\n",
    "        return -1\n",
    "    \n",
    "    def train(self,labeledSet):\n",
    "        \"\"\" Permet d'entrainer le modele sur l'ensemble donné\n",
    "        \"\"\"\n",
    "        r = list(range(0,labeledSet.size(),1))\n",
    "        random.shuffle(r)\n",
    "        g = 0\n",
    "        for i in range(labeledSet.size()):\n",
    "            x = labeledSet.getX(r[i])\n",
    "            kx = self.kernel.transform(x)\n",
    "            g += (labeledSet.getY(r[i])-np.dot(kx, self.w)) * kx\n",
    "        self.w += self.learning_rate * g\n",
    "        return self.w\n",
    "    \n",
    "    def loss(self, dataset):\n",
    "        l = 0\n",
    "        for i in range(dataset.size()):\n",
    "            x = dataset.getX(i)\n",
    "            kx = self.kernel.transform(x)\n",
    "            l += (dataset.getY(i) - np.dot(self.w, kx))**2\n",
    "        return l / dataset.size()"
   ]
  },
  {
   "cell_type": "code",
   "execution_count": 162,
   "metadata": {},
   "outputs": [
    {
     "data": {
      "image/png": "[encoded data removed]",
      "text/plain": [
       "<Figure size 432x288 with 1 Axes>"
      ]
     },
     "metadata": {
      "needs_background": "light"
     },
     "output_type": "display_data"
    },
    {
     "data": {
      "image/png": "[encoded data removed]",
      "text/plain": [
       "<Figure size 432x288 with 1 Axes>"
      ]
     },
     "metadata": {
      "needs_background": "light"
     },
     "output_type": "display_data"
    }
   ],
   "source": [
    "classstochk = ClassifierGradiantStochastiqueKernel(6,0.0001,kp)\n",
    "\n",
    "res = np.zeros(nb*2)\n",
    "res2 = np.zeros(nb*2)\n",
    "resloss1 = np.zeros(nb*2)\n",
    "resloss2 = np.zeros(nb*2)\n",
    "\n",
    "lset = splittrain\n",
    "ltest = splittest\n",
    "\n",
    "res[0] = classstochk.accuracy(lset)\n",
    "res2[0] = classstochk.accuracy(ltest)\n",
    "resloss1[0] = classstochk.loss(lset)\n",
    "resloss2[0] = classstochk.loss(ltest)\n",
    "\n",
    "for i in range(1, nb*2):\n",
    "    classstochk.train(lset)\n",
    "    res[i] = classstochk.accuracy(lset)\n",
    "    res2[i] = classstochk.accuracy(ltest)\n",
    "    resloss1[i] = classstochk.loss(lset)\n",
    "    resloss2[i] = classstochk.loss(ltest)\n",
    "\n",
    "\n",
    "\n",
    "k = range(1,(nb*2)+1,1)\n",
    "plt.plot(k, res, label = \"accuracy train\", color = \"purple\")\n",
    "plt.plot(k, res2, label = \"accuracy test\", color = \"green\")\n",
    "plt.legend(loc = \"best\")\n",
    "plt.show()\n",
    "\n",
    "plt.plot(k, resloss1, label = \"loss train\")\n",
    "plt.plot(k, resloss2, label = \"loss test\")\n",
    "plt.legend(loc = \"best\")\n",
    "plt.show()"
   ]
  },
  {
   "cell_type": "code",
   "execution_count": 83,
   "metadata": {},
   "outputs": [
    {
     "data": {
      "image/png": "[encoded data removed]",
      "text/plain": [
       "<Figure size 432x288 with 1 Axes>"
      ]
     },
     "metadata": {
      "needs_background": "light"
     },
     "output_type": "display_data"
    },
    {
     "data": {
      "image/png": "[encoded data removed]",
      "text/plain": [
       "<Figure size 432x288 with 1 Axes>"
      ]
     },
     "metadata": {
      "needs_background": "light"
     },
     "output_type": "display_data"
    }
   ],
   "source": [
    "classbatchk = ClassifierGradiantBatchKernel(6,0.0001,kp)\n",
    "\n",
    "res = np.zeros(nb*2)\n",
    "res2 = np.zeros(nb*2)\n",
    "resloss1 = np.zeros(nb*2)\n",
    "resloss2 = np.zeros(nb*2)\n",
    "\n",
    "lset = splittrain\n",
    "ltest = splittest\n",
    "\n",
    "res[0] = classbatchk.accuracy(lset)\n",
    "res2[0] = classbatchk.accuracy(ltest)\n",
    "resloss1[0] = classbatchk.loss(lset)\n",
    "resloss2[0] = classbatchk.loss(ltest)\n",
    "\n",
    "for i in range(1, nb*2):\n",
    "    classbatchk.train(lset)\n",
    "    res[i] = classbatchk.accuracy(lset)\n",
    "    res2[i] = classbatchk.accuracy(ltest)\n",
    "    resloss1[i] = classbatchk.loss(lset)\n",
    "    resloss2[i] = classbatchk.loss(ltest)\n",
    "\n",
    "\n",
    "k = range(1,(nb*2)+1,1)\n",
    "plt.plot(k, res, label = \"accuracy train\")\n",
    "plt.plot(k, res2, label = \"accuracy test\")\n",
    "plt.legend(loc = \"best\")\n",
    "plt.show()\n",
    "\n",
    "plt.plot(k, resloss1, label = \"loss train\")\n",
    "plt.plot(k, resloss2, label = \"loss test\")\n",
    "plt.legend(loc = \"best\")\n",
    "plt.show()"
   ]
  },
  {
   "cell_type": "markdown",
   "metadata": {},
   "source": [
    "Mise en oeuvre sur des données réelles \n",
    "-------\n",
    "A partir de datasets trouvés sur le web, réaliser un ensemble d'expérimentations permettant de comparer les 3 classifiers (knn, perceptron de Rosenblatt et version kernélisée) que vous avez implémentés.\n",
    "\n",
    "Par exemple, vous pouvez utiliser les datasets suivants:\n",
    "- https://archive.ics.uci.edu/ml/datasets/Breast+Cancer+Coimbra\n",
    "- https://www.kaggle.com/uciml/indian-liver-patient-records\n",
    "- voir sur les données ouvertes de Paris : https://opendata.paris.fr/explore/?sort=modified\n",
    "\n",
    "Afin d'utiliser de tels jeux de données, il sera certainement nécessaire que vous réalisiez un prétraitement afin de pouvoir utiliser vos implémentations."
   ]
  },
  {
   "cell_type": "code",
   "execution_count": 96,
   "metadata": {},
   "outputs": [
    {
     "data": {
      "text/html": [
       "<div>\n",
       "<style scoped>\n",
       "    .dataframe tbody tr th:only-of-type {\n",
       "        vertical-align: middle;\n",
       "    }\n",
       "\n",
       "    .dataframe tbody tr th {\n",
       "        vertical-align: top;\n",
       "    }\n",
       "\n",
       "    .dataframe thead th {\n",
       "        text-align: right;\n",
       "    }\n",
       "</style>\n",
       "<table border=\"1\" class=\"dataframe\">\n",
       "  <thead>\n",
       "    <tr style=\"text-align: right;\">\n",
       "      <th></th>\n",
       "      <th>Age</th>\n",
       "      <th>BMI</th>\n",
       "      <th>Glucose</th>\n",
       "      <th>Insulin</th>\n",
       "      <th>HOMA</th>\n",
       "      <th>Leptin</th>\n",
       "      <th>Adiponectin</th>\n",
       "      <th>Resistin</th>\n",
       "      <th>MCP.1</th>\n",
       "      <th>Classification</th>\n",
       "    </tr>\n",
       "  </thead>\n",
       "  <tbody>\n",
       "    <tr>\n",
       "      <th>0</th>\n",
       "      <td>48</td>\n",
       "      <td>23.500000</td>\n",
       "      <td>70</td>\n",
       "      <td>2.707</td>\n",
       "      <td>0.467409</td>\n",
       "      <td>8.8071</td>\n",
       "      <td>9.702400</td>\n",
       "      <td>7.99585</td>\n",
       "      <td>417.114</td>\n",
       "      <td>1</td>\n",
       "    </tr>\n",
       "    <tr>\n",
       "      <th>1</th>\n",
       "      <td>83</td>\n",
       "      <td>20.690495</td>\n",
       "      <td>92</td>\n",
       "      <td>3.115</td>\n",
       "      <td>0.706897</td>\n",
       "      <td>8.8438</td>\n",
       "      <td>5.429285</td>\n",
       "      <td>4.06405</td>\n",
       "      <td>468.786</td>\n",
       "      <td>1</td>\n",
       "    </tr>\n",
       "    <tr>\n",
       "      <th>2</th>\n",
       "      <td>82</td>\n",
       "      <td>23.124670</td>\n",
       "      <td>91</td>\n",
       "      <td>4.498</td>\n",
       "      <td>1.009651</td>\n",
       "      <td>17.9393</td>\n",
       "      <td>22.432040</td>\n",
       "      <td>9.27715</td>\n",
       "      <td>554.697</td>\n",
       "      <td>1</td>\n",
       "    </tr>\n",
       "    <tr>\n",
       "      <th>3</th>\n",
       "      <td>68</td>\n",
       "      <td>21.367521</td>\n",
       "      <td>77</td>\n",
       "      <td>3.226</td>\n",
       "      <td>0.612725</td>\n",
       "      <td>9.8827</td>\n",
       "      <td>7.169560</td>\n",
       "      <td>12.76600</td>\n",
       "      <td>928.220</td>\n",
       "      <td>1</td>\n",
       "    </tr>\n",
       "    <tr>\n",
       "      <th>4</th>\n",
       "      <td>86</td>\n",
       "      <td>21.111111</td>\n",
       "      <td>92</td>\n",
       "      <td>3.549</td>\n",
       "      <td>0.805386</td>\n",
       "      <td>6.6994</td>\n",
       "      <td>4.819240</td>\n",
       "      <td>10.57635</td>\n",
       "      <td>773.920</td>\n",
       "      <td>1</td>\n",
       "    </tr>\n",
       "  </tbody>\n",
       "</table>\n",
       "</div>"
      ],
      "text/plain": [
       "   Age        BMI  Glucose  Insulin      HOMA   Leptin  Adiponectin  Resistin  \\\n",
       "0   48  23.500000       70    2.707  0.467409   8.8071     9.702400   7.99585   \n",
       "1   83  20.690495       92    3.115  0.706897   8.8438     5.429285   4.06405   \n",
       "2   82  23.124670       91    4.498  1.009651  17.9393    22.432040   9.27715   \n",
       "3   68  21.367521       77    3.226  0.612725   9.8827     7.169560  12.76600   \n",
       "4   86  21.111111       92    3.549  0.805386   6.6994     4.819240  10.57635   \n",
       "\n",
       "     MCP.1  Classification  \n",
       "0  417.114               1  \n",
       "1  468.786               1  \n",
       "2  554.697               1  \n",
       "3  928.220               1  \n",
       "4  773.920               1  "
      ]
     },
     "execution_count": 96,
     "metadata": {},
     "output_type": "execute_result"
    }
   ],
   "source": [
    "url = 'https://archive.ics.uci.edu/ml/machine-learning-databases/00451/dataR2.csv'\n",
    "#url = 'https://opendata.paris.fr/explore/dataset/velib-emplacement-des-stations/download/?format=csv&timezone=Europe/Berlin&use_labels_for_header=true'\n",
    "df = pd.read_csv(url, sep=',')\n",
    "df.head()"
   ]
  },
  {
   "cell_type": "code",
   "execution_count": 146,
   "metadata": {},
   "outputs": [
    {
     "name": "stdout",
     "output_type": "stream",
     "text": [
      "Exemple 0\n",
      "\tdescription :  [48 70]\n",
      "\tlabel :  [-1]\n",
      "Exemple 1\n",
      "\tdescription :  [83 92]\n",
      "\tlabel :  [-1]\n",
      "Exemple 2\n",
      "\tdescription :  [82 91]\n",
      "\tlabel :  [-1]\n",
      "Exemple 3\n",
      "\tdescription :  [68 77]\n",
      "\tlabel :  [-1]\n",
      "Exemple 4\n",
      "\tdescription :  [86 92]\n",
      "\tlabel :  [-1]\n",
      "Exemple 5\n",
      "\tdescription :  [49 92]\n",
      "\tlabel :  [-1]\n",
      "Exemple 6\n",
      "\tdescription :  [89 77]\n",
      "\tlabel :  [-1]\n",
      "Exemple 7\n",
      "\tdescription :  [ 76 118]\n",
      "\tlabel :  [-1]\n",
      "Exemple 8\n",
      "\tdescription :  [73 97]\n",
      "\tlabel :  [-1]\n",
      "Exemple 9\n",
      "\tdescription :  [75 83]\n",
      "\tlabel :  [-1]\n",
      "Exemple 10\n",
      "\tdescription :  [34 78]\n",
      "\tlabel :  [-1]\n",
      "Exemple 11\n",
      "\tdescription :  [29 82]\n",
      "\tlabel :  [-1]\n",
      "Exemple 12\n",
      "\tdescription :  [25 82]\n",
      "\tlabel :  [-1]\n",
      "Exemple 13\n",
      "\tdescription :  [24 88]\n",
      "\tlabel :  [-1]\n",
      "Exemple 14\n",
      "\tdescription :  [38 75]\n",
      "\tlabel :  [-1]\n",
      "Exemple 15\n",
      "\tdescription :  [44 86]\n",
      "\tlabel :  [-1]\n",
      "Exemple 16\n",
      "\tdescription :  [47 84]\n",
      "\tlabel :  [-1]\n",
      "Exemple 17\n",
      "\tdescription :  [61 85]\n",
      "\tlabel :  [-1]\n",
      "Exemple 18\n",
      "\tdescription :  [64 95]\n",
      "\tlabel :  [-1]\n",
      "Exemple 19\n",
      "\tdescription :  [32 87]\n",
      "\tlabel :  [-1]\n",
      "Exemple 20\n",
      "\tdescription :  [36 86]\n",
      "\tlabel :  [-1]\n",
      "Exemple 21\n",
      "\tdescription :  [34 87]\n",
      "\tlabel :  [-1]\n",
      "Exemple 22\n",
      "\tdescription :  [29 84]\n",
      "\tlabel :  [-1]\n",
      "Exemple 23\n",
      "\tdescription :  [35 84]\n",
      "\tlabel :  [-1]\n",
      "Exemple 24\n",
      "\tdescription :  [54 90]\n",
      "\tlabel :  [-1]\n",
      "Exemple 25\n",
      "\tdescription :  [45 83]\n",
      "\tlabel :  [-1]\n",
      "Exemple 26\n",
      "\tdescription :  [ 50 106]\n",
      "\tlabel :  [-1]\n",
      "Exemple 27\n",
      "\tdescription :  [66 90]\n",
      "\tlabel :  [-1]\n",
      "Exemple 28\n",
      "\tdescription :  [35 90]\n",
      "\tlabel :  [-1]\n",
      "Exemple 29\n",
      "\tdescription :  [36 80]\n",
      "\tlabel :  [-1]\n",
      "Exemple 30\n",
      "\tdescription :  [ 66 101]\n",
      "\tlabel :  [-1]\n",
      "Exemple 31\n",
      "\tdescription :  [ 53 101]\n",
      "\tlabel :  [-1]\n",
      "Exemple 32\n",
      "\tdescription :  [28 87]\n",
      "\tlabel :  [-1]\n",
      "Exemple 33\n",
      "\tdescription :  [43 89]\n",
      "\tlabel :  [-1]\n",
      "Exemple 34\n",
      "\tdescription :  [51 77]\n",
      "\tlabel :  [-1]\n",
      "Exemple 35\n",
      "\tdescription :  [67 79]\n",
      "\tlabel :  [-1]\n",
      "Exemple 36\n",
      "\tdescription :  [66 82]\n",
      "\tlabel :  [-1]\n",
      "Exemple 37\n",
      "\tdescription :  [ 69 101]\n",
      "\tlabel :  [-1]\n",
      "Exemple 38\n",
      "\tdescription :  [ 60 103]\n",
      "\tlabel :  [-1]\n",
      "Exemple 39\n",
      "\tdescription :  [77 76]\n",
      "\tlabel :  [-1]\n",
      "Exemple 40\n",
      "\tdescription :  [76 83]\n",
      "\tlabel :  [-1]\n",
      "Exemple 41\n",
      "\tdescription :  [76 94]\n",
      "\tlabel :  [-1]\n",
      "Exemple 42\n",
      "\tdescription :  [75 85]\n",
      "\tlabel :  [-1]\n",
      "Exemple 43\n",
      "\tdescription :  [69 93]\n",
      "\tlabel :  [-1]\n",
      "Exemple 44\n",
      "\tdescription :  [ 71 102]\n",
      "\tlabel :  [-1]\n",
      "Exemple 45\n",
      "\tdescription :  [66 90]\n",
      "\tlabel :  [-1]\n",
      "Exemple 46\n",
      "\tdescription :  [75 94]\n",
      "\tlabel :  [-1]\n",
      "Exemple 47\n",
      "\tdescription :  [78 60]\n",
      "\tlabel :  [-1]\n",
      "Exemple 48\n",
      "\tdescription :  [69 89]\n",
      "\tlabel :  [-1]\n",
      "Exemple 49\n",
      "\tdescription :  [85 96]\n",
      "\tlabel :  [-1]\n",
      "Exemple 50\n",
      "\tdescription :  [ 76 110]\n",
      "\tlabel :  [-1]\n",
      "Exemple 51\n",
      "\tdescription :  [77 85]\n",
      "\tlabel :  [-1]\n",
      "Exemple 52\n",
      "\tdescription :  [ 45 102]\n",
      "\tlabel :  [1]\n",
      "Exemple 53\n",
      "\tdescription :  [45 74]\n",
      "\tlabel :  [1]\n",
      "Exemple 54\n",
      "\tdescription :  [49 94]\n",
      "\tlabel :  [1]\n",
      "Exemple 55\n",
      "\tdescription :  [34 92]\n",
      "\tlabel :  [1]\n",
      "Exemple 56\n",
      "\tdescription :  [42 93]\n",
      "\tlabel :  [1]\n",
      "Exemple 57\n",
      "\tdescription :  [ 68 102]\n",
      "\tlabel :  [1]\n",
      "Exemple 58\n",
      "\tdescription :  [51 93]\n",
      "\tlabel :  [1]\n",
      "Exemple 59\n",
      "\tdescription :  [62 92]\n",
      "\tlabel :  [1]\n",
      "Exemple 60\n",
      "\tdescription :  [38 95]\n",
      "\tlabel :  [1]\n",
      "Exemple 61\n",
      "\tdescription :  [ 69 112]\n",
      "\tlabel :  [1]\n",
      "Exemple 62\n",
      "\tdescription :  [49 78]\n",
      "\tlabel :  [1]\n",
      "Exemple 63\n",
      "\tdescription :  [ 51 103]\n",
      "\tlabel :  [1]\n",
      "Exemple 64\n",
      "\tdescription :  [59 98]\n",
      "\tlabel :  [1]\n",
      "Exemple 65\n",
      "\tdescription :  [ 45 116]\n",
      "\tlabel :  [1]\n",
      "Exemple 66\n",
      "\tdescription :  [54 86]\n",
      "\tlabel :  [1]\n",
      "Exemple 67\n",
      "\tdescription :  [64 98]\n",
      "\tlabel :  [1]\n",
      "Exemple 68\n",
      "\tdescription :  [46 88]\n",
      "\tlabel :  [1]\n",
      "Exemple 69\n",
      "\tdescription :  [ 44 114]\n",
      "\tlabel :  [1]\n",
      "Exemple 70\n",
      "\tdescription :  [45 92]\n",
      "\tlabel :  [1]\n",
      "Exemple 71\n",
      "\tdescription :  [ 44 106]\n",
      "\tlabel :  [1]\n",
      "Exemple 72\n",
      "\tdescription :  [ 51 105]\n",
      "\tlabel :  [1]\n",
      "Exemple 73\n",
      "\tdescription :  [ 72 105]\n",
      "\tlabel :  [1]\n",
      "Exemple 74\n",
      "\tdescription :  [46 86]\n",
      "\tlabel :  [1]\n",
      "Exemple 75\n",
      "\tdescription :  [ 43 101]\n",
      "\tlabel :  [1]\n",
      "Exemple 76\n",
      "\tdescription :  [55 92]\n",
      "\tlabel :  [1]\n",
      "Exemple 77\n",
      "\tdescription :  [ 43 103]\n",
      "\tlabel :  [1]\n",
      "Exemple 78\n",
      "\tdescription :  [ 86 201]\n",
      "\tlabel :  [1]\n",
      "Exemple 79\n",
      "\tdescription :  [41 97]\n",
      "\tlabel :  [1]\n",
      "Exemple 80\n",
      "\tdescription :  [59 77]\n",
      "\tlabel :  [1]\n",
      "Exemple 81\n",
      "\tdescription :  [ 81 100]\n",
      "\tlabel :  [1]\n",
      "Exemple 82\n",
      "\tdescription :  [48 99]\n",
      "\tlabel :  [1]\n",
      "Exemple 83\n",
      "\tdescription :  [ 71 112]\n",
      "\tlabel :  [1]\n",
      "Exemple 84\n",
      "\tdescription :  [42 98]\n",
      "\tlabel :  [1]\n",
      "Exemple 85\n",
      "\tdescription :  [65 85]\n",
      "\tlabel :  [1]\n",
      "Exemple 86\n",
      "\tdescription :  [48 90]\n",
      "\tlabel :  [1]\n",
      "Exemple 87\n",
      "\tdescription :  [ 85 196]\n",
      "\tlabel :  [1]\n",
      "Exemple 88\n",
      "\tdescription :  [ 48 199]\n",
      "\tlabel :  [1]\n",
      "Exemple 89\n",
      "\tdescription :  [ 58 139]\n",
      "\tlabel :  [1]\n",
      "Exemple 90\n",
      "\tdescription :  [ 40 128]\n",
      "\tlabel :  [1]\n",
      "Exemple 91\n",
      "\tdescription :  [ 82 100]\n",
      "\tlabel :  [1]\n",
      "Exemple 92\n",
      "\tdescription :  [52 87]\n",
      "\tlabel :  [1]\n",
      "Exemple 93\n",
      "\tdescription :  [ 49 134]\n",
      "\tlabel :  [1]\n",
      "Exemple 94\n",
      "\tdescription :  [ 60 131]\n",
      "\tlabel :  [1]\n",
      "Exemple 95\n",
      "\tdescription :  [49 70]\n",
      "\tlabel :  [1]\n",
      "Exemple 96\n",
      "\tdescription :  [44 99]\n",
      "\tlabel :  [1]\n",
      "Exemple 97\n",
      "\tdescription :  [ 40 103]\n",
      "\tlabel :  [1]\n",
      "Exemple 98\n",
      "\tdescription :  [ 71 104]\n",
      "\tlabel :  [1]\n",
      "Exemple 99\n",
      "\tdescription :  [ 69 108]\n",
      "\tlabel :  [1]\n",
      "Exemple 100\n",
      "\tdescription :  [74 88]\n",
      "\tlabel :  [1]\n",
      "Exemple 101\n",
      "\tdescription :  [66 89]\n",
      "\tlabel :  [1]\n",
      "Exemple 102\n",
      "\tdescription :  [65 97]\n",
      "\tlabel :  [1]\n",
      "Exemple 103\n",
      "\tdescription :  [72 83]\n",
      "\tlabel :  [1]\n",
      "Exemple 104\n",
      "\tdescription :  [57 95]\n",
      "\tlabel :  [1]\n",
      "Exemple 105\n",
      "\tdescription :  [ 73 134]\n",
      "\tlabel :  [1]\n",
      "Exemple 106\n",
      "\tdescription :  [45 90]\n",
      "\tlabel :  [1]\n",
      "Exemple 107\n",
      "\tdescription :  [46 92]\n",
      "\tlabel :  [1]\n",
      "Exemple 108\n",
      "\tdescription :  [ 68 131]\n",
      "\tlabel :  [1]\n",
      "Exemple 109\n",
      "\tdescription :  [ 75 152]\n",
      "\tlabel :  [1]\n",
      "Exemple 110\n",
      "\tdescription :  [ 54 119]\n",
      "\tlabel :  [1]\n",
      "Exemple 111\n",
      "\tdescription :  [45 92]\n",
      "\tlabel :  [1]\n",
      "Exemple 112\n",
      "\tdescription :  [ 62 100]\n",
      "\tlabel :  [1]\n",
      "Exemple 113\n",
      "\tdescription :  [65 97]\n",
      "\tlabel :  [1]\n",
      "Exemple 114\n",
      "\tdescription :  [72 82]\n",
      "\tlabel :  [1]\n",
      "Exemple 115\n",
      "\tdescription :  [ 86 138]\n",
      "\tlabel :  [1]\n"
     ]
    }
   ],
   "source": [
    "age = df['Age']\n",
    "bmi = df['BMI']\n",
    "glucose = df['Glucose']\n",
    "insulin = df['Insulin']\n",
    "homa = df['HOMA']\n",
    "leptin = df['Leptin']\n",
    "adiponectin = df['Adiponectin']\n",
    "resistin = df['Resistin']\n",
    "mcp = df['MCP.1']\n",
    "clas = df['Classification']\n",
    "exp = ls.LabeledSet(2)\n",
    "\n",
    "taille = df.shape[0]\n",
    "for i in range(taille):\n",
    "    exp.addExample([age[i], glucose[i]], 1 if clas[i] == 2 else -1)\n",
    "    \n",
    "affiche_base(exp)\n",
    "exptrain, exptest = split(exp, 0.5)"
   ]
  },
  {
   "cell_type": "code",
   "execution_count": 199,
   "metadata": {},
   "outputs": [],
   "source": [
    "N = taille\n",
    "nb = taille\n",
    "kp = KernelPoly()\n",
    "k = range(1,(nb*2)+1,1)\n",
    "classstoch = ClassifierGradiantStochastique(2,0.0001)\n",
    "classbatch = ClassifierGradiantBatch(2,0.000001)\n",
    "classstochk = ClassifierGradiantStochastiqueKernel(6,0.000000001,kp)\n",
    "classbatchk = ClassifierGradiantBatchKernel(6,0.0000000000001,kp)"
   ]
  },
  {
   "cell_type": "code",
   "execution_count": 200,
   "metadata": {},
   "outputs": [
    {
     "data": {
      "image/png": "[encoded data removed]",
      "text/plain": [
       "<Figure size 432x288 with 1 Axes>"
      ]
     },
     "metadata": {
      "needs_background": "light"
     },
     "output_type": "display_data"
    },
    {
     "data": {
      "image/png": "[encoded data removed]",
      "text/plain": [
       "<Figure size 432x288 with 1 Axes>"
      ]
     },
     "metadata": {
      "needs_background": "light"
     },
     "output_type": "display_data"
    }
   ],
   "source": [
    "res = np.zeros(nb*2)\n",
    "res2 = np.zeros(nb*2)\n",
    "resloss1 = np.zeros(nb*2)\n",
    "resloss2 = np.zeros(nb*2)\n",
    "\n",
    "for i in range(N):\n",
    "    classstoch.train(exptrain)\n",
    "    res[i] = classstoch.accuracy(exptrain)\n",
    "    res2[i] = classstoch.accuracy(exptest)\n",
    "    resloss1[i] = classstoch.loss(exptrain)\n",
    "    resloss2[i] = classstoch.loss(exptest)\n",
    "    \n",
    "plt.plot(k, res, label = \"accuracy train\")\n",
    "plt.plot(k, res2, label = \"accuracy test\")\n",
    "plt.legend(loc = \"best\")\n",
    "plt.show()\n",
    "\n",
    "plt.plot(k, resloss1, label = \"loss train\")\n",
    "plt.plot(k, resloss2, label = \"loss test\")\n",
    "plt.legend(loc = \"best\")\n",
    "plt.show()"
   ]
  },
  {
   "cell_type": "code",
   "execution_count": 193,
   "metadata": {},
   "outputs": [
    {
     "data": {
      "image/png": "[encoded data removed]",
      "text/plain": [
       "<Figure size 432x288 with 1 Axes>"
      ]
     },
     "metadata": {
      "needs_background": "light"
     },
     "output_type": "display_data"
    },
    {
     "data": {
      "image/png": "[encoded data removed]",
      "text/plain": [
       "<Figure size 432x288 with 1 Axes>"
      ]
     },
     "metadata": {
      "needs_background": "light"
     },
     "output_type": "display_data"
    }
   ],
   "source": [
    "res = np.zeros(nb*2)\n",
    "res2 = np.zeros(nb*2)\n",
    "resloss1 = np.zeros(nb*2)\n",
    "resloss2 = np.zeros(nb*2)\n",
    "\n",
    "for i in range(N):\n",
    "    classstochk.train(exptrain)\n",
    "    res[i] = classstochk.accuracy(exptrain)\n",
    "    res2[i] = classstochk.accuracy(exptest)\n",
    "    resloss1[i] = classstochk.loss(exptrain)\n",
    "    resloss2[i] = classstochk.loss(exptest)\n",
    "    \n",
    "plt.plot(k, res, label = \"accuracy train\")\n",
    "plt.plot(k, res2, label = \"accuracy test\")\n",
    "plt.legend(loc = \"best\")\n",
    "plt.show()\n",
    "\n",
    "plt.plot(k, resloss1, label = \"loss train\")\n",
    "plt.plot(k, resloss2, label = \"loss test\")\n",
    "plt.legend(loc = \"best\")\n",
    "plt.show()"
   ]
  },
  {
   "cell_type": "code",
   "execution_count": 190,
   "metadata": {},
   "outputs": [
    {
     "data": {
      "image/png": "[encoded data removed]",
      "text/plain": [
       "<Figure size 432x288 with 1 Axes>"
      ]
     },
     "metadata": {
      "needs_background": "light"
     },
     "output_type": "display_data"
    },
    {
     "data": {
      "image/png": "[encoded data removed]",
      "text/plain": [
       "<Figure size 432x288 with 1 Axes>"
      ]
     },
     "metadata": {
      "needs_background": "light"
     },
     "output_type": "display_data"
    }
   ],
   "source": [
    "res = np.zeros(nb*2)\n",
    "res2 = np.zeros(nb*2)\n",
    "resloss1 = np.zeros(nb*2)\n",
    "resloss2 = np.zeros(nb*2)\n",
    "\n",
    "for i in range(N):\n",
    "    classbatch.train(exptrain)\n",
    "    res[i] = classbatch.accuracy(exptrain)\n",
    "    res2[i] = classbatch.accuracy(exptest)\n",
    "    resloss1[i] = classbatch.loss(exptrain)\n",
    "    resloss2[i] = classbatch.loss(exptest)\n",
    "    \n",
    "plt.plot(k, res, label = \"accuracy train\")\n",
    "plt.plot(k, res2, label = \"accuracy test\")\n",
    "plt.legend(loc = \"best\")\n",
    "plt.show()\n",
    "\n",
    "plt.plot(k, resloss1, label = \"loss train\")\n",
    "plt.plot(k, resloss2, label = \"loss test\")\n",
    "plt.legend(loc = \"best\")\n",
    "plt.show()"
   ]
  },
  {
   "cell_type": "code",
   "execution_count": 191,
   "metadata": {},
   "outputs": [
    {
     "data": {
      "image/png": "[encoded data removed]",
      "text/plain": [
       "<Figure size 432x288 with 1 Axes>"
      ]
     },
     "metadata": {
      "needs_background": "light"
     },
     "output_type": "display_data"
    },
    {
     "data": {
      "image/png": "[encoded data removed]",
      "text/plain": [
       "<Figure size 432x288 with 1 Axes>"
      ]
     },
     "metadata": {
      "needs_background": "light"
     },
     "output_type": "display_data"
    }
   ],
   "source": [
    "res = np.zeros(nb*2)\n",
    "res2 = np.zeros(nb*2)\n",
    "resloss1 = np.zeros(nb*2)\n",
    "resloss2 = np.zeros(nb*2)\n",
    "\n",
    "for i in range(N):\n",
    "    classbatchk.train(exptrain)\n",
    "    res[i] = classbatchk.accuracy(exptrain)\n",
    "    res2[i] = classbatchk.accuracy(exptest)\n",
    "    resloss1[i] = classbatchk.loss(exptrain)\n",
    "    resloss2[i] = classbatchk.loss(exptest)\n",
    "    \n",
    "plt.plot(k, res, label = \"accuracy train\")\n",
    "plt.plot(k, res2, label = \"accuracy test\")\n",
    "plt.legend(loc = \"best\")\n",
    "plt.show()\n",
    "\n",
    "plt.plot(k, resloss1, label = \"loss train\")\n",
    "plt.plot(k, resloss2, label = \"loss test\")\n",
    "plt.legend(loc = \"best\")\n",
    "plt.show()"
   ]
  },
  {
   "cell_type": "markdown",
   "metadata": {},
   "source": [
    "Pour une certaine raison, le loss chute en même temps que l'accuracy... Pourtant le loss devrait refléter l'echec des classifieurs à gérer ces données."
   ]
  },
  {
   "cell_type": "markdown",
   "metadata": {},
   "source": [
    "# Préparation du projet\n",
    "\n",
    "Le projet est à rendre lors de la dernière séance de TD-TME de votre groupe qui aura lieu la semaine du **16 avril**. Lors de cette dernière séance, une soutenance sera organisée afin que vous présentiez le travail réalisé et les résultats obtenus.\n",
    "\n"
   ]
  },
  {
   "cell_type": "markdown",
   "metadata": {},
   "source": [
    "## Données\n",
    "\n",
    "Les données à utiliser sont des données issues d'une base de films et de notations faites par des spectateurs:\n",
    "- base MovieLens : https://grouplens.org/datasets/movielens/\n",
    "- base complémentaire `Movie Industrie`: https://www.kaggle.com/danielgrijalvas/movies\n",
    "\n",
    "\n",
    "<font color=\"RED\">**ATTENTION**: la base est très volumineuse (plus d'1Go) et ne pourra pas tenir sur votre répertoire de travail des machines de TME.</font>\n",
    "\n",
    "Dans un premier temps, vous travaillerez sur la version réduite de cette base (`ml-latest-small.zip` sur le site movilens) que vous pouvez récupérer sur les machines de TD-TME: `/users/Enseignants/marsala/3i026-2019/MovieLens-small.tgz`\n",
    "Cette version contient qu'une partie des lignes de la base originale.\n",
    "\n",
    "\n",
    "\n",
    "En salle de TD-TME, vous accéderez aux données dans les fichiers suivants (à ne pas recopier !):\n",
    "- répertoire : `/users/Enseignants/marsala/3i026-2019`\n",
    "- répertoire des données MovieLens version réduite : `/users/Enseignants/marsala/3i026-2019/MovieLens-small/` \n",
    "- fichier archive avec les données MovieLesns version réduite : `/users/Enseignants/marsala/3i026-2019/MovieLens-small.tgz`\n",
    "- répertoire des données MovieLens : `/users/Enseignants/marsala/3i026-2019/MovieLens/` \n",
    "  Il contient les fichiers CSV que vous pouvez ouvrir directement dans le notebook.\n",
    "- fichier `/users/Enseignants/marsala/3i026-2019/kaggle-movies.csv` : infos sur les films de la base Movie Industrie\n",
    "   \n",
    "   \n",
    "  \n",
    "\n",
    "\n"
   ]
  },
  {
   "cell_type": "markdown",
   "metadata": {},
   "source": [
    "<font color=\"RED\" size=\"+1\">**[Q]**</font> Réaliser des expérimentations avec la base MovieLens version réduite.\n",
    "\n",
    "Charger les données dans un dataframe, afficher des informations statistiques sur les données, commencer à réfléchir comment appliquer les classifieurs vus dans les séances précédentes sur ces données..."
   ]
  },
  {
   "cell_type": "code",
   "execution_count": 86,
   "metadata": {},
   "outputs": [],
   "source": [
    "movies = pd.read_csv(\"../ml-latest-small/movies.csv\", sep=\",\")\n",
    "ratings = pd.read_csv(\"../ml-latest-small/ratings.csv\", sep=\",\")\n",
    "tags = pd.read_csv(\"../ml-latest-small/tags.csv\", sep=\",\")\n",
    "links = pd.read_csv(\"../ml-latest-small/links.csv\", sep=\",\")"
   ]
  },
  {
   "cell_type": "code",
   "execution_count": 92,
   "metadata": {},
   "outputs": [
    {
     "data": {
      "text/html": [
       "<div>\n",
       "<style scoped>\n",
       "    .dataframe tbody tr th:only-of-type {\n",
       "        vertical-align: middle;\n",
       "    }\n",
       "\n",
       "    .dataframe tbody tr th {\n",
       "        vertical-align: top;\n",
       "    }\n",
       "\n",
       "    .dataframe thead th {\n",
       "        text-align: right;\n",
       "    }\n",
       "</style>\n",
       "<table border=\"1\" class=\"dataframe\">\n",
       "  <thead>\n",
       "    <tr style=\"text-align: right;\">\n",
       "      <th></th>\n",
       "      <th>movieId</th>\n",
       "      <th>title</th>\n",
       "      <th>genres</th>\n",
       "    </tr>\n",
       "  </thead>\n",
       "  <tbody>\n",
       "    <tr>\n",
       "      <th>0</th>\n",
       "      <td>1</td>\n",
       "      <td>Toy Story (1995)</td>\n",
       "      <td>Adventure|Animation|Children|Comedy|Fantasy</td>\n",
       "    </tr>\n",
       "    <tr>\n",
       "      <th>1</th>\n",
       "      <td>2</td>\n",
       "      <td>Jumanji (1995)</td>\n",
       "      <td>Adventure|Children|Fantasy</td>\n",
       "    </tr>\n",
       "    <tr>\n",
       "      <th>2</th>\n",
       "      <td>3</td>\n",
       "      <td>Grumpier Old Men (1995)</td>\n",
       "      <td>Comedy|Romance</td>\n",
       "    </tr>\n",
       "    <tr>\n",
       "      <th>3</th>\n",
       "      <td>4</td>\n",
       "      <td>Waiting to Exhale (1995)</td>\n",
       "      <td>Comedy|Drama|Romance</td>\n",
       "    </tr>\n",
       "    <tr>\n",
       "      <th>4</th>\n",
       "      <td>5</td>\n",
       "      <td>Father of the Bride Part II (1995)</td>\n",
       "      <td>Comedy</td>\n",
       "    </tr>\n",
       "  </tbody>\n",
       "</table>\n",
       "</div>"
      ],
      "text/plain": [
       "   movieId                               title  \\\n",
       "0        1                    Toy Story (1995)   \n",
       "1        2                      Jumanji (1995)   \n",
       "2        3             Grumpier Old Men (1995)   \n",
       "3        4            Waiting to Exhale (1995)   \n",
       "4        5  Father of the Bride Part II (1995)   \n",
       "\n",
       "                                        genres  \n",
       "0  Adventure|Animation|Children|Comedy|Fantasy  \n",
       "1                   Adventure|Children|Fantasy  \n",
       "2                               Comedy|Romance  \n",
       "3                         Comedy|Drama|Romance  \n",
       "4                                       Comedy  "
      ]
     },
     "execution_count": 92,
     "metadata": {},
     "output_type": "execute_result"
    }
   ],
   "source": [
    "movies.head()"
   ]
  },
  {
   "cell_type": "code",
   "execution_count": 93,
   "metadata": {},
   "outputs": [
    {
     "data": {
      "text/html": [
       "<div>\n",
       "<style scoped>\n",
       "    .dataframe tbody tr th:only-of-type {\n",
       "        vertical-align: middle;\n",
       "    }\n",
       "\n",
       "    .dataframe tbody tr th {\n",
       "        vertical-align: top;\n",
       "    }\n",
       "\n",
       "    .dataframe thead th {\n",
       "        text-align: right;\n",
       "    }\n",
       "</style>\n",
       "<table border=\"1\" class=\"dataframe\">\n",
       "  <thead>\n",
       "    <tr style=\"text-align: right;\">\n",
       "      <th></th>\n",
       "      <th>userId</th>\n",
       "      <th>movieId</th>\n",
       "      <th>rating</th>\n",
       "      <th>timestamp</th>\n",
       "    </tr>\n",
       "  </thead>\n",
       "  <tbody>\n",
       "    <tr>\n",
       "      <th>0</th>\n",
       "      <td>1</td>\n",
       "      <td>1</td>\n",
       "      <td>4.0</td>\n",
       "      <td>964982703</td>\n",
       "    </tr>\n",
       "    <tr>\n",
       "      <th>1</th>\n",
       "      <td>1</td>\n",
       "      <td>3</td>\n",
       "      <td>4.0</td>\n",
       "      <td>964981247</td>\n",
       "    </tr>\n",
       "    <tr>\n",
       "      <th>2</th>\n",
       "      <td>1</td>\n",
       "      <td>6</td>\n",
       "      <td>4.0</td>\n",
       "      <td>964982224</td>\n",
       "    </tr>\n",
       "    <tr>\n",
       "      <th>3</th>\n",
       "      <td>1</td>\n",
       "      <td>47</td>\n",
       "      <td>5.0</td>\n",
       "      <td>964983815</td>\n",
       "    </tr>\n",
       "    <tr>\n",
       "      <th>4</th>\n",
       "      <td>1</td>\n",
       "      <td>50</td>\n",
       "      <td>5.0</td>\n",
       "      <td>964982931</td>\n",
       "    </tr>\n",
       "  </tbody>\n",
       "</table>\n",
       "</div>"
      ],
      "text/plain": [
       "   userId  movieId  rating  timestamp\n",
       "0       1        1     4.0  964982703\n",
       "1       1        3     4.0  964981247\n",
       "2       1        6     4.0  964982224\n",
       "3       1       47     5.0  964983815\n",
       "4       1       50     5.0  964982931"
      ]
     },
     "execution_count": 93,
     "metadata": {},
     "output_type": "execute_result"
    }
   ],
   "source": [
    "ratings.head()"
   ]
  },
  {
   "cell_type": "code",
   "execution_count": 94,
   "metadata": {},
   "outputs": [
    {
     "data": {
      "text/html": [
       "<div>\n",
       "<style scoped>\n",
       "    .dataframe tbody tr th:only-of-type {\n",
       "        vertical-align: middle;\n",
       "    }\n",
       "\n",
       "    .dataframe tbody tr th {\n",
       "        vertical-align: top;\n",
       "    }\n",
       "\n",
       "    .dataframe thead th {\n",
       "        text-align: right;\n",
       "    }\n",
       "</style>\n",
       "<table border=\"1\" class=\"dataframe\">\n",
       "  <thead>\n",
       "    <tr style=\"text-align: right;\">\n",
       "      <th></th>\n",
       "      <th>userId</th>\n",
       "      <th>movieId</th>\n",
       "      <th>tag</th>\n",
       "      <th>timestamp</th>\n",
       "    </tr>\n",
       "  </thead>\n",
       "  <tbody>\n",
       "    <tr>\n",
       "      <th>0</th>\n",
       "      <td>2</td>\n",
       "      <td>60756</td>\n",
       "      <td>funny</td>\n",
       "      <td>1445714994</td>\n",
       "    </tr>\n",
       "    <tr>\n",
       "      <th>1</th>\n",
       "      <td>2</td>\n",
       "      <td>60756</td>\n",
       "      <td>Highly quotable</td>\n",
       "      <td>1445714996</td>\n",
       "    </tr>\n",
       "    <tr>\n",
       "      <th>2</th>\n",
       "      <td>2</td>\n",
       "      <td>60756</td>\n",
       "      <td>will ferrell</td>\n",
       "      <td>1445714992</td>\n",
       "    </tr>\n",
       "    <tr>\n",
       "      <th>3</th>\n",
       "      <td>2</td>\n",
       "      <td>89774</td>\n",
       "      <td>Boxing story</td>\n",
       "      <td>1445715207</td>\n",
       "    </tr>\n",
       "    <tr>\n",
       "      <th>4</th>\n",
       "      <td>2</td>\n",
       "      <td>89774</td>\n",
       "      <td>MMA</td>\n",
       "      <td>1445715200</td>\n",
       "    </tr>\n",
       "  </tbody>\n",
       "</table>\n",
       "</div>"
      ],
      "text/plain": [
       "   userId  movieId              tag   timestamp\n",
       "0       2    60756            funny  1445714994\n",
       "1       2    60756  Highly quotable  1445714996\n",
       "2       2    60756     will ferrell  1445714992\n",
       "3       2    89774     Boxing story  1445715207\n",
       "4       2    89774              MMA  1445715200"
      ]
     },
     "execution_count": 94,
     "metadata": {},
     "output_type": "execute_result"
    }
   ],
   "source": [
    "tags.head()"
   ]
  },
  {
   "cell_type": "code",
   "execution_count": 95,
   "metadata": {},
   "outputs": [
    {
     "data": {
      "text/html": [
       "<div>\n",
       "<style scoped>\n",
       "    .dataframe tbody tr th:only-of-type {\n",
       "        vertical-align: middle;\n",
       "    }\n",
       "\n",
       "    .dataframe tbody tr th {\n",
       "        vertical-align: top;\n",
       "    }\n",
       "\n",
       "    .dataframe thead th {\n",
       "        text-align: right;\n",
       "    }\n",
       "</style>\n",
       "<table border=\"1\" class=\"dataframe\">\n",
       "  <thead>\n",
       "    <tr style=\"text-align: right;\">\n",
       "      <th></th>\n",
       "      <th>movieId</th>\n",
       "      <th>imdbId</th>\n",
       "      <th>tmdbId</th>\n",
       "    </tr>\n",
       "  </thead>\n",
       "  <tbody>\n",
       "    <tr>\n",
       "      <th>0</th>\n",
       "      <td>1</td>\n",
       "      <td>114709</td>\n",
       "      <td>862.0</td>\n",
       "    </tr>\n",
       "    <tr>\n",
       "      <th>1</th>\n",
       "      <td>2</td>\n",
       "      <td>113497</td>\n",
       "      <td>8844.0</td>\n",
       "    </tr>\n",
       "    <tr>\n",
       "      <th>2</th>\n",
       "      <td>3</td>\n",
       "      <td>113228</td>\n",
       "      <td>15602.0</td>\n",
       "    </tr>\n",
       "    <tr>\n",
       "      <th>3</th>\n",
       "      <td>4</td>\n",
       "      <td>114885</td>\n",
       "      <td>31357.0</td>\n",
       "    </tr>\n",
       "    <tr>\n",
       "      <th>4</th>\n",
       "      <td>5</td>\n",
       "      <td>113041</td>\n",
       "      <td>11862.0</td>\n",
       "    </tr>\n",
       "  </tbody>\n",
       "</table>\n",
       "</div>"
      ],
      "text/plain": [
       "   movieId  imdbId   tmdbId\n",
       "0        1  114709    862.0\n",
       "1        2  113497   8844.0\n",
       "2        3  113228  15602.0\n",
       "3        4  114885  31357.0\n",
       "4        5  113041  11862.0"
      ]
     },
     "execution_count": 95,
     "metadata": {},
     "output_type": "execute_result"
    }
   ],
   "source": [
    "links.head()"
   ]
  },
  {
   "cell_type": "code",
   "execution_count": 196,
   "metadata": {},
   "outputs": [],
   "source": [
    "import re\n",
    "ratem= pd.merge(movies, ratings, on='movieId')\n",
    "#pd.merge(inter, dtag, how='left', left_on=['userId','movieId'], right_on = ['userId','movieId'])\n",
    "\n",
    "title= movies['title']\n",
    "genre= ratem['genres']\n",
    "rating= ratem['rating']\n",
    "\n",
    "nl= ls.LabeledSet(2)\n",
    "\n",
    "for i in range(len(tags)):\n",
    "    nl.addExample([(int)((re.findall(\"(\\d+)\",title[0]))[0]),len(genre[1].split(\"|\"))],1 if rating[i]>=2.5 else -1)\n",
    "\n",
    "train, test= split(nl, 0.6)"
   ]
  },
  {
   "cell_type": "code",
   "execution_count": 184,
   "metadata": {},
   "outputs": [],
   "source": [
    "N = 100\n",
    "nb = N\n",
    "kp = KernelPoly()\n",
    "k = range(1,(nb*2)+1,1)\n",
    "classstoch = ClassifierGradiantStochastique(2,0.00000001)\n",
    "classbatch = ClassifierGradiantBatch(2,0.000001)\n",
    "classstochk = ClassifierGradiantStochastiqueKernel(6,0.000000001,kp)\n",
    "classbatchk = ClassifierGradiantBatchKernel(6,0.0000000000001,kp)"
   ]
  },
  {
   "cell_type": "code",
   "execution_count": 185,
   "metadata": {},
   "outputs": [
    {
     "data": {
      "image/png": "[encoded data removed]",
      "text/plain": [
       "<Figure size 432x288 with 1 Axes>"
      ]
     },
     "metadata": {
      "needs_background": "light"
     },
     "output_type": "display_data"
    },
    {
     "data": {
      "image/png": "[encoded data removed]",
      "text/plain": [
       "<Figure size 432x288 with 1 Axes>"
      ]
     },
     "metadata": {
      "needs_background": "light"
     },
     "output_type": "display_data"
    }
   ],
   "source": [
    "res = np.zeros(nb*2)\n",
    "res2 = np.zeros(nb*2)\n",
    "resloss1 = np.zeros(nb*2)\n",
    "resloss2 = np.zeros(nb*2)\n",
    "\n",
    "for i in range(N):\n",
    "    classstoch.train(train)\n",
    "    res[i] = classstoch.accuracy(train)\n",
    "    res2[i] = classstoch.accuracy(test)\n",
    "    resloss1[i] = classstoch.loss(train)\n",
    "    resloss2[i] = classstoch.loss(test)\n",
    "    \n",
    "plt.plot(k, res, label = \"accuracy train\")\n",
    "plt.plot(k, res2, label = \"accuracy test\")\n",
    "plt.legend(loc = \"best\")\n",
    "plt.show()\n",
    "\n",
    "plt.plot(k, resloss1, label = \"loss train\")\n",
    "plt.plot(k, resloss2, label = \"loss test\")\n",
    "plt.legend(loc = \"best\")\n",
    "plt.show()"
   ]
  },
  {
   "cell_type": "code",
   "execution_count": null,
   "metadata": {},
   "outputs": [],
   "source": []
  }
 ],
 "metadata": {
  "kernelspec": {
   "display_name": "Python 3",
   "language": "python",
   "name": "python3"
  },
  "language_info": {
   "codemirror_mode": {
    "name": "ipython",
    "version": 3
   },
   "file_extension": ".py",
   "mimetype": "text/x-python",
   "name": "python",
   "nbconvert_exporter": "python",
   "pygments_lexer": "ipython3",
   "version": "3.7.2"
  }
 },
 "nbformat": 4,
 "nbformat_minor": 1
}
