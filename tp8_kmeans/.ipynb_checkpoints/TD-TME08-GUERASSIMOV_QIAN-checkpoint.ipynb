{
 "cells": [
  {
   "cell_type": "markdown",
   "metadata": {},
   "source": [
    "IA & Data science (3i026) -- 2018-2019\n",
    "--------\n",
    "*&copy; Equipe pédagogique: Manon Ansart, Vincent Guigue, Marie-Jeanne Lesot, Christophe Marsala, Olivier Schwander.*"
   ]
  },
  {
   "cell_type": "markdown",
   "metadata": {},
   "source": [
    "# TD-TME08: algorithme des k-moyennes\n",
    "\n",
    "L'objectif de ce TP est d'implémenter un nouvel algorithme d'apprentissage non-supervisé, l'algorithme des K-moyennes (cours 9)."
   ]
  },
  {
   "cell_type": "markdown",
   "metadata": {},
   "source": [
    "<font size=\"+1\" color=\"RED\">**[Q]**</font> **Indiquer dans la boîte ci-dessous vos noms et prénoms :**"
   ]
  },
  {
   "cell_type": "markdown",
   "metadata": {},
   "source": [
    "GUERASSIMOV Alexandre - QIAN Christian"
   ]
  },
  {
   "cell_type": "markdown",
   "metadata": {},
   "source": [
    "<font color=\"RED\" size=\"+1\">**[Q]**</font> **Renommer ce fichier ipython**\n",
    "\n",
    "Compléter le nom de ce notebook en rajoutant les noms des membres du binômes séparés par un tiret."
   ]
  },
  {
   "cell_type": "markdown",
   "metadata": {},
   "source": [
    "## Préparation\n",
    "\n",
    "Décompresser l'archive, elle crée le répertoire \"tp8\" qui contient un fichier ipython à ouvrir (ce fichier-ci) et un sous-répertoire \"data\" contenant les bases d'apprentissage utilisées dans ce TP."
   ]
  },
  {
   "cell_type": "code",
   "execution_count": 1,
   "metadata": {},
   "outputs": [],
   "source": [
    "import numpy as np\n",
    "import pandas as pd\n",
    "from datetime import datetime as dt\n",
    "import matplotlib.pyplot as plt\n",
    "import itertools\n",
    "import matplotlib.cm as cm\n",
    "%matplotlib inline  "
   ]
  },
  {
   "cell_type": "markdown",
   "metadata": {},
   "source": [
    "## Travail à réaliser\n",
    "Le travail à faire se décompose en 2 phases :\n",
    "- dans un premier temps, le travail porte sur la base d'apprentissage <code>base-2D.csv</code> qui contient des exemples décrits dans $R^2$. Ainsi, il est plus aisé de visualiser les résultats des fonctions à écrire ;\n",
    "- dans un second temps, les fonctions écrites dans la phase précédente sont à utiliser avec la base d'apprentissage \"base-Paris.csv\".\n",
    "\n",
    "**Attention**: vos fonctions doivent **dès leur création** pouvoir s'appliquer **quelle que soit la dimension** des exemples traités.\n",
    "\n",
    "\n",
    "### Important :\n",
    "Dans la suite de ce TP, on appelle:\n",
    "\n",
    "- \"base d'apprentissage\" le dataframe contenant l'ensemble des exemples d'apprentissage chargés par la commande précédente\n",
    "- \"base d'exemples\" : un dataframe contenant un ensemble d'exemples (remarque: la base d'apprentissage est le plus grand ensemble d'exemples possible)"
   ]
  },
  {
   "cell_type": "markdown",
   "metadata": {},
   "source": [
    "**Rappel**: avec un dataframe, il est facile d'accéder à tous les éléments d'une colonne, par exemple si <code>DF</code> est un dataframe, '<code>DF['X']</code> permet de récupérer une <code>Series</code> contenant toutes les lignes de la colonne de nom 'X'.\n",
    "On peut accéder à une ligne (ou un ensemble de ligne) très facilement:\n",
    "- <code>DF.iloc[0]</code> permet de récupérer la ligne d'indice 0 sous la forme d'une \"series\"\n",
    "- <code>DF.iloc[0:1]</code> permet de récupérer la ligne d'indice 0 sous la forme d'un dataframe (cettte instruction réalise un \"slicing\")\n",
    "- <code>DF.iloc[0:5]</code> permet de récupérer les lignes d'indice de 0 à 4\n",
    "\n",
    "etc."
   ]
  },
  {
   "cell_type": "markdown",
   "metadata": {},
   "source": [
    "### Données d'expérimentation\n",
    "\n",
    "Commencer par charger le fichier <code>base_2D.csv</code> qui permettra d'expérimenter vos fonctions. Dans ce qui suit, on note <code>data_2D</code> le dataframe qui contient les données de ce fichiers.\n"
   ]
  },
  {
   "cell_type": "code",
   "execution_count": 2,
   "metadata": {
    "scrolled": true
   },
   "outputs": [
    {
     "data": {
      "text/html": [
       "<div>\n",
       "<style scoped>\n",
       "    .dataframe tbody tr th:only-of-type {\n",
       "        vertical-align: middle;\n",
       "    }\n",
       "\n",
       "    .dataframe tbody tr th {\n",
       "        vertical-align: top;\n",
       "    }\n",
       "\n",
       "    .dataframe thead th {\n",
       "        text-align: right;\n",
       "    }\n",
       "</style>\n",
       "<table border=\"1\" class=\"dataframe\">\n",
       "  <thead>\n",
       "    <tr style=\"text-align: right;\">\n",
       "      <th></th>\n",
       "      <th>X</th>\n",
       "      <th>Y</th>\n",
       "    </tr>\n",
       "  </thead>\n",
       "  <tbody>\n",
       "    <tr>\n",
       "      <th>0</th>\n",
       "      <td>0.0</td>\n",
       "      <td>4.0</td>\n",
       "    </tr>\n",
       "    <tr>\n",
       "      <th>1</th>\n",
       "      <td>1.0</td>\n",
       "      <td>3.5</td>\n",
       "    </tr>\n",
       "    <tr>\n",
       "      <th>2</th>\n",
       "      <td>1.0</td>\n",
       "      <td>1.0</td>\n",
       "    </tr>\n",
       "    <tr>\n",
       "      <th>3</th>\n",
       "      <td>2.0</td>\n",
       "      <td>1.0</td>\n",
       "    </tr>\n",
       "    <tr>\n",
       "      <th>4</th>\n",
       "      <td>2.0</td>\n",
       "      <td>2.0</td>\n",
       "    </tr>\n",
       "  </tbody>\n",
       "</table>\n",
       "</div>"
      ],
      "text/plain": [
       "     X    Y\n",
       "0  0.0  4.0\n",
       "1  1.0  3.5\n",
       "2  1.0  1.0\n",
       "3  2.0  1.0\n",
       "4  2.0  2.0"
      ]
     },
     "execution_count": 2,
     "metadata": {},
     "output_type": "execute_result"
    }
   ],
   "source": [
    "data_2D = pd.read_csv(\"data/base-2D.csv\")\n",
    "data_2D.head()"
   ]
  },
  {
   "cell_type": "markdown",
   "metadata": {},
   "source": [
    "## Partie 1 : fonctions utiles (et retour vers la séance dernière)"
   ]
  },
  {
   "cell_type": "markdown",
   "metadata": {},
   "source": [
    "<font size=\"+1\" color=\"RED\">**[Q]**</font> (Ré)écrire la fonction <code>normalisation()</code> du TD-TME07: cette fonction doit prendre en argument un <code>DataFrame DF</code> et rendre **le dataframe** obtenu en normalisant chaque colonne de <code>DF</code> par la méthode vue en cours 8."
   ]
  },
  {
   "cell_type": "code",
   "execution_count": 3,
   "metadata": {},
   "outputs": [],
   "source": [
    "def normalisation(df):\n",
    "    return (df - df.min(axis=0)) / (df.max(axis=0) - df.min(axis=0))"
   ]
  },
  {
   "cell_type": "code",
   "execution_count": 4,
   "metadata": {
    "scrolled": true
   },
   "outputs": [
    {
     "name": "stdout",
     "output_type": "stream",
     "text": [
      "---> type de DataFnorm: <class 'pandas.core.frame.DataFrame'>\n"
     ]
    },
    {
     "data": {
      "text/plain": [
       "<matplotlib.collections.PathCollection at 0x10417310>"
      ]
     },
     "execution_count": 4,
     "metadata": {},
     "output_type": "execute_result"
    },
    {
     "data": {
      "image/png": "[encoded data removed]",
      "text/plain": [
       "<Figure size 432x288 with 1 Axes>"
      ]
     },
     "metadata": {
      "needs_background": "light"
     },
     "output_type": "display_data"
    }
   ],
   "source": [
    "# Affichage des points après normalisation:\n",
    "\n",
    "DataFnorm = normalisation(data_2D)\n",
    "print(\"---> type de DataFnorm:\",type(DataFnorm))\n",
    "\n",
    "plt.scatter(DataFnorm['X'],DataFnorm['Y'])"
   ]
  },
  {
   "cell_type": "markdown",
   "metadata": {},
   "source": [
    "<font size=\"+1\" color=\"RED\">**[Q]**</font> Réécrire la fonction <code>dist_vect()</code> qui calcule la distance euclidienne entre deux <code>Series</code>."
   ]
  },
  {
   "cell_type": "code",
   "execution_count": 5,
   "metadata": {},
   "outputs": [],
   "source": [
    "def dist_vect(e1, e2):\n",
    "    return np.sqrt(((e2 - e1)**2).sum())"
   ]
  },
  {
   "cell_type": "code",
   "execution_count": 6,
   "metadata": {},
   "outputs": [],
   "source": [
    "assert dist_vect(DataFnorm.iloc[0],DataFnorm.iloc[7]) == 0.6975174637562116"
   ]
  },
  {
   "cell_type": "markdown",
   "metadata": {},
   "source": [
    "### Calcul de centroides\n",
    "\n",
    "<font size=\"+1\" color=\"RED\">**[Q]**</font> Ecrire la fonction <code>centroide()</code> qui, étant donné un DataFrame représentant plusieurs exemples rend le centroide. Cette fonction doit rendre un DataFrame."
   ]
  },
  {
   "cell_type": "code",
   "execution_count": 7,
   "metadata": {},
   "outputs": [],
   "source": [
    "def centroide(df):\n",
    "    #if df.size() == 0:\n",
    "        #return df\n",
    "    return (df.sum() / df.shape[0]).to_frame().T"
   ]
  },
  {
   "cell_type": "code",
   "execution_count": 8,
   "metadata": {},
   "outputs": [
    {
     "data": {
      "text/html": [
       "<div>\n",
       "<style scoped>\n",
       "    .dataframe tbody tr th:only-of-type {\n",
       "        vertical-align: middle;\n",
       "    }\n",
       "\n",
       "    .dataframe tbody tr th {\n",
       "        vertical-align: top;\n",
       "    }\n",
       "\n",
       "    .dataframe thead th {\n",
       "        text-align: right;\n",
       "    }\n",
       "</style>\n",
       "<table border=\"1\" class=\"dataframe\">\n",
       "  <thead>\n",
       "    <tr style=\"text-align: right;\">\n",
       "      <th></th>\n",
       "      <th>X</th>\n",
       "      <th>Y</th>\n",
       "    </tr>\n",
       "  </thead>\n",
       "  <tbody>\n",
       "    <tr>\n",
       "      <th>0</th>\n",
       "      <td>0.510204</td>\n",
       "      <td>0.45</td>\n",
       "    </tr>\n",
       "  </tbody>\n",
       "</table>\n",
       "</div>"
      ],
      "text/plain": [
       "          X     Y\n",
       "0  0.510204  0.45"
      ]
     },
     "execution_count": 8,
     "metadata": {},
     "output_type": "execute_result"
    }
   ],
   "source": [
    "centroide(DataFnorm)"
   ]
  },
  {
   "cell_type": "markdown",
   "metadata": {},
   "source": [
    "## Partie 2: implémentation des k-moyennes"
   ]
  },
  {
   "cell_type": "markdown",
   "metadata": {},
   "source": [
    "### Inertie d'un cluster\n",
    "<font size=\"+1\" color=\"RED\">**[Q]**</font> Ecrire la fonction <code>inertie_cluster</code> qui, étant donné un DataFrame contenant un ensemble d'exemples, rend la valeur de l'inertie de cet ensemble telle qu'elle a été définie dans le cours."
   ]
  },
  {
   "cell_type": "code",
   "execution_count": 9,
   "metadata": {},
   "outputs": [],
   "source": [
    "def inertie_cluster(df):\n",
    "    c = centroide(df)\n",
    "    res = 0\n",
    "    for e in df.values:\n",
    "        res += (dist_vect(e, c)**2)\n",
    "    return res.sum()"
   ]
  },
  {
   "cell_type": "code",
   "execution_count": 10,
   "metadata": {},
   "outputs": [
    {
     "name": "stdout",
     "output_type": "stream",
     "text": [
      "inertie : 2.975991253644315\n"
     ]
    }
   ],
   "source": [
    "print(\"inertie :\",inertie_cluster(DataFnorm)) #2.975991253644316"
   ]
  },
  {
   "cell_type": "markdown",
   "metadata": {},
   "source": [
    "Dans ce qui suit, on appelle \"ensemble de centroides\" un dataframe contenant $K$ vecteurs de dimensions $p$.\n",
    "\n",
    "<font size=\"+1\" color=\"RED\">**[Q]**</font> Ecrire la fonction <code>initialisation()</code> qui étant donné un entier $K>1$ et une base d'apprentissage (sous la forme d'un DataFrame) de $n$ exemples rend un dataframe contenant $K$ exemples tirés aléatoirement dans la base.\n",
    "On fait l'hypothèse que $K\\leq n$.\n",
    "\n",
    "*Remarque*: étudier les fonctions de la librairie random de Python...\n"
   ]
  },
  {
   "cell_type": "code",
   "execution_count": 11,
   "metadata": {},
   "outputs": [],
   "source": [
    "def initialisation(K, df):\n",
    "    return df.sample(n=K, axis=0)"
   ]
  },
  {
   "cell_type": "code",
   "execution_count": 12,
   "metadata": {},
   "outputs": [
    {
     "data": {
      "text/html": [
       "<div>\n",
       "<style scoped>\n",
       "    .dataframe tbody tr th:only-of-type {\n",
       "        vertical-align: middle;\n",
       "    }\n",
       "\n",
       "    .dataframe tbody tr th {\n",
       "        vertical-align: top;\n",
       "    }\n",
       "\n",
       "    .dataframe thead th {\n",
       "        text-align: right;\n",
       "    }\n",
       "</style>\n",
       "<table border=\"1\" class=\"dataframe\">\n",
       "  <thead>\n",
       "    <tr style=\"text-align: right;\">\n",
       "      <th></th>\n",
       "      <th>X</th>\n",
       "      <th>Y</th>\n",
       "    </tr>\n",
       "  </thead>\n",
       "  <tbody>\n",
       "    <tr>\n",
       "      <th>13</th>\n",
       "      <td>1.000000</td>\n",
       "      <td>0.6</td>\n",
       "    </tr>\n",
       "    <tr>\n",
       "      <th>5</th>\n",
       "      <td>0.571429</td>\n",
       "      <td>0.6</td>\n",
       "    </tr>\n",
       "    <tr>\n",
       "      <th>10</th>\n",
       "      <td>0.714286</td>\n",
       "      <td>0.0</td>\n",
       "    </tr>\n",
       "  </tbody>\n",
       "</table>\n",
       "</div>"
      ],
      "text/plain": [
       "           X    Y\n",
       "13  1.000000  0.6\n",
       "5   0.571429  0.6\n",
       "10  0.714286  0.0"
      ]
     },
     "execution_count": 12,
     "metadata": {},
     "output_type": "execute_result"
    }
   ],
   "source": [
    "# Par exemple (mais vous ne devriez pas pouvoir retrouver exactement les mêmes !)\n",
    "Centroides_testb = initialisation(3,DataFnorm)\n",
    "Centroides_testb"
   ]
  },
  {
   "cell_type": "code",
   "execution_count": 13,
   "metadata": {},
   "outputs": [
    {
     "data": {
      "text/html": [
       "<div>\n",
       "<style scoped>\n",
       "    .dataframe tbody tr th:only-of-type {\n",
       "        vertical-align: middle;\n",
       "    }\n",
       "\n",
       "    .dataframe tbody tr th {\n",
       "        vertical-align: top;\n",
       "    }\n",
       "\n",
       "    .dataframe thead th {\n",
       "        text-align: right;\n",
       "    }\n",
       "</style>\n",
       "<table border=\"1\" class=\"dataframe\">\n",
       "  <thead>\n",
       "    <tr style=\"text-align: right;\">\n",
       "      <th></th>\n",
       "      <th>X</th>\n",
       "      <th>Y</th>\n",
       "    </tr>\n",
       "  </thead>\n",
       "  <tbody>\n",
       "    <tr>\n",
       "      <th>0</th>\n",
       "      <td>0.642857</td>\n",
       "      <td>0.0</td>\n",
       "    </tr>\n",
       "    <tr>\n",
       "      <th>1</th>\n",
       "      <td>0.142857</td>\n",
       "      <td>0.5</td>\n",
       "    </tr>\n",
       "    <tr>\n",
       "      <th>2</th>\n",
       "      <td>0.571429</td>\n",
       "      <td>1.0</td>\n",
       "    </tr>\n",
       "  </tbody>\n",
       "</table>\n",
       "</div>"
      ],
      "text/plain": [
       "          X    Y\n",
       "0  0.642857  0.0\n",
       "1  0.142857  0.5\n",
       "2  0.571429  1.0"
      ]
     },
     "execution_count": 13,
     "metadata": {},
     "output_type": "execute_result"
    }
   ],
   "source": [
    "#pour vérifier les résultats ultérieurs\n",
    "data = [[0.642857, 0.0], [0.142857,0.5], [0.571429,1.0]]\n",
    "Centroides_test = pd.DataFrame(data, columns = ['X', 'Y'])\n",
    "Centroides_test"
   ]
  },
  {
   "cell_type": "markdown",
   "metadata": {},
   "source": [
    "En utilisant l'option <code>\"color='blue'\"</code> ou <code>\"color='red'\"</code> de la fonction <code>scatter()<code>, on peut réaliser l'affichage de la base d'apprentissage (en bleu) et des centroides initiaux (en rouge)."
   ]
  },
  {
   "cell_type": "code",
   "execution_count": 14,
   "metadata": {},
   "outputs": [
    {
     "data": {
      "text/plain": [
       "<matplotlib.collections.PathCollection at 0x104989b0>"
      ]
     },
     "execution_count": 14,
     "metadata": {},
     "output_type": "execute_result"
    },
    {
     "data": {
      "image/png": "[encoded data removed]",
      "text/plain": [
       "<Figure size 432x288 with 1 Axes>"
      ]
     },
     "metadata": {
      "needs_background": "light"
     },
     "output_type": "display_data"
    }
   ],
   "source": [
    "plt.scatter(DataFnorm['X'],DataFnorm['Y'],color='blue')\n",
    "plt.scatter(Centroides_test['X'],Centroides_test['Y'],color='red')"
   ]
  },
  {
   "cell_type": "markdown",
   "metadata": {},
   "source": [
    "<font size=\"+1\" color=\"RED\">**[Q]**</font> Ecrire la fonction <code>plus_proche()</code> qui, étant donné un exemple et un dataframe contenant un ensemble de centroides, rend l'indice (dans le DataFrame) du centroide dont l'exemple est le plus proche.\n",
    "En cas d'égalité de distance, le centroide de plus petit indice est choisi."
   ]
  },
  {
   "cell_type": "code",
   "execution_count": 15,
   "metadata": {},
   "outputs": [],
   "source": [
    "def plus_proche(e, df):\n",
    "    #return df.apply(dist_vect, args=(e, )).to_frame().T#.idxmin(axis=0)\n",
    "    res = []\n",
    "    #for i in df.values:\n",
    "    #    res.append(dist_vect(e, i))\n",
    "    df.apply(lambda x : res.append(dist_vect(x,e)), axis=1)\n",
    "    return res.index(min(res))\n",
    "#plus_proche(DataFnorm.iloc[0],Centroides_test)"
   ]
  },
  {
   "cell_type": "code",
   "execution_count": 16,
   "metadata": {},
   "outputs": [
    {
     "name": "stdout",
     "output_type": "stream",
     "text": [
      "Exemple  0 : ( 0.0 , 0.6 ) est plus proche du centroide 1 : ( 0.142857 ,  0.5 )\n",
      "Exemple  1 : ( 0.14285714285714285 , 0.5 ) est plus proche du centroide 1 : ( 0.142857 ,  0.5 )\n",
      "Exemple  2 : ( 0.14285714285714285 , 0.0 ) est plus proche du centroide 0 : ( 0.642857 ,  0.0 )\n",
      "Exemple  3 : ( 0.2857142857142857 , 0.0 ) est plus proche du centroide 0 : ( 0.642857 ,  0.0 )\n",
      "Exemple  4 : ( 0.2857142857142857 , 0.2 ) est plus proche du centroide 1 : ( 0.142857 ,  0.5 )\n",
      "Exemple  5 : ( 0.5714285714285714 , 0.6 ) est plus proche du centroide 2 : ( 0.571429 ,  1.0 )\n",
      "Exemple  6 : ( 0.5714285714285714 , 0.8 ) est plus proche du centroide 2 : ( 0.571429 ,  1.0 )\n",
      "Exemple  7 : ( 0.5714285714285714 , 1.0 ) est plus proche du centroide 2 : ( 0.571429 ,  1.0 )\n",
      "Exemple  8 : ( 0.6428571428571429 , 0.0 ) est plus proche du centroide 0 : ( 0.642857 ,  0.0 )\n",
      "Exemple  9 : ( 0.6428571428571429 , 1.0 ) est plus proche du centroide 2 : ( 0.571429 ,  1.0 )\n",
      "Exemple  10 : ( 0.7142857142857143 , 0.0 ) est plus proche du centroide 0 : ( 0.642857 ,  0.0 )\n",
      "Exemple  11 : ( 0.7142857142857143 , 0.8 ) est plus proche du centroide 2 : ( 0.571429 ,  1.0 )\n",
      "Exemple  12 : ( 0.8571428571428571 , 0.2 ) est plus proche du centroide 0 : ( 0.642857 ,  0.0 )\n",
      "Exemple  13 : ( 1.0 , 0.6 ) est plus proche du centroide 2 : ( 0.571429 ,  1.0 )\n"
     ]
    }
   ],
   "source": [
    "for i in range(0,len(DataFnorm)):\n",
    "    pproche = plus_proche(DataFnorm.iloc[i],Centroides_test)\n",
    "    print(\"Exemple \",i,\": (\",DataFnorm.iloc[i]['X'],\",\", DataFnorm.iloc[i]['Y'], \")\",\\\n",
    "          \"est plus proche du centroide\",pproche, \": (\",Centroides_test.iloc[pproche]['X'],\", \", \\\n",
    "          Centroides_test.iloc[pproche]['Y'],\")\")"
   ]
  },
  {
   "cell_type": "markdown",
   "metadata": {},
   "source": [
    "### Matrice d'affectation\n",
    "\n",
    "Etant donné une base d'apprentissage, on peut représenter une partition de cette base en K clusters à l'aide d'une matrice U contenant n lignes (une par exemple) et K colonnes (une par cluster) telle que \n",
    "- U[i,j] = 1 si l'exemple i appartient au cluster j\n",
    "- U[i,j] = 0 si l'exemple i n'appartient pas au cluster j\n",
    "- un exemple appartient à un et un seul cluster\n",
    "- un cluster contient au moins un exemple\n",
    "\n",
    "On appelle **matrice d'affectation** une telle matrice U.\n"
   ]
  },
  {
   "cell_type": "markdown",
   "metadata": {},
   "source": [
    "<font size=\"+1\" color=\"RED\">**[Q]**</font> Donner une expression mathématique (pas du Python) des 2 dernières contraintes que vérifie une matrice d'affectation."
   ]
  },
  {
   "cell_type": "markdown",
   "metadata": {},
   "source": [
    "Soient J l'ensemble des clusters et I l'ensemble des exemples\n",
    "\n",
    "Un exemple appartient à un et un seul cluster:\n",
    "$$\n",
    "\\forall i \\in j, j\\in J, i \\in I, \\not\\exists j' \\in J, i \\in j', j' \\ne j   \n",
    "$$\n",
    "\n",
    "Un cluster contient au moins un exemple:\n",
    "$$\n",
    "\\forall j \\in J, \\exists i \\in j, i \\in I, i \\ne \\emptyset\n",
    "$$"
   ]
  },
  {
   "cell_type": "markdown",
   "metadata": {},
   "source": [
    "### Implémentation en Python\n",
    "Nous utilisons un dictionnaire pour représenter d'une matrice d'affectation: \n",
    "- les clés de ce dictionnaire correspondent aux $K$ indices des clusters\n",
    "- les valeurs correspondent à des listes d'indices d'exemples (leur indice dans la base d'apprentissage)\n",
    "\n",
    "Dans tout ce qui suit, une \"matrice d'affectation\" sera un tel dictionnaire.\n"
   ]
  },
  {
   "cell_type": "markdown",
   "metadata": {},
   "source": [
    "<font size=\"+1\" color=\"RED\">**[Q]**</font> Ecrire la fonction <code>affecte_cluster()</code> qui, étant donné une base d'apprentissage et un ensemble de centroïdes, rend la matrice d'affectation des exemples de la base aux clusters représentés par chaque centroïde."
   ]
  },
  {
   "cell_type": "code",
   "execution_count": 17,
   "metadata": {},
   "outputs": [],
   "source": [
    "def affecte_cluster(train, c):\n",
    "    dico = dict()\n",
    "    for i in range(len(c.index)):\n",
    "        dico[i] = []\n",
    "    for t in range(len(train.index)):\n",
    "        pp = plus_proche(train.iloc[t],c)\n",
    "        dico[pp].append(t)\n",
    "    return dico"
   ]
  },
  {
   "cell_type": "code",
   "execution_count": 18,
   "metadata": {},
   "outputs": [
    {
     "data": {
      "text/plain": [
       "{0: [2, 3, 8, 10, 12], 1: [0, 1, 4], 2: [5, 6, 7, 9, 11, 13]}"
      ]
     },
     "execution_count": 18,
     "metadata": {},
     "output_type": "execute_result"
    }
   ],
   "source": [
    "DictAffect = affecte_cluster(DataFnorm, Centroides_test)\n",
    "DictAffect"
   ]
  },
  {
   "cell_type": "markdown",
   "metadata": {},
   "source": [
    "### Ensemble des centroides\n",
    "Grâce à la matrice d'affectation, on peut maintenant trouver les nouveaux centroides. Ceux-ci sont déterminés en prenant les moyennes des ensembles des exemples qui sont affectés au même cluster.\n",
    "\n",
    "<font size=\"+1\" color=\"RED\">**[Q]**</font> Ecrire la fonction <code>nouveaux_centroides()</code> qui, étant donné une base d'apprentissage et une matrice d'affectation, rend l'ensemble des nouveaux centroides obtenus."
   ]
  },
  {
   "cell_type": "code",
   "execution_count": 38,
   "metadata": {},
   "outputs": [],
   "source": [
    "def nouveaux_centroides(train, m):\n",
    "    l = []\n",
    "    for k in m.keys():\n",
    "        cd = train.iloc[m[k], :]\n",
    "        moys = cd.mean()\n",
    "        l.append(moys)\n",
    "        #x = cd['X'].mean()\n",
    "        #y = cd['Y'].mean()\n",
    "        #l.append([x,y])\n",
    "    return pd.DataFrame(l, columns = list(train))"
   ]
  },
  {
   "cell_type": "code",
   "execution_count": 40,
   "metadata": {},
   "outputs": [
    {
     "data": {
      "text/html": [
       "<div>\n",
       "<style scoped>\n",
       "    .dataframe tbody tr th:only-of-type {\n",
       "        vertical-align: middle;\n",
       "    }\n",
       "\n",
       "    .dataframe tbody tr th {\n",
       "        vertical-align: top;\n",
       "    }\n",
       "\n",
       "    .dataframe thead th {\n",
       "        text-align: right;\n",
       "    }\n",
       "</style>\n",
       "<table border=\"1\" class=\"dataframe\">\n",
       "  <thead>\n",
       "    <tr style=\"text-align: right;\">\n",
       "      <th></th>\n",
       "      <th>X</th>\n",
       "      <th>Y</th>\n",
       "    </tr>\n",
       "  </thead>\n",
       "  <tbody>\n",
       "    <tr>\n",
       "      <th>0</th>\n",
       "      <td>0.528571</td>\n",
       "      <td>0.040000</td>\n",
       "    </tr>\n",
       "    <tr>\n",
       "      <th>1</th>\n",
       "      <td>0.142857</td>\n",
       "      <td>0.433333</td>\n",
       "    </tr>\n",
       "    <tr>\n",
       "      <th>2</th>\n",
       "      <td>0.678571</td>\n",
       "      <td>0.800000</td>\n",
       "    </tr>\n",
       "  </tbody>\n",
       "</table>\n",
       "</div>"
      ],
      "text/plain": [
       "          X         Y\n",
       "0  0.528571  0.040000\n",
       "1  0.142857  0.433333\n",
       "2  0.678571  0.800000"
      ]
     },
     "execution_count": 40,
     "metadata": {},
     "output_type": "execute_result"
    }
   ],
   "source": [
    "nouveaux_centroides(DataFnorm, DictAffect)"
   ]
  },
  {
   "cell_type": "markdown",
   "metadata": {},
   "source": [
    "### Inertie globale d'une partition\n",
    "\n",
    "<font size=\"+1\" color=\"RED\">**[Q]**</font> En utilisant la fonction <code>inertie_cluster()</code>, écrire la fonction <code>inertie_globale()</code> qui, étant donné une base d'apprentissage et une matrice d'affectation, rend la valeur de l'inertie globale du partitionnement correspondant.\n"
   ]
  },
  {
   "cell_type": "code",
   "execution_count": 41,
   "metadata": {},
   "outputs": [],
   "source": [
    "def inertie_globale(train, m):\n",
    "    res = 0\n",
    "    for k in m.keys():\n",
    "        cd = train.iloc[m[k], :]\n",
    "        res += inertie_cluster(cd)\n",
    "    return res"
   ]
  },
  {
   "cell_type": "code",
   "execution_count": 42,
   "metadata": {},
   "outputs": [
    {
     "data": {
      "text/plain": [
       "0.8230544217687075"
      ]
     },
     "execution_count": 42,
     "metadata": {},
     "output_type": "execute_result"
    }
   ],
   "source": [
    "inertie_globale(DataFnorm,DictAffect)"
   ]
  },
  {
   "cell_type": "markdown",
   "metadata": {},
   "source": [
    "### Algorithme des K-moyennes\n",
    "\n",
    "<font size=\"+1\" color=\"RED\">**[Q]**</font> En utilisant les fonctions précédentes, implémenter l'algorithme des K-moyennes.\n",
    "Pour cela, écrire une fonction <code>kmoyennes()</code> qui prend en argument un entier $K>1$, une base d'apprentissage, ainsi que deux nombres: un réel *epsilon*$>0$ et un entier *iter_max*$>1$, et qui rend un ensemble de centroides et une matrice d'affectation.\n",
    "\n",
    "Le réel *epsilon* servira de critère de convergence, et l'entier *iter_max* sera utilisé pour fixer un nombre d'itérations maximale servant à arrêter le calcul."
   ]
  },
  {
   "cell_type": "code",
   "execution_count": 43,
   "metadata": {},
   "outputs": [],
   "source": [
    "def kmoyennes(K, train, e, iter_max):\n",
    "    p = initialisation(K, train)\n",
    "    m = affecte_cluster(train, p)\n",
    "    p = nouveaux_centroides(train, m)\n",
    "    j = inertie_globale(train,m)\n",
    "    for i in range(iter_max):\n",
    "        p2 = initialisation(K, train)\n",
    "        m2 = affecte_cluster(train, p2)\n",
    "        p2 = nouveaux_centroides(train, m2)\n",
    "        j2 = inertie_globale(train, m2)\n",
    "        dif = np.abs(j2 - j)\n",
    "        print(\"iteration \", i+1 ,\" Inertie : \", j2, \" Difference:\", dif)\n",
    "        if dif < e:\n",
    "            break\n",
    "        p = p2\n",
    "        m = m2\n",
    "        j = j2\n",
    "    return p2, m2"
   ]
  },
  {
   "cell_type": "code",
   "execution_count": 44,
   "metadata": {},
   "outputs": [
    {
     "name": "stdout",
     "output_type": "stream",
     "text": [
      "iteration  1  Inertie :  1.6188338192419824  Difference: 0.2267419825072885\n",
      "iteration  2  Inertie :  1.392091836734694  Difference: 0.2267419825072885\n",
      "iteration  3  Inertie :  1.427942176870748  Difference: 0.03585034013605415\n",
      "Affichage des centres:            X         Y\n",
      "0  0.526786  0.737500\n",
      "1  0.488095  0.066667\n",
      "Affichage des affectations:  {0: [0, 1, 5, 6, 7, 9, 11, 13], 1: [2, 3, 4, 8, 10, 12]}\n"
     ]
    }
   ],
   "source": [
    "les_centres, l_affectation = kmoyennes(2, DataFnorm, 0.05, 100)\n",
    "\n",
    "print(\"Affichage des centres: \",les_centres)\n",
    "print(\"Affichage des affectations: \",l_affectation)"
   ]
  },
  {
   "cell_type": "code",
   "execution_count": 45,
   "metadata": {},
   "outputs": [
    {
     "name": "stdout",
     "output_type": "stream",
     "text": [
      "iteration  1  Inertie :  0.7812585034013606  Difference: 0.29736880466472293\n",
      "iteration  2  Inertie :  0.7812585034013606  Difference: 0.0\n",
      "Affichage des centres:            X         Y\n",
      "0  0.678571  0.800000\n",
      "1  0.071429  0.550000\n",
      "2  0.488095  0.066667\n",
      "Affichage des affectations:  {0: [5, 6, 7, 9, 11, 13], 1: [0, 1], 2: [2, 3, 4, 8, 10, 12]}\n"
     ]
    }
   ],
   "source": [
    "les_centres, l_affectation = kmoyennes(3, DataFnorm, 0.05, 100)\n",
    "\n",
    "print(\"Affichage des centres: \",les_centres)\n",
    "print(\"Affichage des affectations: \",l_affectation)"
   ]
  },
  {
   "cell_type": "markdown",
   "metadata": {},
   "source": [
    "On peut réaliser un affichage couleur des centroïdes trouvés:"
   ]
  },
  {
   "cell_type": "code",
   "execution_count": 46,
   "metadata": {},
   "outputs": [
    {
     "data": {
      "text/plain": [
       "<matplotlib.collections.PathCollection at 0x1a16d0>"
      ]
     },
     "execution_count": 46,
     "metadata": {},
     "output_type": "execute_result"
    },
    {
     "data": {
      "image/png": "[encoded data removed]",
      "text/plain": [
       "<Figure size 432x288 with 1 Axes>"
      ]
     },
     "metadata": {
      "needs_background": "light"
     },
     "output_type": "display_data"
    }
   ],
   "source": [
    "plt.scatter(DataFnorm['X'],DataFnorm['Y'],color='b')\n",
    "plt.scatter(les_centres['X'],les_centres['Y'],color='r',marker='x')"
   ]
  },
  {
   "cell_type": "markdown",
   "metadata": {},
   "source": [
    "<font size=\"+1\" color=\"RED\">**[Q]**</font> Ecrire la fonction <code>affiche_resultat()</code> qui permet d'afficher le résultat de l'algorithme en utilisant des couleurs différentes pour les clusters trouvés (pour faire simple, on peut ne considèrer que le cas où K vaut 3).\n",
    "\n",
    "*Remarque*: La librairie matplotlib permet de manipuler aisément des couleurs:\n",
    "http://matplotlib.org/api/cm_api.html"
   ]
  },
  {
   "cell_type": "code",
   "execution_count": 47,
   "metadata": {},
   "outputs": [],
   "source": [
    "def affiche_resultat(df, c, m):\n",
    "    colors = cm.rainbow(np.linspace(0, 1, len(m.keys())+1))\n",
    "    #colors = itertools.cycle([\"b\", \"c\", \"g\"])\n",
    "    for i in m.keys():\n",
    "        x = []\n",
    "        y = []\n",
    "        tab = m[i]\n",
    "        for e in tab:\n",
    "            stock = df.iloc[e]\n",
    "            x.append(stock['X'])\n",
    "            y.append(stock['Y'])\n",
    "        plt.scatter(x, y, color=colors[i])\n",
    "    plt.scatter(c['X'],c['Y'],color=colors[len(m.keys())],marker='x')\n",
    "    plt.show()"
   ]
  },
  {
   "cell_type": "code",
   "execution_count": 48,
   "metadata": {},
   "outputs": [
    {
     "data": {
      "image/png": "[encoded data removed]",
      "text/plain": [
       "<Figure size 432x288 with 1 Axes>"
      ]
     },
     "metadata": {
      "needs_background": "light"
     },
     "output_type": "display_data"
    }
   ],
   "source": [
    "affiche_resultat(DataFnorm,les_centres,l_affectation)"
   ]
  },
  {
   "cell_type": "markdown",
   "metadata": {},
   "source": [
    "### Expérimentations\n",
    "\n",
    "<font size=\"+1\" color=\"RED\">**[Q]**</font> Expérimenter l'algorithme des k-moyennes sur les données. Etudier l'impact du choix de $K$ sur l'inertie globale finale. Faire de même en relançant plusieurs fois l'algorithme avec la même valeur de $K$, en modifiant la valeur de epsilon ou de max_iter, etc."
   ]
  },
  {
   "cell_type": "code",
   "execution_count": 49,
   "metadata": {},
   "outputs": [
    {
     "name": "stdout",
     "output_type": "stream",
     "text": [
      "iteration  1  Inertie :  1.427942176870748  Difference: 0.043952866861030504\n"
     ]
    },
    {
     "data": {
      "image/png": "[encoded data removed]",
      "text/plain": [
       "<Figure size 432x288 with 1 Axes>"
      ]
     },
     "metadata": {
      "needs_background": "light"
     },
     "output_type": "display_data"
    }
   ],
   "source": [
    "les_centres, l_affectation = kmoyennes(2, DataFnorm, 0.05, 100)\n",
    "affiche_resultat(DataFnorm,les_centres,l_affectation)"
   ]
  },
  {
   "cell_type": "code",
   "execution_count": 50,
   "metadata": {},
   "outputs": [
    {
     "name": "stdout",
     "output_type": "stream",
     "text": [
      "iteration  1  Inertie :  0.5674761904761905  Difference: 0.19058843537414955\n",
      "iteration  2  Inertie :  0.7088945578231293  Difference: 0.1414183673469388\n",
      "iteration  3  Inertie :  0.5889727891156463  Difference: 0.11992176870748295\n",
      "iteration  4  Inertie :  0.37619047619047624  Difference: 0.21278231292517008\n",
      "iteration  5  Inertie :  0.37619047619047624  Difference: 0.0\n"
     ]
    },
    {
     "data": {
      "image/png": "[encoded data removed]",
      "text/plain": [
       "<Figure size 432x288 with 1 Axes>"
      ]
     },
     "metadata": {
      "needs_background": "light"
     },
     "output_type": "display_data"
    }
   ],
   "source": [
    "les_centres, l_affectation = kmoyennes(5, DataFnorm, 0.05, 100)\n",
    "affiche_resultat(DataFnorm,les_centres,l_affectation)"
   ]
  },
  {
   "cell_type": "code",
   "execution_count": 51,
   "metadata": {},
   "outputs": [
    {
     "name": "stdout",
     "output_type": "stream",
     "text": [
      "iteration  1  Inertie :  0.10350340136054423  Difference: 0.09656462585034009\n",
      "iteration  2  Inertie :  0.17156462585034013  Difference: 0.0680612244897959\n",
      "iteration  3  Inertie :  0.27170068027210886  Difference: 0.10013605442176873\n",
      "iteration  4  Inertie :  0.5283163265306122  Difference: 0.25661564625850336\n",
      "iteration  5  Inertie :  0.4527210884353741  Difference: 0.0755952380952381\n",
      "iteration  6  Inertie :  0.15373469387755104  Difference: 0.29898639455782305\n",
      "iteration  7  Inertie :  0.1901360544217687  Difference: 0.036401360544217665\n"
     ]
    },
    {
     "data": {
      "image/png": "[encoded data removed]",
      "text/plain": [
       "<Figure size 432x288 with 1 Axes>"
      ]
     },
     "metadata": {
      "needs_background": "light"
     },
     "output_type": "display_data"
    }
   ],
   "source": [
    "les_centres, l_affectation = kmoyennes(8, DataFnorm, 0.05, 100)\n",
    "affiche_resultat(DataFnorm,les_centres,l_affectation)"
   ]
  },
  {
   "cell_type": "code",
   "execution_count": 52,
   "metadata": {},
   "outputs": [
    {
     "name": "stdout",
     "output_type": "stream",
     "text": [
      "iteration  1  Inertie :  0.23425170068027215  Difference: 0.15836734693877558\n",
      "iteration  2  Inertie :  0.04537414965986395  Difference: 0.1888775510204082\n",
      "iteration  3  Inertie :  0.053027210884353755  Difference: 0.007653061224489804\n"
     ]
    },
    {
     "data": {
      "image/png": "[encoded data removed]",
      "text/plain": [
       "<Figure size 432x288 with 1 Axes>"
      ]
     },
     "metadata": {
      "needs_background": "light"
     },
     "output_type": "display_data"
    }
   ],
   "source": [
    "les_centres, l_affectation = kmoyennes(10, DataFnorm, 0.05, 100)\n",
    "affiche_resultat(DataFnorm,les_centres,l_affectation)"
   ]
  },
  {
   "cell_type": "markdown",
   "metadata": {},
   "source": [
    "Ainsi, augmenter la valeur de K réduit fortement l'intertie globale finale, mais les groupes s'en retrouvent décousues ; tandis que la diminuer permet de former des groupes cohérents, mais avec une inertie globale finale élevée."
   ]
  },
  {
   "cell_type": "code",
   "execution_count": 53,
   "metadata": {},
   "outputs": [
    {
     "name": "stdout",
     "output_type": "stream",
     "text": [
      "iteration  1  Inertie :  1.0401919339164236  Difference: 0.014023809523809883\n",
      "iteration  2  Inertie :  1.6145204081632654  Difference: 0.5743284742468417\n",
      "iteration  3  Inertie :  0.8230544217687077  Difference: 0.7914659863945577\n",
      "iteration  4  Inertie :  1.304360544217687  Difference: 0.4813061224489794\n",
      "iteration  5  Inertie :  0.9323935860058309  Difference: 0.3719669582118562\n",
      "iteration  6  Inertie :  1.7567142857142857  Difference: 0.8243206997084548\n",
      "iteration  7  Inertie :  1.2269727891156461  Difference: 0.5297414965986396\n",
      "iteration  8  Inertie :  0.7199251700680271  Difference: 0.507047619047619\n",
      "iteration  9  Inertie :  0.9920092322643344  Difference: 0.2720840621963072\n",
      "iteration  10  Inertie :  0.8923163265306122  Difference: 0.09969290573372214\n",
      "iteration  11  Inertie :  0.9584387755102041  Difference: 0.06612244897959185\n",
      "iteration  12  Inertie :  1.0542157434402335  Difference: 0.09577696793002943\n",
      "iteration  13  Inertie :  1.2269727891156461  Difference: 0.1727570456754126\n",
      "iteration  14  Inertie :  0.7199251700680271  Difference: 0.507047619047619\n",
      "iteration  15  Inertie :  1.1395238095238094  Difference: 0.41959863945578224\n",
      "iteration  16  Inertie :  1.2003109815354716  Difference: 0.06078717201166217\n",
      "iteration  17  Inertie :  1.2567857142857146  Difference: 0.05647473275024306\n",
      "iteration  18  Inertie :  0.7199251700680273  Difference: 0.5368605442176874\n",
      "iteration  19  Inertie :  0.7199251700680271  Difference: 1.1102230246251565e-16\n"
     ]
    },
    {
     "data": {
      "image/png": "[encoded data removed]",
      "text/plain": [
       "<Figure size 432x288 with 1 Axes>"
      ]
     },
     "metadata": {
      "needs_background": "light"
     },
     "output_type": "display_data"
    }
   ],
   "source": [
    "les_centres, l_affectation = kmoyennes(3, DataFnorm, 0.00001, 100)\n",
    "affiche_resultat(DataFnorm,les_centres,l_affectation)"
   ]
  },
  {
   "cell_type": "code",
   "execution_count": 54,
   "metadata": {},
   "outputs": [
    {
     "name": "stdout",
     "output_type": "stream",
     "text": [
      "iteration  1  Inertie :  0.7199251700680271  Difference: 0.0\n"
     ]
    },
    {
     "data": {
      "image/png": "[encoded data removed]",
      "text/plain": [
       "<Figure size 432x288 with 1 Axes>"
      ]
     },
     "metadata": {
      "needs_background": "light"
     },
     "output_type": "display_data"
    }
   ],
   "source": [
    "les_centres, l_affectation = kmoyennes(3, DataFnorm, 0.9, 100)\n",
    "affiche_resultat(DataFnorm,les_centres,l_affectation)"
   ]
  },
  {
   "cell_type": "markdown",
   "metadata": {},
   "source": [
    "Après multiples essais, on s'aperçoit qu'entre un épsilon elevé est un epsilon faible, il n'y a pas une grande diffrérence entre les valeurs finales d'interties - même si en général, avec un epsilon elevé, l'intertie est légèrement plus élevée quand même, mais pas toujours. En revanche, avec un epsilon faible, on remarque le nombre d'itérations nécessaires avant d'obtenir les résultats finaux est beaucoup plus grand qu'avec un epsilon elevé."
   ]
  },
  {
   "cell_type": "code",
   "execution_count": 55,
   "metadata": {},
   "outputs": [
    {
     "name": "stdout",
     "output_type": "stream",
     "text": [
      "iteration  1  Inertie :  0.9215816326530613  Difference: 0.5813151927437641\n",
      "iteration  2  Inertie :  1.2763877551020408  Difference: 0.3548061224489796\n",
      "iteration  3  Inertie :  1.5028968253968253  Difference: 0.2265090702947845\n",
      "iteration  4  Inertie :  0.9095408163265305  Difference: 0.5933560090702948\n",
      "iteration  5  Inertie :  0.7812585034013606  Difference: 0.1282823129251699\n",
      "iteration  6  Inertie :  0.9323935860058309  Difference: 0.15113508260447028\n",
      "iteration  7  Inertie :  1.2269727891156463  Difference: 0.29457920310981545\n",
      "iteration  8  Inertie :  1.2141938775510204  Difference: 0.012778911564625961\n"
     ]
    },
    {
     "data": {
      "image/png": "[encoded data removed]",
      "text/plain": [
       "<Figure size 432x288 with 1 Axes>"
      ]
     },
     "metadata": {
      "needs_background": "light"
     },
     "output_type": "display_data"
    }
   ],
   "source": [
    "les_centres, l_affectation = kmoyennes(3, DataFnorm, 0.05, 200)\n",
    "affiche_resultat(DataFnorm,les_centres,l_affectation)"
   ]
  },
  {
   "cell_type": "code",
   "execution_count": 56,
   "metadata": {},
   "outputs": [
    {
     "name": "stdout",
     "output_type": "stream",
     "text": [
      "iteration  1  Inertie :  0.7759183673469389  Difference: 0.1825204081632651\n"
     ]
    },
    {
     "data": {
      "image/png": "[encoded data removed]",
      "text/plain": [
       "<Figure size 432x288 with 1 Axes>"
      ]
     },
     "metadata": {
      "needs_background": "light"
     },
     "output_type": "display_data"
    }
   ],
   "source": [
    "les_centres, l_affectation = kmoyennes(3, DataFnorm, 0.05, 1)\n",
    "affiche_resultat(DataFnorm,les_centres,l_affectation)"
   ]
  },
  {
   "cell_type": "markdown",
   "metadata": {},
   "source": [
    "Augmenter le nombre d'itérations maximum ne change rien vu qu'on dépasse rarement les 10 itérations avec les valeurs de bases utilisées pour epsilon et K. En revanche, en l'abaissant, on remarque que les groupes qui se forment ne sont pas toujours les plus optimaux mais une certaine cohérence demeure : il arrive par exemple qu'un point est affecté à un groupe dont le centroide est assez éloigné, malgré la présence d'un centroide plus proche ; mais sans pour autant trouver de points entourés par des points d'autres groupes. L'inertie globale finale se retrouve généralement plus elevée avec un nombre d'itérations bas qu'avec un grand nombre d'itérations."
   ]
  },
  {
   "cell_type": "markdown",
   "metadata": {
    "collapsed": true
   },
   "source": [
    "## Application à des données réelles\n",
    "\n",
    "- Appliquer l'algorithme aux données concernant les déchets de la ville de Paris (qui sont fournies dans le répertoire data)\n",
    "- Trouver des bases d'apprentissage intéressantes sur http://opendata.paris.fr/\n",
    "\n",
    "\n",
    "Dans les 2 cas, étudier la base et les clusters qui peuvent être mis en évidence. En particulier, regarder la variation de l'inertie globale des clusters obtenus en fonction de la valeur de $K$ choisie.\n",
    "\n",
    "\n",
    "**Attention**: il faudra certainement préparer cette base afin de pouvoir appliquer l'algorithme de clustering: en particulier, certaines colonnes (Granularité, Total...) ne sont pas à utilisables dans le calcul des distances, il faudra donc les éliminer. Il faut aussi prévoir de conserver le nom de l'arrondissement afin de pouvoir à la fin analyser le résultat du clustering."
   ]
  },
  {
   "cell_type": "code",
   "execution_count": 57,
   "metadata": {},
   "outputs": [
    {
     "data": {
      "text/html": [
       "<div>\n",
       "<style scoped>\n",
       "    .dataframe tbody tr th:only-of-type {\n",
       "        vertical-align: middle;\n",
       "    }\n",
       "\n",
       "    .dataframe tbody tr th {\n",
       "        vertical-align: top;\n",
       "    }\n",
       "\n",
       "    .dataframe thead th {\n",
       "        text-align: right;\n",
       "    }\n",
       "</style>\n",
       "<table border=\"1\" class=\"dataframe\">\n",
       "  <thead>\n",
       "    <tr style=\"text-align: right;\">\n",
       "      <th></th>\n",
       "      <th>Granularité</th>\n",
       "      <th>janv-11</th>\n",
       "      <th>févr-11</th>\n",
       "      <th>mars-11</th>\n",
       "      <th>avr-11</th>\n",
       "      <th>mai-11</th>\n",
       "      <th>juin-11</th>\n",
       "      <th>juil-11</th>\n",
       "      <th>août-11</th>\n",
       "      <th>sept-11</th>\n",
       "      <th>oct-11</th>\n",
       "      <th>nov-11</th>\n",
       "      <th>déc-11</th>\n",
       "      <th>Total arrondissement 2011</th>\n",
       "    </tr>\n",
       "  </thead>\n",
       "  <tbody>\n",
       "    <tr>\n",
       "      <th>0</th>\n",
       "      <td>75007</td>\n",
       "      <td>288,1</td>\n",
       "      <td>249,1</td>\n",
       "      <td>303,7</td>\n",
       "      <td>255,8</td>\n",
       "      <td>287,8</td>\n",
       "      <td>288,4</td>\n",
       "      <td>249,6</td>\n",
       "      <td>185,6</td>\n",
       "      <td>281,3</td>\n",
       "      <td>284,3</td>\n",
       "      <td>296,4</td>\n",
       "      <td>301,1</td>\n",
       "      <td>NaN</td>\n",
       "    </tr>\n",
       "    <tr>\n",
       "      <th>1</th>\n",
       "      <td>75013</td>\n",
       "      <td>596,5</td>\n",
       "      <td>540,2</td>\n",
       "      <td>618,5</td>\n",
       "      <td>558,6</td>\n",
       "      <td>595,9</td>\n",
       "      <td>581,7</td>\n",
       "      <td>539,2</td>\n",
       "      <td>490,5</td>\n",
       "      <td>597,8</td>\n",
       "      <td>575,7</td>\n",
       "      <td>580,5</td>\n",
       "      <td>601,4</td>\n",
       "      <td>NaN</td>\n",
       "    </tr>\n",
       "    <tr>\n",
       "      <th>2</th>\n",
       "      <td>75014</td>\n",
       "      <td>464</td>\n",
       "      <td>404,9</td>\n",
       "      <td>465,3</td>\n",
       "      <td>420,2</td>\n",
       "      <td>405,3</td>\n",
       "      <td>446</td>\n",
       "      <td>412,9</td>\n",
       "      <td>348,7</td>\n",
       "      <td>449,3</td>\n",
       "      <td>446,3</td>\n",
       "      <td>453,1</td>\n",
       "      <td>484,3</td>\n",
       "      <td>NaN</td>\n",
       "    </tr>\n",
       "    <tr>\n",
       "      <th>3</th>\n",
       "      <td>75015</td>\n",
       "      <td>903,1</td>\n",
       "      <td>801,4</td>\n",
       "      <td>937,5</td>\n",
       "      <td>835,5</td>\n",
       "      <td>876,8</td>\n",
       "      <td>888,6</td>\n",
       "      <td>628,8</td>\n",
       "      <td>674,8</td>\n",
       "      <td>913,3</td>\n",
       "      <td>878,7</td>\n",
       "      <td>895,7</td>\n",
       "      <td>935,8</td>\n",
       "      <td>NaN</td>\n",
       "    </tr>\n",
       "    <tr>\n",
       "      <th>4</th>\n",
       "      <td>75017</td>\n",
       "      <td>451,1</td>\n",
       "      <td>412,4</td>\n",
       "      <td>491,6</td>\n",
       "      <td>422,7</td>\n",
       "      <td>363,6</td>\n",
       "      <td>446,4</td>\n",
       "      <td>409,5</td>\n",
       "      <td>332,3</td>\n",
       "      <td>416,4</td>\n",
       "      <td>451,5</td>\n",
       "      <td>475,1</td>\n",
       "      <td>513,5</td>\n",
       "      <td>NaN</td>\n",
       "    </tr>\n",
       "    <tr>\n",
       "      <th>5</th>\n",
       "      <td>75018</td>\n",
       "      <td>427</td>\n",
       "      <td>394,3</td>\n",
       "      <td>455,2</td>\n",
       "      <td>419,9</td>\n",
       "      <td>458,3</td>\n",
       "      <td>456,6</td>\n",
       "      <td>418</td>\n",
       "      <td>361,8</td>\n",
       "      <td>464,6</td>\n",
       "      <td>453,4</td>\n",
       "      <td>478,5</td>\n",
       "      <td>470,9</td>\n",
       "      <td>NaN</td>\n",
       "    </tr>\n",
       "    <tr>\n",
       "      <th>6</th>\n",
       "      <td>75019</td>\n",
       "      <td>323,4</td>\n",
       "      <td>287,3</td>\n",
       "      <td>350,3</td>\n",
       "      <td>317,8</td>\n",
       "      <td>336,9</td>\n",
       "      <td>340,7</td>\n",
       "      <td>311,6</td>\n",
       "      <td>281</td>\n",
       "      <td>345,6</td>\n",
       "      <td>335,6</td>\n",
       "      <td>367</td>\n",
       "      <td>354,5</td>\n",
       "      <td>NaN</td>\n",
       "    </tr>\n",
       "    <tr>\n",
       "      <th>7</th>\n",
       "      <td>75002</td>\n",
       "      <td>153</td>\n",
       "      <td>125,8</td>\n",
       "      <td>136,6</td>\n",
       "      <td>126,6</td>\n",
       "      <td>133,2</td>\n",
       "      <td>127,6</td>\n",
       "      <td>126,7</td>\n",
       "      <td>114,3</td>\n",
       "      <td>144,3</td>\n",
       "      <td>145,1</td>\n",
       "      <td>129,5</td>\n",
       "      <td>129,8</td>\n",
       "      <td>NaN</td>\n",
       "    </tr>\n",
       "    <tr>\n",
       "      <th>8</th>\n",
       "      <td>75004</td>\n",
       "      <td>116,3</td>\n",
       "      <td>115,7</td>\n",
       "      <td>133,4</td>\n",
       "      <td>115</td>\n",
       "      <td>123,2</td>\n",
       "      <td>120,5</td>\n",
       "      <td>114,5</td>\n",
       "      <td>97,6</td>\n",
       "      <td>130,5</td>\n",
       "      <td>123</td>\n",
       "      <td>124,3</td>\n",
       "      <td>133,7</td>\n",
       "      <td>NaN</td>\n",
       "    </tr>\n",
       "    <tr>\n",
       "      <th>9</th>\n",
       "      <td>75008</td>\n",
       "      <td>252,6</td>\n",
       "      <td>246,7</td>\n",
       "      <td>252,9</td>\n",
       "      <td>232,5</td>\n",
       "      <td>199,4</td>\n",
       "      <td>236,4</td>\n",
       "      <td>175,4</td>\n",
       "      <td>189,4</td>\n",
       "      <td>266,6</td>\n",
       "      <td>230,3</td>\n",
       "      <td>257,7</td>\n",
       "      <td>224,4</td>\n",
       "      <td>NaN</td>\n",
       "    </tr>\n",
       "    <tr>\n",
       "      <th>10</th>\n",
       "      <td>75012</td>\n",
       "      <td>484,2</td>\n",
       "      <td>445,9</td>\n",
       "      <td>517</td>\n",
       "      <td>452</td>\n",
       "      <td>402</td>\n",
       "      <td>488</td>\n",
       "      <td>456</td>\n",
       "      <td>409</td>\n",
       "      <td>506</td>\n",
       "      <td>495</td>\n",
       "      <td>493</td>\n",
       "      <td>502</td>\n",
       "      <td>NaN</td>\n",
       "    </tr>\n",
       "    <tr>\n",
       "      <th>11</th>\n",
       "      <td>75016</td>\n",
       "      <td>584,1</td>\n",
       "      <td>571,2</td>\n",
       "      <td>684,7</td>\n",
       "      <td>590,3</td>\n",
       "      <td>563,4</td>\n",
       "      <td>666,3</td>\n",
       "      <td>570,4</td>\n",
       "      <td>433,2</td>\n",
       "      <td>679,7</td>\n",
       "      <td>656,1</td>\n",
       "      <td>662,6</td>\n",
       "      <td>699,9</td>\n",
       "      <td>NaN</td>\n",
       "    </tr>\n",
       "    <tr>\n",
       "      <th>12</th>\n",
       "      <td>75020</td>\n",
       "      <td>394,1</td>\n",
       "      <td>366,3</td>\n",
       "      <td>422,7</td>\n",
       "      <td>367,1</td>\n",
       "      <td>273,5</td>\n",
       "      <td>381,7</td>\n",
       "      <td>353,4</td>\n",
       "      <td>297</td>\n",
       "      <td>414</td>\n",
       "      <td>350</td>\n",
       "      <td>410,6</td>\n",
       "      <td>410</td>\n",
       "      <td>NaN</td>\n",
       "    </tr>\n",
       "    <tr>\n",
       "      <th>14</th>\n",
       "      <td>75001</td>\n",
       "      <td>75,3</td>\n",
       "      <td>60,4</td>\n",
       "      <td>71,2</td>\n",
       "      <td>59,5</td>\n",
       "      <td>73,9</td>\n",
       "      <td>72</td>\n",
       "      <td>57,9</td>\n",
       "      <td>56,4</td>\n",
       "      <td>75,5</td>\n",
       "      <td>75,7</td>\n",
       "      <td>65,8</td>\n",
       "      <td>79,1</td>\n",
       "      <td>NaN</td>\n",
       "    </tr>\n",
       "    <tr>\n",
       "      <th>15</th>\n",
       "      <td>75005</td>\n",
       "      <td>247</td>\n",
       "      <td>211</td>\n",
       "      <td>251</td>\n",
       "      <td>218</td>\n",
       "      <td>185</td>\n",
       "      <td>224</td>\n",
       "      <td>213,3</td>\n",
       "      <td>162,9</td>\n",
       "      <td>203,4</td>\n",
       "      <td>232,1</td>\n",
       "      <td>227,6</td>\n",
       "      <td>251,6</td>\n",
       "      <td>NaN</td>\n",
       "    </tr>\n",
       "    <tr>\n",
       "      <th>16</th>\n",
       "      <td>75006</td>\n",
       "      <td>222</td>\n",
       "      <td>189</td>\n",
       "      <td>218</td>\n",
       "      <td>192</td>\n",
       "      <td>180</td>\n",
       "      <td>199</td>\n",
       "      <td>171,8</td>\n",
       "      <td>134,8</td>\n",
       "      <td>183,1</td>\n",
       "      <td>195,5</td>\n",
       "      <td>213,8</td>\n",
       "      <td>204,1</td>\n",
       "      <td>NaN</td>\n",
       "    </tr>\n",
       "    <tr>\n",
       "      <th>17</th>\n",
       "      <td>75010</td>\n",
       "      <td>273</td>\n",
       "      <td>248,6</td>\n",
       "      <td>292,2</td>\n",
       "      <td>255,2</td>\n",
       "      <td>284,3</td>\n",
       "      <td>267,3</td>\n",
       "      <td>246,6</td>\n",
       "      <td>210,3</td>\n",
       "      <td>280,6</td>\n",
       "      <td>275,6</td>\n",
       "      <td>284,6</td>\n",
       "      <td>283,2</td>\n",
       "      <td>NaN</td>\n",
       "    </tr>\n",
       "    <tr>\n",
       "      <th>18</th>\n",
       "      <td>75011</td>\n",
       "      <td>487,2</td>\n",
       "      <td>422,2</td>\n",
       "      <td>491</td>\n",
       "      <td>437</td>\n",
       "      <td>466</td>\n",
       "      <td>443</td>\n",
       "      <td>373,5</td>\n",
       "      <td>367,5</td>\n",
       "      <td>511,9</td>\n",
       "      <td>490,6</td>\n",
       "      <td>469,2</td>\n",
       "      <td>487,9</td>\n",
       "      <td>NaN</td>\n",
       "    </tr>\n",
       "    <tr>\n",
       "      <th>19</th>\n",
       "      <td>75003</td>\n",
       "      <td>183,9</td>\n",
       "      <td>173,1</td>\n",
       "      <td>204,2</td>\n",
       "      <td>183</td>\n",
       "      <td>203,2</td>\n",
       "      <td>181,9</td>\n",
       "      <td>191,2</td>\n",
       "      <td>153,6</td>\n",
       "      <td>208,6</td>\n",
       "      <td>186,5</td>\n",
       "      <td>192,9</td>\n",
       "      <td>189,9</td>\n",
       "      <td>NaN</td>\n",
       "    </tr>\n",
       "    <tr>\n",
       "      <th>20</th>\n",
       "      <td>75009</td>\n",
       "      <td>208,3</td>\n",
       "      <td>197,1</td>\n",
       "      <td>220,4</td>\n",
       "      <td>197,9</td>\n",
       "      <td>151,7</td>\n",
       "      <td>206,9</td>\n",
       "      <td>199,9</td>\n",
       "      <td>163,3</td>\n",
       "      <td>223,8</td>\n",
       "      <td>203,6</td>\n",
       "      <td>213,8</td>\n",
       "      <td>235,7</td>\n",
       "      <td>NaN</td>\n",
       "    </tr>\n",
       "  </tbody>\n",
       "</table>\n",
       "</div>"
      ],
      "text/plain": [
       "   Granularité janv-11 févr-11 mars-11 avr-11 mai-11 juin-11 juil-11 août-11  \\\n",
       "0        75007   288,1   249,1   303,7  255,8  287,8   288,4   249,6   185,6   \n",
       "1        75013   596,5   540,2   618,5  558,6  595,9   581,7   539,2   490,5   \n",
       "2        75014     464   404,9   465,3  420,2  405,3     446   412,9   348,7   \n",
       "3        75015   903,1   801,4   937,5  835,5  876,8   888,6   628,8   674,8   \n",
       "4        75017   451,1   412,4   491,6  422,7  363,6   446,4   409,5   332,3   \n",
       "5        75018     427   394,3   455,2  419,9  458,3   456,6     418   361,8   \n",
       "6        75019   323,4   287,3   350,3  317,8  336,9   340,7   311,6     281   \n",
       "7        75002     153   125,8   136,6  126,6  133,2   127,6   126,7   114,3   \n",
       "8        75004   116,3   115,7   133,4    115  123,2   120,5   114,5    97,6   \n",
       "9        75008   252,6   246,7   252,9  232,5  199,4   236,4   175,4   189,4   \n",
       "10       75012   484,2   445,9     517    452    402     488     456     409   \n",
       "11       75016   584,1   571,2   684,7  590,3  563,4   666,3   570,4   433,2   \n",
       "12       75020   394,1   366,3   422,7  367,1  273,5   381,7   353,4     297   \n",
       "14       75001    75,3    60,4    71,2   59,5   73,9      72    57,9    56,4   \n",
       "15       75005     247     211     251    218    185     224   213,3   162,9   \n",
       "16       75006     222     189     218    192    180     199   171,8   134,8   \n",
       "17       75010     273   248,6   292,2  255,2  284,3   267,3   246,6   210,3   \n",
       "18       75011   487,2   422,2     491    437    466     443   373,5   367,5   \n",
       "19       75003   183,9   173,1   204,2    183  203,2   181,9   191,2   153,6   \n",
       "20       75009   208,3   197,1   220,4  197,9  151,7   206,9   199,9   163,3   \n",
       "\n",
       "   sept-11 oct-11 nov-11 déc-11  Total arrondissement 2011  \n",
       "0    281,3  284,3  296,4  301,1                        NaN  \n",
       "1    597,8  575,7  580,5  601,4                        NaN  \n",
       "2    449,3  446,3  453,1  484,3                        NaN  \n",
       "3    913,3  878,7  895,7  935,8                        NaN  \n",
       "4    416,4  451,5  475,1  513,5                        NaN  \n",
       "5    464,6  453,4  478,5  470,9                        NaN  \n",
       "6    345,6  335,6    367  354,5                        NaN  \n",
       "7    144,3  145,1  129,5  129,8                        NaN  \n",
       "8    130,5    123  124,3  133,7                        NaN  \n",
       "9    266,6  230,3  257,7  224,4                        NaN  \n",
       "10     506    495    493    502                        NaN  \n",
       "11   679,7  656,1  662,6  699,9                        NaN  \n",
       "12     414    350  410,6    410                        NaN  \n",
       "14    75,5   75,7   65,8   79,1                        NaN  \n",
       "15   203,4  232,1  227,6  251,6                        NaN  \n",
       "16   183,1  195,5  213,8  204,1                        NaN  \n",
       "17   280,6  275,6  284,6  283,2                        NaN  \n",
       "18   511,9  490,6  469,2  487,9                        NaN  \n",
       "19   208,6  186,5  192,9  189,9                        NaN  \n",
       "20   223,8  203,6  213,8  235,7                        NaN  "
      ]
     },
     "execution_count": 57,
     "metadata": {},
     "output_type": "execute_result"
    }
   ],
   "source": [
    "#utilisation de la même base qu'au TME7\n",
    "url = \"https://opendata.paris.fr/explore/dataset/tonnages_des_dechets_bacs_jaunes/download/?format=csv&timezone=Europe/Berlin&use_labels_for_header=true\"\n",
    "data_Paris = pd.read_csv(url, sep=\";\")\n",
    "data_Paris = data_Paris.drop(13)\n",
    "data_Paris"
   ]
  },
  {
   "cell_type": "code",
   "execution_count": 58,
   "metadata": {},
   "outputs": [],
   "source": [
    "arrondissements = data_Paris.iloc[:, :1]\n",
    "data_Paris = data_Paris.iloc[:, 1:-1]\n",
    "data_Paris = data_Paris.stack().str.replace(' ','').unstack()\n",
    "data_Paris = data_Paris.stack().str.replace(',','.').unstack()\n",
    "data_Paris = data_Paris.astype(float)"
   ]
  },
  {
   "cell_type": "code",
   "execution_count": 59,
   "metadata": {},
   "outputs": [
    {
     "data": {
      "text/html": [
       "<div>\n",
       "<style scoped>\n",
       "    .dataframe tbody tr th:only-of-type {\n",
       "        vertical-align: middle;\n",
       "    }\n",
       "\n",
       "    .dataframe tbody tr th {\n",
       "        vertical-align: top;\n",
       "    }\n",
       "\n",
       "    .dataframe thead th {\n",
       "        text-align: right;\n",
       "    }\n",
       "</style>\n",
       "<table border=\"1\" class=\"dataframe\">\n",
       "  <thead>\n",
       "    <tr style=\"text-align: right;\">\n",
       "      <th></th>\n",
       "      <th>Granularité</th>\n",
       "    </tr>\n",
       "  </thead>\n",
       "  <tbody>\n",
       "    <tr>\n",
       "      <th>0</th>\n",
       "      <td>75007</td>\n",
       "    </tr>\n",
       "    <tr>\n",
       "      <th>1</th>\n",
       "      <td>75013</td>\n",
       "    </tr>\n",
       "    <tr>\n",
       "      <th>2</th>\n",
       "      <td>75014</td>\n",
       "    </tr>\n",
       "    <tr>\n",
       "      <th>3</th>\n",
       "      <td>75015</td>\n",
       "    </tr>\n",
       "    <tr>\n",
       "      <th>4</th>\n",
       "      <td>75017</td>\n",
       "    </tr>\n",
       "    <tr>\n",
       "      <th>5</th>\n",
       "      <td>75018</td>\n",
       "    </tr>\n",
       "    <tr>\n",
       "      <th>6</th>\n",
       "      <td>75019</td>\n",
       "    </tr>\n",
       "    <tr>\n",
       "      <th>7</th>\n",
       "      <td>75002</td>\n",
       "    </tr>\n",
       "    <tr>\n",
       "      <th>8</th>\n",
       "      <td>75004</td>\n",
       "    </tr>\n",
       "    <tr>\n",
       "      <th>9</th>\n",
       "      <td>75008</td>\n",
       "    </tr>\n",
       "    <tr>\n",
       "      <th>10</th>\n",
       "      <td>75012</td>\n",
       "    </tr>\n",
       "    <tr>\n",
       "      <th>11</th>\n",
       "      <td>75016</td>\n",
       "    </tr>\n",
       "    <tr>\n",
       "      <th>12</th>\n",
       "      <td>75020</td>\n",
       "    </tr>\n",
       "    <tr>\n",
       "      <th>14</th>\n",
       "      <td>75001</td>\n",
       "    </tr>\n",
       "    <tr>\n",
       "      <th>15</th>\n",
       "      <td>75005</td>\n",
       "    </tr>\n",
       "    <tr>\n",
       "      <th>16</th>\n",
       "      <td>75006</td>\n",
       "    </tr>\n",
       "    <tr>\n",
       "      <th>17</th>\n",
       "      <td>75010</td>\n",
       "    </tr>\n",
       "    <tr>\n",
       "      <th>18</th>\n",
       "      <td>75011</td>\n",
       "    </tr>\n",
       "    <tr>\n",
       "      <th>19</th>\n",
       "      <td>75003</td>\n",
       "    </tr>\n",
       "    <tr>\n",
       "      <th>20</th>\n",
       "      <td>75009</td>\n",
       "    </tr>\n",
       "  </tbody>\n",
       "</table>\n",
       "</div>"
      ],
      "text/plain": [
       "   Granularité\n",
       "0        75007\n",
       "1        75013\n",
       "2        75014\n",
       "3        75015\n",
       "4        75017\n",
       "5        75018\n",
       "6        75019\n",
       "7        75002\n",
       "8        75004\n",
       "9        75008\n",
       "10       75012\n",
       "11       75016\n",
       "12       75020\n",
       "14       75001\n",
       "15       75005\n",
       "16       75006\n",
       "17       75010\n",
       "18       75011\n",
       "19       75003\n",
       "20       75009"
      ]
     },
     "execution_count": 59,
     "metadata": {},
     "output_type": "execute_result"
    }
   ],
   "source": [
    "arrondissements"
   ]
  },
  {
   "cell_type": "code",
   "execution_count": 60,
   "metadata": {},
   "outputs": [
    {
     "data": {
      "text/html": [
       "<div>\n",
       "<style scoped>\n",
       "    .dataframe tbody tr th:only-of-type {\n",
       "        vertical-align: middle;\n",
       "    }\n",
       "\n",
       "    .dataframe tbody tr th {\n",
       "        vertical-align: top;\n",
       "    }\n",
       "\n",
       "    .dataframe thead th {\n",
       "        text-align: right;\n",
       "    }\n",
       "</style>\n",
       "<table border=\"1\" class=\"dataframe\">\n",
       "  <thead>\n",
       "    <tr style=\"text-align: right;\">\n",
       "      <th></th>\n",
       "      <th>janv-11</th>\n",
       "      <th>févr-11</th>\n",
       "      <th>mars-11</th>\n",
       "      <th>avr-11</th>\n",
       "      <th>mai-11</th>\n",
       "      <th>juin-11</th>\n",
       "      <th>juil-11</th>\n",
       "      <th>août-11</th>\n",
       "      <th>sept-11</th>\n",
       "      <th>oct-11</th>\n",
       "      <th>nov-11</th>\n",
       "      <th>déc-11</th>\n",
       "    </tr>\n",
       "  </thead>\n",
       "  <tbody>\n",
       "    <tr>\n",
       "      <th>0</th>\n",
       "      <td>288.1</td>\n",
       "      <td>249.1</td>\n",
       "      <td>303.7</td>\n",
       "      <td>255.8</td>\n",
       "      <td>287.8</td>\n",
       "      <td>288.4</td>\n",
       "      <td>249.6</td>\n",
       "      <td>185.6</td>\n",
       "      <td>281.3</td>\n",
       "      <td>284.3</td>\n",
       "      <td>296.4</td>\n",
       "      <td>301.1</td>\n",
       "    </tr>\n",
       "    <tr>\n",
       "      <th>1</th>\n",
       "      <td>596.5</td>\n",
       "      <td>540.2</td>\n",
       "      <td>618.5</td>\n",
       "      <td>558.6</td>\n",
       "      <td>595.9</td>\n",
       "      <td>581.7</td>\n",
       "      <td>539.2</td>\n",
       "      <td>490.5</td>\n",
       "      <td>597.8</td>\n",
       "      <td>575.7</td>\n",
       "      <td>580.5</td>\n",
       "      <td>601.4</td>\n",
       "    </tr>\n",
       "    <tr>\n",
       "      <th>2</th>\n",
       "      <td>464.0</td>\n",
       "      <td>404.9</td>\n",
       "      <td>465.3</td>\n",
       "      <td>420.2</td>\n",
       "      <td>405.3</td>\n",
       "      <td>446.0</td>\n",
       "      <td>412.9</td>\n",
       "      <td>348.7</td>\n",
       "      <td>449.3</td>\n",
       "      <td>446.3</td>\n",
       "      <td>453.1</td>\n",
       "      <td>484.3</td>\n",
       "    </tr>\n",
       "    <tr>\n",
       "      <th>3</th>\n",
       "      <td>903.1</td>\n",
       "      <td>801.4</td>\n",
       "      <td>937.5</td>\n",
       "      <td>835.5</td>\n",
       "      <td>876.8</td>\n",
       "      <td>888.6</td>\n",
       "      <td>628.8</td>\n",
       "      <td>674.8</td>\n",
       "      <td>913.3</td>\n",
       "      <td>878.7</td>\n",
       "      <td>895.7</td>\n",
       "      <td>935.8</td>\n",
       "    </tr>\n",
       "    <tr>\n",
       "      <th>4</th>\n",
       "      <td>451.1</td>\n",
       "      <td>412.4</td>\n",
       "      <td>491.6</td>\n",
       "      <td>422.7</td>\n",
       "      <td>363.6</td>\n",
       "      <td>446.4</td>\n",
       "      <td>409.5</td>\n",
       "      <td>332.3</td>\n",
       "      <td>416.4</td>\n",
       "      <td>451.5</td>\n",
       "      <td>475.1</td>\n",
       "      <td>513.5</td>\n",
       "    </tr>\n",
       "    <tr>\n",
       "      <th>5</th>\n",
       "      <td>427.0</td>\n",
       "      <td>394.3</td>\n",
       "      <td>455.2</td>\n",
       "      <td>419.9</td>\n",
       "      <td>458.3</td>\n",
       "      <td>456.6</td>\n",
       "      <td>418.0</td>\n",
       "      <td>361.8</td>\n",
       "      <td>464.6</td>\n",
       "      <td>453.4</td>\n",
       "      <td>478.5</td>\n",
       "      <td>470.9</td>\n",
       "    </tr>\n",
       "    <tr>\n",
       "      <th>6</th>\n",
       "      <td>323.4</td>\n",
       "      <td>287.3</td>\n",
       "      <td>350.3</td>\n",
       "      <td>317.8</td>\n",
       "      <td>336.9</td>\n",
       "      <td>340.7</td>\n",
       "      <td>311.6</td>\n",
       "      <td>281.0</td>\n",
       "      <td>345.6</td>\n",
       "      <td>335.6</td>\n",
       "      <td>367.0</td>\n",
       "      <td>354.5</td>\n",
       "    </tr>\n",
       "    <tr>\n",
       "      <th>7</th>\n",
       "      <td>153.0</td>\n",
       "      <td>125.8</td>\n",
       "      <td>136.6</td>\n",
       "      <td>126.6</td>\n",
       "      <td>133.2</td>\n",
       "      <td>127.6</td>\n",
       "      <td>126.7</td>\n",
       "      <td>114.3</td>\n",
       "      <td>144.3</td>\n",
       "      <td>145.1</td>\n",
       "      <td>129.5</td>\n",
       "      <td>129.8</td>\n",
       "    </tr>\n",
       "    <tr>\n",
       "      <th>8</th>\n",
       "      <td>116.3</td>\n",
       "      <td>115.7</td>\n",
       "      <td>133.4</td>\n",
       "      <td>115.0</td>\n",
       "      <td>123.2</td>\n",
       "      <td>120.5</td>\n",
       "      <td>114.5</td>\n",
       "      <td>97.6</td>\n",
       "      <td>130.5</td>\n",
       "      <td>123.0</td>\n",
       "      <td>124.3</td>\n",
       "      <td>133.7</td>\n",
       "    </tr>\n",
       "    <tr>\n",
       "      <th>9</th>\n",
       "      <td>252.6</td>\n",
       "      <td>246.7</td>\n",
       "      <td>252.9</td>\n",
       "      <td>232.5</td>\n",
       "      <td>199.4</td>\n",
       "      <td>236.4</td>\n",
       "      <td>175.4</td>\n",
       "      <td>189.4</td>\n",
       "      <td>266.6</td>\n",
       "      <td>230.3</td>\n",
       "      <td>257.7</td>\n",
       "      <td>224.4</td>\n",
       "    </tr>\n",
       "    <tr>\n",
       "      <th>10</th>\n",
       "      <td>484.2</td>\n",
       "      <td>445.9</td>\n",
       "      <td>517.0</td>\n",
       "      <td>452.0</td>\n",
       "      <td>402.0</td>\n",
       "      <td>488.0</td>\n",
       "      <td>456.0</td>\n",
       "      <td>409.0</td>\n",
       "      <td>506.0</td>\n",
       "      <td>495.0</td>\n",
       "      <td>493.0</td>\n",
       "      <td>502.0</td>\n",
       "    </tr>\n",
       "    <tr>\n",
       "      <th>11</th>\n",
       "      <td>584.1</td>\n",
       "      <td>571.2</td>\n",
       "      <td>684.7</td>\n",
       "      <td>590.3</td>\n",
       "      <td>563.4</td>\n",
       "      <td>666.3</td>\n",
       "      <td>570.4</td>\n",
       "      <td>433.2</td>\n",
       "      <td>679.7</td>\n",
       "      <td>656.1</td>\n",
       "      <td>662.6</td>\n",
       "      <td>699.9</td>\n",
       "    </tr>\n",
       "    <tr>\n",
       "      <th>12</th>\n",
       "      <td>394.1</td>\n",
       "      <td>366.3</td>\n",
       "      <td>422.7</td>\n",
       "      <td>367.1</td>\n",
       "      <td>273.5</td>\n",
       "      <td>381.7</td>\n",
       "      <td>353.4</td>\n",
       "      <td>297.0</td>\n",
       "      <td>414.0</td>\n",
       "      <td>350.0</td>\n",
       "      <td>410.6</td>\n",
       "      <td>410.0</td>\n",
       "    </tr>\n",
       "    <tr>\n",
       "      <th>14</th>\n",
       "      <td>75.3</td>\n",
       "      <td>60.4</td>\n",
       "      <td>71.2</td>\n",
       "      <td>59.5</td>\n",
       "      <td>73.9</td>\n",
       "      <td>72.0</td>\n",
       "      <td>57.9</td>\n",
       "      <td>56.4</td>\n",
       "      <td>75.5</td>\n",
       "      <td>75.7</td>\n",
       "      <td>65.8</td>\n",
       "      <td>79.1</td>\n",
       "    </tr>\n",
       "    <tr>\n",
       "      <th>15</th>\n",
       "      <td>247.0</td>\n",
       "      <td>211.0</td>\n",
       "      <td>251.0</td>\n",
       "      <td>218.0</td>\n",
       "      <td>185.0</td>\n",
       "      <td>224.0</td>\n",
       "      <td>213.3</td>\n",
       "      <td>162.9</td>\n",
       "      <td>203.4</td>\n",
       "      <td>232.1</td>\n",
       "      <td>227.6</td>\n",
       "      <td>251.6</td>\n",
       "    </tr>\n",
       "    <tr>\n",
       "      <th>16</th>\n",
       "      <td>222.0</td>\n",
       "      <td>189.0</td>\n",
       "      <td>218.0</td>\n",
       "      <td>192.0</td>\n",
       "      <td>180.0</td>\n",
       "      <td>199.0</td>\n",
       "      <td>171.8</td>\n",
       "      <td>134.8</td>\n",
       "      <td>183.1</td>\n",
       "      <td>195.5</td>\n",
       "      <td>213.8</td>\n",
       "      <td>204.1</td>\n",
       "    </tr>\n",
       "    <tr>\n",
       "      <th>17</th>\n",
       "      <td>273.0</td>\n",
       "      <td>248.6</td>\n",
       "      <td>292.2</td>\n",
       "      <td>255.2</td>\n",
       "      <td>284.3</td>\n",
       "      <td>267.3</td>\n",
       "      <td>246.6</td>\n",
       "      <td>210.3</td>\n",
       "      <td>280.6</td>\n",
       "      <td>275.6</td>\n",
       "      <td>284.6</td>\n",
       "      <td>283.2</td>\n",
       "    </tr>\n",
       "    <tr>\n",
       "      <th>18</th>\n",
       "      <td>487.2</td>\n",
       "      <td>422.2</td>\n",
       "      <td>491.0</td>\n",
       "      <td>437.0</td>\n",
       "      <td>466.0</td>\n",
       "      <td>443.0</td>\n",
       "      <td>373.5</td>\n",
       "      <td>367.5</td>\n",
       "      <td>511.9</td>\n",
       "      <td>490.6</td>\n",
       "      <td>469.2</td>\n",
       "      <td>487.9</td>\n",
       "    </tr>\n",
       "    <tr>\n",
       "      <th>19</th>\n",
       "      <td>183.9</td>\n",
       "      <td>173.1</td>\n",
       "      <td>204.2</td>\n",
       "      <td>183.0</td>\n",
       "      <td>203.2</td>\n",
       "      <td>181.9</td>\n",
       "      <td>191.2</td>\n",
       "      <td>153.6</td>\n",
       "      <td>208.6</td>\n",
       "      <td>186.5</td>\n",
       "      <td>192.9</td>\n",
       "      <td>189.9</td>\n",
       "    </tr>\n",
       "    <tr>\n",
       "      <th>20</th>\n",
       "      <td>208.3</td>\n",
       "      <td>197.1</td>\n",
       "      <td>220.4</td>\n",
       "      <td>197.9</td>\n",
       "      <td>151.7</td>\n",
       "      <td>206.9</td>\n",
       "      <td>199.9</td>\n",
       "      <td>163.3</td>\n",
       "      <td>223.8</td>\n",
       "      <td>203.6</td>\n",
       "      <td>213.8</td>\n",
       "      <td>235.7</td>\n",
       "    </tr>\n",
       "  </tbody>\n",
       "</table>\n",
       "</div>"
      ],
      "text/plain": [
       "    janv-11  févr-11  mars-11  avr-11  mai-11  juin-11  juil-11  août-11  \\\n",
       "0     288.1    249.1    303.7   255.8   287.8    288.4    249.6    185.6   \n",
       "1     596.5    540.2    618.5   558.6   595.9    581.7    539.2    490.5   \n",
       "2     464.0    404.9    465.3   420.2   405.3    446.0    412.9    348.7   \n",
       "3     903.1    801.4    937.5   835.5   876.8    888.6    628.8    674.8   \n",
       "4     451.1    412.4    491.6   422.7   363.6    446.4    409.5    332.3   \n",
       "5     427.0    394.3    455.2   419.9   458.3    456.6    418.0    361.8   \n",
       "6     323.4    287.3    350.3   317.8   336.9    340.7    311.6    281.0   \n",
       "7     153.0    125.8    136.6   126.6   133.2    127.6    126.7    114.3   \n",
       "8     116.3    115.7    133.4   115.0   123.2    120.5    114.5     97.6   \n",
       "9     252.6    246.7    252.9   232.5   199.4    236.4    175.4    189.4   \n",
       "10    484.2    445.9    517.0   452.0   402.0    488.0    456.0    409.0   \n",
       "11    584.1    571.2    684.7   590.3   563.4    666.3    570.4    433.2   \n",
       "12    394.1    366.3    422.7   367.1   273.5    381.7    353.4    297.0   \n",
       "14     75.3     60.4     71.2    59.5    73.9     72.0     57.9     56.4   \n",
       "15    247.0    211.0    251.0   218.0   185.0    224.0    213.3    162.9   \n",
       "16    222.0    189.0    218.0   192.0   180.0    199.0    171.8    134.8   \n",
       "17    273.0    248.6    292.2   255.2   284.3    267.3    246.6    210.3   \n",
       "18    487.2    422.2    491.0   437.0   466.0    443.0    373.5    367.5   \n",
       "19    183.9    173.1    204.2   183.0   203.2    181.9    191.2    153.6   \n",
       "20    208.3    197.1    220.4   197.9   151.7    206.9    199.9    163.3   \n",
       "\n",
       "    sept-11  oct-11  nov-11  déc-11  \n",
       "0     281.3   284.3   296.4   301.1  \n",
       "1     597.8   575.7   580.5   601.4  \n",
       "2     449.3   446.3   453.1   484.3  \n",
       "3     913.3   878.7   895.7   935.8  \n",
       "4     416.4   451.5   475.1   513.5  \n",
       "5     464.6   453.4   478.5   470.9  \n",
       "6     345.6   335.6   367.0   354.5  \n",
       "7     144.3   145.1   129.5   129.8  \n",
       "8     130.5   123.0   124.3   133.7  \n",
       "9     266.6   230.3   257.7   224.4  \n",
       "10    506.0   495.0   493.0   502.0  \n",
       "11    679.7   656.1   662.6   699.9  \n",
       "12    414.0   350.0   410.6   410.0  \n",
       "14     75.5    75.7    65.8    79.1  \n",
       "15    203.4   232.1   227.6   251.6  \n",
       "16    183.1   195.5   213.8   204.1  \n",
       "17    280.6   275.6   284.6   283.2  \n",
       "18    511.9   490.6   469.2   487.9  \n",
       "19    208.6   186.5   192.9   189.9  \n",
       "20    223.8   203.6   213.8   235.7  "
      ]
     },
     "execution_count": 60,
     "metadata": {},
     "output_type": "execute_result"
    }
   ],
   "source": [
    "data_Paris"
   ]
  },
  {
   "cell_type": "code",
   "execution_count": 61,
   "metadata": {},
   "outputs": [
    {
     "data": {
      "text/html": [
       "<div>\n",
       "<style scoped>\n",
       "    .dataframe tbody tr th:only-of-type {\n",
       "        vertical-align: middle;\n",
       "    }\n",
       "\n",
       "    .dataframe tbody tr th {\n",
       "        vertical-align: top;\n",
       "    }\n",
       "\n",
       "    .dataframe thead th {\n",
       "        text-align: right;\n",
       "    }\n",
       "</style>\n",
       "<table border=\"1\" class=\"dataframe\">\n",
       "  <thead>\n",
       "    <tr style=\"text-align: right;\">\n",
       "      <th></th>\n",
       "      <th>janv-11</th>\n",
       "      <th>févr-11</th>\n",
       "      <th>mars-11</th>\n",
       "      <th>avr-11</th>\n",
       "      <th>mai-11</th>\n",
       "      <th>juin-11</th>\n",
       "      <th>juil-11</th>\n",
       "      <th>août-11</th>\n",
       "      <th>sept-11</th>\n",
       "      <th>oct-11</th>\n",
       "      <th>nov-11</th>\n",
       "      <th>déc-11</th>\n",
       "    </tr>\n",
       "  </thead>\n",
       "  <tbody>\n",
       "    <tr>\n",
       "      <th>0</th>\n",
       "      <td>0.257067</td>\n",
       "      <td>0.254656</td>\n",
       "      <td>0.268383</td>\n",
       "      <td>0.252964</td>\n",
       "      <td>0.266409</td>\n",
       "      <td>0.265001</td>\n",
       "      <td>0.335786</td>\n",
       "      <td>0.208926</td>\n",
       "      <td>0.245643</td>\n",
       "      <td>0.259776</td>\n",
       "      <td>0.277865</td>\n",
       "      <td>0.259134</td>\n",
       "    </tr>\n",
       "    <tr>\n",
       "      <th>1</th>\n",
       "      <td>0.629621</td>\n",
       "      <td>0.647503</td>\n",
       "      <td>0.631767</td>\n",
       "      <td>0.643170</td>\n",
       "      <td>0.650143</td>\n",
       "      <td>0.624173</td>\n",
       "      <td>0.843055</td>\n",
       "      <td>0.701973</td>\n",
       "      <td>0.623418</td>\n",
       "      <td>0.622665</td>\n",
       "      <td>0.620195</td>\n",
       "      <td>0.609665</td>\n",
       "    </tr>\n",
       "    <tr>\n",
       "      <th>2</th>\n",
       "      <td>0.469558</td>\n",
       "      <td>0.464912</td>\n",
       "      <td>0.454923</td>\n",
       "      <td>0.464820</td>\n",
       "      <td>0.412754</td>\n",
       "      <td>0.457997</td>\n",
       "      <td>0.621825</td>\n",
       "      <td>0.472671</td>\n",
       "      <td>0.446169</td>\n",
       "      <td>0.461519</td>\n",
       "      <td>0.466683</td>\n",
       "      <td>0.472978</td>\n",
       "    </tr>\n",
       "    <tr>\n",
       "      <th>3</th>\n",
       "      <td>1.000000</td>\n",
       "      <td>1.000000</td>\n",
       "      <td>1.000000</td>\n",
       "      <td>1.000000</td>\n",
       "      <td>1.000000</td>\n",
       "      <td>1.000000</td>\n",
       "      <td>1.000000</td>\n",
       "      <td>1.000000</td>\n",
       "      <td>1.000000</td>\n",
       "      <td>1.000000</td>\n",
       "      <td>1.000000</td>\n",
       "      <td>1.000000</td>\n",
       "    </tr>\n",
       "    <tr>\n",
       "      <th>4</th>\n",
       "      <td>0.453974</td>\n",
       "      <td>0.475034</td>\n",
       "      <td>0.485282</td>\n",
       "      <td>0.468041</td>\n",
       "      <td>0.360817</td>\n",
       "      <td>0.458486</td>\n",
       "      <td>0.615870</td>\n",
       "      <td>0.446151</td>\n",
       "      <td>0.406899</td>\n",
       "      <td>0.467995</td>\n",
       "      <td>0.493192</td>\n",
       "      <td>0.507062</td>\n",
       "    </tr>\n",
       "    <tr>\n",
       "      <th>5</th>\n",
       "      <td>0.424861</td>\n",
       "      <td>0.450607</td>\n",
       "      <td>0.443264</td>\n",
       "      <td>0.464433</td>\n",
       "      <td>0.478764</td>\n",
       "      <td>0.470977</td>\n",
       "      <td>0.630758</td>\n",
       "      <td>0.493855</td>\n",
       "      <td>0.464431</td>\n",
       "      <td>0.470361</td>\n",
       "      <td>0.497289</td>\n",
       "      <td>0.457336</td>\n",
       "    </tr>\n",
       "    <tr>\n",
       "      <th>6</th>\n",
       "      <td>0.299710</td>\n",
       "      <td>0.306208</td>\n",
       "      <td>0.322175</td>\n",
       "      <td>0.332861</td>\n",
       "      <td>0.327563</td>\n",
       "      <td>0.329047</td>\n",
       "      <td>0.444386</td>\n",
       "      <td>0.363195</td>\n",
       "      <td>0.322392</td>\n",
       "      <td>0.323661</td>\n",
       "      <td>0.362935</td>\n",
       "      <td>0.321466</td>\n",
       "    </tr>\n",
       "    <tr>\n",
       "      <th>7</th>\n",
       "      <td>0.093863</td>\n",
       "      <td>0.088259</td>\n",
       "      <td>0.075493</td>\n",
       "      <td>0.086469</td>\n",
       "      <td>0.073857</td>\n",
       "      <td>0.068087</td>\n",
       "      <td>0.120511</td>\n",
       "      <td>0.093629</td>\n",
       "      <td>0.082120</td>\n",
       "      <td>0.086426</td>\n",
       "      <td>0.076756</td>\n",
       "      <td>0.059181</td>\n",
       "    </tr>\n",
       "    <tr>\n",
       "      <th>8</th>\n",
       "      <td>0.049529</td>\n",
       "      <td>0.074629</td>\n",
       "      <td>0.071800</td>\n",
       "      <td>0.071521</td>\n",
       "      <td>0.061402</td>\n",
       "      <td>0.059393</td>\n",
       "      <td>0.099142</td>\n",
       "      <td>0.066624</td>\n",
       "      <td>0.065648</td>\n",
       "      <td>0.058904</td>\n",
       "      <td>0.070490</td>\n",
       "      <td>0.063733</td>\n",
       "    </tr>\n",
       "    <tr>\n",
       "      <th>9</th>\n",
       "      <td>0.214182</td>\n",
       "      <td>0.251417</td>\n",
       "      <td>0.209743</td>\n",
       "      <td>0.222938</td>\n",
       "      <td>0.156308</td>\n",
       "      <td>0.201323</td>\n",
       "      <td>0.205815</td>\n",
       "      <td>0.215071</td>\n",
       "      <td>0.228097</td>\n",
       "      <td>0.192528</td>\n",
       "      <td>0.231233</td>\n",
       "      <td>0.169604</td>\n",
       "    </tr>\n",
       "    <tr>\n",
       "      <th>10</th>\n",
       "      <td>0.493960</td>\n",
       "      <td>0.520243</td>\n",
       "      <td>0.514602</td>\n",
       "      <td>0.505799</td>\n",
       "      <td>0.408644</td>\n",
       "      <td>0.509429</td>\n",
       "      <td>0.697320</td>\n",
       "      <td>0.570181</td>\n",
       "      <td>0.513846</td>\n",
       "      <td>0.522167</td>\n",
       "      <td>0.514761</td>\n",
       "      <td>0.493638</td>\n",
       "    </tr>\n",
       "    <tr>\n",
       "      <th>11</th>\n",
       "      <td>0.614641</td>\n",
       "      <td>0.689339</td>\n",
       "      <td>0.708184</td>\n",
       "      <td>0.684021</td>\n",
       "      <td>0.609665</td>\n",
       "      <td>0.727774</td>\n",
       "      <td>0.897705</td>\n",
       "      <td>0.609314</td>\n",
       "      <td>0.721175</td>\n",
       "      <td>0.722790</td>\n",
       "      <td>0.719123</td>\n",
       "      <td>0.724641</td>\n",
       "    </tr>\n",
       "    <tr>\n",
       "      <th>12</th>\n",
       "      <td>0.385117</td>\n",
       "      <td>0.412821</td>\n",
       "      <td>0.405749</td>\n",
       "      <td>0.396392</td>\n",
       "      <td>0.248599</td>\n",
       "      <td>0.379255</td>\n",
       "      <td>0.517604</td>\n",
       "      <td>0.389069</td>\n",
       "      <td>0.404034</td>\n",
       "      <td>0.341594</td>\n",
       "      <td>0.415472</td>\n",
       "      <td>0.386250</td>\n",
       "    </tr>\n",
       "    <tr>\n",
       "      <th>14</th>\n",
       "      <td>0.000000</td>\n",
       "      <td>0.000000</td>\n",
       "      <td>0.000000</td>\n",
       "      <td>0.000000</td>\n",
       "      <td>0.000000</td>\n",
       "      <td>0.000000</td>\n",
       "      <td>0.000000</td>\n",
       "      <td>0.000000</td>\n",
       "      <td>0.000000</td>\n",
       "      <td>0.000000</td>\n",
       "      <td>0.000000</td>\n",
       "      <td>0.000000</td>\n",
       "    </tr>\n",
       "    <tr>\n",
       "      <th>15</th>\n",
       "      <td>0.207417</td>\n",
       "      <td>0.203239</td>\n",
       "      <td>0.207549</td>\n",
       "      <td>0.204253</td>\n",
       "      <td>0.138373</td>\n",
       "      <td>0.186138</td>\n",
       "      <td>0.272202</td>\n",
       "      <td>0.172219</td>\n",
       "      <td>0.152662</td>\n",
       "      <td>0.194770</td>\n",
       "      <td>0.194963</td>\n",
       "      <td>0.201354</td>\n",
       "    </tr>\n",
       "    <tr>\n",
       "      <th>16</th>\n",
       "      <td>0.177217</td>\n",
       "      <td>0.173549</td>\n",
       "      <td>0.169456</td>\n",
       "      <td>0.170747</td>\n",
       "      <td>0.132146</td>\n",
       "      <td>0.155523</td>\n",
       "      <td>0.199510</td>\n",
       "      <td>0.126779</td>\n",
       "      <td>0.128432</td>\n",
       "      <td>0.149191</td>\n",
       "      <td>0.178335</td>\n",
       "      <td>0.145909</td>\n",
       "    </tr>\n",
       "    <tr>\n",
       "      <th>17</th>\n",
       "      <td>0.238826</td>\n",
       "      <td>0.253981</td>\n",
       "      <td>0.255108</td>\n",
       "      <td>0.252191</td>\n",
       "      <td>0.262050</td>\n",
       "      <td>0.239162</td>\n",
       "      <td>0.330531</td>\n",
       "      <td>0.248868</td>\n",
       "      <td>0.244808</td>\n",
       "      <td>0.248941</td>\n",
       "      <td>0.263646</td>\n",
       "      <td>0.238240</td>\n",
       "    </tr>\n",
       "    <tr>\n",
       "      <th>18</th>\n",
       "      <td>0.497584</td>\n",
       "      <td>0.488259</td>\n",
       "      <td>0.484590</td>\n",
       "      <td>0.486469</td>\n",
       "      <td>0.488355</td>\n",
       "      <td>0.454323</td>\n",
       "      <td>0.552811</td>\n",
       "      <td>0.503072</td>\n",
       "      <td>0.520888</td>\n",
       "      <td>0.516687</td>\n",
       "      <td>0.486083</td>\n",
       "      <td>0.477180</td>\n",
       "    </tr>\n",
       "    <tr>\n",
       "      <th>19</th>\n",
       "      <td>0.131191</td>\n",
       "      <td>0.152092</td>\n",
       "      <td>0.153526</td>\n",
       "      <td>0.159149</td>\n",
       "      <td>0.161041</td>\n",
       "      <td>0.134582</td>\n",
       "      <td>0.233491</td>\n",
       "      <td>0.157180</td>\n",
       "      <td>0.158868</td>\n",
       "      <td>0.137983</td>\n",
       "      <td>0.153151</td>\n",
       "      <td>0.129333</td>\n",
       "    </tr>\n",
       "    <tr>\n",
       "      <th>20</th>\n",
       "      <td>0.160667</td>\n",
       "      <td>0.184480</td>\n",
       "      <td>0.172227</td>\n",
       "      <td>0.178351</td>\n",
       "      <td>0.096899</td>\n",
       "      <td>0.165197</td>\n",
       "      <td>0.248730</td>\n",
       "      <td>0.172865</td>\n",
       "      <td>0.177011</td>\n",
       "      <td>0.159278</td>\n",
       "      <td>0.178335</td>\n",
       "      <td>0.182794</td>\n",
       "    </tr>\n",
       "  </tbody>\n",
       "</table>\n",
       "</div>"
      ],
      "text/plain": [
       "     janv-11   févr-11   mars-11    avr-11    mai-11   juin-11   juil-11  \\\n",
       "0   0.257067  0.254656  0.268383  0.252964  0.266409  0.265001  0.335786   \n",
       "1   0.629621  0.647503  0.631767  0.643170  0.650143  0.624173  0.843055   \n",
       "2   0.469558  0.464912  0.454923  0.464820  0.412754  0.457997  0.621825   \n",
       "3   1.000000  1.000000  1.000000  1.000000  1.000000  1.000000  1.000000   \n",
       "4   0.453974  0.475034  0.485282  0.468041  0.360817  0.458486  0.615870   \n",
       "5   0.424861  0.450607  0.443264  0.464433  0.478764  0.470977  0.630758   \n",
       "6   0.299710  0.306208  0.322175  0.332861  0.327563  0.329047  0.444386   \n",
       "7   0.093863  0.088259  0.075493  0.086469  0.073857  0.068087  0.120511   \n",
       "8   0.049529  0.074629  0.071800  0.071521  0.061402  0.059393  0.099142   \n",
       "9   0.214182  0.251417  0.209743  0.222938  0.156308  0.201323  0.205815   \n",
       "10  0.493960  0.520243  0.514602  0.505799  0.408644  0.509429  0.697320   \n",
       "11  0.614641  0.689339  0.708184  0.684021  0.609665  0.727774  0.897705   \n",
       "12  0.385117  0.412821  0.405749  0.396392  0.248599  0.379255  0.517604   \n",
       "14  0.000000  0.000000  0.000000  0.000000  0.000000  0.000000  0.000000   \n",
       "15  0.207417  0.203239  0.207549  0.204253  0.138373  0.186138  0.272202   \n",
       "16  0.177217  0.173549  0.169456  0.170747  0.132146  0.155523  0.199510   \n",
       "17  0.238826  0.253981  0.255108  0.252191  0.262050  0.239162  0.330531   \n",
       "18  0.497584  0.488259  0.484590  0.486469  0.488355  0.454323  0.552811   \n",
       "19  0.131191  0.152092  0.153526  0.159149  0.161041  0.134582  0.233491   \n",
       "20  0.160667  0.184480  0.172227  0.178351  0.096899  0.165197  0.248730   \n",
       "\n",
       "     août-11   sept-11    oct-11    nov-11    déc-11  \n",
       "0   0.208926  0.245643  0.259776  0.277865  0.259134  \n",
       "1   0.701973  0.623418  0.622665  0.620195  0.609665  \n",
       "2   0.472671  0.446169  0.461519  0.466683  0.472978  \n",
       "3   1.000000  1.000000  1.000000  1.000000  1.000000  \n",
       "4   0.446151  0.406899  0.467995  0.493192  0.507062  \n",
       "5   0.493855  0.464431  0.470361  0.497289  0.457336  \n",
       "6   0.363195  0.322392  0.323661  0.362935  0.321466  \n",
       "7   0.093629  0.082120  0.086426  0.076756  0.059181  \n",
       "8   0.066624  0.065648  0.058904  0.070490  0.063733  \n",
       "9   0.215071  0.228097  0.192528  0.231233  0.169604  \n",
       "10  0.570181  0.513846  0.522167  0.514761  0.493638  \n",
       "11  0.609314  0.721175  0.722790  0.719123  0.724641  \n",
       "12  0.389069  0.404034  0.341594  0.415472  0.386250  \n",
       "14  0.000000  0.000000  0.000000  0.000000  0.000000  \n",
       "15  0.172219  0.152662  0.194770  0.194963  0.201354  \n",
       "16  0.126779  0.128432  0.149191  0.178335  0.145909  \n",
       "17  0.248868  0.244808  0.248941  0.263646  0.238240  \n",
       "18  0.503072  0.520888  0.516687  0.486083  0.477180  \n",
       "19  0.157180  0.158868  0.137983  0.153151  0.129333  \n",
       "20  0.172865  0.177011  0.159278  0.178335  0.182794  "
      ]
     },
     "execution_count": 61,
     "metadata": {},
     "output_type": "execute_result"
    }
   ],
   "source": [
    "normParis = normalisation(data_Paris)\n",
    "normParis"
   ]
  },
  {
   "cell_type": "code",
   "execution_count": 62,
   "metadata": {},
   "outputs": [
    {
     "name": "stdout",
     "output_type": "stream",
     "text": [
      "iteration  1  Inertie :  1.2747551020408165  Difference: 0.13523129251700716\n",
      "iteration  2  Inertie :  1.0529421768707483  Difference: 0.22181292517006823\n",
      "iteration  3  Inertie :  0.7759183673469388  Difference: 0.27702380952380956\n",
      "iteration  4  Inertie :  0.7759183673469389  Difference: 1.1102230246251565e-16\n",
      "          X      Y\n",
      "0  0.142857  0.325\n",
      "1  0.678571  0.800\n",
      "2  0.625000  0.050\n",
      "{0: [0, 1, 2, 4], 1: [5, 6, 7, 9, 11, 13], 2: [3, 8, 10, 12]}\n"
     ]
    }
   ],
   "source": [
    "les_centres, l_affectation = kmoyennes(3, DataFnorm, 0.05, 100)\n",
    "print(les_centres)\n",
    "print(l_affectation)"
   ]
  },
  {
   "cell_type": "code",
   "execution_count": 63,
   "metadata": {},
   "outputs": [
    {
     "name": "stdout",
     "output_type": "stream",
     "text": [
      "iteration  1  Inertie :  0.5677551020408164  Difference: 0.03795918367346929\n"
     ]
    }
   ],
   "source": [
    "les_centres, l_affectation = kmoyennes(5, DataFnorm, 0.05, 100)"
   ]
  },
  {
   "cell_type": "code",
   "execution_count": 64,
   "metadata": {},
   "outputs": [
    {
     "data": {
      "text/plain": [
       "{0: [7, 9], 1: [11, 13], 2: [0, 1, 5, 6], 3: [2, 3, 4, 8], 4: [10, 12]}"
      ]
     },
     "execution_count": 64,
     "metadata": {},
     "output_type": "execute_result"
    }
   ],
   "source": [
    "l_affectation"
   ]
  },
  {
   "cell_type": "code",
   "execution_count": 65,
   "metadata": {},
   "outputs": [
    {
     "name": "stdout",
     "output_type": "stream",
     "text": [
      "iteration  1  Inertie :  0.010204081632653069  Difference: 0.004999999999999989\n"
     ]
    }
   ],
   "source": [
    "les_centres, l_affectation = kmoyennes(13, DataFnorm, 0.05, 100)"
   ]
  },
  {
   "cell_type": "code",
   "execution_count": 66,
   "metadata": {},
   "outputs": [
    {
     "data": {
      "text/plain": [
       "{0: [4],\n",
       " 1: [3],\n",
       " 2: [1],\n",
       " 3: [0],\n",
       " 4: [10],\n",
       " 5: [2],\n",
       " 6: [6, 11],\n",
       " 7: [13],\n",
       " 8: [8],\n",
       " 9: [7],\n",
       " 10: [12],\n",
       " 11: [9],\n",
       " 12: [5]}"
      ]
     },
     "execution_count": 66,
     "metadata": {},
     "output_type": "execute_result"
    }
   ],
   "source": [
    "l_affectation"
   ]
  },
  {
   "cell_type": "code",
   "execution_count": 67,
   "metadata": {},
   "outputs": [
    {
     "name": "stdout",
     "output_type": "stream",
     "text": [
      "iteration  1  Inertie :  0.7869489795918367  Difference: 0.19385374149659873\n",
      "iteration  2  Inertie :  0.993095238095238  Difference: 0.2061462585034013\n",
      "iteration  3  Inertie :  0.8195476190476191  Difference: 0.17354761904761895\n",
      "iteration  4  Inertie :  0.8075068027210884  Difference: 0.012040816326530646\n"
     ]
    }
   ],
   "source": [
    "les_centres, l_affectation = kmoyennes(4, DataFnorm, 0.05, 100)"
   ]
  },
  {
   "cell_type": "code",
   "execution_count": 68,
   "metadata": {},
   "outputs": [
    {
     "data": {
      "text/plain": [
       "{0: [0, 1, 2, 4, 5], 1: [7, 9], 2: [3, 8, 10, 12], 3: [6, 11, 13]}"
      ]
     },
     "execution_count": 68,
     "metadata": {},
     "output_type": "execute_result"
    }
   ],
   "source": [
    "l_affectation"
   ]
  },
  {
   "cell_type": "markdown",
   "metadata": {},
   "source": [
    "Ainsi, sans surprise, c'est avec K=13 (=nombre d'exemples) que l'inertie est la plus basse, mais les groupes formés ne sont donc pas très intéressants. Avec K=5, on arrive à avoir des groupes équilibrés avec une inertie assez basse. De manière générale, plus K est bas, plus l'inertie est élevée avec ces données."
   ]
  },
  {
   "cell_type": "markdown",
   "metadata": {},
   "source": [
    "## Questions de cours (à faire chez vous, sur papier)\n",
    "\n",
    "Pour vous entraîner sans machine...\n",
    "\n",
    "<font size=\"+1\" color=\"RED\">**[Q]**</font> On considère un ensemble fini $U$ d'éléments. \n",
    "- donner la fonction caractéristique de $U$\n",
    "- donner la fonction caractéristique de l'ensemble vide\n",
    "- soit $E$ et $F$ deux sous-ensembles de $U$ définis par leurs fonctions caractéristiques $\\chi_E$ et $\\chi_F$. En déduire les fonctions caractéristiques de $E\\cup F$, de $E\\cap F$ et de $E^{c}$. *(indice: penser au min et au max)*\n",
    "\n",
    "<font size=\"+1\" color=\"RED\">**[Q]**</font> Rappeler la définition d'une partition $P$ d'un ensemble $X$ en $K$ sous-ensembles. \n",
    "\n",
    "<font size=\"+1\" color=\"RED\">**[Q]**</font> Appliquer, à la main, l'algorithme des K-moyennes sur les données fournies sur le transparent 10 du cours 8 en utilisant d'abord $K=2$, puis $K=3$. Dans chacun des cas, réaliser au maximum 10 itérations de l'algorithme ($t_{max}=10$).\n",
    "Comparer les résultats obtenus.\n",
    "\n",
    "\n",
    "---"
   ]
  }
 ],
 "metadata": {
  "kernelspec": {
   "display_name": "Python 3",
   "language": "python",
   "name": "python3"
  },
  "language_info": {
   "codemirror_mode": {
    "name": "ipython",
    "version": 3
   },
   "file_extension": ".py",
   "mimetype": "text/x-python",
   "name": "python",
   "nbconvert_exporter": "python",
   "pygments_lexer": "ipython3",
   "version": "3.7.2"
  }
 },
 "nbformat": 4,
 "nbformat_minor": 1
}
